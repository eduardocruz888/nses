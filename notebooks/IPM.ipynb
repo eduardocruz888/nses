{
 "cells": [
  {
   "cell_type": "markdown",
   "metadata": {
    "id": "lvyuwNo9T3Y-"
   },
   "source": [
    "#<u><b>Montaje de Drive"
   ]
  },
  {
   "cell_type": "code",
   "execution_count": 1,
   "metadata": {
    "colab": {
     "base_uri": "https://localhost:8080/"
    },
    "id": "iyholb2b4IIK",
    "outputId": "8836edc0-8bce-4784-f2ed-7c3fc217fc49"
   },
   "outputs": [
    {
     "name": "stderr",
     "output_type": "stream",
     "text": [
      "Can't load requested DLL: c:\\users\\eduardo\\appdata\\local\\programs\\python\\python37\\lib\\site-packages\\osgeo\\gdalplugins\\ogr_FileGDB.dll\n",
      "126: The specified module could not be found.\n",
      "\n",
      "Can't load requested DLL: c:\\users\\eduardo\\appdata\\local\\programs\\python\\python37\\lib\\site-packages\\osgeo\\gdalplugins\\ogr_FileGDB.dll\n",
      "126: The specified module could not be found.\n",
      "\n",
      "Can't load requested DLL: c:\\users\\eduardo\\appdata\\local\\programs\\python\\python37\\lib\\site-packages\\osgeo\\gdalplugins\\ogr_FileGDB.dll\n",
      "126: The specified module could not be found.\n",
      "\n",
      "Can't load requested DLL: c:\\users\\eduardo\\appdata\\local\\programs\\python\\python37\\lib\\site-packages\\osgeo\\gdalplugins\\ogr_FileGDB.dll\n",
      "126: The specified module could not be found.\n",
      "\n"
     ]
    }
   ],
   "source": [
    "import pandas as pd\n",
    "import numpy as np\n",
    "import geopandas as gpd"
   ]
  },
  {
   "cell_type": "markdown",
   "metadata": {
    "id": "FQdRV7J0-p2x"
   },
   "source": [
    "#<u><b>Lectura de Datos"
   ]
  },
  {
   "cell_type": "markdown",
   "metadata": {
    "id": "1sDTW-Hf_KTy"
   },
   "source": [
    "##<b><font color='darkred'>Datos Vivienda</font>"
   ]
  },
  {
   "cell_type": "code",
   "execution_count": 2,
   "metadata": {
    "colab": {
     "base_uri": "https://localhost:8080/"
    },
    "id": "jnJN-sh785TM",
    "outputId": "fd21dd8c-8780-4599-9037-b84265b57d66"
   },
   "outputs": [],
   "source": [
    "dataviv = pd.read_spss('../input/enemdu/201606_EnemduBDD_vivivendahogar.sav')"
   ]
  },
  {
   "cell_type": "code",
   "execution_count": 3,
   "metadata": {},
   "outputs": [],
   "source": [
    "dataviv[\"ciudad\"] = dataviv[\"ciudad\"].astype(int)"
   ]
  },
  {
   "cell_type": "code",
   "execution_count": 4,
   "metadata": {
    "colab": {
     "base_uri": "https://localhost:8080/",
     "height": 237
    },
    "id": "urb58_WO_TA5",
    "outputId": "d57e9706-7205-4b31-83ea-ed665ce91d90"
   },
   "outputs": [
    {
     "data": {
      "text/html": [
       "<div>\n",
       "<style scoped>\n",
       "    .dataframe tbody tr th:only-of-type {\n",
       "        vertical-align: middle;\n",
       "    }\n",
       "\n",
       "    .dataframe tbody tr th {\n",
       "        vertical-align: top;\n",
       "    }\n",
       "\n",
       "    .dataframe thead th {\n",
       "        text-align: right;\n",
       "    }\n",
       "</style>\n",
       "<table border=\"1\" class=\"dataframe\">\n",
       "  <thead>\n",
       "    <tr style=\"text-align: right;\">\n",
       "      <th></th>\n",
       "      <th>area</th>\n",
       "      <th>ciudad</th>\n",
       "      <th>zona</th>\n",
       "      <th>sector</th>\n",
       "      <th>panelm</th>\n",
       "      <th>vivienda</th>\n",
       "      <th>hogar</th>\n",
       "      <th>vi01</th>\n",
       "      <th>vi02</th>\n",
       "      <th>vi03a</th>\n",
       "      <th>...</th>\n",
       "      <th>vi13</th>\n",
       "      <th>vi14</th>\n",
       "      <th>vi15</th>\n",
       "      <th>vi16</th>\n",
       "      <th>vi17a</th>\n",
       "      <th>vi17b</th>\n",
       "      <th>vi18a</th>\n",
       "      <th>vi18b</th>\n",
       "      <th>plan_muestreo</th>\n",
       "      <th>fexp</th>\n",
       "    </tr>\n",
       "  </thead>\n",
       "  <tbody>\n",
       "    <tr>\n",
       "      <th>0</th>\n",
       "      <td>Urbana</td>\n",
       "      <td>10150</td>\n",
       "      <td>001</td>\n",
       "      <td>003</td>\n",
       "      <td>Panel Q2</td>\n",
       "      <td>Vivienda Dos</td>\n",
       "      <td>Hogar Uno</td>\n",
       "      <td>Carretera, calle pavimentada</td>\n",
       "      <td>Casa o villa</td>\n",
       "      <td>Teja</td>\n",
       "      <td>...</td>\n",
       "      <td>Servicio municipal</td>\n",
       "      <td>Propia y totalmente pagada</td>\n",
       "      <td>No</td>\n",
       "      <td>NaN</td>\n",
       "      <td>No</td>\n",
       "      <td>NaN</td>\n",
       "      <td>NaN</td>\n",
       "      <td>NaN</td>\n",
       "      <td>1013</td>\n",
       "      <td>71.670274</td>\n",
       "    </tr>\n",
       "    <tr>\n",
       "      <th>1</th>\n",
       "      <td>Urbana</td>\n",
       "      <td>10150</td>\n",
       "      <td>001</td>\n",
       "      <td>003</td>\n",
       "      <td>Panel Q2</td>\n",
       "      <td>Vivienda Tres</td>\n",
       "      <td>Hogar Uno</td>\n",
       "      <td>Lastrado, calle de tierra</td>\n",
       "      <td>Departamento</td>\n",
       "      <td>Hormigón, losa, cemento</td>\n",
       "      <td>...</td>\n",
       "      <td>Servicio municipal</td>\n",
       "      <td>En arriendo</td>\n",
       "      <td>Si</td>\n",
       "      <td>Propias</td>\n",
       "      <td>No</td>\n",
       "      <td>NaN</td>\n",
       "      <td>NaN</td>\n",
       "      <td>NaN</td>\n",
       "      <td>1013</td>\n",
       "      <td>71.670274</td>\n",
       "    </tr>\n",
       "    <tr>\n",
       "      <th>2</th>\n",
       "      <td>Urbana</td>\n",
       "      <td>10150</td>\n",
       "      <td>001</td>\n",
       "      <td>003</td>\n",
       "      <td>Panel Q2</td>\n",
       "      <td>Vivienda Cuatro (reemplazo)</td>\n",
       "      <td>Hogar Uno</td>\n",
       "      <td>Carretera, calle pavimentada</td>\n",
       "      <td>Casa o villa</td>\n",
       "      <td>Zinc</td>\n",
       "      <td>...</td>\n",
       "      <td>Servicio municipal</td>\n",
       "      <td>Propia y totalmente pagada</td>\n",
       "      <td>No</td>\n",
       "      <td>NaN</td>\n",
       "      <td>No</td>\n",
       "      <td>NaN</td>\n",
       "      <td>NaN</td>\n",
       "      <td>NaN</td>\n",
       "      <td>1013</td>\n",
       "      <td>71.670274</td>\n",
       "    </tr>\n",
       "  </tbody>\n",
       "</table>\n",
       "<p>3 rows × 34 columns</p>\n",
       "</div>"
      ],
      "text/plain": [
       "     area  ciudad zona sector    panelm                     vivienda  \\\n",
       "0  Urbana   10150  001    003  Panel Q2                 Vivienda Dos   \n",
       "1  Urbana   10150  001    003  Panel Q2                Vivienda Tres   \n",
       "2  Urbana   10150  001    003  Panel Q2  Vivienda Cuatro (reemplazo)   \n",
       "\n",
       "       hogar                          vi01          vi02  \\\n",
       "0  Hogar Uno  Carretera, calle pavimentada  Casa o villa   \n",
       "1  Hogar Uno     Lastrado, calle de tierra  Departamento   \n",
       "2  Hogar Uno  Carretera, calle pavimentada  Casa o villa   \n",
       "\n",
       "                     vi03a  ...                vi13  \\\n",
       "0                     Teja  ...  Servicio municipal   \n",
       "1  Hormigón, losa, cemento  ...  Servicio municipal   \n",
       "2                     Zinc  ...  Servicio municipal   \n",
       "\n",
       "                         vi14 vi15     vi16 vi17a vi17b vi18a vi18b  \\\n",
       "0  Propia y totalmente pagada   No      NaN    No   NaN   NaN   NaN   \n",
       "1                 En arriendo   Si  Propias    No   NaN   NaN   NaN   \n",
       "2  Propia y totalmente pagada   No      NaN    No   NaN   NaN   NaN   \n",
       "\n",
       "  plan_muestreo       fexp  \n",
       "0          1013  71.670274  \n",
       "1          1013  71.670274  \n",
       "2          1013  71.670274  \n",
       "\n",
       "[3 rows x 34 columns]"
      ]
     },
     "execution_count": 4,
     "metadata": {},
     "output_type": "execute_result"
    }
   ],
   "source": [
    "dataviv.head(3)"
   ]
  },
  {
   "cell_type": "code",
   "execution_count": 5,
   "metadata": {},
   "outputs": [],
   "source": [
    "# def hogar(x):\n",
    "#     if x == 1:\n",
    "#         return \"Hogar Uno\"\n",
    "#     elif x == 2:\n",
    "#         return \"Hogar Dos\"\n",
    "#     elif x == 3:\n",
    "#         return \"Hogar Tres\"\n",
    "#     elif x == 4:\n",
    "#         return \"Hogar Cuatro\"\n",
    "#     elif x == 5:\n",
    "#         return 'Hogar Cinco'\n",
    "#     elif x == 6:\n",
    "#         return 'Hogar Seis'\n",
    "# def vivienda(x):\n",
    "#     if x == 1:\n",
    "#         return \"Vivienda Uno\"\n",
    "#     elif x == 2:\n",
    "#         return \"Vivienda Dos\"\n",
    "#     elif x == 3:\n",
    "#         return \"Vivienda Tres\"\n",
    "#     elif x == 4:\n",
    "#         return \"Vivienda Cuatro\"\n",
    "#     elif x == 5:\n",
    "#         return 'Vivienda Cinco'\n",
    "#     elif x == 6:\n",
    "#         return 'Vivienda Seis'    "
   ]
  },
  {
   "cell_type": "code",
   "execution_count": 6,
   "metadata": {},
   "outputs": [],
   "source": [
    "# dataviv.zona = dataviv.zona.astype(int).astype(str).str.zfill(3)\n",
    "# dataviv.sector = dataviv.sector.astype(int).astype(str).str.zfill(3)\n",
    "# dataviv.vivienda = dataviv.vivienda.apply(vivienda)\n",
    "# dataviv.hogar = dataviv.hogar.apply(hogar)"
   ]
  },
  {
   "cell_type": "code",
   "execution_count": 7,
   "metadata": {},
   "outputs": [],
   "source": [
    "#dataviv.columns"
   ]
  },
  {
   "cell_type": "code",
   "execution_count": 8,
   "metadata": {
    "id": "vRr7GLIg_dxt"
   },
   "outputs": [],
   "source": [
    "dataviv['idh'] = dataviv.ciudad.astype(str).str.zfill(6) + dataviv.zona.astype(str) + dataviv.sector.astype(str) + dataviv.panelm.astype(str) + dataviv.vivienda.astype(str) + dataviv.hogar.astype(str)\n",
    "#dataviv['idh'] = dataviv.ciudad.astype(str).str.zfill(6) + dataviv.zona.astype(str) + dataviv.sector.astype(str) + dataviv.vivienda.astype(str) + dataviv.hogar.astype(str)"
   ]
  },
  {
   "cell_type": "code",
   "execution_count": 9,
   "metadata": {},
   "outputs": [
    {
     "data": {
      "text/plain": [
       "0                010150001003Panel Q2Vivienda DosHogar Uno\n",
       "1               010150001003Panel Q2Vivienda TresHogar Uno\n",
       "2        010150001003Panel Q2Vivienda Cuatro (reemplazo...\n",
       "3                010150001003Panel R2Vivienda UnoHogar Uno\n",
       "4        010150001003Panel R2Vivienda Cuatro (reemplazo...\n",
       "                               ...                        \n",
       "15469            900451999007Panel W2Vivienda DosHogar Uno\n",
       "15470           900451999007Panel W2Vivienda TresHogar Uno\n",
       "15471            900451999007Panel X2Vivienda UnoHogar Uno\n",
       "15472           900451999007Panel X2Vivienda TresHogar Uno\n",
       "15473    900451999007Panel X2Vivienda Cuatro (reemplazo...\n",
       "Name: idh, Length: 15474, dtype: object"
      ]
     },
     "execution_count": 9,
     "metadata": {},
     "output_type": "execute_result"
    }
   ],
   "source": [
    "dataviv.idh"
   ]
  },
  {
   "cell_type": "markdown",
   "metadata": {
    "id": "-brzN1c1-vMb"
   },
   "source": [
    "##<b><font color='darkred'>Datos personas"
   ]
  },
  {
   "cell_type": "code",
   "execution_count": 10,
   "metadata": {
    "colab": {
     "base_uri": "https://localhost:8080/"
    },
    "id": "-v7z3yJ74aYo",
    "outputId": "d63392f5-0e48-49b3-82f8-f932c94965e2"
   },
   "outputs": [],
   "source": [
    "dataper = pd.read_spss('../input/enemdu/201606_EnemduBDD.SAV')"
   ]
  },
  {
   "cell_type": "code",
   "execution_count": 11,
   "metadata": {},
   "outputs": [],
   "source": [
    "dataper[\"ciudad\"] = dataper[\"ciudad\"].astype(int)"
   ]
  },
  {
   "cell_type": "code",
   "execution_count": 12,
   "metadata": {},
   "outputs": [],
   "source": [
    "#dataper[\"fexp\"] = dataper[\"fexp\"].str.replace(\",\",\".\").astype(float)"
   ]
  },
  {
   "cell_type": "code",
   "execution_count": 13,
   "metadata": {},
   "outputs": [
    {
     "data": {
      "text/plain": [
       "16560742.259017752"
      ]
     },
     "execution_count": 13,
     "metadata": {},
     "output_type": "execute_result"
    }
   ],
   "source": [
    "dataper[\"fexp\"].sum()"
   ]
  },
  {
   "cell_type": "code",
   "execution_count": 14,
   "metadata": {},
   "outputs": [
    {
     "data": {
      "text/plain": [
       "Index(['area', 'ciudad', 'zona', 'sector', 'panelm', 'vivienda', 'hogar',\n",
       "       'p01', 'p02', 'p03',\n",
       "       ...\n",
       "       'desem', 'desemab', 'desemoc', 'desem1', 'desem2', 'pein', 'menor10',\n",
       "       'menor15', 'pobla10', 'pobla15'],\n",
       "      dtype='object', length=210)"
      ]
     },
     "execution_count": 14,
     "metadata": {},
     "output_type": "execute_result"
    }
   ],
   "source": [
    "dataper.columns"
   ]
  },
  {
   "cell_type": "code",
   "execution_count": 15,
   "metadata": {
    "id": "xgcuElQk7aEJ"
   },
   "outputs": [
    {
     "name": "stderr",
     "output_type": "stream",
     "text": [
      "c:\\users\\eduardo\\appdata\\local\\programs\\python\\python37\\lib\\site-packages\\ipykernel_launcher.py:1: PerformanceWarning: DataFrame is highly fragmented.  This is usually the result of calling `frame.insert` many times, which has poor performance.  Consider joining all columns at once using pd.concat(axis=1) instead.  To get a de-fragmented frame, use `newframe = frame.copy()`\n",
      "  \"\"\"Entry point for launching an IPython kernel.\n",
      "c:\\users\\eduardo\\appdata\\local\\programs\\python\\python37\\lib\\site-packages\\ipykernel_launcher.py:2: PerformanceWarning: DataFrame is highly fragmented.  This is usually the result of calling `frame.insert` many times, which has poor performance.  Consider joining all columns at once using pd.concat(axis=1) instead.  To get a de-fragmented frame, use `newframe = frame.copy()`\n",
      "  \n"
     ]
    }
   ],
   "source": [
    "dataper['idp'] = dataper.ciudad.astype(str).str.zfill(6) + dataper.zona.astype(str) + dataper.sector.astype(str) + dataper.panelm.astype(str) + dataper.vivienda.astype(str) + dataper.hogar.astype(str)+ dataper.p01.astype(str)\n",
    "dataper['idh'] = dataper.ciudad.astype(str).str.zfill(6) + dataper.zona.astype(str) + dataper.sector.astype(str) + dataper.panelm.astype(str) + dataper.vivienda.astype(str) + dataper.hogar.astype(str)\n",
    "#dataper['idh'] = dataper.ciudad.astype(str).str.zfill(6) + dataper.zona.astype(str) + dataper.sector.astype(str) + dataper.vivienda.astype(str) + dataper.hogar.astype(str)"
   ]
  },
  {
   "cell_type": "code",
   "execution_count": 16,
   "metadata": {
    "colab": {
     "base_uri": "https://localhost:8080/"
    },
    "id": "yVDXS6Ra8ZMf",
    "outputId": "9cb6b81d-16be-439b-eecc-8865d4fc1ab5"
   },
   "outputs": [
    {
     "data": {
      "text/plain": [
       "0    180150037001Panel Q2Vivienda DosHogar UnoPerso...\n",
       "1    020450999024Panel Q2Vivienda TresHogar UnoPers...\n",
       "Name: idp, dtype: object"
      ]
     },
     "execution_count": 16,
     "metadata": {},
     "output_type": "execute_result"
    }
   ],
   "source": [
    "dataper.idp.head(2)"
   ]
  },
  {
   "cell_type": "markdown",
   "metadata": {
    "id": "wL8q_I5hS4YJ"
   },
   "source": [
    "##<b><font color='darkred'>MISSING DATA"
   ]
  },
  {
   "cell_type": "markdown",
   "metadata": {
    "id": "97Z26FkUD85Z"
   },
   "source": [
    "###<font color='darkblue'>*Exploracion*"
   ]
  },
  {
   "cell_type": "code",
   "execution_count": 17,
   "metadata": {
    "colab": {
     "base_uri": "https://localhost:8080/"
    },
    "id": "N8HGK-OlacBK",
    "outputId": "07408434-d779-4f17-c81b-22e4f5ecfd0a"
   },
   "outputs": [
    {
     "data": {
      "text/plain": [
       "57997"
      ]
     },
     "execution_count": 17,
     "metadata": {},
     "output_type": "execute_result"
    }
   ],
   "source": [
    "dataper.shape[0]"
   ]
  },
  {
   "cell_type": "code",
   "execution_count": 18,
   "metadata": {
    "colab": {
     "base_uri": "https://localhost:8080/"
    },
    "id": "0J-QTvbJafpN",
    "outputId": "84d57fa0-a316-43ce-920e-7acd71592809"
   },
   "outputs": [
    {
     "data": {
      "text/plain": [
       "15474"
      ]
     },
     "execution_count": 18,
     "metadata": {},
     "output_type": "execute_result"
    }
   ],
   "source": [
    "dataviv.shape[0]"
   ]
  },
  {
   "cell_type": "code",
   "execution_count": 19,
   "metadata": {
    "colab": {
     "base_uri": "https://localhost:8080/"
    },
    "id": "Myx9ag6AAvkE",
    "outputId": "b058348f-99f4-4e5f-fd0c-0aadd6581ae4"
   },
   "outputs": [],
   "source": [
    "#list(dataper.columns)"
   ]
  },
  {
   "cell_type": "code",
   "execution_count": 20,
   "metadata": {
    "colab": {
     "base_uri": "https://localhost:8080/"
    },
    "id": "F2GZyHW6T-uV",
    "outputId": "48e0009c-bc71-44ba-9020-769c809e36e4"
   },
   "outputs": [
    {
     "data": {
      "text/plain": [
       "Index(['area', 'ciudad', 'zona', 'sector', 'panelm', 'vivienda', 'hogar',\n",
       "       'vi01', 'vi02', 'vi03a', 'vi03b', 'vi04a', 'vi04b', 'vi05a', 'vi05b',\n",
       "       'vi06', 'vi07', 'vi07a', 'vi08', 'vi09', 'vi10', 'vi10a', 'vi11',\n",
       "       'vi12', 'vi13', 'vi14', 'vi15', 'vi16', 'vi17a', 'vi17b', 'vi18a',\n",
       "       'vi18b', 'plan_muestreo', 'fexp', 'idh'],\n",
       "      dtype='object')"
      ]
     },
     "execution_count": 20,
     "metadata": {},
     "output_type": "execute_result"
    }
   ],
   "source": [
    "dataviv.columns"
   ]
  },
  {
   "cell_type": "code",
   "execution_count": 21,
   "metadata": {},
   "outputs": [],
   "source": [
    "dataper.p10a = dataper.p10a.cat.add_categories(\"Jardín de infantes\").cat.reorder_categories(\\\n",
    "                        [\"Ninguno\",\n",
    "                         \"Centro de alfabetización\",\n",
    "                         \"Jardín de infantes\",\n",
    "                         \"Primaria\",\n",
    "                         \"Educación Básica\",\n",
    "                         \"Secundaria\",\n",
    "                         \"Educación  Media\",\n",
    "                         \"Superior no universitario\",\n",
    "                         \"Superior Universitario\",\n",
    "                         \"Post-grado\"], ordered=True)"
   ]
  },
  {
   "cell_type": "code",
   "execution_count": 22,
   "metadata": {},
   "outputs": [
    {
     "data": {
      "text/plain": [
       "Index(['Ninguno', 'Centro de alfabetización', 'Jardín de infantes', 'Primaria',\n",
       "       'Educación Básica', 'Secundaria', 'Educación  Media',\n",
       "       'Superior no universitario', 'Superior Universitario', 'Post-grado'],\n",
       "      dtype='object')"
      ]
     },
     "execution_count": 22,
     "metadata": {},
     "output_type": "execute_result"
    }
   ],
   "source": [
    "dataper.p10a.cat.categories"
   ]
  },
  {
   "cell_type": "code",
   "execution_count": 23,
   "metadata": {},
   "outputs": [],
   "source": [
    "dataper.p07 = dataper.p07.cat.reorder_categories([\"Si\",\"No\"], ordered=True)"
   ]
  },
  {
   "cell_type": "code",
   "execution_count": 24,
   "metadata": {},
   "outputs": [
    {
     "data": {
      "text/plain": [
       "Index(['Si', 'No'], dtype='object')"
      ]
     },
     "execution_count": 24,
     "metadata": {},
     "output_type": "execute_result"
    }
   ],
   "source": [
    "dataper.p07.cat.categories"
   ]
  },
  {
   "cell_type": "code",
   "execution_count": 25,
   "metadata": {},
   "outputs": [],
   "source": [
    "dataper.p20 = dataper.p20.cat.reorder_categories([\"Si\",\"No\"], ordered=True)"
   ]
  },
  {
   "cell_type": "code",
   "execution_count": 26,
   "metadata": {},
   "outputs": [
    {
     "data": {
      "text/plain": [
       "Index(['Si', 'No'], dtype='object')"
      ]
     },
     "execution_count": 26,
     "metadata": {},
     "output_type": "execute_result"
    }
   ],
   "source": [
    "dataper.p20.cat.categories"
   ]
  },
  {
   "cell_type": "code",
   "execution_count": 27,
   "metadata": {},
   "outputs": [],
   "source": [
    "dataper.p22 = dataper.p22.cat.reorder_categories([\"Si\",\"No\"], ordered=True)"
   ]
  },
  {
   "cell_type": "code",
   "execution_count": 28,
   "metadata": {},
   "outputs": [
    {
     "data": {
      "text/plain": [
       "Index(['Si', 'No'], dtype='object')"
      ]
     },
     "execution_count": 28,
     "metadata": {},
     "output_type": "execute_result"
    }
   ],
   "source": [
    "dataper.p22.cat.categories"
   ]
  },
  {
   "cell_type": "code",
   "execution_count": 29,
   "metadata": {},
   "outputs": [],
   "source": [
    "dataper.p72a = dataper.p72a.cat.reorder_categories([\"Si\",\"No\"], ordered=True)"
   ]
  },
  {
   "cell_type": "code",
   "execution_count": 30,
   "metadata": {},
   "outputs": [
    {
     "data": {
      "text/plain": [
       "Index(['Si', 'No'], dtype='object')"
      ]
     },
     "execution_count": 30,
     "metadata": {},
     "output_type": "execute_result"
    }
   ],
   "source": [
    "dataper.p72a.cat.categories"
   ]
  },
  {
   "cell_type": "code",
   "execution_count": 31,
   "metadata": {},
   "outputs": [],
   "source": [
    "dataper.p75 = dataper.p75.cat.reorder_categories([\"Si\",\"No\"], ordered=True)"
   ]
  },
  {
   "cell_type": "code",
   "execution_count": 32,
   "metadata": {},
   "outputs": [
    {
     "data": {
      "text/plain": [
       "Index(['Si', 'No'], dtype='object')"
      ]
     },
     "execution_count": 32,
     "metadata": {},
     "output_type": "execute_result"
    }
   ],
   "source": [
    "dataper.p75.cat.categories"
   ]
  },
  {
   "cell_type": "code",
   "execution_count": 33,
   "metadata": {},
   "outputs": [],
   "source": [
    "dataper.p77 = dataper.p77.cat.reorder_categories([\"Si\",\"No\"], ordered=True)"
   ]
  },
  {
   "cell_type": "code",
   "execution_count": 34,
   "metadata": {},
   "outputs": [
    {
     "data": {
      "text/plain": [
       "Index(['Si', 'No'], dtype='object')"
      ]
     },
     "execution_count": 34,
     "metadata": {},
     "output_type": "execute_result"
    }
   ],
   "source": [
    "dataper.p77.cat.categories"
   ]
  },
  {
   "cell_type": "code",
   "execution_count": 35,
   "metadata": {},
   "outputs": [
    {
     "name": "stdout",
     "output_type": "stream",
     "text": [
      "set()\n"
     ]
    }
   ],
   "source": [
    "b = set(['Edad',\\\n",
    "                                     'Terminó sus estudios',\n",
    "                                     'Falta de recursos económicos',\\\n",
    "                                     'Por fracaso escolar',\\\n",
    "                                     'Por trabajo',\n",
    "                                     'Por asistir a nivelación SENESCYT',\\\n",
    "                                     'Por enfermedad o discapacidad',\\\n",
    "                                     'Por ayudar en quehaceres del hogar',\\\n",
    "                                     'La familia no le permite estudiar',\\\n",
    "                                     'No hay establecimientos educa',\\\n",
    "                                     'No está interesado en estudiar',\\\n",
    "                                     'Por embarazo',\\\n",
    "                                     'Por falta de cupo',\\\n",
    "                                     'Por temor a los compañeros',\n",
    "                                     'Por cuidado de los hijos',\\\n",
    "                                     'Otra'])\n",
    "a = set(dataper.p09.cat.categories)\n",
    "print(a-b)"
   ]
  },
  {
   "cell_type": "code",
   "execution_count": 36,
   "metadata": {},
   "outputs": [],
   "source": [
    "dataper.p09 = dataper.p09.cat.reorder_categories(\\\n",
    "                                   ['Edad',\\\n",
    "                                     'Terminó sus estudios',\n",
    "                                     'Falta de recursos económicos',\\\n",
    "                                     'Por fracaso escolar',\\\n",
    "                                     'Por trabajo',\n",
    "                                     'Por asistir a nivelación SENESCYT',\\\n",
    "                                     'Por enfermedad o discapacidad',\\\n",
    "                                     'Por ayudar en quehaceres del hogar',\\\n",
    "                                     'La familia no le permite estudiar',\\\n",
    "                                     'No hay establecimientos educa',\\\n",
    "                                     'No está interesado en estudiar',\\\n",
    "                                     'Por embarazo',\\\n",
    "                                     'Por falta de cupo',\\\n",
    "                                     'Por temor a los compañeros',\n",
    "                                     'Por cuidado de los hijos',\\\n",
    "                                     'Otra'], ordered=True)\n",
    "#2016-03\n",
    "# dataper.p09 = dataper.p09.cat.reorder_categories(\\\n",
    "#                                    ['Edad',\\\n",
    "#                                      'Terminó sus estudios',\n",
    "#                                      'Falta recursos económicos',\\\n",
    "#                                      'Fracaso escolar',\n",
    "#                                      'Por trabajo',\n",
    "#                                      'Por asistir nivelación SENESCYT',\n",
    "#                                      'Enfermedad o discapacidad',\n",
    "#                                      'Quehaceres del hogar',\n",
    "#                                      'Familia no permite',\n",
    "#                                      'No hay establecimientos educativos',\n",
    "#                                      'No está interesado',\n",
    "#                                      'Por embarazo',\n",
    "#                                      'Por falta de cupos',\n",
    "#                                      'Otra'], ordered=True)"
   ]
  },
  {
   "cell_type": "code",
   "execution_count": 37,
   "metadata": {},
   "outputs": [
    {
     "data": {
      "text/plain": [
       "Index(['Edad', 'Terminó sus estudios', 'Falta de recursos económicos',\n",
       "       'Por fracaso escolar', 'Por trabajo',\n",
       "       'Por asistir a nivelación SENESCYT', 'Por enfermedad o discapacidad',\n",
       "       'Por ayudar en quehaceres del hogar',\n",
       "       'La familia no le permite estudiar', 'No hay establecimientos educa',\n",
       "       'No está interesado en estudiar', 'Por embarazo', 'Por falta de cupo',\n",
       "       'Por temor a los compañeros', 'Por cuidado de los hijos', 'Otra'],\n",
       "      dtype='object')"
      ]
     },
     "execution_count": 37,
     "metadata": {},
     "output_type": "execute_result"
    }
   ],
   "source": [
    "dataper.p09.cat.categories"
   ]
  },
  {
   "cell_type": "code",
   "execution_count": 38,
   "metadata": {},
   "outputs": [],
   "source": [
    "dataper.p21 = dataper.p21.cat.reorder_categories(\\\n",
    "                                                 ['Atender negocio propio',\n",
    "                                                 'Fabricar algún producto',\n",
    "                                                 'Hacer algo en casa por un ingreso',\n",
    "                                                 'Brindar algún servicio',\n",
    "                                                 'Ayudar en algún negocio familiar',\n",
    "                                                 'Ayudar en el trabajo de algún familiar',\n",
    "                                                 'Aprendiz remunerado',\n",
    "                                                 'Labores agrícolas, cuidado animales',\n",
    "                                                 'Estudiante que realizó algún trabajo',\n",
    "                                                 'Trabajar para otra familia',\n",
    "                                                 'Otra actividad por un ingreso',\n",
    "                                                 'No realizó ninguna actividad'], ordered=True)"
   ]
  },
  {
   "cell_type": "code",
   "execution_count": 39,
   "metadata": {},
   "outputs": [
    {
     "data": {
      "text/plain": [
       "Index(['Atender negocio propio', 'Fabricar algún producto',\n",
       "       'Hacer algo en casa por un ingreso', 'Brindar algún servicio',\n",
       "       'Ayudar en algún negocio familiar',\n",
       "       'Ayudar en el trabajo de algún familiar', 'Aprendiz remunerado',\n",
       "       'Labores agrícolas, cuidado animales',\n",
       "       'Estudiante que realizó algún trabajo', 'Trabajar para otra familia',\n",
       "       'Otra actividad por un ingreso', 'No realizó ninguna actividad'],\n",
       "      dtype='object')"
      ]
     },
     "execution_count": 39,
     "metadata": {},
     "output_type": "execute_result"
    }
   ],
   "source": [
    "dataper.p21.cat.categories"
   ]
  },
  {
   "cell_type": "code",
   "execution_count": 40,
   "metadata": {},
   "outputs": [],
   "source": [
    "#dataper.CONDACTN = dataper.CONDACTN.cat.reorder_categories(\\\n",
    "dataper.condactn = dataper.condactn.cat.reorder_categories(\\\n",
    "                                                           ['Menores de 15 años',\\\n",
    "                                                             'Empleo Adecuado/Pleno',\\\n",
    "                                                             'Subempleo por insuficiencia de tiempo de trabajo',\n",
    "                                                             'Subempleo por insuficiencia de ingresos',\n",
    "                                                             'Otro empleo no pleno',\\\n",
    "                                                             'Empleo no remunerado',\\\n",
    "                                                             'Empleo no clasificado',\\\n",
    "                                                             'Desempleo abierto',\\\n",
    "                                                             'Desempleo oculto', \\\n",
    "                                                             'Población Económicamente Inactiva'], ordered=True)\n",
    "#                                                             ['Menores de 15 años',\\\n",
    "#                                                              'Empleo Adecuado/Pleno',\\\n",
    "#                                                              'Subempleo por insuficiencia de tiempo de trabajo',\\\n",
    "#                                                              'Subempleo por insuficiencia de ingresos',\\\n",
    "#                                                              'Otro empleo no pleno',\\\n",
    "#                                                              'Empleo no remunerado',\\\n",
    "#                                                              'Empleo no clasificado',\\\n",
    "#                                                              'Desempleo abierto',\\\n",
    "#                                                              'Desempleo oculto',\\\n",
    "#                                                              'Población Económicamente Inactiva'], ordered=True)"
   ]
  },
  {
   "cell_type": "code",
   "execution_count": 41,
   "metadata": {},
   "outputs": [],
   "source": [
    "#dataper.CONDACTN.cat.categories"
   ]
  },
  {
   "cell_type": "code",
   "execution_count": 42,
   "metadata": {},
   "outputs": [
    {
     "name": "stdout",
     "output_type": "stream",
     "text": [
      "{'AUS'}\n"
     ]
    }
   ],
   "source": [
    "b = set(['IESS, seguro general',\\\n",
    "                                                     'IESS, seguro general voluntario',\\\n",
    "                                                     'IESS, seguro  campesino',\\\n",
    "                                                     'ISSFA, ISSPOL',\\\n",
    "                                                     'Seguro privado con hospitalización',\n",
    "                                                     'Seguro privado sin hospitalización',\n",
    "                                                     'AUS',\\\n",
    "                                                     'Seguros Municipales',\n",
    "                                                     'Seguro Ministerio Salud Pública',\\\n",
    "                                                     'Ninguno'])\n",
    "a = set(dataper.p05a.cat.categories)\n",
    "print(b-a)"
   ]
  },
  {
   "cell_type": "code",
   "execution_count": 43,
   "metadata": {},
   "outputs": [],
   "source": [
    "dataper.p05a = dataper.p05a.cat.add_categories([\"AUS\"]).cat.reorder_categories(\\\n",
    "#dataper.p05a = dataper.p05a.cat.reorder_categories(\\\n",
    "                                                   ['IESS, seguro general',\\\n",
    "                                                     'IESS, seguro general voluntario',\\\n",
    "                                                     'IESS, seguro  campesino',\\\n",
    "                                                     'ISSFA, ISSPOL',\\\n",
    "                                                     'Seguro privado con hospitalización',\n",
    "                                                     'Seguro privado sin hospitalización',\n",
    "                                                     'AUS',\\\n",
    "                                                     'Seguros Municipales',\n",
    "                                                     'Seguro Ministerio Salud Pública',\\\n",
    "                                                     'Ninguno'], ordered=True)"
   ]
  },
  {
   "cell_type": "code",
   "execution_count": 44,
   "metadata": {},
   "outputs": [
    {
     "name": "stdout",
     "output_type": "stream",
     "text": [
      "{'IESS, seguro  campesino', 'Seguros Municipales', 'IESS, seguro general voluntario'}\n"
     ]
    }
   ],
   "source": [
    "b = set(['IESS, seguro general',\\\n",
    "                                                     'IESS, seguro general voluntario',\\\n",
    "                                                     'IESS, seguro  campesino',\\\n",
    "                                                     'ISSFA, ISSPOL',\\\n",
    "                                                     'Seguro privado con hospitalización',\n",
    "                                                     'Seguro privado sin hospitalización',\n",
    "                                                     'AUS',\\\n",
    "                                                     'Seguros Municipales',\n",
    "                                                     'Seguro Ministerio Salud Pública',\\\n",
    "                                                     'Ninguno'])\n",
    "a = set(dataper.p05b.cat.categories)\n",
    "print(b-a)"
   ]
  },
  {
   "cell_type": "code",
   "execution_count": 45,
   "metadata": {},
   "outputs": [],
   "source": [
    "dataper.p05b = dataper.p05b.cat.add_categories(['IESS, seguro  campesino', 'Seguros Municipales', 'IESS, seguro general voluntario']).cat.reorder_categories(\\\n",
    "#dataper.p05b = dataper.p05b.cat.reorder_categories(\\\n",
    "                                               ['IESS, seguro general',\\\n",
    "                                                 'IESS, seguro general voluntario',\\\n",
    "                                                 'IESS, seguro  campesino',\n",
    "                                                 'ISSFA, ISSPOL',\\\n",
    "                                                 'Seguro privado con hospitalización',\\\n",
    "                                                 'Seguro privado sin hospitalización',\\\n",
    "                                                 'AUS',\n",
    "                                                 'Seguros Municipales',\\\n",
    "                                                 'Seguro Ministerio Salud Pública',\\\n",
    "                                                 'Ninguno'], ordered=True)"
   ]
  },
  {
   "cell_type": "code",
   "execution_count": 46,
   "metadata": {},
   "outputs": [
    {
     "data": {
      "text/plain": [
       "Index(['IESS, seguro general', 'IESS, seguro general voluntario',\n",
       "       'IESS, seguro  campesino', 'ISSFA, ISSPOL',\n",
       "       'Seguro privado con hospitalización',\n",
       "       'Seguro privado sin hospitalización', 'AUS', 'Seguros Municipales',\n",
       "       'Seguro Ministerio Salud Pública', 'Ninguno'],\n",
       "      dtype='object')"
      ]
     },
     "execution_count": 46,
     "metadata": {},
     "output_type": "execute_result"
    }
   ],
   "source": [
    "dataper.p05b.cat.categories"
   ]
  },
  {
   "cell_type": "code",
   "execution_count": 47,
   "metadata": {},
   "outputs": [],
   "source": [
    "#dataviv.vi10  = dataviv.vi16"
   ]
  },
  {
   "cell_type": "code",
   "execution_count": 48,
   "metadata": {},
   "outputs": [
    {
     "data": {
      "text/plain": [
       "Index(['Carro repartidor, triciclo', 'Otra fuente por tubería', 'Otro, cuál',\n",
       "       'Pila o llave pública', 'Pozo', 'Red pública',\n",
       "       'Río, vertiente, acequia'],\n",
       "      dtype='object')"
      ]
     },
     "execution_count": 48,
     "metadata": {},
     "output_type": "execute_result"
    }
   ],
   "source": [
    "dataviv.vi10.cat.categories"
   ]
  },
  {
   "cell_type": "code",
   "execution_count": 49,
   "metadata": {},
   "outputs": [],
   "source": [
    "dataviv.vi10 =  dataviv.vi10.cat.reorder_categories(\\\n",
    "                                                    ['Red pública',\n",
    "                                                     'Pila o llave pública',\n",
    "                                                     'Otra fuente por tubería',\n",
    "                                                     'Carro repartidor, triciclo',\n",
    "                                                     'Pozo',\n",
    "                                                     'Río, vertiente, acequia',\n",
    "                                                     'Otro, cuál'], ordered=True)\n",
    "# dataviv.vi10 =  dataviv.vi10.cat.reorder_categories(\\\n",
    "#                                                     ['Red Pública',\n",
    "#                                                      'Pila o llave pública',\n",
    "#                                                      'Otra fuente por tubería',\n",
    "#                                                      'Carro repartidor / triciclo',\n",
    "#                                                      'Pozo',\n",
    "#                                                      'Río, vertiente o acequia',\n",
    "#                                                      'Agua de lluvia',\n",
    "#                                                      'Otro, cuál'], ordered=True)"
   ]
  },
  {
   "cell_type": "code",
   "execution_count": 50,
   "metadata": {},
   "outputs": [
    {
     "data": {
      "text/plain": [
       "Index(['Red pública', 'Pila o llave pública', 'Otra fuente por tubería',\n",
       "       'Carro repartidor, triciclo', 'Pozo', 'Río, vertiente, acequia',\n",
       "       'Otro, cuál'],\n",
       "      dtype='object')"
      ]
     },
     "execution_count": 50,
     "metadata": {},
     "output_type": "execute_result"
    }
   ],
   "source": [
    "dataviv.vi10.cat.categories"
   ]
  },
  {
   "cell_type": "code",
   "execution_count": 51,
   "metadata": {},
   "outputs": [],
   "source": [
    "dataviv.vi03a = dataviv.vi03a.cat.reorder_categories(\\\n",
    "                                                     ['Hormigón, losa, cemento',\n",
    "                                                     'Asbesto, eternit',\n",
    "                                                     'Zinc',\n",
    "                                                     'Teja',\n",
    "                                                     'Palma, paja, hoja',\n",
    "                                                     'Otro, cuál'], ordered=True)"
   ]
  },
  {
   "cell_type": "code",
   "execution_count": 52,
   "metadata": {},
   "outputs": [
    {
     "data": {
      "text/plain": [
       "Index(['Hormigón, losa, cemento', 'Asbesto, eternit', 'Zinc', 'Teja',\n",
       "       'Palma, paja, hoja', 'Otro, cuál'],\n",
       "      dtype='object')"
      ]
     },
     "execution_count": 52,
     "metadata": {},
     "output_type": "execute_result"
    }
   ],
   "source": [
    "dataviv.vi03a.cat.categories"
   ]
  },
  {
   "cell_type": "code",
   "execution_count": 53,
   "metadata": {},
   "outputs": [],
   "source": [
    "dataviv.vi03b = dataviv.vi03b.cat.reorder_categories(\\\n",
    "                                     ['Bueno',\n",
    "                                     'Regular',\n",
    "                                     'Malo',], ordered=True)"
   ]
  },
  {
   "cell_type": "code",
   "execution_count": 54,
   "metadata": {},
   "outputs": [
    {
     "data": {
      "text/plain": [
       "Index(['Bueno', 'Regular', 'Malo'], dtype='object')"
      ]
     },
     "execution_count": 54,
     "metadata": {},
     "output_type": "execute_result"
    }
   ],
   "source": [
    "dataviv.vi03b.cat.categories"
   ]
  },
  {
   "cell_type": "code",
   "execution_count": 55,
   "metadata": {},
   "outputs": [
    {
     "data": {
      "text/plain": [
       "Index(['Adobe, tapia', 'Asbesto, cemento', 'Bahareque', 'Caña o estera',\n",
       "       'Hormigón, bloque, ladrillo', 'Madera', 'Otra, cuál'],\n",
       "      dtype='object')"
      ]
     },
     "execution_count": 55,
     "metadata": {},
     "output_type": "execute_result"
    }
   ],
   "source": [
    "dataviv.vi05a.cat.categories"
   ]
  },
  {
   "cell_type": "code",
   "execution_count": 56,
   "metadata": {},
   "outputs": [],
   "source": [
    "dataviv.vi05a = dataviv.vi05a.cat.reorder_categories(\\\n",
    "                                                     ['Hormigón, bloque, ladrillo',\n",
    "                                                     'Asbesto, cemento',\n",
    "                                                     'Adobe, tapia',\n",
    "                                                     'Madera',\n",
    "                                                     'Bahareque',\n",
    "                                                     'Caña o estera',\n",
    "                                                     'Otra, cuál'], ordered=True)\n",
    "# dataviv.vi05a = dataviv.vi05a.cat.reorder_categories(\\\n",
    "#                                                      ['Hormigón, bloque, ladrillo',\n",
    "#                                                      'Asbesto, cemento (Fibrolit)',\n",
    "#                                                      'Adobe, tapia',\n",
    "#                                                      'Madera',\n",
    "#                                                      'Bahareque (caña, carrizo revestido)',\n",
    "#                                                      'Caña o estera',\n",
    "#                                                      'Otra, cuál'], ordered=True)"
   ]
  },
  {
   "cell_type": "code",
   "execution_count": 57,
   "metadata": {},
   "outputs": [
    {
     "data": {
      "text/plain": [
       "Index(['Hormigón, bloque, ladrillo', 'Asbesto, cemento', 'Adobe, tapia',\n",
       "       'Madera', 'Bahareque', 'Caña o estera', 'Otra, cuál'],\n",
       "      dtype='object')"
      ]
     },
     "execution_count": 57,
     "metadata": {},
     "output_type": "execute_result"
    }
   ],
   "source": [
    "dataviv.vi05a.cat.categories"
   ]
  },
  {
   "cell_type": "code",
   "execution_count": 58,
   "metadata": {},
   "outputs": [],
   "source": [
    "dataviv.vi05b = dataviv.vi05b.cat.reorder_categories(\\\n",
    "                                     ['Bueno',\n",
    "                                     'Regular',\n",
    "                                     'Malo'], ordered=True)"
   ]
  },
  {
   "cell_type": "code",
   "execution_count": 59,
   "metadata": {},
   "outputs": [
    {
     "data": {
      "text/plain": [
       "Index(['Bueno', 'Regular', 'Malo'], dtype='object')"
      ]
     },
     "execution_count": 59,
     "metadata": {},
     "output_type": "execute_result"
    }
   ],
   "source": [
    "dataviv.vi05b.cat.categories"
   ]
  },
  {
   "cell_type": "code",
   "execution_count": 60,
   "metadata": {},
   "outputs": [
    {
     "data": {
      "text/plain": [
       "Index(['Caña', 'Cemento, ladrillo', 'Cerámica, baldosa, vinyl',\n",
       "       'Duela, parquet, tabloncillo', 'Mármol, marmetón', 'Otro, cuál',\n",
       "       'Tabla, tablón no tratado', 'Tierra'],\n",
       "      dtype='object')"
      ]
     },
     "execution_count": 60,
     "metadata": {},
     "output_type": "execute_result"
    }
   ],
   "source": [
    "dataviv.vi04a.cat.categories"
   ]
  },
  {
   "cell_type": "code",
   "execution_count": 61,
   "metadata": {},
   "outputs": [],
   "source": [
    "dataviv.vi04a = dataviv.vi04a.cat.reorder_categories(\\\n",
    "                                                     ['Duela, parquet, tabloncillo',\n",
    "                                                     'Cerámica, baldosa, vinyl',\n",
    "                                                     'Mármol, marmetón',\n",
    "                                                     'Cemento, ladrillo',\n",
    "                                                     'Tabla, tablón no tratado',\n",
    "                                                     'Caña',\n",
    "                                                     'Tierra',\n",
    "                                                     'Otro, cuál'], ordered=True)"
   ]
  },
  {
   "cell_type": "code",
   "execution_count": 62,
   "metadata": {},
   "outputs": [
    {
     "data": {
      "text/plain": [
       "Index(['Duela, parquet, tabloncillo', 'Cerámica, baldosa, vinyl',\n",
       "       'Mármol, marmetón', 'Cemento, ladrillo', 'Tabla, tablón no tratado',\n",
       "       'Caña', 'Tierra', 'Otro, cuál'],\n",
       "      dtype='object')"
      ]
     },
     "execution_count": 62,
     "metadata": {},
     "output_type": "execute_result"
    }
   ],
   "source": [
    "dataviv.vi04a.cat.categories"
   ]
  },
  {
   "cell_type": "code",
   "execution_count": 63,
   "metadata": {},
   "outputs": [],
   "source": [
    "dataviv.vi04b = dataviv.vi04b.cat.reorder_categories(\\\n",
    "                                     ['Bueno',\n",
    "                                     'Regular',\n",
    "                                     'Malo'], ordered=True)"
   ]
  },
  {
   "cell_type": "code",
   "execution_count": 64,
   "metadata": {},
   "outputs": [
    {
     "data": {
      "text/plain": [
       "Index(['Bueno', 'Regular', 'Malo'], dtype='object')"
      ]
     },
     "execution_count": 64,
     "metadata": {},
     "output_type": "execute_result"
    }
   ],
   "source": [
    "dataviv.vi04b.cat.categories"
   ]
  },
  {
   "cell_type": "code",
   "execution_count": 65,
   "metadata": {},
   "outputs": [
    {
     "data": {
      "text/plain": [
       "Index(['Excusado y alcantarillado', 'Excusado y pozo ciego',\n",
       "       'Excusado y pozo séptico', 'Letrina', 'No tiene'],\n",
       "      dtype='object')"
      ]
     },
     "execution_count": 65,
     "metadata": {},
     "output_type": "execute_result"
    }
   ],
   "source": [
    "dataviv.vi09.cat.categories"
   ]
  },
  {
   "cell_type": "code",
   "execution_count": 66,
   "metadata": {},
   "outputs": [],
   "source": [
    "#dataviv.vi09 = dataviv.vi13"
   ]
  },
  {
   "cell_type": "code",
   "execution_count": 67,
   "metadata": {},
   "outputs": [],
   "source": [
    "dataviv.vi09 = dataviv.vi09.cat.reorder_categories(\\\n",
    "                                                   ['Excusado y alcantarillado',\n",
    "                                                    'Excusado y pozo séptico',\n",
    "                                                    'Excusado y pozo ciego',\n",
    "                                                    'Letrina',\n",
    "                                                    'No tiene'], ordered=True)"
   ]
  },
  {
   "cell_type": "code",
   "execution_count": 68,
   "metadata": {},
   "outputs": [
    {
     "data": {
      "text/plain": [
       "Index(['Excusado y alcantarillado', 'Excusado y pozo séptico',\n",
       "       'Excusado y pozo ciego', 'Letrina', 'No tiene'],\n",
       "      dtype='object')"
      ]
     },
     "execution_count": 68,
     "metadata": {},
     "output_type": "execute_result"
    }
   ],
   "source": [
    "dataviv.vi09.cat.categories"
   ]
  },
  {
   "cell_type": "code",
   "execution_count": 69,
   "metadata": {},
   "outputs": [],
   "source": [
    "#dataviv.vi13 = dataviv.vi11"
   ]
  },
  {
   "cell_type": "code",
   "execution_count": 70,
   "metadata": {},
   "outputs": [],
   "source": [
    "dataviv.vi13 = dataviv.vi13.cat.reorder_categories(\\\n",
    "                                                   ['Contratan el servicio',\n",
    "                                                     'Servicio municipal',\n",
    "                                                     'Botan a la calle, quebrada, río',\n",
    "                                                     'La queman, entierran',\n",
    "                                                     'Otra, cuál'], ordered=True)"
   ]
  },
  {
   "cell_type": "code",
   "execution_count": 71,
   "metadata": {},
   "outputs": [
    {
     "data": {
      "text/plain": [
       "Index(['Contratan el servicio', 'Servicio municipal',\n",
       "       'Botan a la calle, quebrada, río', 'La queman, entierran',\n",
       "       'Otra, cuál'],\n",
       "      dtype='object')"
      ]
     },
     "execution_count": 71,
     "metadata": {},
     "output_type": "execute_result"
    }
   ],
   "source": [
    "dataviv.vi13.cat.categories"
   ]
  },
  {
   "cell_type": "markdown",
   "metadata": {
    "id": "sH0BoBoBDIhG"
   },
   "source": [
    "### <font color='darkblue'>*Dimension 1 EDUCACION*"
   ]
  },
  {
   "cell_type": "markdown",
   "metadata": {},
   "source": [
    "#### 1. Inasistencia a educación básica y bachillerato"
   ]
  },
  {
   "cell_type": "markdown",
   "metadata": {},
   "source": [
    "##### a) Asistencia a educación básica"
   ]
  },
  {
   "cell_type": "code",
   "execution_count": 72,
   "metadata": {},
   "outputs": [
    {
     "name": "stderr",
     "output_type": "stream",
     "text": [
      "c:\\users\\eduardo\\appdata\\local\\programs\\python\\python37\\lib\\site-packages\\pandas\\core\\indexing.py:1684: PerformanceWarning: DataFrame is highly fragmented.  This is usually the result of calling `frame.insert` many times, which has poor performance.  Consider joining all columns at once using pd.concat(axis=1) instead.  To get a de-fragmented frame, use `newframe = frame.copy()`\n",
      "  self.obj[key] = infer_fill_value(value)\n"
     ]
    }
   ],
   "source": [
    "#gen asist_basica=1 if inrange(p03,5,14) & (p07==1) &\n",
    "#( inlist(p10a,1,3)\n",
    "#| (p10a==4 & inrange(p10b,0,6))\n",
    "#| (p10a==5 & inrange(p10b,0,9))\n",
    "#| (p10a==6 & inrange(p10b,0,2)));\n",
    "dataper.loc[((dataper.p03.cat.codes.isin(range(5,15))) &(dataper.p07.cat.codes==0) &\\\n",
    "((dataper.p10a.cat.codes.isin([0,1,2])) \\\n",
    "|((dataper.p10a.cat.codes==3)&(dataper.p10b.isin(range(0,7)))) \\\n",
    "|((dataper.p10a.cat.codes==4)&(dataper.p10b.isin(range(0,10)))) \\\n",
    "|((dataper.p10a.cat.codes==5)&(dataper.p10b.isin(range(0,3)))) \\\n",
    ")),\"asist_basica\"]=1"
   ]
  },
  {
   "cell_type": "code",
   "execution_count": 73,
   "metadata": {},
   "outputs": [],
   "source": [
    "#replace asist_basica=0 if inrange(p03,5,14) & asist_basica!=1\n",
    "#label var asist_basica \"Asistencia a educación básica\"\n",
    "dataper.loc[((dataper.p03.cat.codes.isin(range(5,15))) & (dataper[\"asist_basica\"]!=1)),\"asist_basica\"]=0"
   ]
  },
  {
   "cell_type": "markdown",
   "metadata": {},
   "source": [
    "##### b) Asistencia a educación bachillerato"
   ]
  },
  {
   "cell_type": "code",
   "execution_count": 74,
   "metadata": {},
   "outputs": [],
   "source": [
    "#gen asist_bach=1 if inrange(p03,15,17) & (p07==1) &\n",
    "#( (p10a==5 & p10b==10)\n",
    "#| (p10a==7 & inrange(p10b,0,2))\n",
    "#| (p10a==6 & inrange(p10b,3,5)));\n",
    "dataper.loc[(dataper.p03.cat.codes.isin(range(15,18)))&(dataper.p07.cat.codes==0) & \\\n",
    "(((dataper.p10a.cat.codes==4)&(dataper.p10b==10)) \\\n",
    "|((dataper.p10a.cat.codes==6)&(dataper.p10b.isin(range(0,3)))) \\\n",
    "|((dataper.p10a.cat.codes==5)&(dataper.p10b.isin(range(3,6))))),\"asist_bach\"] = 1"
   ]
  },
  {
   "cell_type": "code",
   "execution_count": 75,
   "metadata": {},
   "outputs": [],
   "source": [
    "#replace asist_bach=0 if inrange(p03,15,17) & asist_bach!=1\n",
    "#label var asist_bach \"Asistencia a educación bachillerato\"\n",
    "dataper.loc[(dataper.p03.cat.codes.isin(range(15,18))) & (dataper[\"asist_bach\"]!=1),\"asist_bach\"] = 0"
   ]
  },
  {
   "cell_type": "markdown",
   "metadata": {},
   "source": [
    "##### c) Cálculo de la privación"
   ]
  },
  {
   "cell_type": "code",
   "execution_count": 76,
   "metadata": {},
   "outputs": [],
   "source": [
    "#gen dim1_ind1=1 if inrange(p03,5,17) & p10a<8\n",
    "#replace dim1_ind1=0 if inrange(p03,5,17) & (asist_basica==1 | asist_bach==1 | p10a>=8)\n",
    "#label var dim1_ind1 \"Inasistencia a educación básica y bachillerato\"\n",
    "dataper.loc[(dataper.p03.cat.codes.isin(range(5,18)))&(dataper.p10a.cat.codes<7),\"dim1_ind1\"]=1\n",
    "dataper.loc[(dataper.p03.cat.codes.isin(range(5,18)))&((dataper[\"asist_basica\"]==1)|(dataper[\"asist_bach\"]==1)|(dataper.p10a.cat.codes>=7)),\"dim1_ind1\"]=0"
   ]
  },
  {
   "cell_type": "code",
   "execution_count": 77,
   "metadata": {},
   "outputs": [
    {
     "data": {
      "text/plain": [
       "0.0    14120\n",
       "1.0     1731\n",
       "Name: dim1_ind1, dtype: int64"
      ]
     },
     "execution_count": 77,
     "metadata": {},
     "output_type": "execute_result"
    }
   ],
   "source": [
    "dataper.dim1_ind1.value_counts()"
   ]
  },
  {
   "cell_type": "markdown",
   "metadata": {},
   "source": [
    "#### 2. No acceso a educación superior por razónes económicas"
   ]
  },
  {
   "cell_type": "code",
   "execution_count": 78,
   "metadata": {},
   "outputs": [],
   "source": [
    "#gen dim1_ind2=0 if inrange(p03,18,29) & (p07>=1 & p07<=2) &\n",
    "#( (p10a==7 & p10b>=3)\n",
    "#| (p10a==6 & p10b>=6))\n",
    "#| inrange(p10a,8,10);\n",
    "dataper.loc[(dataper.p03.cat.codes.isin(range(18,30))) & (dataper.p07.cat.codes.isin([0,1])) & \\\n",
    "(((dataper.p10a.cat.codes==6)&(dataper.p10b>=3)) \\\n",
    "|((dataper.p10a.cat.codes==5)&(dataper.p10b>=6))) \\\n",
    "|(dataper.p10a.cat.codes.isin(range(7,10))),\"dim1_ind2\"] = 0"
   ]
  },
  {
   "cell_type": "code",
   "execution_count": 79,
   "metadata": {},
   "outputs": [],
   "source": [
    "#replace dim1_ind2=1 if inrange(p03,18,29) & p07==2 &\n",
    "#( (p10a==7 & p10b>=3)\n",
    "#| (p10a==6 & p10b>=6)\n",
    "#| (inrange(p10a,8,9)))\n",
    "#& p09==3 ;\n",
    "dataper.loc[(dataper.p03.cat.codes.isin(range(18,30))) & (dataper.p07.cat.codes==1) & \\\n",
    "(((dataper.p10a.cat.codes==6)&(dataper.p10b>=3)) \\\n",
    "|((dataper.p10a.cat.codes==5)&(dataper.p10b>=6)) \\\n",
    "|(dataper.p10a.cat.codes.isin(range(7,9)))) & (dataper.p09.cat.codes==2),\"dim1_ind2\"] = 1"
   ]
  },
  {
   "cell_type": "code",
   "execution_count": 80,
   "metadata": {},
   "outputs": [],
   "source": [
    "#replace dim1_ind2=. if p03<18 | p03>29\n",
    "#label var dim1_ind2 \"Barrera económica al acceso a educación superior\"\n",
    "dataper.loc[(dataper.p03.cat.codes<18) | (dataper.p03.cat.codes>29),\"dim1_ind2\"] = np.nan"
   ]
  },
  {
   "cell_type": "code",
   "execution_count": 81,
   "metadata": {},
   "outputs": [
    {
     "data": {
      "text/plain": [
       "0.0    5495\n",
       "1.0    1292\n",
       "Name: dim1_ind2, dtype: int64"
      ]
     },
     "execution_count": 81,
     "metadata": {},
     "output_type": "execute_result"
    }
   ],
   "source": [
    "dataper.dim1_ind2.value_counts()"
   ]
  },
  {
   "cell_type": "markdown",
   "metadata": {},
   "source": [
    "#### 3. Logro educativo incompleto"
   ]
  },
  {
   "cell_type": "code",
   "execution_count": 82,
   "metadata": {},
   "outputs": [],
   "source": [
    "#gen escol=.\n",
    "#replace escol=0 if p10a==1 & p10b==0\n",
    "#replace escol=0 if p10a==2 & p10b==0\n",
    "#replace escol=2 if p10a==2 & p10b==1\n",
    "#replace escol=4 if p10a==2 & p10b==2\n",
    "#replace escol=6 if p10a==2 & p10b==3\n",
    "#replace escol=7 if p10a==2 & p10b==4\n",
    "#replace escol=1 if p10a==3\n",
    "#replace escol=1+ p10b if p10a==4\n",
    "#replace escol= p10b if p10a==5\n",
    "#replace escol=7+ p10b if p10a==6\n",
    "#replace escol=10+p10b if p10a==7\n",
    "#replace escol=13+p10b if p10a==8\n",
    "#replace escol=13+p10b if p10a==9\n",
    "#replace escol=18+p10b if p10a==10\n",
    "#replace escol=0 if escol==.\n",
    "dataper.loc[((dataper.p10a.cat.codes==0)&(dataper.p10b==0))|((dataper.p10a.cat.codes==1)&(dataper.p10b==0)),\"escol\"] = 0\n",
    "dataper.loc[((dataper.p10a.cat.codes==1)&(dataper.p10b==1)),\"escol\"] = 2\n",
    "dataper.loc[((dataper.p10a.cat.codes==1)&(dataper.p10b==2)),\"escol\"] = 4\n",
    "dataper.loc[((dataper.p10a.cat.codes==1)&(dataper.p10b==3)),\"escol\"] = 6\n",
    "dataper.loc[((dataper.p10a.cat.codes==1)&(dataper.p10b==4)),\"escol\"] = 7\n",
    "dataper.loc[(dataper.p10a.cat.codes==2),\"escol\"] = 1\n",
    "dataper.loc[(dataper.p10a.cat.codes==3),\"escol\"] = 1+dataper.p10b\n",
    "dataper.loc[(dataper.p10a.cat.codes==4),\"escol\"] = dataper.p10b\n",
    "dataper.loc[(dataper.p10a.cat.codes==5),\"escol\"] = 7+dataper.p10b\n",
    "dataper.loc[(dataper.p10a.cat.codes==6),\"escol\"] = 10+dataper.p10b\n",
    "dataper.loc[(dataper.p10a.cat.codes==7),\"escol\"] = 13+dataper.p10b\n",
    "dataper.loc[(dataper.p10a.cat.codes==8),\"escol\"] = 13+dataper.p10b\n",
    "dataper.loc[(dataper.p10a.cat.codes==9),\"escol\"] = 18+dataper.p10b\n",
    "dataper.loc[dataper.escol.isnull(),\"escol\"] = 0"
   ]
  },
  {
   "cell_type": "code",
   "execution_count": 83,
   "metadata": {},
   "outputs": [],
   "source": [
    "#gen dim1_ind3=0 if inrange(p03,18,64) & ((escol<10 & p07==1) | (escol>=10))\n",
    "#replace dim1_ind3=1 if inrange(p03,18,64) & escol<10 & p07==2\n",
    "#label var dim1_ind3 \"Logro educativo incompleto\"\n",
    "dataper.loc[(dataper.p03.cat.codes.isin(range(18,65)))&(((dataper.escol<10)&(dataper.p07.cat.codes==0))|(dataper.escol>=10)),\"dim1_ind3\"]=0\n",
    "dataper.loc[(dataper.p03.cat.codes.isin(range(18,65)))&(dataper.escol<10)&(dataper.p07.cat.codes==1),\"dim1_ind3\"]=1"
   ]
  },
  {
   "cell_type": "code",
   "execution_count": 84,
   "metadata": {},
   "outputs": [
    {
     "data": {
      "text/plain": [
       "0.0    20367\n",
       "1.0    11972\n",
       "Name: dim1_ind3, dtype: int64"
      ]
     },
     "execution_count": 84,
     "metadata": {},
     "output_type": "execute_result"
    }
   ],
   "source": [
    "dataper.dim1_ind3.value_counts()"
   ]
  },
  {
   "cell_type": "markdown",
   "metadata": {
    "id": "4-YUc5x6DNet"
   },
   "source": [
    "### <font color='darkblue'>*Dimension 2 TRABAJO Y SEGURIDAD SOCIAL*"
   ]
  },
  {
   "cell_type": "markdown",
   "metadata": {},
   "source": [
    "#### 1. Empleo infantil y adolescente"
   ]
  },
  {
   "cell_type": "code",
   "execution_count": 85,
   "metadata": {},
   "outputs": [
    {
     "name": "stderr",
     "output_type": "stream",
     "text": [
      "c:\\users\\eduardo\\appdata\\local\\programs\\python\\python37\\lib\\site-packages\\ipykernel_launcher.py:8: PerformanceWarning: DataFrame is highly fragmented.  This is usually the result of calling `frame.insert` many times, which has poor performance.  Consider joining all columns at once using pd.concat(axis=1) instead.  To get a de-fragmented frame, use `newframe = frame.copy()`\n",
      "  \n",
      "c:\\users\\eduardo\\appdata\\local\\programs\\python\\python37\\lib\\site-packages\\ipykernel_launcher.py:12: PerformanceWarning: DataFrame is highly fragmented.  This is usually the result of calling `frame.insert` many times, which has poor performance.  Consider joining all columns at once using pd.concat(axis=1) instead.  To get a de-fragmented frame, use `newframe = frame.copy()`\n",
      "  if sys.path[0] == '':\n"
     ]
    }
   ],
   "source": [
    "#gen horas =0 if empleo ==1\n",
    "#replace horas =p24 if pea ==1 & p20 ==1\n",
    "#replace horas =p24 if pea ==1 & p20 ==2 & p21 <=11\n",
    "#recode p51* (999 = .)\n",
    "#egen hh = rowtotal (p51*), missing\n",
    "#replace hh = . if hh <0\n",
    "#replace horas = hh if pea ==1 & p20 ==2 & p21 ==12 & p22==1\n",
    "dataper[\"pea\"] = dataper[\"pean\"]\n",
    "dataper.loc[dataper.empleo.cat.codes==0,\"horas\"]=0\n",
    "dataper.loc[(dataper.pea.cat.codes == 0)&(dataper.p20.cat.codes==0),\"horas\"] = dataper.p24.cat.codes\n",
    "dataper.loc[(dataper.pea.cat.codes == 0)&(dataper.p20.cat.codes==1)&(dataper.p21.cat.codes<=10),\"horas\"] = dataper.p24.cat.codes\n",
    "dataper[\"hh\"] = dataper.p51a.cat.codes+dataper.p51b.cat.codes+dataper.p51c.cat.codes\n",
    "dataper.loc[dataper[\"hh\"]<0,\"hh\"] = np.nan\n",
    "dataper.loc[(dataper.pea.cat.codes == 0)&(dataper.p20.cat.codes==1)&(dataper.p21.cat.codes==11)&(dataper.p22.cat.codes==0),\"horas\"] = dataper[\"hh\"]"
   ]
  },
  {
   "cell_type": "code",
   "execution_count": 86,
   "metadata": {},
   "outputs": [
    {
     "name": "stderr",
     "output_type": "stream",
     "text": [
      "c:\\users\\eduardo\\appdata\\local\\programs\\python\\python37\\lib\\site-packages\\ipykernel_launcher.py:11: PerformanceWarning: DataFrame is highly fragmented.  This is usually the result of calling `frame.insert` many times, which has poor performance.  Consider joining all columns at once using pd.concat(axis=1) instead.  To get a de-fragmented frame, use `newframe = frame.copy()`\n",
      "  # This is added back by InteractiveShellApp.init_path()\n"
     ]
    }
   ],
   "source": [
    "#gen dim2_ind1=(p20==1 | inrange(p21,1,11) | p22==1) & inrange(p03, 5,14)\n",
    "#replace dim2_ind1=1 if inrange(condactn,2,6) & inrange(p03,15,17)\n",
    "#replace dim2_ind1=1 if condactn ==1 & inrange(p03,15,17) & (p07==2 | horas>30)\n",
    "#replace dim2_ind1=. if p03>=18\n",
    "# dataper[\"dim2_ind1\"]=(((dataper.p20.cat.codes==0)|(dataper.p21.cat.codes.isin(range(0,11)))|(dataper.p22.cat.codes==0)) \\\n",
    "#                       &(dataper.p03.cat.codes.isin(range(5,15)))).astype(\"int\")\n",
    "# dataper.loc[dataper.CONDACTN.cat.codes.isin(range(2,7))&(dataper.p03.cat.codes.isin(range(15,18))),\"dim2_ind1\"]=1\n",
    "# dataper.loc[(dataper.CONDACTN.cat.codes==1)&(dataper.p03.cat.codes.isin(range(15,18)))&((dataper.p07.cat.codes==1)|(dataper.horas>30)),\"dim2_ind1\"]=1\n",
    "# dataper.loc[dataper.p03.cat.codes>=18,\"dim2_ind1\"] = np.nan\n",
    "dataper[\"dim2_ind1\"]=(((dataper.p20.cat.codes==0)|(dataper.p21.cat.codes.isin(range(0,11)))|(dataper.p22.cat.codes==0)) \\\n",
    "                      &(dataper.p03.cat.codes.isin(range(5,15)))).astype(\"int\")\n",
    "dataper.loc[dataper.condactn.cat.codes.isin(range(2,7))&(dataper.p03.cat.codes.isin(range(15,18))),\"dim2_ind1\"]=1\n",
    "dataper.loc[(dataper.condactn.cat.codes==1)&(dataper.p03.cat.codes.isin(range(15,18)))&((dataper.p07.cat.codes==1)|(dataper.horas>30)),\"dim2_ind1\"]=1\n",
    "dataper.loc[dataper.p03.cat.codes>=18,\"dim2_ind1\"] = np.nan"
   ]
  },
  {
   "cell_type": "code",
   "execution_count": 87,
   "metadata": {},
   "outputs": [
    {
     "data": {
      "text/plain": [
       "0.0    19124\n",
       "1.0     1837\n",
       "Name: dim2_ind1, dtype: int64"
      ]
     },
     "execution_count": 87,
     "metadata": {},
     "output_type": "execute_result"
    }
   ],
   "source": [
    "dataper[\"dim2_ind1\"].value_counts()"
   ]
  },
  {
   "cell_type": "markdown",
   "metadata": {},
   "source": [
    "#### 2. Desempleo o empleo inadecuado"
   ]
  },
  {
   "cell_type": "code",
   "execution_count": 88,
   "metadata": {},
   "outputs": [
    {
     "name": "stderr",
     "output_type": "stream",
     "text": [
      "c:\\users\\eduardo\\appdata\\local\\programs\\python\\python37\\lib\\site-packages\\ipykernel_launcher.py:8: PerformanceWarning: DataFrame is highly fragmented.  This is usually the result of calling `frame.insert` many times, which has poor performance.  Consider joining all columns at once using pd.concat(axis=1) instead.  To get a de-fragmented frame, use `newframe = frame.copy()`\n",
      "  \n"
     ]
    }
   ],
   "source": [
    "#gen dim2_ind2= inrange(condactn,2,8) & inrange(p03,18,98)\n",
    "#replace dim2_ind2=. if p03<18 | p03==99 | ///\n",
    "#(p20==. & p21==. & p22==. & p32==. & p34==. & p35==.)\n",
    "#label var dim2_ind2 \"Desempleo o empleo inadecuado\"\n",
    "# dataper[\"dim2_ind2\"] = (dataper.CONDACTN.cat.codes.isin(range(2,9))&(dataper.p03.cat.codes.isin(range(18,99)))).astype(\"int\")\n",
    "# dataper.loc[(dataper.p03.cat.codes<18)|(dataper.p03.cat.codes==99)| \\\n",
    "# (dataper.p20.isnull()&dataper.p21.isnull()&dataper.p22.isnull()&dataper.p32.isnull()&dataper.p34.isnull()&dataper.p35.isnull()),\"dim2_ind2\"]=np.nan\n",
    "dataper[\"dim2_ind2\"] = (dataper.condactn.cat.codes.isin(range(2,9))&(dataper.p03.cat.codes.isin(range(18,99)))).astype(\"int\")\n",
    "dataper.loc[(dataper.p03.cat.codes<18)|(dataper.p03.cat.codes==99)| \\\n",
    "(dataper.p20.isnull()&dataper.p21.isnull()&dataper.p22.isnull()&dataper.p32.isnull()&dataper.p34.isnull()&dataper.p35.isnull()),\"dim2_ind2\"]=np.nan"
   ]
  },
  {
   "cell_type": "code",
   "execution_count": 89,
   "metadata": {},
   "outputs": [
    {
     "data": {
      "text/plain": [
       "0.0    20650\n",
       "1.0    16385\n",
       "Name: dim2_ind2, dtype: int64"
      ]
     },
     "execution_count": 89,
     "metadata": {},
     "output_type": "execute_result"
    }
   ],
   "source": [
    "dataper[\"dim2_ind2\"].value_counts()"
   ]
  },
  {
   "cell_type": "markdown",
   "metadata": {},
   "source": [
    "#### 3. No contribución al sistema de pensiones"
   ]
  },
  {
   "cell_type": "code",
   "execution_count": 90,
   "metadata": {},
   "outputs": [
    {
     "name": "stderr",
     "output_type": "stream",
     "text": [
      "c:\\users\\eduardo\\appdata\\local\\programs\\python\\python37\\lib\\site-packages\\ipykernel_launcher.py:3: PerformanceWarning: DataFrame is highly fragmented.  This is usually the result of calling `frame.insert` many times, which has poor performance.  Consider joining all columns at once using pd.concat(axis=1) instead.  To get a de-fragmented frame, use `newframe = frame.copy()`\n",
      "  This is separate from the ipykernel package so we can avoid doing imports until\n"
     ]
    }
   ],
   "source": [
    "#gen dim2_ind3 = (empleo==1 & inrange(p05a,5,10) & inrange(p05b,5,10))\n",
    "#replace dim2_ind3 = 0 if empleo ==1 & p03>=65 & p72a==1\n",
    "dataper[\"dim2_ind3\"]=((dataper.empleo.cat.codes==0)&(dataper.p05a.cat.codes.isin(range(4,10)))&(dataper.p05b.cat.codes.isin(range(4,10)))).astype(\"int\")\n",
    "dataper.loc[(dataper.empleo.cat.codes==0)&(dataper.p03.cat.codes>=65)&(dataper.p72a.cat.codes==0),\"dim2_ind3\"] = 0"
   ]
  },
  {
   "cell_type": "code",
   "execution_count": 91,
   "metadata": {},
   "outputs": [
    {
     "name": "stderr",
     "output_type": "stream",
     "text": [
      "c:\\users\\eduardo\\appdata\\local\\programs\\python\\python37\\lib\\site-packages\\ipykernel_launcher.py:6: PerformanceWarning: DataFrame is highly fragmented.  This is usually the result of calling `frame.insert` many times, which has poor performance.  Consider joining all columns at once using pd.concat(axis=1) instead.  To get a de-fragmented frame, use `newframe = frame.copy()`\n",
      "  \n",
      "c:\\users\\eduardo\\appdata\\local\\programs\\python\\python37\\lib\\site-packages\\ipykernel_launcher.py:7: PerformanceWarning: DataFrame is highly fragmented.  This is usually the result of calling `frame.insert` many times, which has poor performance.  Consider joining all columns at once using pd.concat(axis=1) instead.  To get a de-fragmented frame, use `newframe = frame.copy()`\n",
      "  import sys\n"
     ]
    }
   ],
   "source": [
    "#replace dim2_ind3 = 1 if (desem ==1 | pei==1) & p03>=65 & p72a==2\n",
    "#replace dim2_ind3 = 0 if p03>=65 & p72a== 2 & p75==1\n",
    "#replace dim2_ind3 = 0 if pet ==1 & p77==1\n",
    "#replace dim2_ind3 = . if pet ==0 | inrange(p03,0,14)\n",
    "#label var dim2_ind3 \"No contribución al sistema de pensiones\"\n",
    "dataper[\"pei\"] = dataper[\"pein\"]\n",
    "dataper[\"pet\"] = dataper[\"petn\"]\n",
    "dataper.loc[((dataper.desem.cat.codes==0)|(dataper.pei.cat.codes==0))&(dataper.p03.cat.codes>=65)&(dataper.p72a.cat.codes==1),\"dim2_ind3\"] = 1\n",
    "dataper.loc[(dataper.p03.cat.codes>=65)&(dataper.p72a.cat.codes==1)&(dataper.p75.cat.codes==0),\"dim2_ind3\"]=0\n",
    "dataper.loc[(dataper.pet.cat.codes==0)&(dataper.p77.cat.codes==0),\"dim2_ind3\"]=0\n",
    "dataper.loc[((dataper.pet.cat.codes==-1) | (dataper.p03.cat.codes.isin(range(0,15)))),\"dim2_ind3\"]=np.nan"
   ]
  },
  {
   "cell_type": "code",
   "execution_count": 92,
   "metadata": {},
   "outputs": [
    {
     "data": {
      "text/plain": [
       "0.0    25175\n",
       "1.0    15584\n",
       "Name: dim2_ind3, dtype: int64"
      ]
     },
     "execution_count": 92,
     "metadata": {},
     "output_type": "execute_result"
    }
   ],
   "source": [
    "dataper[\"dim2_ind3\"].value_counts()"
   ]
  },
  {
   "cell_type": "markdown",
   "metadata": {},
   "source": [
    "### <font color='darkblue'>*Dimension 3 SALUD, AGUA Y ALIMENTACIÓN*"
   ]
  },
  {
   "cell_type": "markdown",
   "metadata": {},
   "source": [
    "#### 1. Pobreza extrema por ingresos"
   ]
  },
  {
   "cell_type": "code",
   "execution_count": 93,
   "metadata": {},
   "outputs": [
    {
     "name": "stderr",
     "output_type": "stream",
     "text": [
      "c:\\users\\eduardo\\appdata\\local\\programs\\python\\python37\\lib\\site-packages\\ipykernel_launcher.py:3: PerformanceWarning: DataFrame is highly fragmented.  This is usually the result of calling `frame.insert` many times, which has poor performance.  Consider joining all columns at once using pd.concat(axis=1) instead.  To get a de-fragmented frame, use `newframe = frame.copy()`\n",
      "  This is separate from the ipykernel package so we can avoid doing imports until\n"
     ]
    }
   ],
   "source": [
    "#gen dim3_ind1 = epobre\n",
    "#label var dim3_ind1 \"Pobreza extrema por ingresos\"\n",
    "dataper[\"dim3_ind1\"] = (dataper.epobreza.cat.codes==0).astype(\"int\")\n",
    "dataper.loc[(dataper.epobreza.cat.codes==-1),\"dim3_ind1\"]=np.nan"
   ]
  },
  {
   "cell_type": "code",
   "execution_count": 94,
   "metadata": {},
   "outputs": [
    {
     "data": {
      "text/plain": [
       "0.0    51082\n",
       "1.0     6491\n",
       "Name: dim3_ind1, dtype: int64"
      ]
     },
     "execution_count": 94,
     "metadata": {},
     "output_type": "execute_result"
    }
   ],
   "source": [
    "dataper[\"dim3_ind1\"].value_counts()"
   ]
  },
  {
   "cell_type": "markdown",
   "metadata": {},
   "source": [
    "#### 2. Sin servicio de agua por red pública"
   ]
  },
  {
   "cell_type": "code",
   "execution_count": 95,
   "metadata": {},
   "outputs": [],
   "source": [
    "#gen dim3_ind2=(vi10!=1)\n",
    "#replace dim3_ind2=. if vi10 ==.\n",
    "#label var dim3_ind2 \"Sin servicio de agua por red pública\"\n",
    "dataviv[\"dim3_ind2\"] = (dataviv.vi10.cat.codes!=0).astype(int)\n",
    "dataviv.loc[dataviv.vi10.isnull(),\"dim3_ind2\"] = np.nan\n",
    "dataper = dataper.merge(dataviv[[\"idh\",\"dim3_ind2\"]],on=\"idh\")"
   ]
  },
  {
   "cell_type": "code",
   "execution_count": 96,
   "metadata": {},
   "outputs": [
    {
     "data": {
      "text/plain": [
       "0                010150001003Panel Q2Vivienda DosHogar Uno\n",
       "1               010150001003Panel Q2Vivienda TresHogar Uno\n",
       "2        010150001003Panel Q2Vivienda Cuatro (reemplazo...\n",
       "3                010150001003Panel R2Vivienda UnoHogar Uno\n",
       "4        010150001003Panel R2Vivienda Cuatro (reemplazo...\n",
       "                               ...                        \n",
       "15469            900451999007Panel W2Vivienda DosHogar Uno\n",
       "15470           900451999007Panel W2Vivienda TresHogar Uno\n",
       "15471            900451999007Panel X2Vivienda UnoHogar Uno\n",
       "15472           900451999007Panel X2Vivienda TresHogar Uno\n",
       "15473    900451999007Panel X2Vivienda Cuatro (reemplazo...\n",
       "Name: idh, Length: 15474, dtype: object"
      ]
     },
     "execution_count": 96,
     "metadata": {},
     "output_type": "execute_result"
    }
   ],
   "source": [
    "dataviv.idh"
   ]
  },
  {
   "cell_type": "code",
   "execution_count": 97,
   "metadata": {},
   "outputs": [
    {
     "data": {
      "text/plain": [
       "0.0    45574\n",
       "1.0    12423\n",
       "Name: dim3_ind2, dtype: int64"
      ]
     },
     "execution_count": 97,
     "metadata": {},
     "output_type": "execute_result"
    }
   ],
   "source": [
    "dataper[\"dim3_ind2\"].value_counts()"
   ]
  },
  {
   "cell_type": "markdown",
   "metadata": {},
   "source": [
    "### <font color='darkblue'>*DIMENSION 4: HABITAT, VIVIENDA Y AMBIENTE SANO*"
   ]
  },
  {
   "cell_type": "markdown",
   "metadata": {},
   "source": [
    "#### 1. Hacinamiento"
   ]
  },
  {
   "cell_type": "code",
   "execution_count": 98,
   "metadata": {},
   "outputs": [
    {
     "name": "stderr",
     "output_type": "stream",
     "text": [
      "c:\\users\\eduardo\\appdata\\local\\programs\\python\\python37\\lib\\site-packages\\ipykernel_launcher.py:7: PerformanceWarning: DataFrame is highly fragmented.  This is usually the result of calling `frame.insert` many times, which has poor performance.  Consider joining all columns at once using pd.concat(axis=1) instead.  To get a de-fragmented frame, use `newframe = frame.copy()`\n",
      "  import sys\n",
      "c:\\users\\eduardo\\appdata\\local\\programs\\python\\python37\\lib\\site-packages\\ipykernel_launcher.py:9: PerformanceWarning: DataFrame is highly fragmented.  This is usually the result of calling `frame.insert` many times, which has poor performance.  Consider joining all columns at once using pd.concat(axis=1) instead.  To get a de-fragmented frame, use `newframe = frame.copy()`\n",
      "  if __name__ == '__main__':\n",
      "c:\\users\\eduardo\\appdata\\local\\programs\\python\\python37\\lib\\site-packages\\ipykernel_launcher.py:10: PerformanceWarning: DataFrame is highly fragmented.  This is usually the result of calling `frame.insert` many times, which has poor performance.  Consider joining all columns at once using pd.concat(axis=1) instead.  To get a de-fragmented frame, use `newframe = frame.copy()`\n",
      "  # Remove the CWD from sys.path while we load stuff.\n"
     ]
    }
   ],
   "source": [
    "#recode vi07 (0=1)\n",
    "#egen hsize=count(p01), by(id_hogar)\n",
    "#gen dim4_ind1=1 if (hsize/vi07)> 3\n",
    "#replace dim4_ind1=0 if (hsize/vi07)<=3\n",
    "#label var dim4_ind1 \"Hacinamiento\"\n",
    "dataviv[\"vi07\"]=dataviv.vi07.cat.codes.mask((dataviv.vi07.cat.codes == 0),1)\n",
    "dataper[\"hsize\"] = dataper.groupby(\"idh\")[\"p01\"].transform(\"size\")\n",
    "dataper = dataper.merge(dataviv[[\"idh\",\"vi07\"]],on=\"idh\")\n",
    "dataper[\"hsizevi07\"] = (dataper[\"hsize\"] / dataper[\"vi07\"])\n",
    "dataper[\"dim4_ind1\"] = 0\n",
    "dataper.loc[(dataper[\"hsizevi07\"]>3),\"dim4_ind1\"] = 1"
   ]
  },
  {
   "cell_type": "code",
   "execution_count": 99,
   "metadata": {},
   "outputs": [
    {
     "data": {
      "text/plain": [
       "0    48660\n",
       "1     9337\n",
       "Name: dim4_ind1, dtype: int64"
      ]
     },
     "execution_count": 99,
     "metadata": {},
     "output_type": "execute_result"
    }
   ],
   "source": [
    "dataper[\"dim4_ind1\"].value_counts()"
   ]
  },
  {
   "cell_type": "markdown",
   "metadata": {},
   "source": [
    "#### 2. Deficit Habitacional"
   ]
  },
  {
   "cell_type": "code",
   "execution_count": 100,
   "metadata": {},
   "outputs": [],
   "source": [
    "#((vi03a==1 & inrange(vi03b,1,2))\n",
    "#|(vi03b==1 & inrange(vi03a,2,4)))\n",
    "dataviv.loc[((dataviv.vi03a.cat.codes == 0)&(dataviv.vi03b.cat.codes.isin([0,1]))) | \\\n",
    "((dataviv.vi03b.cat.codes==0)&(dataviv.vi03a.cat.codes.isin(range(1,4)))),\"techo\"] = 1"
   ]
  },
  {
   "cell_type": "code",
   "execution_count": 101,
   "metadata": {},
   "outputs": [],
   "source": [
    "#replace techo=2 if\n",
    "#((vi03a==1 & vi03b==3)\n",
    "#| vi03b==2 & inrange(vi03a,2,4))\n",
    "dataviv.loc[((dataviv.vi03a.cat.codes == 0)&(dataviv.vi03b.cat.codes == 2)) | \\\n",
    "((dataviv.vi03b.cat.codes==1)&(dataviv.vi03a.cat.codes.isin(range(1,4)))),\"techo\"] = 2"
   ]
  },
  {
   "cell_type": "code",
   "execution_count": 102,
   "metadata": {},
   "outputs": [],
   "source": [
    "#replace techo=3 if\n",
    "#((vi03b==3 & inrange(vi03a,2,4))\n",
    "#|(vi03a==5 | vi03a==6))\n",
    "dataviv.loc[((dataviv.vi03b.cat.codes == 2)&(dataviv.vi03a.cat.codes.isin(range(1,4)))) | \\\n",
    "((dataviv.vi03a.cat.codes==4)|(dataviv.vi03a.cat.codes==5)),\"techo\"] = 3"
   ]
  },
  {
   "cell_type": "code",
   "execution_count": 103,
   "metadata": {},
   "outputs": [],
   "source": [
    "#gen pared=1 if\n",
    "#((vi05a==1 & inrange(vi05b,1,2))\n",
    "#|(vi05a==2 & vi05b==1))\n",
    "dataviv.loc[((dataviv.vi05a.cat.codes==0)&(dataviv.vi05b.cat.codes.isin([0,1]))) | \\\n",
    "((dataviv.vi05a.cat.codes==1)&(dataviv.vi05b.cat.codes==0)),\"pared\"]=1"
   ]
  },
  {
   "cell_type": "code",
   "execution_count": 104,
   "metadata": {},
   "outputs": [],
   "source": [
    "#replace pared=2 if\n",
    "#((vi05a==1 & vi05b==3)\n",
    "#|(vi05a==2 & vi05b==2)\n",
    "#|(inrange(vi05a,3,5) & inrange(vi05b,1,2)))\n",
    "dataviv.loc[((dataviv.vi05a.cat.codes==0)&(dataviv.vi05b.cat.codes==2)) | \\\n",
    "((dataviv.vi05a.cat.codes==1)&(dataviv.vi05b.cat.codes==1)) | \\\n",
    "((dataviv.vi05a.cat.codes.isin(range(2,5)))&(dataviv.vi05b.cat.codes.isin([0,1]))),\"pared\"]=2"
   ]
  },
  {
   "cell_type": "code",
   "execution_count": 105,
   "metadata": {},
   "outputs": [],
   "source": [
    "#replace pared=3 if\n",
    "#((vi05b==3 & inrange(vi05a,2,5))\n",
    "#|(vi05a==6 | vi05a==7))\n",
    "dataviv.loc[((dataviv.vi05b.cat.codes==2)&(dataviv.vi05a.cat.codes.isin(range(1,5)))) | \\\n",
    "(dataviv.vi05a.cat.codes.isin([5,6])),\"pared\"] =3"
   ]
  },
  {
   "cell_type": "code",
   "execution_count": 106,
   "metadata": {},
   "outputs": [],
   "source": [
    "#gen piso=1 if\n",
    "#((vi04a<=3 & vi04b==1)\n",
    "#|(vi04a<=3 & vi04b==2)\n",
    "#|(vi04b==1 & inrange(vi04a,4,5)))\n",
    "dataviv.loc[((dataviv.vi04a.cat.codes<=2)&(dataviv.vi04b.cat.codes==0))\\\n",
    "|((dataviv.vi04a.cat.codes<=2)&(dataviv.vi04b.cat.codes==1))\\\n",
    "|((dataviv.vi04b.cat.codes==0)&(dataviv.vi04a.cat.codes.isin([3,4]))),\"piso\"]=1"
   ]
  },
  {
   "cell_type": "code",
   "execution_count": 107,
   "metadata": {},
   "outputs": [],
   "source": [
    "#replace piso=2 if\n",
    "#((vi04a <= 3 & vi04b == 3)\n",
    "#|(vi04b==2 & inrange(vi04a,4,5))\n",
    "#|(vi04a==6 & vi04b==1))\n",
    "dataviv.loc[((dataviv.vi04a.cat.codes<=2)&(dataviv.vi04b.cat.codes==2))\\\n",
    "|((dataviv.vi04b.cat.codes==1)&(dataviv.vi04a.cat.codes.isin([3,4])))\\\n",
    "|((dataviv.vi04a.cat.codes==5)&(dataviv.vi04b.cat.codes==0)),\"piso\"]=2"
   ]
  },
  {
   "cell_type": "code",
   "execution_count": 108,
   "metadata": {},
   "outputs": [],
   "source": [
    "#replace piso=3 if\n",
    "#((vi04b==3 & inlist(vi04a,4,5,6))\n",
    "#|(vi04a==6 & vi04b==2)\n",
    "#|(vi04a==7 | vi04a==8))\n",
    "dataviv.loc[((dataviv.vi04b.cat.codes==2)&(dataviv.vi04a.cat.codes.isin([3,4,5])))\\\n",
    "|((dataviv.vi04a.cat.codes==5)&(dataviv.vi04b.cat.codes==1))\\\n",
    "|(dataviv.vi04a.cat.codes==6)|(dataviv.vi04a.cat.codes==7),\"piso\"]=3"
   ]
  },
  {
   "cell_type": "code",
   "execution_count": 109,
   "metadata": {},
   "outputs": [],
   "source": [
    "#gen tipviv=1 if\n",
    "#((techo==1 & pared==1 & inrange(piso,1,3))\n",
    "#|(techo==1 & pared==2 & piso==1))\n",
    "dataviv.loc[((dataviv.techo==1)&(dataviv.pared==1)&(dataviv.piso.isin(range(1,4))))\\\n",
    "|((dataviv.techo==1)&(dataviv.pared==2)&(dataviv.piso==1)),\"tipviv\"] = 1"
   ]
  },
  {
   "cell_type": "code",
   "execution_count": 110,
   "metadata": {},
   "outputs": [],
   "source": [
    "#replace tipviv=2 if\n",
    "#((techo==1 & pared==2 & inrange(piso,2,3))\n",
    "#| techo==1 & pared==3 & inrange(piso,1,2)\n",
    "#| techo==2 & pared==1 & inrange(piso,1,2)\n",
    "#| techo==2 & pared==2 & inrange(piso,1,2)\n",
    "#| techo==3 & pared==1 & inrange(piso,1,2)\n",
    "#|(techo==3 & pared==2 & piso==1))\n",
    "dataviv.loc[((dataviv.techo==1)&(dataviv.pared==2)&(dataviv.piso.isin(range(2,4))))\\\n",
    "|((dataviv.techo==1)&(dataviv.pared==3)&(dataviv.piso.isin(range(1,3))))\n",
    "|((dataviv.techo==2)&(dataviv.pared==1)&(dataviv.piso.isin(range(1,3))))\n",
    "|((dataviv.techo==2)&(dataviv.pared==2)&(dataviv.piso.isin(range(1,3))))\n",
    "|((dataviv.techo==3)&(dataviv.pared==1)&(dataviv.piso.isin(range(1,3))))\n",
    "|((dataviv.techo==3)&(dataviv.pared==2)&(dataviv.piso==1)),\"tipviv\"] = 2"
   ]
  },
  {
   "cell_type": "code",
   "execution_count": 111,
   "metadata": {},
   "outputs": [],
   "source": [
    "#replace tipviv=3 if\n",
    "#((techo==1 & pared==3 & piso==3)\n",
    "#|(techo==2 & pared==1 & piso==3)\n",
    "#|(techo==2 & pared==2 & piso==3)\n",
    "#| techo==2 & pared==3 & inrange(piso,1,3)\n",
    "#|(techo==3 & pared==1 & piso==3)\n",
    "#| techo==3 & pared==2 & inrange(piso,1,3)\n",
    "#| techo==3 & pared==3 & inrange(piso,1,3))\n",
    "dataviv.loc[((dataviv.techo==1)&(dataviv.pared==3)&(dataviv.piso==3))\\\n",
    "|((dataviv.techo==2)&(dataviv.pared==1)&(dataviv.piso==3))\n",
    "|((dataviv.techo==2)&(dataviv.pared==2)&(dataviv.piso==3))\n",
    "|((dataviv.techo==2)&(dataviv.pared==3)&(dataviv.piso.isin(range(1,4))))\n",
    "|((dataviv.techo==3)&(dataviv.pared==1)&(dataviv.piso==3))\n",
    "|((dataviv.techo==3)&(dataviv.pared==2)&(dataviv.piso.isin(range(1,4))))\n",
    "|((dataviv.techo==3)&(dataviv.pared==3)&(dataviv.piso.isin(range(1,4)))),\"tipviv\"] = 3"
   ]
  },
  {
   "cell_type": "code",
   "execution_count": 112,
   "metadata": {},
   "outputs": [],
   "source": [
    "#gen dim4_ind2=1 if (tipviv==3 | tipviv==2)\n",
    "#replace dim4_ind2=0 if tipviv==1\n",
    "#label var dim4_ind2 \"Déficit habitacional\"\n",
    "dataviv[\"dim4_ind2\"]=1\n",
    "dataviv.loc[dataviv.tipviv==1,\"dim4_ind2\"] = 0"
   ]
  },
  {
   "cell_type": "code",
   "execution_count": 113,
   "metadata": {},
   "outputs": [
    {
     "data": {
      "text/plain": [
       "0    8021\n",
       "1    7453\n",
       "Name: dim4_ind2, dtype: int64"
      ]
     },
     "execution_count": 113,
     "metadata": {},
     "output_type": "execute_result"
    }
   ],
   "source": [
    "dataviv[\"dim4_ind2\"].value_counts()"
   ]
  },
  {
   "cell_type": "markdown",
   "metadata": {},
   "source": [
    "#### 3. Sin saneamiento de excretas"
   ]
  },
  {
   "cell_type": "code",
   "execution_count": 114,
   "metadata": {},
   "outputs": [],
   "source": [
    "#gen dim4_ind3=(area==1 & inrange(vi09,2,5)) | (area==2 & inrange(vi09,3,5))\n",
    "#replace dim4_ind3=. if vi09==. | area==.\n",
    "#label var dim4_ind3 \"Sin saneamiento de excretas\""
   ]
  },
  {
   "cell_type": "code",
   "execution_count": 115,
   "metadata": {},
   "outputs": [],
   "source": [
    "dataviv[\"dim4_ind3\"] = (((dataviv.area==1)&(dataviv.vi09.cat.codes.isin(range(1,5))))\\\n",
    "|((dataviv.area==2)&(dataviv.vi09.cat.codes.isin(range(2,5))))).astype(int)"
   ]
  },
  {
   "cell_type": "code",
   "execution_count": 116,
   "metadata": {},
   "outputs": [
    {
     "data": {
      "text/plain": [
       "0    15474\n",
       "Name: dim4_ind3, dtype: int64"
      ]
     },
     "execution_count": 116,
     "metadata": {},
     "output_type": "execute_result"
    }
   ],
   "source": [
    "dataviv[\"dim4_ind3\"].value_counts()"
   ]
  },
  {
   "cell_type": "markdown",
   "metadata": {},
   "source": [
    "#### 4. Sin servicio de recolección de basura"
   ]
  },
  {
   "cell_type": "code",
   "execution_count": 117,
   "metadata": {},
   "outputs": [],
   "source": [
    "#gen dim4_ind4=inlist(vi13,1,3,4,5)\n",
    "#replace dim4_ind4=. if vi13==.\n",
    "dataviv[\"dim4_ind4\"] = (dataviv.vi13.cat.codes.isin([0,2,3,4])).astype(int)"
   ]
  },
  {
   "cell_type": "code",
   "execution_count": 118,
   "metadata": {},
   "outputs": [
    {
     "data": {
      "text/plain": [
       "0    13010\n",
       "1     2464\n",
       "Name: dim4_ind4, dtype: int64"
      ]
     },
     "execution_count": 118,
     "metadata": {},
     "output_type": "execute_result"
    }
   ],
   "source": [
    "dataviv[\"dim4_ind4\"].value_counts()"
   ]
  },
  {
   "cell_type": "code",
   "execution_count": 119,
   "metadata": {},
   "outputs": [
    {
     "name": "stderr",
     "output_type": "stream",
     "text": [
      "c:\\users\\eduardo\\appdata\\local\\programs\\python\\python37\\lib\\site-packages\\ipykernel_launcher.py:5: PerformanceWarning: DataFrame is highly fragmented.  This is usually the result of calling `frame.insert` many times, which has poor performance.  Consider joining all columns at once using pd.concat(axis=1) instead.  To get a de-fragmented frame, use `newframe = frame.copy()`\n",
      "  \"\"\"\n",
      "c:\\users\\eduardo\\appdata\\local\\programs\\python\\python37\\lib\\site-packages\\ipykernel_launcher.py:6: PerformanceWarning: DataFrame is highly fragmented.  This is usually the result of calling `frame.insert` many times, which has poor performance.  Consider joining all columns at once using pd.concat(axis=1) instead.  To get a de-fragmented frame, use `newframe = frame.copy()`\n",
      "  \n",
      "c:\\users\\eduardo\\appdata\\local\\programs\\python\\python37\\lib\\site-packages\\ipykernel_launcher.py:7: PerformanceWarning: DataFrame is highly fragmented.  This is usually the result of calling `frame.insert` many times, which has poor performance.  Consider joining all columns at once using pd.concat(axis=1) instead.  To get a de-fragmented frame, use `newframe = frame.copy()`\n",
      "  import sys\n"
     ]
    }
   ],
   "source": [
    "#*1.Educación*\n",
    "#egen miss_dim1_ind1=rowmiss(p07 p10a) if inrange(p03,5,17)\n",
    "#egen miss_dim1_ind2=rowmiss(p07 p10a) if inrange(p03,18,29)\n",
    "#egen miss_dim1_ind3=rowmiss(p07 escol) if inrange(p03,18,64)\n",
    "dataper[\"miss_dim1_ind1\"]=((dataper.loc[:,[\"p07\",\"p10a\"]].isnull().any(axis=1))&(dataper.p03.cat.codes.isin(range(5,18)))).astype(int)\n",
    "dataper[\"miss_dim1_ind2\"]=((dataper.loc[:,[\"p07\",\"p10a\"]].isnull().any(axis=1))&(dataper.p03.cat.codes.isin(range(18,30)))).astype(int)\n",
    "dataper[\"miss_dim1_ind3\"]=((dataper.loc[:,[\"p07\",\"escol\"]].isnull().any(axis=1))&(dataper.p03.cat.codes.isin(range(18,65)))).astype(int)"
   ]
  },
  {
   "cell_type": "code",
   "execution_count": 120,
   "metadata": {},
   "outputs": [
    {
     "data": {
      "text/plain": [
       "0    57997\n",
       "Name: miss_dim1_ind1, dtype: int64"
      ]
     },
     "execution_count": 120,
     "metadata": {},
     "output_type": "execute_result"
    }
   ],
   "source": [
    "dataper[\"miss_dim1_ind1\"].value_counts()"
   ]
  },
  {
   "cell_type": "code",
   "execution_count": 121,
   "metadata": {},
   "outputs": [
    {
     "data": {
      "text/plain": [
       "0    57997\n",
       "Name: miss_dim1_ind2, dtype: int64"
      ]
     },
     "execution_count": 121,
     "metadata": {},
     "output_type": "execute_result"
    }
   ],
   "source": [
    "dataper[\"miss_dim1_ind2\"].value_counts()"
   ]
  },
  {
   "cell_type": "code",
   "execution_count": 122,
   "metadata": {},
   "outputs": [
    {
     "data": {
      "text/plain": [
       "0    57997\n",
       "Name: miss_dim1_ind3, dtype: int64"
      ]
     },
     "execution_count": 122,
     "metadata": {},
     "output_type": "execute_result"
    }
   ],
   "source": [
    "dataper[\"miss_dim1_ind3\"].value_counts()"
   ]
  },
  {
   "cell_type": "code",
   "execution_count": 123,
   "metadata": {},
   "outputs": [
    {
     "name": "stderr",
     "output_type": "stream",
     "text": [
      "c:\\users\\eduardo\\appdata\\local\\programs\\python\\python37\\lib\\site-packages\\ipykernel_launcher.py:15: PerformanceWarning: DataFrame is highly fragmented.  This is usually the result of calling `frame.insert` many times, which has poor performance.  Consider joining all columns at once using pd.concat(axis=1) instead.  To get a de-fragmented frame, use `newframe = frame.copy()`\n",
      "  from ipykernel import kernelapp as app\n",
      "c:\\users\\eduardo\\appdata\\local\\programs\\python\\python37\\lib\\site-packages\\ipykernel_launcher.py:18: PerformanceWarning: DataFrame is highly fragmented.  This is usually the result of calling `frame.insert` many times, which has poor performance.  Consider joining all columns at once using pd.concat(axis=1) instead.  To get a de-fragmented frame, use `newframe = frame.copy()`\n",
      "c:\\users\\eduardo\\appdata\\local\\programs\\python\\python37\\lib\\site-packages\\ipykernel_launcher.py:20: PerformanceWarning: DataFrame is highly fragmented.  This is usually the result of calling `frame.insert` many times, which has poor performance.  Consider joining all columns at once using pd.concat(axis=1) instead.  To get a de-fragmented frame, use `newframe = frame.copy()`\n"
     ]
    }
   ],
   "source": [
    "#*2.Trabajo y seguridad social*\n",
    "#gen miss_dim2_ind1=(p20==. & p21==. & p22==.) if inrange(p03,5,14)\n",
    "#replace miss_dim2_ind1=1 if condactn==. & inrange(p03,15,17)\n",
    "#replace miss_dim2_ind1=1 if condactn==1 & inrange(p03,15,17) & (p07==. | horas==.)\n",
    "#egen miss_dim2_ind2=rowmiss(condactn) if inrange(p03,18,98)\n",
    "#replace miss_dim2_ind2=1 if p20==. & p21==. & p22==. & p32==. & p34==. & p35==. & ///\n",
    "#inrange(p03,18,98)\n",
    "#egen miss_dim2_ind3=rowmiss(p72a p75 p77 p05a p05b) if inrange(p03,15,98)\n",
    "# dataper[\"miss_dim2_ind1\"]=(dataper.p20.isnull()&dataper.p21.isnull()&dataper.p22.isnull()&(dataper.p03.cat.codes.isin(range(5,15)))).astype(int)\n",
    "# dataper.loc[dataper.CONDACTN.isnull()&(dataper.p03.cat.codes.isin(range(15,18))),\"miss_dim2_ind1\"]=1\n",
    "# dataper.loc[(dataper.CONDACTN.cat.codes==1)&(dataper.p03.cat.codes.isin(range(15,18)))&(dataper.p07.isnull()|dataper.horas.isnull()),\"miss_dim2_ind1\"]=1\n",
    "# dataper[\"miss_dim2_ind2\"]=(dataper.CONDACTN.isnull()&(dataper.p03.cat.codes.isin(range(18,99)))).astype(int)\n",
    "# dataper.loc[dataper.p20.isnull()&dataper.p21.isnull()&dataper.p22.isnull()&dataper.p32.isnull()&dataper.p34.isnull()&dataper.p35.isnull()&(dataper.p03.cat.codes.isin(range(18,99))),\"miss_dim2_ind2\"]=1\n",
    "# dataper[\"miss_dim2_ind3\"]=((dataper.p72a.isnull()|dataper.p75.isnull()|dataper.p77.isnull()|dataper.p05a.isnull()|dataper.p05b.isnull())&(dataper.p03.cat.codes.isin(range(15,99)))).astype(int)\n",
    "dataper[\"miss_dim2_ind1\"]=(dataper.p20.isnull()&dataper.p21.isnull()&dataper.p22.isnull()&(dataper.p03.cat.codes.isin(range(5,15)))).astype(int)\n",
    "dataper.loc[dataper.condactn.isnull()&(dataper.p03.cat.codes.isin(range(15,18))),\"miss_dim2_ind1\"]=1\n",
    "dataper.loc[(dataper.condactn.cat.codes==1)&(dataper.p03.cat.codes.isin(range(15,18)))&(dataper.p07.isnull()|dataper.horas.isnull()),\"miss_dim2_ind1\"]=1\n",
    "dataper[\"miss_dim2_ind2\"]=(dataper.condactn.isnull()&(dataper.p03.cat.codes.isin(range(18,99)))).astype(int)\n",
    "dataper.loc[dataper.p20.isnull()&dataper.p21.isnull()&dataper.p22.isnull()&dataper.p32.isnull()&dataper.p34.isnull()&dataper.p35.isnull()&(dataper.p03.cat.codes.isin(range(18,99))),\"miss_dim2_ind2\"]=1\n",
    "dataper[\"miss_dim2_ind3\"]=((dataper.p72a.isnull()|dataper.p75.isnull()|dataper.p77.isnull()|dataper.p05a.isnull()|dataper.p05b.isnull())&(dataper.p03.cat.codes.isin(range(15,99)))).astype(int)"
   ]
  },
  {
   "cell_type": "code",
   "execution_count": 124,
   "metadata": {},
   "outputs": [
    {
     "data": {
      "text/plain": [
       "0    57997\n",
       "Name: miss_dim2_ind1, dtype: int64"
      ]
     },
     "execution_count": 124,
     "metadata": {},
     "output_type": "execute_result"
    }
   ],
   "source": [
    "dataper[\"miss_dim2_ind1\"].value_counts()"
   ]
  },
  {
   "cell_type": "code",
   "execution_count": 125,
   "metadata": {},
   "outputs": [
    {
     "data": {
      "text/plain": [
       "0    57997\n",
       "Name: miss_dim2_ind2, dtype: int64"
      ]
     },
     "execution_count": 125,
     "metadata": {},
     "output_type": "execute_result"
    }
   ],
   "source": [
    "dataper[\"miss_dim2_ind2\"].value_counts()"
   ]
  },
  {
   "cell_type": "code",
   "execution_count": 126,
   "metadata": {},
   "outputs": [
    {
     "data": {
      "text/plain": [
       "0    57997\n",
       "Name: miss_dim2_ind3, dtype: int64"
      ]
     },
     "execution_count": 126,
     "metadata": {},
     "output_type": "execute_result"
    }
   ],
   "source": [
    "dataper[\"miss_dim2_ind3\"].value_counts()"
   ]
  },
  {
   "cell_type": "code",
   "execution_count": 127,
   "metadata": {},
   "outputs": [
    {
     "name": "stderr",
     "output_type": "stream",
     "text": [
      "c:\\users\\eduardo\\appdata\\local\\programs\\python\\python37\\lib\\site-packages\\ipykernel_launcher.py:4: PerformanceWarning: DataFrame is highly fragmented.  This is usually the result of calling `frame.insert` many times, which has poor performance.  Consider joining all columns at once using pd.concat(axis=1) instead.  To get a de-fragmented frame, use `newframe = frame.copy()`\n",
      "  after removing the cwd from sys.path.\n",
      "c:\\users\\eduardo\\appdata\\local\\programs\\python\\python37\\lib\\site-packages\\ipykernel_launcher.py:5: PerformanceWarning: DataFrame is highly fragmented.  This is usually the result of calling `frame.insert` many times, which has poor performance.  Consider joining all columns at once using pd.concat(axis=1) instead.  To get a de-fragmented frame, use `newframe = frame.copy()`\n",
      "  \"\"\"\n"
     ]
    }
   ],
   "source": [
    "#*3.Salud, agua y alimentación*\n",
    "#egen miss_dim3_ind1=rowmiss(epobre)\n",
    "#egen miss_dim3_ind2=rowmiss(vi10)\n",
    "dataper[\"miss_dim3_ind1\"] = dataper.epobreza.isnull().astype(int)\n",
    "dataper[\"miss_dim3_ind2\"] = dataviv.vi10.isnull().astype(int)"
   ]
  },
  {
   "cell_type": "code",
   "execution_count": 128,
   "metadata": {},
   "outputs": [
    {
     "data": {
      "text/plain": [
       "0    57573\n",
       "1      424\n",
       "Name: miss_dim3_ind1, dtype: int64"
      ]
     },
     "execution_count": 128,
     "metadata": {},
     "output_type": "execute_result"
    }
   ],
   "source": [
    "dataper[\"miss_dim3_ind1\"].value_counts()"
   ]
  },
  {
   "cell_type": "code",
   "execution_count": 129,
   "metadata": {},
   "outputs": [
    {
     "data": {
      "text/plain": [
       "0.0    15474\n",
       "Name: miss_dim3_ind2, dtype: int64"
      ]
     },
     "execution_count": 129,
     "metadata": {},
     "output_type": "execute_result"
    }
   ],
   "source": [
    "dataper[\"miss_dim3_ind2\"].value_counts()"
   ]
  },
  {
   "cell_type": "code",
   "execution_count": 130,
   "metadata": {},
   "outputs": [
    {
     "name": "stderr",
     "output_type": "stream",
     "text": [
      "c:\\users\\eduardo\\appdata\\local\\programs\\python\\python37\\lib\\site-packages\\ipykernel_launcher.py:5: PerformanceWarning: DataFrame is highly fragmented.  This is usually the result of calling `frame.insert` many times, which has poor performance.  Consider joining all columns at once using pd.concat(axis=1) instead.  To get a de-fragmented frame, use `newframe = frame.copy()`\n",
      "  \"\"\"\n"
     ]
    }
   ],
   "source": [
    "#egen miss_dim4_ind1=rowmiss(hsize vi07)\n",
    "#egen miss_dim4_ind2=rowmiss(vi03a vi03b vi04a vi04b vi05a vi05b)\n",
    "#egen miss_dim4_ind3=rowmiss(vi09)\n",
    "#egen miss_dim4_ind4=rowmiss(vi13)\n",
    "dataper[\"miss_dim4_ind1\"] = (dataper.hsize.isnull()|dataper.vi07.isnull()).astype(int)\n",
    "dataviv[\"miss_dim4_ind2\"] = (dataviv.vi03a.isnull()|dataviv.vi03b.isnull()|dataviv.vi04a.isnull()|dataviv.vi04b.isnull()|dataviv.vi05a.isnull()|dataviv.vi05b.isnull()).astype(int)\n",
    "dataviv[\"miss_dim4_ind3\"] = dataviv.vi09.isnull().astype(int)\n",
    "dataviv[\"miss_dim4_ind4\"] = dataviv.vi13.isnull().astype(int)"
   ]
  },
  {
   "cell_type": "code",
   "execution_count": 131,
   "metadata": {},
   "outputs": [
    {
     "data": {
      "text/plain": [
       "0    57997\n",
       "Name: miss_dim4_ind1, dtype: int64"
      ]
     },
     "execution_count": 131,
     "metadata": {},
     "output_type": "execute_result"
    }
   ],
   "source": [
    "dataper[\"miss_dim4_ind1\"].value_counts()"
   ]
  },
  {
   "cell_type": "code",
   "execution_count": 132,
   "metadata": {},
   "outputs": [
    {
     "data": {
      "text/plain": [
       "0    15474\n",
       "Name: miss_dim4_ind2, dtype: int64"
      ]
     },
     "execution_count": 132,
     "metadata": {},
     "output_type": "execute_result"
    }
   ],
   "source": [
    "dataviv[\"miss_dim4_ind2\"].value_counts()"
   ]
  },
  {
   "cell_type": "code",
   "execution_count": 133,
   "metadata": {},
   "outputs": [
    {
     "data": {
      "text/plain": [
       "0    15474\n",
       "Name: miss_dim4_ind3, dtype: int64"
      ]
     },
     "execution_count": 133,
     "metadata": {},
     "output_type": "execute_result"
    }
   ],
   "source": [
    "dataviv[\"miss_dim4_ind3\"].value_counts()"
   ]
  },
  {
   "cell_type": "code",
   "execution_count": 134,
   "metadata": {},
   "outputs": [
    {
     "data": {
      "text/plain": [
       "0    15474\n",
       "Name: miss_dim4_ind4, dtype: int64"
      ]
     },
     "execution_count": 134,
     "metadata": {},
     "output_type": "execute_result"
    }
   ],
   "source": [
    "dataviv[\"miss_dim4_ind4\"].value_counts()"
   ]
  },
  {
   "cell_type": "code",
   "execution_count": 135,
   "metadata": {},
   "outputs": [
    {
     "name": "stderr",
     "output_type": "stream",
     "text": [
      "c:\\users\\eduardo\\appdata\\local\\programs\\python\\python37\\lib\\site-packages\\ipykernel_launcher.py:11: PerformanceWarning: DataFrame is highly fragmented.  This is usually the result of calling `frame.insert` many times, which has poor performance.  Consider joining all columns at once using pd.concat(axis=1) instead.  To get a de-fragmented frame, use `newframe = frame.copy()`\n",
      "  # This is added back by InteractiveShellApp.init_path()\n"
     ]
    }
   ],
   "source": [
    "#egen miss_total=rowtotal(miss_dim*)\n",
    "#recode miss_total (1/max=1)\n",
    "#label var miss_total \"Total de hogares sin información\"\n",
    "#drop miss_dim*\n",
    "#drop if p03==99\n",
    "#tempvar aux\n",
    "#bys id_hogar: egen `aux'=max(miss_total)\n",
    "#replace miss_total=`aux'\n",
    "#drop if miss_total==1\n",
    "dataviv[\"miss_total\"] = dataviv[\"miss_dim4_ind2\"] + dataviv[\"miss_dim4_ind3\"] + dataviv[\"miss_dim4_ind4\"]\n",
    "dataper[\"miss_total\"] = dataper.loc[:,[\"miss_dim1_ind1\",\"miss_dim1_ind2\",\"miss_dim1_ind3\",\"miss_dim2_ind1\",\"miss_dim2_ind2\",\"miss_dim2_ind3\",\"miss_dim3_ind1\",\"miss_dim3_ind2\",\"miss_dim4_ind1\"]].sum(axis=1)\n",
    "hogares_miss = dataper.loc[dataper[\"miss_total\"]>0,\"idh\"].unique()\n",
    "dataper = dataper.loc[~dataper.idh.isin(hogares_miss),:].reset_index(drop=True)"
   ]
  },
  {
   "cell_type": "code",
   "execution_count": 136,
   "metadata": {},
   "outputs": [
    {
     "data": {
      "text/plain": [
       "(57573, 242)"
      ]
     },
     "execution_count": 136,
     "metadata": {},
     "output_type": "execute_result"
    }
   ],
   "source": [
    "dataper.shape"
   ]
  },
  {
   "cell_type": "code",
   "execution_count": 137,
   "metadata": {},
   "outputs": [],
   "source": [
    "dataper = dataper.merge(dataviv[[\"idh\",\"dim4_ind2\",\"dim4_ind3\",\"dim4_ind4\"]],on=\"idh\")"
   ]
  },
  {
   "cell_type": "code",
   "execution_count": 138,
   "metadata": {},
   "outputs": [],
   "source": [
    "v = np.array([1/4*1/3,1/4*1/3,1/4*1/3,1/4*1/3,1/4*1/3,1/4*1/3,1/4*1/2,1/4*1/2,1/4*1/4,1/4*1/4,1/4*1/4,1/4*1/4])\n",
    "dfh = (dataper.groupby(\"idh\").agg({\n",
    "    \"dim1_ind1\":\"max\",\n",
    "    \"dim1_ind2\":\"max\",\n",
    "    \"dim1_ind3\":\"max\",\n",
    "    \"dim2_ind1\":\"max\",\n",
    "    \"dim2_ind2\":\"max\",\n",
    "    \"dim2_ind3\":\"max\",\n",
    "    \"dim3_ind1\":\"max\",\n",
    "    \"dim3_ind2\":\"max\",\n",
    "    \"dim4_ind1\":\"max\",\n",
    "    \"dim4_ind2\":\"max\",\n",
    "    \"dim4_ind3\":\"max\",\n",
    "    \"dim4_ind4\":\"max\",\n",
    "})*v).sum(axis=1).reset_index()"
   ]
  },
  {
   "cell_type": "code",
   "execution_count": 139,
   "metadata": {},
   "outputs": [],
   "source": [
    "dfh.columns = [\"idh\",\"ci\"]"
   ]
  },
  {
   "cell_type": "code",
   "execution_count": 140,
   "metadata": {},
   "outputs": [],
   "source": [
    "dataper = dataper.merge(dfh,on=\"idh\")"
   ]
  },
  {
   "cell_type": "code",
   "execution_count": 141,
   "metadata": {},
   "outputs": [
    {
     "data": {
      "text/plain": [
       "(57573, 246)"
      ]
     },
     "execution_count": 141,
     "metadata": {},
     "output_type": "execute_result"
    }
   ],
   "source": [
    "dataper.shape"
   ]
  },
  {
   "cell_type": "code",
   "execution_count": 142,
   "metadata": {},
   "outputs": [
    {
     "name": "stderr",
     "output_type": "stream",
     "text": [
      "c:\\users\\eduardo\\appdata\\local\\programs\\python\\python37\\lib\\site-packages\\ipykernel_launcher.py:1: PerformanceWarning: DataFrame is highly fragmented.  This is usually the result of calling `frame.insert` many times, which has poor performance.  Consider joining all columns at once using pd.concat(axis=1) instead.  To get a de-fragmented frame, use `newframe = frame.copy()`\n",
      "  \"\"\"Entry point for launching an IPython kernel.\n"
     ]
    }
   ],
   "source": [
    "dataper[\"IPM\"] = dataper.apply(lambda x: x.ci if x.ci >= (1/3) else 0, axis=1)"
   ]
  },
  {
   "cell_type": "code",
   "execution_count": 143,
   "metadata": {},
   "outputs": [
    {
     "data": {
      "text/plain": [
       "0.17363571755278803"
      ]
     },
     "execution_count": 143,
     "metadata": {},
     "output_type": "execute_result"
    }
   ],
   "source": [
    "dataper[\"IPM\"].mean()"
   ]
  },
  {
   "cell_type": "code",
   "execution_count": 144,
   "metadata": {},
   "outputs": [
    {
     "data": {
      "text/plain": [
       "(0.1573551593896561, 16456266.69414798)"
      ]
     },
     "execution_count": 144,
     "metadata": {},
     "output_type": "execute_result"
    }
   ],
   "source": [
    "np.average(dataper[\"IPM\"],weights=dataper[\"fexp\"],returned=True)"
   ]
  },
  {
   "cell_type": "code",
   "execution_count": 145,
   "metadata": {},
   "outputs": [],
   "source": [
    "shp = pd.read_csv(\"../input/geo/shops_gye_uio.csv\")"
   ]
  },
  {
   "cell_type": "code",
   "execution_count": 146,
   "metadata": {},
   "outputs": [],
   "source": [
    "gmap = gpd.read_file(\"../input/geo/map.geojson\")"
   ]
  },
  {
   "cell_type": "code",
   "execution_count": 147,
   "metadata": {},
   "outputs": [],
   "source": [
    "gsec = gpd.read_file(\"../input/geo/sectors_inec.geojson\")"
   ]
  },
  {
   "cell_type": "code",
   "execution_count": 148,
   "metadata": {},
   "outputs": [
    {
     "data": {
      "text/plain": [
       "(24740, 9)"
      ]
     },
     "execution_count": 148,
     "metadata": {},
     "output_type": "execute_result"
    }
   ],
   "source": [
    "gsec.shape"
   ]
  },
  {
   "cell_type": "code",
   "execution_count": 149,
   "metadata": {},
   "outputs": [],
   "source": [
    "gmap = gmap.loc[gmap.Name.isin(shp[\"Name\"]),:]"
   ]
  },
  {
   "cell_type": "code",
   "execution_count": 150,
   "metadata": {},
   "outputs": [
    {
     "name": "stderr",
     "output_type": "stream",
     "text": [
      "c:\\users\\eduardo\\appdata\\local\\programs\\python\\python37\\lib\\site-packages\\numpy\\lib\\function_base.py:2246: RuntimeWarning: invalid value encountered in find_intersects (vectorized)\n",
      "  outputs = ufunc(*inputs)\n"
     ]
    }
   ],
   "source": [
    "gneigh = gpd.sjoin(gsec,gmap)"
   ]
  },
  {
   "cell_type": "code",
   "execution_count": 151,
   "metadata": {},
   "outputs": [
    {
     "name": "stderr",
     "output_type": "stream",
     "text": [
      "c:\\users\\eduardo\\appdata\\local\\programs\\python\\python37\\lib\\site-packages\\ipykernel_launcher.py:1: PerformanceWarning: DataFrame is highly fragmented.  This is usually the result of calling `frame.insert` many times, which has poor performance.  Consider joining all columns at once using pd.concat(axis=1) instead.  To get a de-fragmented frame, use `newframe = frame.copy()`\n",
      "  \"\"\"Entry point for launching an IPython kernel.\n"
     ]
    }
   ],
   "source": [
    "dataper[\"DPA_SECTOR\"] = dataper.ciudad.astype(str).str.zfill(6) + dataper.zona.astype(str) + dataper.sector.astype(str)"
   ]
  },
  {
   "cell_type": "code",
   "execution_count": 152,
   "metadata": {},
   "outputs": [],
   "source": [
    "dataperf = dataper.merge(gneigh[[\"DPA_SECTOR\",\"Name\"]],on=\"DPA_SECTOR\",how=\"inner\")"
   ]
  },
  {
   "cell_type": "code",
   "execution_count": 153,
   "metadata": {},
   "outputs": [],
   "source": [
    "dataperf.loc[:,[\"idp\",\"Name\",\"ci\",\"fexp\"]].to_csv(\"../output/dateper_2016_2.csv\",index=False)"
   ]
  },
  {
   "cell_type": "code",
   "execution_count": 154,
   "metadata": {},
   "outputs": [],
   "source": [
    "#dft = dataperf.groupby(\"Name\").apply(lambda x : list(np.average(x[\"ci\"],weights=x[\"fexp\"],returned=True))).reset_index()"
   ]
  },
  {
   "cell_type": "code",
   "execution_count": 155,
   "metadata": {},
   "outputs": [],
   "source": [
    "#dft[[\"ipm\",\"pop\"]] = dft[0].apply(pd.Series)"
   ]
  },
  {
   "cell_type": "code",
   "execution_count": 156,
   "metadata": {},
   "outputs": [],
   "source": [
    "#dft.drop(columns=0).to_csv(\"../output/ipm_2016_2.csv\")"
   ]
  }
 ],
 "metadata": {
  "colab": {
   "collapsed_sections": [
    "lvyuwNo9T3Y-",
    "1sDTW-Hf_KTy",
    "-brzN1c1-vMb",
    "97Z26FkUD85Z",
    "sH0BoBoBDIhG",
    "X_BZ_dDXG5w8",
    "8Fttaz-BdoFB",
    "QOn7PFn1sxz0",
    "C_sZIgt8ckN1",
    "YbIfUChv2ezk",
    "tJcIRoqc5JWE",
    "pEpsyTer2RbQ"
   ],
   "provenance": []
  },
  "kernelspec": {
   "display_name": "Python 3",
   "language": "python",
   "name": "python3"
  },
  "language_info": {
   "codemirror_mode": {
    "name": "ipython",
    "version": 3
   },
   "file_extension": ".py",
   "mimetype": "text/x-python",
   "name": "python",
   "nbconvert_exporter": "python",
   "pygments_lexer": "ipython3",
   "version": "3.7.7"
  }
 },
 "nbformat": 4,
 "nbformat_minor": 1
}
