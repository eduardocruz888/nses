{
 "cells": [
  {
   "cell_type": "markdown",
   "metadata": {
    "id": "lvyuwNo9T3Y-"
   },
   "source": [
    "#<u><b>Montaje de Drive"
   ]
  },
  {
   "cell_type": "code",
   "execution_count": 150,
   "metadata": {
    "colab": {
     "base_uri": "https://localhost:8080/"
    },
    "id": "iyholb2b4IIK",
    "outputId": "8836edc0-8bce-4784-f2ed-7c3fc217fc49"
   },
   "outputs": [],
   "source": [
    "import pandas as pd\n",
    "import numpy as np\n",
    "#import geopandas as gp"
   ]
  },
  {
   "cell_type": "markdown",
   "metadata": {
    "id": "FQdRV7J0-p2x"
   },
   "source": [
    "#<u><b>Lectura de Datos"
   ]
  },
  {
   "cell_type": "markdown",
   "metadata": {
    "id": "1sDTW-Hf_KTy"
   },
   "source": [
    "##<b><font color='darkred'>Datos Vivienda</font>"
   ]
  },
  {
   "cell_type": "code",
   "execution_count": 151,
   "metadata": {
    "colab": {
     "base_uri": "https://localhost:8080/"
    },
    "id": "jnJN-sh785TM",
    "outputId": "fd21dd8c-8780-4599-9037-b84265b57d66"
   },
   "outputs": [],
   "source": [
    "dataviv = pd.read_spss('../input/enemdu/201512_EnemduBDD_vivivendahogar.SAV')"
   ]
  },
  {
   "cell_type": "code",
   "execution_count": 152,
   "metadata": {},
   "outputs": [],
   "source": [
    "dataviv[\"ciudad\"] = dataviv[\"ciudad\"].astype(int)"
   ]
  },
  {
   "cell_type": "code",
   "execution_count": 153,
   "metadata": {
    "colab": {
     "base_uri": "https://localhost:8080/",
     "height": 237
    },
    "id": "urb58_WO_TA5",
    "outputId": "d57e9706-7205-4b31-83ea-ed665ce91d90"
   },
   "outputs": [
    {
     "data": {
      "text/html": [
       "<div>\n",
       "<style scoped>\n",
       "    .dataframe tbody tr th:only-of-type {\n",
       "        vertical-align: middle;\n",
       "    }\n",
       "\n",
       "    .dataframe tbody tr th {\n",
       "        vertical-align: top;\n",
       "    }\n",
       "\n",
       "    .dataframe thead th {\n",
       "        text-align: right;\n",
       "    }\n",
       "</style>\n",
       "<table border=\"1\" class=\"dataframe\">\n",
       "  <thead>\n",
       "    <tr style=\"text-align: right;\">\n",
       "      <th></th>\n",
       "      <th>area</th>\n",
       "      <th>ciudad</th>\n",
       "      <th>zona</th>\n",
       "      <th>sector</th>\n",
       "      <th>panelm</th>\n",
       "      <th>vivienda</th>\n",
       "      <th>hogar</th>\n",
       "      <th>vi01</th>\n",
       "      <th>vi02</th>\n",
       "      <th>vi03a</th>\n",
       "      <th>...</th>\n",
       "      <th>eq1802</th>\n",
       "      <th>eq1901</th>\n",
       "      <th>eq1902</th>\n",
       "      <th>vi20</th>\n",
       "      <th>vi21</th>\n",
       "      <th>vi22</th>\n",
       "      <th>vi23</th>\n",
       "      <th>id_sector</th>\n",
       "      <th>plan_muestreo</th>\n",
       "      <th>fexp</th>\n",
       "    </tr>\n",
       "  </thead>\n",
       "  <tbody>\n",
       "    <tr>\n",
       "      <th>0</th>\n",
       "      <td>1.0</td>\n",
       "      <td>10150</td>\n",
       "      <td>001</td>\n",
       "      <td>003</td>\n",
       "      <td>Panel A2</td>\n",
       "      <td>Vivienda Uno</td>\n",
       "      <td>Hogar Uno</td>\n",
       "      <td>Lastrado, calle de tierra</td>\n",
       "      <td>Departamento</td>\n",
       "      <td>Asbesto, eternit</td>\n",
       "      <td>...</td>\n",
       "      <td>NaN</td>\n",
       "      <td>No</td>\n",
       "      <td>NaN</td>\n",
       "      <td>Si</td>\n",
       "      <td>La conexión es por CABLE y mientras utiliza SI...</td>\n",
       "      <td>Computadora de escritorio</td>\n",
       "      <td>NaN</td>\n",
       "      <td>1.015000e+10</td>\n",
       "      <td>1013</td>\n",
       "      <td>64.249774</td>\n",
       "    </tr>\n",
       "    <tr>\n",
       "      <th>1</th>\n",
       "      <td>1.0</td>\n",
       "      <td>10150</td>\n",
       "      <td>001</td>\n",
       "      <td>003</td>\n",
       "      <td>Panel A2</td>\n",
       "      <td>Vivienda Dos</td>\n",
       "      <td>Hogar Uno</td>\n",
       "      <td>Lastrado, calle de tierra</td>\n",
       "      <td>Casa o villa</td>\n",
       "      <td>Teja</td>\n",
       "      <td>...</td>\n",
       "      <td>1.0</td>\n",
       "      <td>No</td>\n",
       "      <td>NaN</td>\n",
       "      <td>Si</td>\n",
       "      <td>A través de su línea telefónica y mientras uti...</td>\n",
       "      <td>Computadora de escritorio</td>\n",
       "      <td>NaN</td>\n",
       "      <td>1.015000e+10</td>\n",
       "      <td>1013</td>\n",
       "      <td>64.249774</td>\n",
       "    </tr>\n",
       "    <tr>\n",
       "      <th>2</th>\n",
       "      <td>1.0</td>\n",
       "      <td>10150</td>\n",
       "      <td>001</td>\n",
       "      <td>003</td>\n",
       "      <td>Panel A2</td>\n",
       "      <td>Vivienda Tres</td>\n",
       "      <td>Hogar Uno</td>\n",
       "      <td>Lastrado, calle de tierra</td>\n",
       "      <td>Casa o villa</td>\n",
       "      <td>Asbesto, eternit</td>\n",
       "      <td>...</td>\n",
       "      <td>1.0</td>\n",
       "      <td>No</td>\n",
       "      <td>NaN</td>\n",
       "      <td>Si</td>\n",
       "      <td>A través de su línea telefónica y mientras uti...</td>\n",
       "      <td>Computadora de escritorio</td>\n",
       "      <td>NaN</td>\n",
       "      <td>1.015000e+10</td>\n",
       "      <td>1013</td>\n",
       "      <td>64.249774</td>\n",
       "    </tr>\n",
       "  </tbody>\n",
       "</table>\n",
       "<p>3 rows × 77 columns</p>\n",
       "</div>"
      ],
      "text/plain": [
       "   area  ciudad zona sector    panelm       vivienda      hogar  \\\n",
       "0   1.0   10150  001    003  Panel A2   Vivienda Uno  Hogar Uno   \n",
       "1   1.0   10150  001    003  Panel A2   Vivienda Dos  Hogar Uno   \n",
       "2   1.0   10150  001    003  Panel A2  Vivienda Tres  Hogar Uno   \n",
       "\n",
       "                        vi01          vi02             vi03a  ... eq1802  \\\n",
       "0  Lastrado, calle de tierra  Departamento  Asbesto, eternit  ...    NaN   \n",
       "1  Lastrado, calle de tierra  Casa o villa              Teja  ...    1.0   \n",
       "2  Lastrado, calle de tierra  Casa o villa  Asbesto, eternit  ...    1.0   \n",
       "\n",
       "  eq1901 eq1902 vi20                                               vi21  \\\n",
       "0     No    NaN   Si  La conexión es por CABLE y mientras utiliza SI...   \n",
       "1     No    NaN   Si  A través de su línea telefónica y mientras uti...   \n",
       "2     No    NaN   Si  A través de su línea telefónica y mientras uti...   \n",
       "\n",
       "                        vi22 vi23     id_sector plan_muestreo       fexp  \n",
       "0  Computadora de escritorio  NaN  1.015000e+10          1013  64.249774  \n",
       "1  Computadora de escritorio  NaN  1.015000e+10          1013  64.249774  \n",
       "2  Computadora de escritorio  NaN  1.015000e+10          1013  64.249774  \n",
       "\n",
       "[3 rows x 77 columns]"
      ]
     },
     "execution_count": 153,
     "metadata": {},
     "output_type": "execute_result"
    }
   ],
   "source": [
    "dataviv.head(3)"
   ]
  },
  {
   "cell_type": "code",
   "execution_count": 154,
   "metadata": {},
   "outputs": [],
   "source": [
    "#dataviv.columns"
   ]
  },
  {
   "cell_type": "code",
   "execution_count": 155,
   "metadata": {
    "id": "vRr7GLIg_dxt"
   },
   "outputs": [],
   "source": [
    "dataviv['idh'] = dataviv.ciudad.astype(str).str.zfill(6) + dataviv.zona.astype(str) + dataviv.sector.astype(str) + dataviv.panelm.astype(str) + dataviv.vivienda.astype(str) + dataviv.hogar.astype(str)"
   ]
  },
  {
   "cell_type": "code",
   "execution_count": 156,
   "metadata": {
    "colab": {
     "base_uri": "https://localhost:8080/"
    },
    "id": "C8PoRvGnADe4",
    "outputId": "2284f33e-5182-46a4-c2f2-9dc25517e2c3"
   },
   "outputs": [
    {
     "data": {
      "text/plain": [
       "0    010150001003Panel A2Vivienda UnoHogar Uno\n",
       "1    010150001003Panel A2Vivienda DosHogar Uno\n",
       "Name: idh, dtype: object"
      ]
     },
     "execution_count": 156,
     "metadata": {},
     "output_type": "execute_result"
    }
   ],
   "source": [
    "dataviv.idh.head(2)"
   ]
  },
  {
   "cell_type": "markdown",
   "metadata": {
    "id": "-brzN1c1-vMb"
   },
   "source": [
    "##<b><font color='darkred'>Datos personas"
   ]
  },
  {
   "cell_type": "code",
   "execution_count": 157,
   "metadata": {
    "colab": {
     "base_uri": "https://localhost:8080/"
    },
    "id": "-v7z3yJ74aYo",
    "outputId": "d63392f5-0e48-49b3-82f8-f932c94965e2"
   },
   "outputs": [],
   "source": [
    "dataper = pd.read_spss('../input/enemdu/201512_EnemduBDD_15anios.sav')\n",
    "\n",
    "#dataper = pd.read_spss('enemdu/201512_EnemduBDD_15anios.sav')"
   ]
  },
  {
   "cell_type": "code",
   "execution_count": 158,
   "metadata": {},
   "outputs": [],
   "source": [
    "dataper[\"ciudad\"] = dataper[\"ciudad\"].astype(int)"
   ]
  },
  {
   "cell_type": "code",
   "execution_count": 159,
   "metadata": {
    "colab": {
     "base_uri": "https://localhost:8080/"
    },
    "id": "loMjsg_a7W5b",
    "outputId": "20b085c9-cde4-4de3-ffcc-e052cbe4eb71"
   },
   "outputs": [
    {
     "data": {
      "text/html": [
       "<div>\n",
       "<style scoped>\n",
       "    .dataframe tbody tr th:only-of-type {\n",
       "        vertical-align: middle;\n",
       "    }\n",
       "\n",
       "    .dataframe tbody tr th {\n",
       "        vertical-align: top;\n",
       "    }\n",
       "\n",
       "    .dataframe thead th {\n",
       "        text-align: right;\n",
       "    }\n",
       "</style>\n",
       "<table border=\"1\" class=\"dataframe\">\n",
       "  <thead>\n",
       "    <tr style=\"text-align: right;\">\n",
       "      <th></th>\n",
       "      <th>area</th>\n",
       "      <th>ciudad</th>\n",
       "      <th>zona</th>\n",
       "      <th>sector</th>\n",
       "      <th>panelm</th>\n",
       "      <th>vivienda</th>\n",
       "      <th>hogar</th>\n",
       "      <th>p01</th>\n",
       "      <th>p02</th>\n",
       "      <th>p03</th>\n",
       "      <th>...</th>\n",
       "      <th>nc</th>\n",
       "      <th>desem</th>\n",
       "      <th>desemab</th>\n",
       "      <th>desemoc</th>\n",
       "      <th>desem1</th>\n",
       "      <th>desem2</th>\n",
       "      <th>pein</th>\n",
       "      <th>id_sector</th>\n",
       "      <th>plan_muestreo</th>\n",
       "      <th>fexp</th>\n",
       "    </tr>\n",
       "  </thead>\n",
       "  <tbody>\n",
       "    <tr>\n",
       "      <th>0</th>\n",
       "      <td>1.0</td>\n",
       "      <td>10150</td>\n",
       "      <td>009</td>\n",
       "      <td>004</td>\n",
       "      <td>Panel B2</td>\n",
       "      <td>Vivienda Uno</td>\n",
       "      <td>Hogar Uno</td>\n",
       "      <td>Persona 3</td>\n",
       "      <td>Hombre</td>\n",
       "      <td>26.0</td>\n",
       "      <td>...</td>\n",
       "      <td>NaN</td>\n",
       "      <td>NaN</td>\n",
       "      <td>NaN</td>\n",
       "      <td>NaN</td>\n",
       "      <td>NaN</td>\n",
       "      <td>NaN</td>\n",
       "      <td>NaN</td>\n",
       "      <td>1.015001e+10</td>\n",
       "      <td>1012</td>\n",
       "      <td>141.065750</td>\n",
       "    </tr>\n",
       "    <tr>\n",
       "      <th>1</th>\n",
       "      <td>1.0</td>\n",
       "      <td>10150</td>\n",
       "      <td>056</td>\n",
       "      <td>005</td>\n",
       "      <td>Panel A2</td>\n",
       "      <td>Vivienda Tres</td>\n",
       "      <td>Hogar Uno</td>\n",
       "      <td>Persona 1</td>\n",
       "      <td>Hombre</td>\n",
       "      <td>68.0</td>\n",
       "      <td>...</td>\n",
       "      <td>NaN</td>\n",
       "      <td>NaN</td>\n",
       "      <td>NaN</td>\n",
       "      <td>NaN</td>\n",
       "      <td>NaN</td>\n",
       "      <td>NaN</td>\n",
       "      <td>Población Económicamente Inactiva</td>\n",
       "      <td>1.015006e+10</td>\n",
       "      <td>1012</td>\n",
       "      <td>65.976281</td>\n",
       "    </tr>\n",
       "    <tr>\n",
       "      <th>2</th>\n",
       "      <td>1.0</td>\n",
       "      <td>70150</td>\n",
       "      <td>005</td>\n",
       "      <td>001</td>\n",
       "      <td>Panel B2</td>\n",
       "      <td>Vivienda Dos</td>\n",
       "      <td>Hogar Dos</td>\n",
       "      <td>Persona 1</td>\n",
       "      <td>Hombre</td>\n",
       "      <td>41.0</td>\n",
       "      <td>...</td>\n",
       "      <td>NaN</td>\n",
       "      <td>NaN</td>\n",
       "      <td>NaN</td>\n",
       "      <td>NaN</td>\n",
       "      <td>NaN</td>\n",
       "      <td>NaN</td>\n",
       "      <td>NaN</td>\n",
       "      <td>7.015001e+10</td>\n",
       "      <td>1072</td>\n",
       "      <td>123.512430</td>\n",
       "    </tr>\n",
       "    <tr>\n",
       "      <th>3</th>\n",
       "      <td>1.0</td>\n",
       "      <td>70150</td>\n",
       "      <td>043</td>\n",
       "      <td>004</td>\n",
       "      <td>Panel B2</td>\n",
       "      <td>Vivienda Uno</td>\n",
       "      <td>Hogar Uno</td>\n",
       "      <td>Persona 1</td>\n",
       "      <td>Hombre</td>\n",
       "      <td>38.0</td>\n",
       "      <td>...</td>\n",
       "      <td>NaN</td>\n",
       "      <td>NaN</td>\n",
       "      <td>NaN</td>\n",
       "      <td>NaN</td>\n",
       "      <td>NaN</td>\n",
       "      <td>NaN</td>\n",
       "      <td>NaN</td>\n",
       "      <td>7.015004e+10</td>\n",
       "      <td>1071</td>\n",
       "      <td>96.697327</td>\n",
       "    </tr>\n",
       "    <tr>\n",
       "      <th>4</th>\n",
       "      <td>1.0</td>\n",
       "      <td>80150</td>\n",
       "      <td>012</td>\n",
       "      <td>003</td>\n",
       "      <td>Panel A2</td>\n",
       "      <td>Vivienda Uno</td>\n",
       "      <td>Hogar Uno</td>\n",
       "      <td>Persona 1</td>\n",
       "      <td>Hombre</td>\n",
       "      <td>64.0</td>\n",
       "      <td>...</td>\n",
       "      <td>NaN</td>\n",
       "      <td>NaN</td>\n",
       "      <td>NaN</td>\n",
       "      <td>NaN</td>\n",
       "      <td>NaN</td>\n",
       "      <td>NaN</td>\n",
       "      <td>NaN</td>\n",
       "      <td>8.015001e+10</td>\n",
       "      <td>1081</td>\n",
       "      <td>89.319663</td>\n",
       "    </tr>\n",
       "  </tbody>\n",
       "</table>\n",
       "<p>5 rows × 313 columns</p>\n",
       "</div>"
      ],
      "text/plain": [
       "   area  ciudad zona sector    panelm       vivienda      hogar        p01  \\\n",
       "0   1.0   10150  009    004  Panel B2   Vivienda Uno  Hogar Uno  Persona 3   \n",
       "1   1.0   10150  056    005  Panel A2  Vivienda Tres  Hogar Uno  Persona 1   \n",
       "2   1.0   70150  005    001  Panel B2   Vivienda Dos  Hogar Dos  Persona 1   \n",
       "3   1.0   70150  043    004  Panel B2   Vivienda Uno  Hogar Uno  Persona 1   \n",
       "4   1.0   80150  012    003  Panel A2   Vivienda Uno  Hogar Uno  Persona 1   \n",
       "\n",
       "      p02   p03  ...   nc desem desemab desemoc desem1 desem2  \\\n",
       "0  Hombre  26.0  ...  NaN   NaN     NaN     NaN    NaN    NaN   \n",
       "1  Hombre  68.0  ...  NaN   NaN     NaN     NaN    NaN    NaN   \n",
       "2  Hombre  41.0  ...  NaN   NaN     NaN     NaN    NaN    NaN   \n",
       "3  Hombre  38.0  ...  NaN   NaN     NaN     NaN    NaN    NaN   \n",
       "4  Hombre  64.0  ...  NaN   NaN     NaN     NaN    NaN    NaN   \n",
       "\n",
       "                                pein     id_sector  plan_muestreo        fexp  \n",
       "0                                NaN  1.015001e+10           1012  141.065750  \n",
       "1  Población Económicamente Inactiva  1.015006e+10           1012   65.976281  \n",
       "2                                NaN  7.015001e+10           1072  123.512430  \n",
       "3                                NaN  7.015004e+10           1071   96.697327  \n",
       "4                                NaN  8.015001e+10           1081   89.319663  \n",
       "\n",
       "[5 rows x 313 columns]"
      ]
     },
     "execution_count": 159,
     "metadata": {},
     "output_type": "execute_result"
    }
   ],
   "source": [
    "dataper.head()"
   ]
  },
  {
   "cell_type": "code",
   "execution_count": 160,
   "metadata": {},
   "outputs": [],
   "source": [
    "#dataper[\"fexp\"] = dataper[\"fexp\"].str.replace(\",\",\".\").astype(float)"
   ]
  },
  {
   "cell_type": "code",
   "execution_count": 161,
   "metadata": {},
   "outputs": [
    {
     "data": {
      "text/plain": [
       "16404530.613148494"
      ]
     },
     "execution_count": 161,
     "metadata": {},
     "output_type": "execute_result"
    }
   ],
   "source": [
    "dataper[\"fexp\"].sum()"
   ]
  },
  {
   "cell_type": "code",
   "execution_count": 162,
   "metadata": {},
   "outputs": [
    {
     "data": {
      "text/plain": [
       "Index(['area', 'ciudad', 'zona', 'sector', 'panelm', 'vivienda', 'hogar',\n",
       "       'p01', 'p02', 'p03',\n",
       "       ...\n",
       "       'nc', 'desem', 'desemab', 'desemoc', 'desem1', 'desem2', 'pein',\n",
       "       'id_sector', 'plan_muestreo', 'fexp'],\n",
       "      dtype='object', length=313)"
      ]
     },
     "execution_count": 162,
     "metadata": {},
     "output_type": "execute_result"
    }
   ],
   "source": [
    "dataper.columns"
   ]
  },
  {
   "cell_type": "code",
   "execution_count": 163,
   "metadata": {
    "id": "xgcuElQk7aEJ"
   },
   "outputs": [],
   "source": [
    "dataper['idp'] = dataper.ciudad.astype(str).str.zfill(6) + dataper.zona.astype(str) + dataper.sector.astype(str) + dataper.panelm.astype(str) + dataper.vivienda.astype(str) + dataper.hogar.astype(str)+ dataper.p01.astype(str)\n",
    "dataper['idh'] = dataper.ciudad.astype(str).str.zfill(6) + dataper.zona.astype(str) + dataper.sector.astype(str) + dataper.panelm.astype(str) + dataper.vivienda.astype(str) + dataper.hogar.astype(str)"
   ]
  },
  {
   "cell_type": "code",
   "execution_count": 164,
   "metadata": {
    "colab": {
     "base_uri": "https://localhost:8080/"
    },
    "id": "yVDXS6Ra8ZMf",
    "outputId": "9cb6b81d-16be-439b-eecc-8865d4fc1ab5"
   },
   "outputs": [
    {
     "data": {
      "text/plain": [
       "0    010150009004Panel B2Vivienda UnoHogar UnoPerso...\n",
       "1    010150056005Panel A2Vivienda TresHogar UnoPers...\n",
       "Name: idp, dtype: object"
      ]
     },
     "execution_count": 164,
     "metadata": {},
     "output_type": "execute_result"
    }
   ],
   "source": [
    "dataper.idp.head(2)"
   ]
  },
  {
   "cell_type": "markdown",
   "metadata": {
    "id": "wL8q_I5hS4YJ"
   },
   "source": [
    "##<b><font color='darkred'>MISSING DATA"
   ]
  },
  {
   "cell_type": "markdown",
   "metadata": {
    "id": "97Z26FkUD85Z"
   },
   "source": [
    "###<font color='darkblue'>*Exploracion*"
   ]
  },
  {
   "cell_type": "code",
   "execution_count": 165,
   "metadata": {
    "colab": {
     "base_uri": "https://localhost:8080/"
    },
    "id": "N8HGK-OlacBK",
    "outputId": "07408434-d779-4f17-c81b-22e4f5ecfd0a"
   },
   "outputs": [
    {
     "data": {
      "text/plain": [
       "112821"
      ]
     },
     "execution_count": 165,
     "metadata": {},
     "output_type": "execute_result"
    }
   ],
   "source": [
    "dataper.shape[0]"
   ]
  },
  {
   "cell_type": "code",
   "execution_count": 166,
   "metadata": {
    "colab": {
     "base_uri": "https://localhost:8080/"
    },
    "id": "0J-QTvbJafpN",
    "outputId": "84d57fa0-a316-43ce-920e-7acd71592809"
   },
   "outputs": [
    {
     "data": {
      "text/plain": [
       "30033"
      ]
     },
     "execution_count": 166,
     "metadata": {},
     "output_type": "execute_result"
    }
   ],
   "source": [
    "dataviv.shape[0]"
   ]
  },
  {
   "cell_type": "code",
   "execution_count": 167,
   "metadata": {
    "colab": {
     "base_uri": "https://localhost:8080/"
    },
    "id": "Myx9ag6AAvkE",
    "outputId": "b058348f-99f4-4e5f-fd0c-0aadd6581ae4"
   },
   "outputs": [],
   "source": [
    "#list(dataper.columns)"
   ]
  },
  {
   "cell_type": "code",
   "execution_count": 168,
   "metadata": {
    "colab": {
     "base_uri": "https://localhost:8080/"
    },
    "id": "F2GZyHW6T-uV",
    "outputId": "48e0009c-bc71-44ba-9020-769c809e36e4"
   },
   "outputs": [
    {
     "data": {
      "text/plain": [
       "Index(['area', 'ciudad', 'zona', 'sector', 'panelm', 'vivienda', 'hogar',\n",
       "       'vi01', 'vi02', 'vi03a', 'vi03b', 'vi04a', 'vi04b', 'vi05a', 'vi05b',\n",
       "       'vi06', 'vi07', 'vi07a', 'vi08', 'vi09', 'vi10', 'vi10a', 'vi11',\n",
       "       'vi12', 'vi13', 'vi14', 'vi15', 'vi16', 'vi17a', 'vi17b', 'vi18a',\n",
       "       'vi18b', 'eq0101', 'eq0102', 'eq0201', 'eq0202', 'eq0301', 'eq0302',\n",
       "       'eq0401', 'eq0402', 'eq0501', 'eq0502', 'eq0601', 'eq0602', 'eq0701',\n",
       "       'eq0702', 'eq0801', 'eq0802', 'eq0901', 'eq0902', 'eq1001', 'eq1002',\n",
       "       'eq1101', 'eq1102', 'eq1201', 'eq1202', 'eq1301', 'eq1302', 'eq1401',\n",
       "       'eq1402', 'eq1501', 'eq1502', 'eq1601', 'eq1602', 'eq1701', 'eq1702',\n",
       "       'eq1801', 'eq1802', 'eq1901', 'eq1902', 'vi20', 'vi21', 'vi22', 'vi23',\n",
       "       'id_sector', 'plan_muestreo', 'fexp', 'idh'],\n",
       "      dtype='object')"
      ]
     },
     "execution_count": 168,
     "metadata": {},
     "output_type": "execute_result"
    }
   ],
   "source": [
    "dataviv.columns"
   ]
  },
  {
   "cell_type": "code",
   "execution_count": 169,
   "metadata": {},
   "outputs": [],
   "source": [
    "dataper.p10a = dataper.p10a.cat.add_categories(\"Jardín de infantes\").cat.reorder_categories(\\\n",
    "                        [\"Ninguno\",\n",
    "                         \"Centro de alfabetización\",\n",
    "                         \"Jardín de infantes\",\n",
    "                         \"Primaria\",\n",
    "                         \"Educación Básica\",\n",
    "                         \"Secundaria\",\n",
    "                         \"Educación  Media\",\n",
    "                         \"Superior no universitario\",\n",
    "                         \"Superior Universitario\",\n",
    "                         \"Post-grado\"], ordered=True)"
   ]
  },
  {
   "cell_type": "code",
   "execution_count": 170,
   "metadata": {},
   "outputs": [
    {
     "data": {
      "text/plain": [
       "Index(['Ninguno', 'Centro de alfabetización', 'Jardín de infantes', 'Primaria',\n",
       "       'Educación Básica', 'Secundaria', 'Educación  Media',\n",
       "       'Superior no universitario', 'Superior Universitario', 'Post-grado'],\n",
       "      dtype='object')"
      ]
     },
     "execution_count": 170,
     "metadata": {},
     "output_type": "execute_result"
    }
   ],
   "source": [
    "dataper.p10a.cat.categories"
   ]
  },
  {
   "cell_type": "code",
   "execution_count": 171,
   "metadata": {},
   "outputs": [],
   "source": [
    "dataper.p07 = dataper.p07.cat.reorder_categories([\"Si\",\"No\"], ordered=True)"
   ]
  },
  {
   "cell_type": "code",
   "execution_count": 172,
   "metadata": {},
   "outputs": [
    {
     "data": {
      "text/plain": [
       "Index(['Si', 'No'], dtype='object')"
      ]
     },
     "execution_count": 172,
     "metadata": {},
     "output_type": "execute_result"
    }
   ],
   "source": [
    "dataper.p07.cat.categories"
   ]
  },
  {
   "cell_type": "code",
   "execution_count": 173,
   "metadata": {},
   "outputs": [],
   "source": [
    "dataper.p20 = dataper.p20.cat.reorder_categories([\"Si\",\"No\"], ordered=True)"
   ]
  },
  {
   "cell_type": "code",
   "execution_count": 174,
   "metadata": {},
   "outputs": [
    {
     "data": {
      "text/plain": [
       "Index(['Si', 'No'], dtype='object')"
      ]
     },
     "execution_count": 174,
     "metadata": {},
     "output_type": "execute_result"
    }
   ],
   "source": [
    "dataper.p20.cat.categories"
   ]
  },
  {
   "cell_type": "code",
   "execution_count": 175,
   "metadata": {},
   "outputs": [],
   "source": [
    "dataper.p22 = dataper.p22.cat.reorder_categories([\"Si\",\"No\"], ordered=True)"
   ]
  },
  {
   "cell_type": "code",
   "execution_count": 176,
   "metadata": {},
   "outputs": [
    {
     "data": {
      "text/plain": [
       "Index(['Si', 'No'], dtype='object')"
      ]
     },
     "execution_count": 176,
     "metadata": {},
     "output_type": "execute_result"
    }
   ],
   "source": [
    "dataper.p22.cat.categories"
   ]
  },
  {
   "cell_type": "code",
   "execution_count": 177,
   "metadata": {},
   "outputs": [],
   "source": [
    "dataper.p72a = dataper.p72a.cat.reorder_categories([\"Si\",\"No\"], ordered=True)"
   ]
  },
  {
   "cell_type": "code",
   "execution_count": 178,
   "metadata": {},
   "outputs": [
    {
     "data": {
      "text/plain": [
       "Index(['Si', 'No'], dtype='object')"
      ]
     },
     "execution_count": 178,
     "metadata": {},
     "output_type": "execute_result"
    }
   ],
   "source": [
    "dataper.p72a.cat.categories"
   ]
  },
  {
   "cell_type": "code",
   "execution_count": 179,
   "metadata": {},
   "outputs": [],
   "source": [
    "dataper.p75 = dataper.p75.cat.reorder_categories([\"Si\",\"No\"], ordered=True)"
   ]
  },
  {
   "cell_type": "code",
   "execution_count": 180,
   "metadata": {},
   "outputs": [
    {
     "data": {
      "text/plain": [
       "Index(['Si', 'No'], dtype='object')"
      ]
     },
     "execution_count": 180,
     "metadata": {},
     "output_type": "execute_result"
    }
   ],
   "source": [
    "dataper.p75.cat.categories"
   ]
  },
  {
   "cell_type": "code",
   "execution_count": 181,
   "metadata": {},
   "outputs": [],
   "source": [
    "dataper.p77 = dataper.p77.cat.reorder_categories([\"Si\",\"No\"], ordered=True)"
   ]
  },
  {
   "cell_type": "code",
   "execution_count": 182,
   "metadata": {},
   "outputs": [
    {
     "data": {
      "text/plain": [
       "Index(['Si', 'No'], dtype='object')"
      ]
     },
     "execution_count": 182,
     "metadata": {},
     "output_type": "execute_result"
    }
   ],
   "source": [
    "dataper.p77.cat.categories"
   ]
  },
  {
   "cell_type": "code",
   "execution_count": 183,
   "metadata": {},
   "outputs": [],
   "source": [
    "dataper.p09 = dataper.p09.cat.reorder_categories(\\\n",
    "                                   ['Edad',\n",
    "                                     'Terminó sus estudios',\n",
    "                                     'Falta recursos económicos',\n",
    "                                     'Fracaso escolar',\n",
    "                                     'Por trabajo',\n",
    "                                     'Por asistir nivelación SENESCYT',\n",
    "                                     'Enfermedad o discapacidad',\n",
    "                                     'Quehaceres del hogar',\n",
    "                                     'Familia no permite',\n",
    "                                     'No hay establecimientos educativos',\n",
    "                                     'No está interesado',\n",
    "                                     'Por embarazo',\n",
    "                                     'Por falta de cupos',\n",
    "                                     'Otra'], ordered=True)"
   ]
  },
  {
   "cell_type": "code",
   "execution_count": 184,
   "metadata": {},
   "outputs": [],
   "source": [
    "dataper.p21 = dataper.p21.cat.reorder_categories(\\\n",
    "                                                 ['Atender negocio propio',\n",
    "                                                 'Fabricar algún producto',\n",
    "                                                 'Hacer algo en casa por un ingreso',\n",
    "                                                 'Brindar algún servicio',\n",
    "                                                 'Ayudar en algún negocio familiar',\n",
    "                                                 'Ayudar en el trabajo de algún familiar',\n",
    "                                                 'Aprendiz remunerado',\n",
    "                                                 'Labores agrícolas, cuidado animales',\n",
    "                                                 'Estudiante que realizó algún trabajo',\n",
    "                                                 'Trabajar para otra familia',\n",
    "                                                 'Otra actividad por un ingreso',\n",
    "                                                 'No realizó ninguna actividad'], ordered=True)"
   ]
  },
  {
   "cell_type": "code",
   "execution_count": 185,
   "metadata": {},
   "outputs": [
    {
     "data": {
      "text/plain": [
       "Index(['Atender negocio propio', 'Fabricar algún producto',\n",
       "       'Hacer algo en casa por un ingreso', 'Brindar algún servicio',\n",
       "       'Ayudar en algún negocio familiar',\n",
       "       'Ayudar en el trabajo de algún familiar', 'Aprendiz remunerado',\n",
       "       'Labores agrícolas, cuidado animales',\n",
       "       'Estudiante que realizó algún trabajo', 'Trabajar para otra familia',\n",
       "       'Otra actividad por un ingreso', 'No realizó ninguna actividad'],\n",
       "      dtype='object')"
      ]
     },
     "execution_count": 185,
     "metadata": {},
     "output_type": "execute_result"
    }
   ],
   "source": [
    "dataper.p21.cat.categories"
   ]
  },
  {
   "cell_type": "code",
   "execution_count": 186,
   "metadata": {},
   "outputs": [],
   "source": [
    "dataper.CONDACTN = dataper.CONDACTN.cat.reorder_categories(\\\n",
    "                                                           ['Menores de 15 años',\n",
    "                                                             'Empleo adecuado',\n",
    "                                                             'Subempleo por insuficiencia de tiempo de trabajo',\n",
    "                                                             'Subempleo por insuficiencia de ingresos',\n",
    "                                                             'Otro empleo Inadecuado',\n",
    "                                                             'Empleo no remunerado',\n",
    "                                                             'Empleo no clasificado',\n",
    "                                                             'Desempleo abierto',\n",
    "                                                             'Desempleo oculto', \n",
    "                                                             'Población Económicamente Inactiva'], ordered=True)"
   ]
  },
  {
   "cell_type": "code",
   "execution_count": 187,
   "metadata": {},
   "outputs": [
    {
     "data": {
      "text/plain": [
       "Index(['Menores de 15 años', 'Empleo adecuado',\n",
       "       'Subempleo por insuficiencia de tiempo de trabajo',\n",
       "       'Subempleo por insuficiencia de ingresos', 'Otro empleo Inadecuado',\n",
       "       'Empleo no remunerado', 'Empleo no clasificado', 'Desempleo abierto',\n",
       "       'Desempleo oculto', 'Población Económicamente Inactiva'],\n",
       "      dtype='object')"
      ]
     },
     "execution_count": 187,
     "metadata": {},
     "output_type": "execute_result"
    }
   ],
   "source": [
    "dataper.CONDACTN.cat.categories"
   ]
  },
  {
   "cell_type": "code",
   "execution_count": 188,
   "metadata": {},
   "outputs": [],
   "source": [
    "dataper.p05a = dataper.p05a.cat.reorder_categories(\\\n",
    "                                                   ['IESS, seguro general',\n",
    "                                                     'IESS, seguro general voluntario',\n",
    "                                                     'IESS, seguro  campesino',\n",
    "                                                     'ISSFA, ISSPOL',\n",
    "                                                     'Seguro privado con hospitalización',\n",
    "                                                     'Seguro privado sin hospitalización',\n",
    "                                                     'AUS',\n",
    "                                                     'Seguros Municipales',\n",
    "                                                     'Seguro Ministerio Salud Pública',\n",
    "                                                     'Ninguno'], ordered=True)"
   ]
  },
  {
   "cell_type": "code",
   "execution_count": 189,
   "metadata": {},
   "outputs": [
    {
     "data": {
      "text/plain": [
       "Index(['IESS, seguro general', 'IESS, seguro general voluntario',\n",
       "       'IESS, seguro  campesino', 'ISSFA, ISSPOL',\n",
       "       'Seguro privado con hospitalización',\n",
       "       'Seguro privado sin hospitalización', 'AUS', 'Seguros Municipales',\n",
       "       'Seguro Ministerio Salud Pública', 'Ninguno'],\n",
       "      dtype='object')"
      ]
     },
     "execution_count": 189,
     "metadata": {},
     "output_type": "execute_result"
    }
   ],
   "source": [
    "dataper.p05a.cat.categories"
   ]
  },
  {
   "cell_type": "code",
   "execution_count": 190,
   "metadata": {},
   "outputs": [],
   "source": [
    "dataper.p05b = dataper.p05b.cat.add_categories('IESS, seguro  campesino').cat.reorder_categories(\\\n",
    "                                                                                                   ['IESS, seguro general',\n",
    "                                                                                                     'IESS, seguro general voluntario',\n",
    "                                                                                                     'IESS, seguro  campesino',\n",
    "                                                                                                     'ISSFA, ISSPOL',\n",
    "                                                                                                     'Seguro privado con hospitalización',\n",
    "                                                                                                     'Seguro privado sin hospitalización',\n",
    "                                                                                                     'AUS',\n",
    "                                                                                                     'Seguros Municipales',\n",
    "                                                                                                     'Seguro Ministerio Salud Pública',\n",
    "                                                                                                     'Ninguno'], ordered=True)"
   ]
  },
  {
   "cell_type": "code",
   "execution_count": 191,
   "metadata": {},
   "outputs": [
    {
     "data": {
      "text/plain": [
       "Index(['IESS, seguro general', 'IESS, seguro general voluntario',\n",
       "       'IESS, seguro  campesino', 'ISSFA, ISSPOL',\n",
       "       'Seguro privado con hospitalización',\n",
       "       'Seguro privado sin hospitalización', 'AUS', 'Seguros Municipales',\n",
       "       'Seguro Ministerio Salud Pública', 'Ninguno'],\n",
       "      dtype='object')"
      ]
     },
     "execution_count": 191,
     "metadata": {},
     "output_type": "execute_result"
    }
   ],
   "source": [
    "dataper.p05b.cat.categories"
   ]
  },
  {
   "cell_type": "code",
   "execution_count": 192,
   "metadata": {},
   "outputs": [],
   "source": [
    "dataviv.vi10 =  dataviv.vi10.cat.reorder_categories(\\\n",
    "                                                    ['Red pública',\n",
    "                                                     'Pila o llave pública',\n",
    "                                                     'Otra fuente por tubería',\n",
    "                                                     'Carro repartidor, triciclo',\n",
    "                                                     'Pozo',\n",
    "                                                     'Río, vertiente, acequia',\n",
    "                                                     'Otro, cuál'], ordered=True)"
   ]
  },
  {
   "cell_type": "code",
   "execution_count": 193,
   "metadata": {},
   "outputs": [
    {
     "data": {
      "text/plain": [
       "Index(['Red pública', 'Pila o llave pública', 'Otra fuente por tubería',\n",
       "       'Carro repartidor, triciclo', 'Pozo', 'Río, vertiente, acequia',\n",
       "       'Otro, cuál'],\n",
       "      dtype='object')"
      ]
     },
     "execution_count": 193,
     "metadata": {},
     "output_type": "execute_result"
    }
   ],
   "source": [
    "dataviv.vi10.cat.categories"
   ]
  },
  {
   "cell_type": "code",
   "execution_count": 194,
   "metadata": {},
   "outputs": [],
   "source": [
    "dataviv.vi03a = dataviv.vi03a.cat.reorder_categories(\\\n",
    "                                                     ['Hormigón, losa, cemento',\n",
    "                                                     'Asbesto, eternit',\n",
    "                                                     'Zinc',\n",
    "                                                     'Teja',\n",
    "                                                     'Palma, paja, hoja',\n",
    "                                                     'Otro, cuál'], ordered=True)"
   ]
  },
  {
   "cell_type": "code",
   "execution_count": 195,
   "metadata": {},
   "outputs": [
    {
     "data": {
      "text/plain": [
       "Index(['Hormigón, losa, cemento', 'Asbesto, eternit', 'Zinc', 'Teja',\n",
       "       'Palma, paja, hoja', 'Otro, cuál'],\n",
       "      dtype='object')"
      ]
     },
     "execution_count": 195,
     "metadata": {},
     "output_type": "execute_result"
    }
   ],
   "source": [
    "dataviv.vi03a.cat.categories"
   ]
  },
  {
   "cell_type": "code",
   "execution_count": 196,
   "metadata": {},
   "outputs": [],
   "source": [
    "dataviv.vi03b = dataviv.vi03b.cat.reorder_categories(\\\n",
    "                                     ['Bueno',\n",
    "                                     'Regular',\n",
    "                                     'Malo',], ordered=True)"
   ]
  },
  {
   "cell_type": "code",
   "execution_count": 197,
   "metadata": {},
   "outputs": [
    {
     "data": {
      "text/plain": [
       "Index(['Bueno', 'Regular', 'Malo'], dtype='object')"
      ]
     },
     "execution_count": 197,
     "metadata": {},
     "output_type": "execute_result"
    }
   ],
   "source": [
    "dataviv.vi03b.cat.categories"
   ]
  },
  {
   "cell_type": "code",
   "execution_count": 198,
   "metadata": {},
   "outputs": [
    {
     "data": {
      "text/plain": [
       "Index(['Adobe, tapia', 'Asbesto, cemento', 'Bahareque', 'Caña o estera',\n",
       "       'Hormigón, bloque, ladrillo', 'Madera', 'Otra, cuál'],\n",
       "      dtype='object')"
      ]
     },
     "execution_count": 198,
     "metadata": {},
     "output_type": "execute_result"
    }
   ],
   "source": [
    "dataviv.vi05a.cat.categories"
   ]
  },
  {
   "cell_type": "code",
   "execution_count": 199,
   "metadata": {},
   "outputs": [],
   "source": [
    "dataviv.vi05a = dataviv.vi05a.cat.reorder_categories(\\\n",
    "                                                     ['Hormigón, bloque, ladrillo',\n",
    "                                                     'Asbesto, cemento',\n",
    "                                                     'Adobe, tapia',\n",
    "                                                     'Madera',\n",
    "                                                     'Bahareque',\n",
    "                                                     'Caña o estera',\n",
    "                                                     'Otra, cuál'], ordered=True)"
   ]
  },
  {
   "cell_type": "code",
   "execution_count": 200,
   "metadata": {},
   "outputs": [
    {
     "data": {
      "text/plain": [
       "Index(['Hormigón, bloque, ladrillo', 'Asbesto, cemento', 'Adobe, tapia',\n",
       "       'Madera', 'Bahareque', 'Caña o estera', 'Otra, cuál'],\n",
       "      dtype='object')"
      ]
     },
     "execution_count": 200,
     "metadata": {},
     "output_type": "execute_result"
    }
   ],
   "source": [
    "dataviv.vi05a.cat.categories"
   ]
  },
  {
   "cell_type": "code",
   "execution_count": 201,
   "metadata": {},
   "outputs": [],
   "source": [
    "dataviv.vi05b = dataviv.vi05b.cat.reorder_categories(\\\n",
    "                                     ['Bueno',\n",
    "                                     'Regular',\n",
    "                                     'Malo'], ordered=True)"
   ]
  },
  {
   "cell_type": "code",
   "execution_count": 202,
   "metadata": {},
   "outputs": [
    {
     "data": {
      "text/plain": [
       "Index(['Bueno', 'Regular', 'Malo'], dtype='object')"
      ]
     },
     "execution_count": 202,
     "metadata": {},
     "output_type": "execute_result"
    }
   ],
   "source": [
    "dataviv.vi05b.cat.categories"
   ]
  },
  {
   "cell_type": "code",
   "execution_count": 203,
   "metadata": {},
   "outputs": [
    {
     "data": {
      "text/plain": [
       "Index(['Caña', 'Cemento, ladrillo', 'Cerámica, baldosa, vinyl',\n",
       "       'Duela, parquet, tabloncillo', 'Mármol, marmetón', 'Otro, cuál',\n",
       "       'Tabla, tablón no tratado', 'Tierra'],\n",
       "      dtype='object')"
      ]
     },
     "execution_count": 203,
     "metadata": {},
     "output_type": "execute_result"
    }
   ],
   "source": [
    "dataviv.vi04a.cat.categories"
   ]
  },
  {
   "cell_type": "code",
   "execution_count": 204,
   "metadata": {},
   "outputs": [],
   "source": [
    "dataviv.vi04a = dataviv.vi04a.cat.reorder_categories(\\\n",
    "                                                     ['Duela, parquet, tabloncillo',\n",
    "                                                     'Cerámica, baldosa, vinyl',\n",
    "                                                     'Mármol, marmetón',\n",
    "                                                     'Cemento, ladrillo',\n",
    "                                                     'Tabla, tablón no tratado',\n",
    "                                                     'Caña',\n",
    "                                                     'Tierra',\n",
    "                                                     'Otro, cuál'], ordered=True)"
   ]
  },
  {
   "cell_type": "code",
   "execution_count": 205,
   "metadata": {},
   "outputs": [
    {
     "data": {
      "text/plain": [
       "Index(['Duela, parquet, tabloncillo', 'Cerámica, baldosa, vinyl',\n",
       "       'Mármol, marmetón', 'Cemento, ladrillo', 'Tabla, tablón no tratado',\n",
       "       'Caña', 'Tierra', 'Otro, cuál'],\n",
       "      dtype='object')"
      ]
     },
     "execution_count": 205,
     "metadata": {},
     "output_type": "execute_result"
    }
   ],
   "source": [
    "dataviv.vi04a.cat.categories"
   ]
  },
  {
   "cell_type": "code",
   "execution_count": 206,
   "metadata": {},
   "outputs": [],
   "source": [
    "dataviv.vi04b = dataviv.vi04b.cat.reorder_categories(\\\n",
    "                                     ['Bueno',\n",
    "                                     'Regular',\n",
    "                                     'Malo'], ordered=True)"
   ]
  },
  {
   "cell_type": "code",
   "execution_count": 207,
   "metadata": {},
   "outputs": [
    {
     "data": {
      "text/plain": [
       "Index(['Bueno', 'Regular', 'Malo'], dtype='object')"
      ]
     },
     "execution_count": 207,
     "metadata": {},
     "output_type": "execute_result"
    }
   ],
   "source": [
    "dataviv.vi04b.cat.categories"
   ]
  },
  {
   "cell_type": "code",
   "execution_count": 208,
   "metadata": {},
   "outputs": [
    {
     "data": {
      "text/plain": [
       "Index(['Excusado y alcantarillado', 'Excusado y pozo ciego',\n",
       "       'Excusado y pozo séptico', 'Letrina', 'No tiene'],\n",
       "      dtype='object')"
      ]
     },
     "execution_count": 208,
     "metadata": {},
     "output_type": "execute_result"
    }
   ],
   "source": [
    "dataviv.vi09.cat.categories"
   ]
  },
  {
   "cell_type": "code",
   "execution_count": 209,
   "metadata": {},
   "outputs": [],
   "source": [
    "dataviv.vi09 = dataviv.vi09.cat.reorder_categories(\\\n",
    "                                                   ['Excusado y alcantarillado',\n",
    "                                                    'Excusado y pozo séptico',\n",
    "                                                    'Excusado y pozo ciego',\n",
    "                                                    'Letrina',\n",
    "                                                    'No tiene'], ordered=True)"
   ]
  },
  {
   "cell_type": "code",
   "execution_count": 210,
   "metadata": {},
   "outputs": [
    {
     "data": {
      "text/plain": [
       "Index(['Excusado y alcantarillado', 'Excusado y pozo séptico',\n",
       "       'Excusado y pozo ciego', 'Letrina', 'No tiene'],\n",
       "      dtype='object')"
      ]
     },
     "execution_count": 210,
     "metadata": {},
     "output_type": "execute_result"
    }
   ],
   "source": [
    "dataviv.vi09.cat.categories"
   ]
  },
  {
   "cell_type": "code",
   "execution_count": 211,
   "metadata": {},
   "outputs": [],
   "source": [
    "dataviv.vi13 = dataviv.vi13.cat.reorder_categories(\\\n",
    "                                                   ['Contratan el servicio',\n",
    "                                                     'Servicio municipal',\n",
    "                                                     'Botan a la calle, quebrada, río',\n",
    "                                                     'La queman, entierran',\n",
    "                                                     'Otra, cuál'], ordered=True)"
   ]
  },
  {
   "cell_type": "code",
   "execution_count": 212,
   "metadata": {},
   "outputs": [
    {
     "data": {
      "text/plain": [
       "Index(['Contratan el servicio', 'Servicio municipal',\n",
       "       'Botan a la calle, quebrada, río', 'La queman, entierran',\n",
       "       'Otra, cuál'],\n",
       "      dtype='object')"
      ]
     },
     "execution_count": 212,
     "metadata": {},
     "output_type": "execute_result"
    }
   ],
   "source": [
    "dataviv.vi13.cat.categories"
   ]
  },
  {
   "cell_type": "markdown",
   "metadata": {
    "id": "sH0BoBoBDIhG"
   },
   "source": [
    "### <font color='darkblue'>*Dimension 1 EDUCACION*"
   ]
  },
  {
   "cell_type": "markdown",
   "metadata": {},
   "source": [
    "#### 1. Inasistencia a educación básica y bachillerato"
   ]
  },
  {
   "cell_type": "markdown",
   "metadata": {},
   "source": [
    "##### a) Asistencia a educación básica"
   ]
  },
  {
   "cell_type": "code",
   "execution_count": 213,
   "metadata": {},
   "outputs": [],
   "source": [
    "#gen asist_basica=1 if inrange(p03,5,14) & (p07==1) &\n",
    "#( inlist(p10a,1,3)\n",
    "#| (p10a==4 & inrange(p10b,0,6))\n",
    "#| (p10a==5 & inrange(p10b,0,9))\n",
    "#| (p10a==6 & inrange(p10b,0,2)));\n",
    "dataper.loc[((dataper.p03.cat.codes.isin(range(5,15))) &(dataper.p07.cat.codes==0) &\\\n",
    "((dataper.p10a.cat.codes.isin([0,1,2])) \\\n",
    "|((dataper.p10a.cat.codes==3)&(dataper.p10b.isin(range(0,7)))) \\\n",
    "|((dataper.p10a.cat.codes==4)&(dataper.p10b.isin(range(0,10)))) \\\n",
    "|((dataper.p10a.cat.codes==5)&(dataper.p10b.isin(range(0,3)))) \\\n",
    ")),\"asist_basica\"]=1"
   ]
  },
  {
   "cell_type": "code",
   "execution_count": 214,
   "metadata": {},
   "outputs": [],
   "source": [
    "#replace asist_basica=0 if inrange(p03,5,14) & asist_basica!=1\n",
    "#label var asist_basica \"Asistencia a educación básica\"\n",
    "dataper.loc[((dataper.p03.cat.codes.isin(range(5,15))) & (dataper[\"asist_basica\"]!=1)),\"asist_basica\"]=0"
   ]
  },
  {
   "cell_type": "markdown",
   "metadata": {},
   "source": [
    "##### b) Asistencia a educación bachillerato"
   ]
  },
  {
   "cell_type": "code",
   "execution_count": 215,
   "metadata": {},
   "outputs": [],
   "source": [
    "#gen asist_bach=1 if inrange(p03,15,17) & (p07==1) &\n",
    "#( (p10a==5 & p10b==10)\n",
    "#| (p10a==7 & inrange(p10b,0,2))\n",
    "#| (p10a==6 & inrange(p10b,3,5)));\n",
    "dataper.loc[(dataper.p03.cat.codes.isin(range(15,18)))&(dataper.p07.cat.codes==0) & \\\n",
    "(((dataper.p10a.cat.codes==4)&(dataper.p10b==10)) \\\n",
    "|((dataper.p10a.cat.codes==6)&(dataper.p10b.isin(range(0,3)))) \\\n",
    "|((dataper.p10a.cat.codes==5)&(dataper.p10b.isin(range(3,6))))),\"asist_bach\"] = 1"
   ]
  },
  {
   "cell_type": "code",
   "execution_count": 216,
   "metadata": {},
   "outputs": [],
   "source": [
    "#replace asist_bach=0 if inrange(p03,15,17) & asist_bach!=1\n",
    "#label var asist_bach \"Asistencia a educación bachillerato\"\n",
    "dataper.loc[(dataper.p03.cat.codes.isin(range(15,18))) & (dataper[\"asist_bach\"]!=1),\"asist_bach\"] = 0"
   ]
  },
  {
   "cell_type": "markdown",
   "metadata": {},
   "source": [
    "##### c) Cálculo de la privación"
   ]
  },
  {
   "cell_type": "code",
   "execution_count": 217,
   "metadata": {},
   "outputs": [],
   "source": [
    "#gen dim1_ind1=1 if inrange(p03,5,17) & p10a<8\n",
    "#replace dim1_ind1=0 if inrange(p03,5,17) & (asist_basica==1 | asist_bach==1 | p10a>=8)\n",
    "#label var dim1_ind1 \"Inasistencia a educación básica y bachillerato\"\n",
    "dataper.loc[(dataper.p03.cat.codes.isin(range(5,18)))&(dataper.p10a.cat.codes<7),\"dim1_ind1\"]=1\n",
    "dataper.loc[(dataper.p03.cat.codes.isin(range(5,18)))&((dataper[\"asist_basica\"]==1)|(dataper[\"asist_bach\"]==1)|(dataper.p10a.cat.codes>=7)),\"dim1_ind1\"]=0"
   ]
  },
  {
   "cell_type": "code",
   "execution_count": 218,
   "metadata": {},
   "outputs": [
    {
     "data": {
      "text/plain": [
       "0.0    28588\n",
       "1.0     3183\n",
       "Name: dim1_ind1, dtype: int64"
      ]
     },
     "execution_count": 218,
     "metadata": {},
     "output_type": "execute_result"
    }
   ],
   "source": [
    "dataper.dim1_ind1.value_counts()"
   ]
  },
  {
   "cell_type": "markdown",
   "metadata": {},
   "source": [
    "#### 2. No acceso a educación superior por razónes económicas"
   ]
  },
  {
   "cell_type": "code",
   "execution_count": 219,
   "metadata": {},
   "outputs": [],
   "source": [
    "#gen dim1_ind2=0 if inrange(p03,18,29) & (p07>=1 & p07<=2) &\n",
    "#( (p10a==7 & p10b>=3)\n",
    "#| (p10a==6 & p10b>=6))\n",
    "#| inrange(p10a,8,10);\n",
    "dataper.loc[(dataper.p03.cat.codes.isin(range(18,30))) & (dataper.p07.cat.codes.isin([0,1])) & \\\n",
    "(((dataper.p10a.cat.codes==6)&(dataper.p10b>=3)) \\\n",
    "|((dataper.p10a.cat.codes==5)&(dataper.p10b>=6))) \\\n",
    "|(dataper.p10a.cat.codes.isin(range(7,10))),\"dim1_ind2\"] = 0"
   ]
  },
  {
   "cell_type": "code",
   "execution_count": 220,
   "metadata": {},
   "outputs": [],
   "source": [
    "#replace dim1_ind2=1 if inrange(p03,18,29) & p07==2 &\n",
    "#( (p10a==7 & p10b>=3)\n",
    "#| (p10a==6 & p10b>=6)\n",
    "#| (inrange(p10a,8,9)))\n",
    "#& p09==3 ;\n",
    "dataper.loc[(dataper.p03.cat.codes.isin(range(18,30))) & (dataper.p07.cat.codes==1) & \\\n",
    "(((dataper.p10a.cat.codes==6)&(dataper.p10b>=3)) \\\n",
    "|((dataper.p10a.cat.codes==5)&(dataper.p10b>=6)) \\\n",
    "|(dataper.p10a.cat.codes.isin(range(7,9)))) & (dataper.p09.cat.codes==2),\"dim1_ind2\"] = 1"
   ]
  },
  {
   "cell_type": "code",
   "execution_count": 221,
   "metadata": {},
   "outputs": [],
   "source": [
    "#replace dim1_ind2=. if p03<18 | p03>29\n",
    "#label var dim1_ind2 \"Barrera económica al acceso a educación superior\"\n",
    "dataper.loc[(dataper.p03.cat.codes<18) | (dataper.p03.cat.codes>29),\"dim1_ind2\"] = np.nan"
   ]
  },
  {
   "cell_type": "code",
   "execution_count": 222,
   "metadata": {},
   "outputs": [
    {
     "data": {
      "text/plain": [
       "0.0    10165\n",
       "1.0     2582\n",
       "Name: dim1_ind2, dtype: int64"
      ]
     },
     "execution_count": 222,
     "metadata": {},
     "output_type": "execute_result"
    }
   ],
   "source": [
    "dataper.dim1_ind2.value_counts()"
   ]
  },
  {
   "cell_type": "markdown",
   "metadata": {},
   "source": [
    "#### 3. Logro educativo incompleto"
   ]
  },
  {
   "cell_type": "code",
   "execution_count": 223,
   "metadata": {},
   "outputs": [],
   "source": [
    "#gen escol=.\n",
    "#replace escol=0 if p10a==1 & p10b==0\n",
    "#replace escol=0 if p10a==2 & p10b==0\n",
    "#replace escol=2 if p10a==2 & p10b==1\n",
    "#replace escol=4 if p10a==2 & p10b==2\n",
    "#replace escol=6 if p10a==2 & p10b==3\n",
    "#replace escol=7 if p10a==2 & p10b==4\n",
    "#replace escol=1 if p10a==3\n",
    "#replace escol=1+ p10b if p10a==4\n",
    "#replace escol= p10b if p10a==5\n",
    "#replace escol=7+ p10b if p10a==6\n",
    "#replace escol=10+p10b if p10a==7\n",
    "#replace escol=13+p10b if p10a==8\n",
    "#replace escol=13+p10b if p10a==9\n",
    "#replace escol=18+p10b if p10a==10\n",
    "#replace escol=0 if escol==.\n",
    "dataper.loc[((dataper.p10a.cat.codes==0)&(dataper.p10b==0))|((dataper.p10a.cat.codes==1)&(dataper.p10b==0)),\"escol\"] = 0\n",
    "dataper.loc[((dataper.p10a.cat.codes==1)&(dataper.p10b==1)),\"escol\"] = 2\n",
    "dataper.loc[((dataper.p10a.cat.codes==1)&(dataper.p10b==2)),\"escol\"] = 4\n",
    "dataper.loc[((dataper.p10a.cat.codes==1)&(dataper.p10b==3)),\"escol\"] = 6\n",
    "dataper.loc[((dataper.p10a.cat.codes==1)&(dataper.p10b==4)),\"escol\"] = 7\n",
    "dataper.loc[(dataper.p10a.cat.codes==2),\"escol\"] = 1\n",
    "dataper.loc[(dataper.p10a.cat.codes==3),\"escol\"] = 1+dataper.p10b\n",
    "dataper.loc[(dataper.p10a.cat.codes==4),\"escol\"] = dataper.p10b\n",
    "dataper.loc[(dataper.p10a.cat.codes==5),\"escol\"] = 7+dataper.p10b\n",
    "dataper.loc[(dataper.p10a.cat.codes==6),\"escol\"] = 10+dataper.p10b\n",
    "dataper.loc[(dataper.p10a.cat.codes==7),\"escol\"] = 13+dataper.p10b\n",
    "dataper.loc[(dataper.p10a.cat.codes==8),\"escol\"] = 13+dataper.p10b\n",
    "dataper.loc[(dataper.p10a.cat.codes==9),\"escol\"] = 18+dataper.p10b\n",
    "dataper.loc[dataper.escol.isnull(),\"escol\"] = 0"
   ]
  },
  {
   "cell_type": "code",
   "execution_count": 224,
   "metadata": {},
   "outputs": [],
   "source": [
    "#gen dim1_ind3=0 if inrange(p03,18,64) & ((escol<10 & p07==1) | (escol>=10))\n",
    "#replace dim1_ind3=1 if inrange(p03,18,64) & escol<10 & p07==2\n",
    "#label var dim1_ind3 \"Logro educativo incompleto\"\n",
    "dataper.loc[(dataper.p03.cat.codes.isin(range(18,65)))&(((dataper.escol<10)&(dataper.p07.cat.codes==0))|(dataper.escol>=10)),\"dim1_ind3\"]=0\n",
    "dataper.loc[(dataper.p03.cat.codes.isin(range(18,65)))&(dataper.escol<10)&(dataper.p07.cat.codes==1),\"dim1_ind3\"]=1"
   ]
  },
  {
   "cell_type": "code",
   "execution_count": 225,
   "metadata": {},
   "outputs": [
    {
     "data": {
      "text/plain": [
       "0.0    37443\n",
       "1.0    24503\n",
       "Name: dim1_ind3, dtype: int64"
      ]
     },
     "execution_count": 225,
     "metadata": {},
     "output_type": "execute_result"
    }
   ],
   "source": [
    "dataper.dim1_ind3.value_counts()"
   ]
  },
  {
   "cell_type": "markdown",
   "metadata": {
    "id": "4-YUc5x6DNet"
   },
   "source": [
    "### <font color='darkblue'>*Dimension 2 TRABAJO Y SEGURIDAD SOCIAL*"
   ]
  },
  {
   "cell_type": "markdown",
   "metadata": {},
   "source": [
    "#### 1. Empleo infantil y adolescente"
   ]
  },
  {
   "cell_type": "code",
   "execution_count": 226,
   "metadata": {},
   "outputs": [],
   "source": [
    "#gen horas =0 if empleo ==1\n",
    "#replace horas =p24 if pea ==1 & p20 ==1\n",
    "#replace horas =p24 if pea ==1 & p20 ==2 & p21 <=11\n",
    "#recode p51* (999 = .)\n",
    "#egen hh = rowtotal (p51*), missing\n",
    "#replace hh = . if hh <0\n",
    "#replace horas = hh if pea ==1 & p20 ==2 & p21 ==12 & p22==1\n",
    "dataper.loc[dataper.empleo.cat.codes==0,\"horas\"]=0\n",
    "dataper.loc[(dataper.pea.cat.codes == 0)&(dataper.p20.cat.codes==0),\"horas\"] = dataper.p24.cat.codes\n",
    "dataper.loc[(dataper.pea.cat.codes == 0)&(dataper.p20.cat.codes==1)&(dataper.p21.cat.codes<=10),\"horas\"] = dataper.p24.cat.codes\n",
    "dataper[\"hh\"] = dataper.p51a.cat.codes+dataper.p51b.cat.codes+dataper.p51c.cat.codes\n",
    "dataper.loc[dataper[\"hh\"]<0,\"hh\"] = np.nan\n",
    "dataper.loc[(dataper.pea.cat.codes == 0)&(dataper.p20.cat.codes==1)&(dataper.p21.cat.codes==11)&(dataper.p22.cat.codes==0),\"horas\"] = dataper[\"hh\"]"
   ]
  },
  {
   "cell_type": "code",
   "execution_count": 227,
   "metadata": {},
   "outputs": [],
   "source": [
    "#gen dim2_ind1=(p20==1 | inrange(p21,1,11) | p22==1) & inrange(p03, 5,14)\n",
    "#replace dim2_ind1=1 if inrange(condactn,2,6) & inrange(p03,15,17)\n",
    "#replace dim2_ind1=1 if condactn ==1 & inrange(p03,15,17) & (p07==2 | horas>30)\n",
    "#replace dim2_ind1=. if p03>=18\n",
    "dataper[\"dim2_ind1\"]=(((dataper.p20.cat.codes==0)|(dataper.p21.cat.codes.isin(range(0,11)))|(dataper.p22.cat.codes==0)) \\\n",
    "                      &(dataper.p03.cat.codes.isin(range(5,15)))).astype(\"int\")\n",
    "dataper.loc[dataper.CONDACTN.cat.codes.isin(range(2,7))&(dataper.p03.cat.codes.isin(range(15,18))),\"dim2_ind1\"]=1\n",
    "dataper.loc[(dataper.CONDACTN.cat.codes==1)&(dataper.p03.cat.codes.isin(range(15,18)))&((dataper.p07.cat.codes==1)|(dataper.horas>30)),\"dim2_ind1\"]=1\n",
    "dataper.loc[dataper.p03.cat.codes>=18,\"dim2_ind1\"] = np.nan"
   ]
  },
  {
   "cell_type": "code",
   "execution_count": 228,
   "metadata": {},
   "outputs": [
    {
     "data": {
      "text/plain": [
       "0.0    39330\n",
       "1.0     2698\n",
       "Name: dim2_ind1, dtype: int64"
      ]
     },
     "execution_count": 228,
     "metadata": {},
     "output_type": "execute_result"
    }
   ],
   "source": [
    "dataper[\"dim2_ind1\"].value_counts()"
   ]
  },
  {
   "cell_type": "markdown",
   "metadata": {},
   "source": [
    "#### 2. Desempleo o empleo inadecuado"
   ]
  },
  {
   "cell_type": "code",
   "execution_count": 229,
   "metadata": {},
   "outputs": [],
   "source": [
    "#gen dim2_ind2= inrange(condactn,2,8) & inrange(p03,18,98)\n",
    "#replace dim2_ind2=. if p03<18 | p03==99 | ///\n",
    "#(p20==. & p21==. & p22==. & p32==. & p34==. & p35==.)\n",
    "#label var dim2_ind2 \"Desempleo o empleo inadecuado\"\n",
    "dataper[\"dim2_ind2\"] = (dataper.CONDACTN.cat.codes.isin(range(2,9))&(dataper.p03.cat.codes.isin(range(18,99)))).astype(\"int\")\n",
    "dataper.loc[(dataper.p03.cat.codes<18)|(dataper.p03.cat.codes==99)| \\\n",
    "(dataper.p20.isnull()&dataper.p21.isnull()&dataper.p22.isnull()&dataper.p32.isnull()&dataper.p34.isnull()&dataper.p35.isnull()),\"dim2_ind2\"]=np.nan"
   ]
  },
  {
   "cell_type": "code",
   "execution_count": 230,
   "metadata": {},
   "outputs": [
    {
     "data": {
      "text/plain": [
       "0.0    41620\n",
       "1.0    29162\n",
       "Name: dim2_ind2, dtype: int64"
      ]
     },
     "execution_count": 230,
     "metadata": {},
     "output_type": "execute_result"
    }
   ],
   "source": [
    "dataper[\"dim2_ind2\"].value_counts()"
   ]
  },
  {
   "cell_type": "markdown",
   "metadata": {},
   "source": [
    "#### 3. No contribución al sistema de pensiones"
   ]
  },
  {
   "cell_type": "code",
   "execution_count": 231,
   "metadata": {},
   "outputs": [],
   "source": [
    "#gen dim2_ind3 = (empleo==1 & inrange(p05a,5,10) & inrange(p05b,5,10))\n",
    "#replace dim2_ind3 = 0 if empleo ==1 & p03>=65 & p72a==1\n",
    "dataper[\"dim2_ind3\"]=((dataper.empleo.cat.codes==0)&(dataper.p05a.cat.codes.isin(range(4,10)))&(dataper.p05b.cat.codes.isin(range(4,10)))).astype(\"int\")\n",
    "dataper.loc[(dataper.empleo.cat.codes==0)&(dataper.p03.cat.codes>=65)&(dataper.p72a.cat.codes==0),\"dim2_ind3\"] = 0"
   ]
  },
  {
   "cell_type": "code",
   "execution_count": 232,
   "metadata": {},
   "outputs": [],
   "source": [
    "#replace dim2_ind3 = 1 if (desem ==1 | pei==1) & p03>=65 & p72a==2\n",
    "#replace dim2_ind3 = 0 if p03>=65 & p72a== 2 & p75==1\n",
    "#replace dim2_ind3 = 0 if pet ==1 & p77==1\n",
    "#replace dim2_ind3 = . if pet ==0 | inrange(p03,0,14)\n",
    "#label var dim2_ind3 \"No contribución al sistema de pensiones\"\n",
    "dataper.loc[((dataper.desem.cat.codes==0)|(dataper.pei.cat.codes==0))&(dataper.p03.cat.codes>=65)&(dataper.p72a.cat.codes==1),\"dim2_ind3\"] = 1\n",
    "dataper.loc[(dataper.p03.cat.codes>=65)&(dataper.p72a.cat.codes==1)&(dataper.p75.cat.codes==0),\"dim2_ind3\"]=0\n",
    "dataper.loc[(dataper.pet.cat.codes==0)&(dataper.p77.cat.codes==0),\"dim2_ind3\"]=0\n",
    "dataper.loc[((dataper.pet.cat.codes==-1) | (dataper.p03.cat.codes.isin(range(0,15)))),\"dim2_ind3\"]=np.nan"
   ]
  },
  {
   "cell_type": "code",
   "execution_count": 233,
   "metadata": {},
   "outputs": [
    {
     "data": {
      "text/plain": [
       "0.0    49429\n",
       "1.0    28688\n",
       "Name: dim2_ind3, dtype: int64"
      ]
     },
     "execution_count": 233,
     "metadata": {},
     "output_type": "execute_result"
    }
   ],
   "source": [
    "dataper[\"dim2_ind3\"].value_counts()"
   ]
  },
  {
   "cell_type": "markdown",
   "metadata": {},
   "source": [
    "### <font color='darkblue'>*Dimension 3 SALUD, AGUA Y ALIMENTACIÓN*"
   ]
  },
  {
   "cell_type": "markdown",
   "metadata": {},
   "source": [
    "#### 1. Pobreza extrema por ingresos"
   ]
  },
  {
   "cell_type": "code",
   "execution_count": 234,
   "metadata": {},
   "outputs": [],
   "source": [
    "#gen dim3_ind1 = epobre\n",
    "#label var dim3_ind1 \"Pobreza extrema por ingresos\"\n",
    "dataper[\"dim3_ind1\"] = (dataper.epobreza.cat.codes==0).astype(\"int\")\n",
    "dataper.loc[(dataper.epobreza.cat.codes==-1),\"dim3_ind1\"]=np.nan"
   ]
  },
  {
   "cell_type": "code",
   "execution_count": 235,
   "metadata": {},
   "outputs": [
    {
     "data": {
      "text/plain": [
       "0.0    98602\n",
       "1.0    13092\n",
       "Name: dim3_ind1, dtype: int64"
      ]
     },
     "execution_count": 235,
     "metadata": {},
     "output_type": "execute_result"
    }
   ],
   "source": [
    "dataper[\"dim3_ind1\"].value_counts()"
   ]
  },
  {
   "cell_type": "markdown",
   "metadata": {},
   "source": [
    "#### 2. Sin servicio de agua por red pública"
   ]
  },
  {
   "cell_type": "code",
   "execution_count": 236,
   "metadata": {},
   "outputs": [],
   "source": [
    "#gen dim3_ind2=(vi10!=1)\n",
    "#replace dim3_ind2=. if vi10 ==.\n",
    "#label var dim3_ind2 \"Sin servicio de agua por red pública\"\n",
    "dataviv[\"dim3_ind2\"] = (dataviv.vi10.cat.codes!=0).astype(int)\n",
    "dataviv.loc[dataviv.vi10.isnull(),\"dim3_ind2\"] = np.nan\n",
    "dataper = dataper.merge(dataviv[[\"idh\",\"dim3_ind2\"]],on=\"idh\")"
   ]
  },
  {
   "cell_type": "code",
   "execution_count": 237,
   "metadata": {},
   "outputs": [
    {
     "data": {
      "text/plain": [
       "0.0    83159\n",
       "1.0    29662\n",
       "Name: dim3_ind2, dtype: int64"
      ]
     },
     "execution_count": 237,
     "metadata": {},
     "output_type": "execute_result"
    }
   ],
   "source": [
    "dataper[\"dim3_ind2\"].value_counts()"
   ]
  },
  {
   "cell_type": "markdown",
   "metadata": {},
   "source": [
    "### <font color='darkblue'>*DIMENSION 4: HABITAT, VIVIENDA Y AMBIENTE SANO*"
   ]
  },
  {
   "cell_type": "markdown",
   "metadata": {},
   "source": [
    "#### 1. Hacinamiento"
   ]
  },
  {
   "cell_type": "code",
   "execution_count": 238,
   "metadata": {},
   "outputs": [],
   "source": [
    "#recode vi07 (0=1)\n",
    "#egen hsize=count(p01), by(id_hogar)\n",
    "#gen dim4_ind1=1 if (hsize/vi07)> 3\n",
    "#replace dim4_ind1=0 if (hsize/vi07)<=3\n",
    "#label var dim4_ind1 \"Hacinamiento\"\n",
    "dataviv[\"vi07\"]=dataviv.vi07.cat.codes.mask((dataviv.vi07.cat.codes == 0),1)\n",
    "dataper[\"hsize\"] = dataper.groupby(\"idh\")[\"p01\"].transform(\"size\")\n",
    "dataper = dataper.merge(dataviv[[\"idh\",\"vi07\"]],on=\"idh\")\n",
    "dataper[\"hsizevi07\"] = (dataper[\"hsize\"] / dataper[\"vi07\"])\n",
    "dataper[\"dim4_ind1\"] = 0\n",
    "dataper.loc[(dataper[\"hsizevi07\"]>3),\"dim4_ind1\"] = 1"
   ]
  },
  {
   "cell_type": "code",
   "execution_count": 239,
   "metadata": {},
   "outputs": [
    {
     "data": {
      "text/plain": [
       "0    93534\n",
       "1    19287\n",
       "Name: dim4_ind1, dtype: int64"
      ]
     },
     "execution_count": 239,
     "metadata": {},
     "output_type": "execute_result"
    }
   ],
   "source": [
    "dataper[\"dim4_ind1\"].value_counts()"
   ]
  },
  {
   "cell_type": "markdown",
   "metadata": {},
   "source": [
    "#### 2. Deficit Habitacional"
   ]
  },
  {
   "cell_type": "code",
   "execution_count": 240,
   "metadata": {},
   "outputs": [],
   "source": [
    "#((vi03a==1 & inrange(vi03b,1,2))\n",
    "#|(vi03b==1 & inrange(vi03a,2,4)))\n",
    "dataviv.loc[((dataviv.vi03a.cat.codes == 0)&(dataviv.vi03b.cat.codes.isin([0,1]))) | \\\n",
    "((dataviv.vi03b.cat.codes==0)&(dataviv.vi03a.cat.codes.isin(range(1,4)))),\"techo\"] = 1"
   ]
  },
  {
   "cell_type": "code",
   "execution_count": 241,
   "metadata": {},
   "outputs": [],
   "source": [
    "#replace techo=2 if\n",
    "#((vi03a==1 & vi03b==3)\n",
    "#| vi03b==2 & inrange(vi03a,2,4))\n",
    "dataviv.loc[((dataviv.vi03a.cat.codes == 0)&(dataviv.vi03b.cat.codes == 2)) | \\\n",
    "((dataviv.vi03b.cat.codes==1)&(dataviv.vi03a.cat.codes.isin(range(1,4)))),\"techo\"] = 2"
   ]
  },
  {
   "cell_type": "code",
   "execution_count": 242,
   "metadata": {},
   "outputs": [],
   "source": [
    "#replace techo=3 if\n",
    "#((vi03b==3 & inrange(vi03a,2,4))\n",
    "#|(vi03a==5 | vi03a==6))\n",
    "dataviv.loc[((dataviv.vi03b.cat.codes == 2)&(dataviv.vi03a.cat.codes.isin(range(1,4)))) | \\\n",
    "((dataviv.vi03a.cat.codes==4)|(dataviv.vi03a.cat.codes==5)),\"techo\"] = 3"
   ]
  },
  {
   "cell_type": "code",
   "execution_count": 243,
   "metadata": {},
   "outputs": [],
   "source": [
    "#gen pared=1 if\n",
    "#((vi05a==1 & inrange(vi05b,1,2))\n",
    "#|(vi05a==2 & vi05b==1))\n",
    "dataviv.loc[((dataviv.vi05a.cat.codes==0)&(dataviv.vi05b.cat.codes.isin([0,1]))) | \\\n",
    "((dataviv.vi05a.cat.codes==1)&(dataviv.vi05b.cat.codes==0)),\"pared\"]=1"
   ]
  },
  {
   "cell_type": "code",
   "execution_count": 244,
   "metadata": {},
   "outputs": [],
   "source": [
    "#replace pared=2 if\n",
    "#((vi05a==1 & vi05b==3)\n",
    "#|(vi05a==2 & vi05b==2)\n",
    "#|(inrange(vi05a,3,5) & inrange(vi05b,1,2)))\n",
    "dataviv.loc[((dataviv.vi05a.cat.codes==0)&(dataviv.vi05b.cat.codes==2)) | \\\n",
    "((dataviv.vi05a.cat.codes==1)&(dataviv.vi05b.cat.codes==1)) | \\\n",
    "((dataviv.vi05a.cat.codes.isin(range(2,5)))&(dataviv.vi05b.cat.codes.isin([0,1]))),\"pared\"]=2"
   ]
  },
  {
   "cell_type": "code",
   "execution_count": 245,
   "metadata": {},
   "outputs": [],
   "source": [
    "#replace pared=3 if\n",
    "#((vi05b==3 & inrange(vi05a,2,5))\n",
    "#|(vi05a==6 | vi05a==7))\n",
    "dataviv.loc[((dataviv.vi05b.cat.codes==2)&(dataviv.vi05a.cat.codes.isin(range(1,5)))) | \\\n",
    "(dataviv.vi05a.cat.codes.isin([5,6])),\"pared\"] =3"
   ]
  },
  {
   "cell_type": "code",
   "execution_count": 246,
   "metadata": {},
   "outputs": [],
   "source": [
    "#gen piso=1 if\n",
    "#((vi04a<=3 & vi04b==1)\n",
    "#|(vi04a<=3 & vi04b==2)\n",
    "#|(vi04b==1 & inrange(vi04a,4,5)))\n",
    "dataviv.loc[((dataviv.vi04a.cat.codes<=2)&(dataviv.vi04b.cat.codes==0))\\\n",
    "|((dataviv.vi04a.cat.codes<=2)&(dataviv.vi04b.cat.codes==1))\\\n",
    "|((dataviv.vi04b.cat.codes==0)&(dataviv.vi04a.cat.codes.isin([3,4]))),\"piso\"]=1"
   ]
  },
  {
   "cell_type": "code",
   "execution_count": 247,
   "metadata": {},
   "outputs": [],
   "source": [
    "#replace piso=2 if\n",
    "#((vi04a <= 3 & vi04b == 3)\n",
    "#|(vi04b==2 & inrange(vi04a,4,5))\n",
    "#|(vi04a==6 & vi04b==1))\n",
    "dataviv.loc[((dataviv.vi04a.cat.codes<=2)&(dataviv.vi04b.cat.codes==2))\\\n",
    "|((dataviv.vi04b.cat.codes==1)&(dataviv.vi04a.cat.codes.isin([3,4])))\\\n",
    "|((dataviv.vi04a.cat.codes==5)&(dataviv.vi04b.cat.codes==0)),\"piso\"]=2"
   ]
  },
  {
   "cell_type": "code",
   "execution_count": 248,
   "metadata": {},
   "outputs": [],
   "source": [
    "#replace piso=3 if\n",
    "#((vi04b==3 & inlist(vi04a,4,5,6))\n",
    "#|(vi04a==6 & vi04b==2)\n",
    "#|(vi04a==7 | vi04a==8))\n",
    "dataviv.loc[((dataviv.vi04b.cat.codes==2)&(dataviv.vi04a.cat.codes.isin([3,4,5])))\\\n",
    "|((dataviv.vi04a.cat.codes==5)&(dataviv.vi04b.cat.codes==1))\\\n",
    "|(dataviv.vi04a.cat.codes==6)|(dataviv.vi04a.cat.codes==7),\"piso\"]=3"
   ]
  },
  {
   "cell_type": "code",
   "execution_count": 249,
   "metadata": {},
   "outputs": [],
   "source": [
    "#gen tipviv=1 if\n",
    "#((techo==1 & pared==1 & inrange(piso,1,3))\n",
    "#|(techo==1 & pared==2 & piso==1))\n",
    "dataviv.loc[((dataviv.techo==1)&(dataviv.pared==1)&(dataviv.piso.isin(range(1,4))))\\\n",
    "|((dataviv.techo==1)&(dataviv.pared==2)&(dataviv.piso==1)),\"tipviv\"] = 1"
   ]
  },
  {
   "cell_type": "code",
   "execution_count": 250,
   "metadata": {},
   "outputs": [],
   "source": [
    "#replace tipviv=2 if\n",
    "#((techo==1 & pared==2 & inrange(piso,2,3))\n",
    "#| techo==1 & pared==3 & inrange(piso,1,2)\n",
    "#| techo==2 & pared==1 & inrange(piso,1,2)\n",
    "#| techo==2 & pared==2 & inrange(piso,1,2)\n",
    "#| techo==3 & pared==1 & inrange(piso,1,2)\n",
    "#|(techo==3 & pared==2 & piso==1))\n",
    "dataviv.loc[((dataviv.techo==1)&(dataviv.pared==2)&(dataviv.piso.isin(range(2,4))))\\\n",
    "|((dataviv.techo==1)&(dataviv.pared==3)&(dataviv.piso.isin(range(1,3))))\n",
    "|((dataviv.techo==2)&(dataviv.pared==1)&(dataviv.piso.isin(range(1,3))))\n",
    "|((dataviv.techo==2)&(dataviv.pared==2)&(dataviv.piso.isin(range(1,3))))\n",
    "|((dataviv.techo==3)&(dataviv.pared==1)&(dataviv.piso.isin(range(1,3))))\n",
    "|((dataviv.techo==3)&(dataviv.pared==2)&(dataviv.piso==1)),\"tipviv\"] = 2"
   ]
  },
  {
   "cell_type": "code",
   "execution_count": 251,
   "metadata": {},
   "outputs": [],
   "source": [
    "#replace tipviv=3 if\n",
    "#((techo==1 & pared==3 & piso==3)\n",
    "#|(techo==2 & pared==1 & piso==3)\n",
    "#|(techo==2 & pared==2 & piso==3)\n",
    "#| techo==2 & pared==3 & inrange(piso,1,3)\n",
    "#|(techo==3 & pared==1 & piso==3)\n",
    "#| techo==3 & pared==2 & inrange(piso,1,3)\n",
    "#| techo==3 & pared==3 & inrange(piso,1,3))\n",
    "dataviv.loc[((dataviv.techo==1)&(dataviv.pared==3)&(dataviv.piso==3))\\\n",
    "|((dataviv.techo==2)&(dataviv.pared==1)&(dataviv.piso==3))\n",
    "|((dataviv.techo==2)&(dataviv.pared==2)&(dataviv.piso==3))\n",
    "|((dataviv.techo==2)&(dataviv.pared==3)&(dataviv.piso.isin(range(1,4))))\n",
    "|((dataviv.techo==3)&(dataviv.pared==1)&(dataviv.piso==3))\n",
    "|((dataviv.techo==3)&(dataviv.pared==2)&(dataviv.piso.isin(range(1,4))))\n",
    "|((dataviv.techo==3)&(dataviv.pared==3)&(dataviv.piso.isin(range(1,4)))),\"tipviv\"] = 3"
   ]
  },
  {
   "cell_type": "code",
   "execution_count": 252,
   "metadata": {},
   "outputs": [],
   "source": [
    "#gen dim4_ind2=1 if (tipviv==3 | tipviv==2)\n",
    "#replace dim4_ind2=0 if tipviv==1\n",
    "#label var dim4_ind2 \"Déficit habitacional\"\n",
    "dataviv[\"dim4_ind2\"]=1\n",
    "dataviv.loc[dataviv.tipviv==1,\"dim4_ind2\"] = 0"
   ]
  },
  {
   "cell_type": "code",
   "execution_count": 253,
   "metadata": {},
   "outputs": [
    {
     "data": {
      "text/plain": [
       "0    15341\n",
       "1    14692\n",
       "Name: dim4_ind2, dtype: int64"
      ]
     },
     "execution_count": 253,
     "metadata": {},
     "output_type": "execute_result"
    }
   ],
   "source": [
    "dataviv[\"dim4_ind2\"].value_counts()"
   ]
  },
  {
   "cell_type": "markdown",
   "metadata": {},
   "source": [
    "#### 3. Sin saneamiento de excretas"
   ]
  },
  {
   "cell_type": "code",
   "execution_count": 254,
   "metadata": {},
   "outputs": [],
   "source": [
    "#gen dim4_ind3=(area==1 & inrange(vi09,2,5)) | (area==2 & inrange(vi09,3,5))\n",
    "#replace dim4_ind3=. if vi09==. | area==.\n",
    "#label var dim4_ind3 \"Sin saneamiento de excretas\""
   ]
  },
  {
   "cell_type": "code",
   "execution_count": 255,
   "metadata": {},
   "outputs": [],
   "source": [
    "dataviv[\"dim4_ind3\"] = (((dataviv.area==1)&(dataviv.vi09.cat.codes.isin(range(1,5))))\\\n",
    "|((dataviv.area==2)&(dataviv.vi09.cat.codes.isin(range(2,5))))).astype(int)"
   ]
  },
  {
   "cell_type": "code",
   "execution_count": 256,
   "metadata": {},
   "outputs": [
    {
     "data": {
      "text/plain": [
       "0    23548\n",
       "1     6485\n",
       "Name: dim4_ind3, dtype: int64"
      ]
     },
     "execution_count": 256,
     "metadata": {},
     "output_type": "execute_result"
    }
   ],
   "source": [
    "dataviv[\"dim4_ind3\"].value_counts()"
   ]
  },
  {
   "cell_type": "markdown",
   "metadata": {},
   "source": [
    "#### 4. Sin servicio de recolección de basura"
   ]
  },
  {
   "cell_type": "code",
   "execution_count": 257,
   "metadata": {},
   "outputs": [],
   "source": [
    "#gen dim4_ind4=inlist(vi13,1,3,4,5)\n",
    "#replace dim4_ind4=. if vi13==.\n",
    "dataviv[\"dim4_ind4\"] = (dataviv.vi13.cat.codes.isin([0,2,3,4])).astype(int)"
   ]
  },
  {
   "cell_type": "code",
   "execution_count": 258,
   "metadata": {},
   "outputs": [
    {
     "data": {
      "text/plain": [
       "0    24907\n",
       "1     5126\n",
       "Name: dim4_ind4, dtype: int64"
      ]
     },
     "execution_count": 258,
     "metadata": {},
     "output_type": "execute_result"
    }
   ],
   "source": [
    "dataviv[\"dim4_ind4\"].value_counts()"
   ]
  },
  {
   "cell_type": "code",
   "execution_count": 259,
   "metadata": {},
   "outputs": [],
   "source": [
    "#*1.Educación*\n",
    "#egen miss_dim1_ind1=rowmiss(p07 p10a) if inrange(p03,5,17)\n",
    "#egen miss_dim1_ind2=rowmiss(p07 p10a) if inrange(p03,18,29)\n",
    "#egen miss_dim1_ind3=rowmiss(p07 escol) if inrange(p03,18,64)\n",
    "dataper[\"miss_dim1_ind1\"]=((dataper.loc[:,[\"p07\",\"p10a\"]].isnull().any(axis=1))&(dataper.p03.cat.codes.isin(range(5,18)))).astype(int)\n",
    "dataper[\"miss_dim1_ind2\"]=((dataper.loc[:,[\"p07\",\"p10a\"]].isnull().any(axis=1))&(dataper.p03.cat.codes.isin(range(18,30)))).astype(int)\n",
    "dataper[\"miss_dim1_ind3\"]=((dataper.loc[:,[\"p07\",\"escol\"]].isnull().any(axis=1))&(dataper.p03.cat.codes.isin(range(18,65)))).astype(int)"
   ]
  },
  {
   "cell_type": "code",
   "execution_count": 260,
   "metadata": {},
   "outputs": [
    {
     "data": {
      "text/plain": [
       "0    112821\n",
       "Name: miss_dim1_ind1, dtype: int64"
      ]
     },
     "execution_count": 260,
     "metadata": {},
     "output_type": "execute_result"
    }
   ],
   "source": [
    "dataper[\"miss_dim1_ind1\"].value_counts()"
   ]
  },
  {
   "cell_type": "code",
   "execution_count": 261,
   "metadata": {},
   "outputs": [
    {
     "data": {
      "text/plain": [
       "0    112821\n",
       "Name: miss_dim1_ind2, dtype: int64"
      ]
     },
     "execution_count": 261,
     "metadata": {},
     "output_type": "execute_result"
    }
   ],
   "source": [
    "dataper[\"miss_dim1_ind2\"].value_counts()"
   ]
  },
  {
   "cell_type": "code",
   "execution_count": 262,
   "metadata": {},
   "outputs": [
    {
     "data": {
      "text/plain": [
       "0    112821\n",
       "Name: miss_dim1_ind3, dtype: int64"
      ]
     },
     "execution_count": 262,
     "metadata": {},
     "output_type": "execute_result"
    }
   ],
   "source": [
    "dataper[\"miss_dim1_ind3\"].value_counts()"
   ]
  },
  {
   "cell_type": "code",
   "execution_count": 263,
   "metadata": {},
   "outputs": [],
   "source": [
    "#*2.Trabajo y seguridad social*\n",
    "#gen miss_dim2_ind1=(p20==. & p21==. & p22==.) if inrange(p03,5,14)\n",
    "#replace miss_dim2_ind1=1 if condactn==. & inrange(p03,15,17)\n",
    "#replace miss_dim2_ind1=1 if condactn==1 & inrange(p03,15,17) & (p07==. | horas==.)\n",
    "#egen miss_dim2_ind2=rowmiss(condactn) if inrange(p03,18,98)\n",
    "#replace miss_dim2_ind2=1 if p20==. & p21==. & p22==. & p32==. & p34==. & p35==. & ///\n",
    "#inrange(p03,18,98)\n",
    "#egen miss_dim2_ind3=rowmiss(p72a p75 p77 p05a p05b) if inrange(p03,15,98)\n",
    "dataper[\"miss_dim2_ind1\"]=(dataper.p20.isnull()&dataper.p21.isnull()&dataper.p22.isnull()&(dataper.p03.cat.codes.isin(range(5,15)))).astype(int)\n",
    "dataper.loc[dataper.CONDACTN.isnull()&(dataper.p03.cat.codes.isin(range(15,18))),\"miss_dim2_ind1\"]=1\n",
    "dataper.loc[(dataper.CONDACTN.cat.codes==1)&(dataper.p03.cat.codes.isin(range(15,18)))&(dataper.p07.isnull()|dataper.horas.isnull()),\"miss_dim2_ind1\"]=1\n",
    "dataper[\"miss_dim2_ind2\"]=(dataper.CONDACTN.isnull()&(dataper.p03.cat.codes.isin(range(18,99)))).astype(int)\n",
    "dataper.loc[dataper.p20.isnull()&dataper.p21.isnull()&dataper.p22.isnull()&dataper.p32.isnull()&dataper.p34.isnull()&dataper.p35.isnull()&(dataper.p03.cat.codes.isin(range(18,99))),\"miss_dim2_ind2\"]=1\n",
    "dataper[\"miss_dim2_ind3\"]=((dataper.p72a.isnull()|dataper.p75.isnull()|dataper.p77.isnull()|dataper.p05a.isnull()|dataper.p05b.isnull())&(dataper.p03.cat.codes.isin(range(15,99)))).astype(int)"
   ]
  },
  {
   "cell_type": "code",
   "execution_count": 264,
   "metadata": {},
   "outputs": [
    {
     "data": {
      "text/plain": [
       "0    112821\n",
       "Name: miss_dim2_ind1, dtype: int64"
      ]
     },
     "execution_count": 264,
     "metadata": {},
     "output_type": "execute_result"
    }
   ],
   "source": [
    "dataper[\"miss_dim2_ind1\"].value_counts()"
   ]
  },
  {
   "cell_type": "code",
   "execution_count": 265,
   "metadata": {},
   "outputs": [
    {
     "data": {
      "text/plain": [
       "0    112821\n",
       "Name: miss_dim2_ind2, dtype: int64"
      ]
     },
     "execution_count": 265,
     "metadata": {},
     "output_type": "execute_result"
    }
   ],
   "source": [
    "dataper[\"miss_dim2_ind2\"].value_counts()"
   ]
  },
  {
   "cell_type": "code",
   "execution_count": 266,
   "metadata": {},
   "outputs": [
    {
     "data": {
      "text/plain": [
       "0    112821\n",
       "Name: miss_dim2_ind3, dtype: int64"
      ]
     },
     "execution_count": 266,
     "metadata": {},
     "output_type": "execute_result"
    }
   ],
   "source": [
    "dataper[\"miss_dim2_ind3\"].value_counts()"
   ]
  },
  {
   "cell_type": "code",
   "execution_count": 267,
   "metadata": {},
   "outputs": [],
   "source": [
    "#*3.Salud, agua y alimentación*\n",
    "#egen miss_dim3_ind1=rowmiss(epobre)\n",
    "#egen miss_dim3_ind2=rowmiss(vi10)\n",
    "dataper[\"miss_dim3_ind1\"] = dataper.epobreza.isnull().astype(int)\n",
    "dataper[\"miss_dim3_ind2\"] = dataviv.vi10.isnull().astype(int)"
   ]
  },
  {
   "cell_type": "code",
   "execution_count": 268,
   "metadata": {},
   "outputs": [
    {
     "data": {
      "text/plain": [
       "0    111694\n",
       "1      1127\n",
       "Name: miss_dim3_ind1, dtype: int64"
      ]
     },
     "execution_count": 268,
     "metadata": {},
     "output_type": "execute_result"
    }
   ],
   "source": [
    "dataper[\"miss_dim3_ind1\"].value_counts()"
   ]
  },
  {
   "cell_type": "code",
   "execution_count": 269,
   "metadata": {},
   "outputs": [
    {
     "data": {
      "text/plain": [
       "0.0    30033\n",
       "Name: miss_dim3_ind2, dtype: int64"
      ]
     },
     "execution_count": 269,
     "metadata": {},
     "output_type": "execute_result"
    }
   ],
   "source": [
    "dataper[\"miss_dim3_ind2\"].value_counts()"
   ]
  },
  {
   "cell_type": "code",
   "execution_count": 270,
   "metadata": {},
   "outputs": [],
   "source": [
    "#egen miss_dim4_ind1=rowmiss(hsize vi07)\n",
    "#egen miss_dim4_ind2=rowmiss(vi03a vi03b vi04a vi04b vi05a vi05b)\n",
    "#egen miss_dim4_ind3=rowmiss(vi09)\n",
    "#egen miss_dim4_ind4=rowmiss(vi13)\n",
    "dataper[\"miss_dim4_ind1\"] = (dataper.hsize.isnull()|dataper.vi07.isnull()).astype(int)\n",
    "dataviv[\"miss_dim4_ind2\"] = (dataviv.vi03a.isnull()|dataviv.vi03b.isnull()|dataviv.vi04a.isnull()|dataviv.vi04b.isnull()|dataviv.vi05a.isnull()|dataviv.vi05b.isnull()).astype(int)\n",
    "dataviv[\"miss_dim4_ind3\"] = dataviv.vi09.isnull().astype(int)\n",
    "dataviv[\"miss_dim4_ind4\"] = dataviv.vi13.isnull().astype(int)"
   ]
  },
  {
   "cell_type": "code",
   "execution_count": 271,
   "metadata": {},
   "outputs": [
    {
     "data": {
      "text/plain": [
       "0    112821\n",
       "Name: miss_dim4_ind1, dtype: int64"
      ]
     },
     "execution_count": 271,
     "metadata": {},
     "output_type": "execute_result"
    }
   ],
   "source": [
    "dataper[\"miss_dim4_ind1\"].value_counts()"
   ]
  },
  {
   "cell_type": "code",
   "execution_count": 272,
   "metadata": {},
   "outputs": [
    {
     "data": {
      "text/plain": [
       "0    30033\n",
       "Name: miss_dim4_ind2, dtype: int64"
      ]
     },
     "execution_count": 272,
     "metadata": {},
     "output_type": "execute_result"
    }
   ],
   "source": [
    "dataviv[\"miss_dim4_ind2\"].value_counts()"
   ]
  },
  {
   "cell_type": "code",
   "execution_count": 273,
   "metadata": {},
   "outputs": [
    {
     "data": {
      "text/plain": [
       "0    30033\n",
       "Name: miss_dim4_ind3, dtype: int64"
      ]
     },
     "execution_count": 273,
     "metadata": {},
     "output_type": "execute_result"
    }
   ],
   "source": [
    "dataviv[\"miss_dim4_ind3\"].value_counts()"
   ]
  },
  {
   "cell_type": "code",
   "execution_count": 274,
   "metadata": {},
   "outputs": [
    {
     "data": {
      "text/plain": [
       "0    30033\n",
       "Name: miss_dim4_ind4, dtype: int64"
      ]
     },
     "execution_count": 274,
     "metadata": {},
     "output_type": "execute_result"
    }
   ],
   "source": [
    "dataviv[\"miss_dim4_ind4\"].value_counts()"
   ]
  },
  {
   "cell_type": "code",
   "execution_count": 276,
   "metadata": {},
   "outputs": [],
   "source": [
    "#egen miss_total=rowtotal(miss_dim*)\n",
    "#recode miss_total (1/max=1)\n",
    "#label var miss_total \"Total de hogares sin información\"\n",
    "#drop miss_dim*\n",
    "#drop if p03==99\n",
    "#tempvar aux\n",
    "#bys id_hogar: egen `aux'=max(miss_total)\n",
    "#replace miss_total=`aux'\n",
    "#drop if miss_total==1\n",
    "dataviv[\"miss_total\"] = dataviv[\"miss_dim4_ind2\"] + dataviv[\"miss_dim4_ind3\"] + dataviv[\"miss_dim4_ind4\"]\n",
    "dataper[\"miss_total\"] = dataper.loc[:,[\"miss_dim1_ind1\",\"miss_dim1_ind2\",\"miss_dim1_ind3\",\"miss_dim2_ind1\",\"miss_dim2_ind2\",\"miss_dim2_ind3\",\"miss_dim3_ind1\",\"miss_dim3_ind2\",\"miss_dim4_ind1\"]].sum(axis=1)\n",
    "hogares_miss = dataper.loc[dataper[\"miss_total\"]>0,\"idh\"].unique()\n",
    "dataper = dataper.loc[~dataper.idh.isin(hogares_miss),:].reset_index(drop=True)"
   ]
  },
  {
   "cell_type": "code",
   "execution_count": 277,
   "metadata": {},
   "outputs": [
    {
     "data": {
      "text/plain": [
       "(111694, 342)"
      ]
     },
     "execution_count": 277,
     "metadata": {},
     "output_type": "execute_result"
    }
   ],
   "source": [
    "dataper.shape"
   ]
  },
  {
   "cell_type": "code",
   "execution_count": 290,
   "metadata": {},
   "outputs": [
    {
     "data": {
      "text/html": [
       "<div>\n",
       "<style scoped>\n",
       "    .dataframe tbody tr th:only-of-type {\n",
       "        vertical-align: middle;\n",
       "    }\n",
       "\n",
       "    .dataframe tbody tr th {\n",
       "        vertical-align: top;\n",
       "    }\n",
       "\n",
       "    .dataframe thead th {\n",
       "        text-align: right;\n",
       "    }\n",
       "</style>\n",
       "<table border=\"1\" class=\"dataframe\">\n",
       "  <thead>\n",
       "    <tr style=\"text-align: right;\">\n",
       "      <th></th>\n",
       "      <th>dim1_ind1</th>\n",
       "      <th>dim1_ind2</th>\n",
       "      <th>dim1_ind3</th>\n",
       "    </tr>\n",
       "    <tr>\n",
       "      <th>idh</th>\n",
       "      <th></th>\n",
       "      <th></th>\n",
       "      <th></th>\n",
       "    </tr>\n",
       "  </thead>\n",
       "  <tbody>\n",
       "    <tr>\n",
       "      <th>010150001003Panel A2Vivienda DosHogar Uno</th>\n",
       "      <td>0.0</td>\n",
       "      <td>NaN</td>\n",
       "      <td>10.0</td>\n",
       "    </tr>\n",
       "    <tr>\n",
       "      <th>010150001003Panel A2Vivienda TresHogar Uno</th>\n",
       "      <td>0.0</td>\n",
       "      <td>NaN</td>\n",
       "      <td>0.0</td>\n",
       "    </tr>\n",
       "    <tr>\n",
       "      <th>010150001003Panel A2Vivienda UnoHogar Uno</th>\n",
       "      <td>NaN</td>\n",
       "      <td>0.0</td>\n",
       "      <td>10.0</td>\n",
       "    </tr>\n",
       "    <tr>\n",
       "      <th>010150001003Panel B2Vivienda Cuatro (reemplazo)Hogar Uno</th>\n",
       "      <td>0.0</td>\n",
       "      <td>0.0</td>\n",
       "      <td>0.0</td>\n",
       "    </tr>\n",
       "    <tr>\n",
       "      <th>010150001003Panel B2Vivienda DosHogar Uno</th>\n",
       "      <td>0.0</td>\n",
       "      <td>NaN</td>\n",
       "      <td>0.0</td>\n",
       "    </tr>\n",
       "    <tr>\n",
       "      <th>...</th>\n",
       "      <td>...</td>\n",
       "      <td>...</td>\n",
       "      <td>...</td>\n",
       "    </tr>\n",
       "    <tr>\n",
       "      <th>900451999007Panel K2Vivienda DosHogar Uno</th>\n",
       "      <td>NaN</td>\n",
       "      <td>NaN</td>\n",
       "      <td>10.0</td>\n",
       "    </tr>\n",
       "    <tr>\n",
       "      <th>900451999007Panel K2Vivienda UnoHogar Uno</th>\n",
       "      <td>0.0</td>\n",
       "      <td>NaN</td>\n",
       "      <td>10.0</td>\n",
       "    </tr>\n",
       "    <tr>\n",
       "      <th>900451999007Panel L2Vivienda DosHogar Uno</th>\n",
       "      <td>10.0</td>\n",
       "      <td>NaN</td>\n",
       "      <td>10.0</td>\n",
       "    </tr>\n",
       "    <tr>\n",
       "      <th>900451999007Panel L2Vivienda TresHogar Uno</th>\n",
       "      <td>NaN</td>\n",
       "      <td>NaN</td>\n",
       "      <td>0.0</td>\n",
       "    </tr>\n",
       "    <tr>\n",
       "      <th>900451999007Panel L2Vivienda UnoHogar Uno</th>\n",
       "      <td>NaN</td>\n",
       "      <td>NaN</td>\n",
       "      <td>10.0</td>\n",
       "    </tr>\n",
       "  </tbody>\n",
       "</table>\n",
       "<p>29659 rows × 3 columns</p>\n",
       "</div>"
      ],
      "text/plain": [
       "                                                    dim1_ind1  dim1_ind2  \\\n",
       "idh                                                                        \n",
       "010150001003Panel A2Vivienda DosHogar Uno                 0.0        NaN   \n",
       "010150001003Panel A2Vivienda TresHogar Uno                0.0        NaN   \n",
       "010150001003Panel A2Vivienda UnoHogar Uno                 NaN        0.0   \n",
       "010150001003Panel B2Vivienda Cuatro (reemplazo)...        0.0        0.0   \n",
       "010150001003Panel B2Vivienda DosHogar Uno                 0.0        NaN   \n",
       "...                                                       ...        ...   \n",
       "900451999007Panel K2Vivienda DosHogar Uno                 NaN        NaN   \n",
       "900451999007Panel K2Vivienda UnoHogar Uno                 0.0        NaN   \n",
       "900451999007Panel L2Vivienda DosHogar Uno                10.0        NaN   \n",
       "900451999007Panel L2Vivienda TresHogar Uno                NaN        NaN   \n",
       "900451999007Panel L2Vivienda UnoHogar Uno                 NaN        NaN   \n",
       "\n",
       "                                                    dim1_ind3  \n",
       "idh                                                            \n",
       "010150001003Panel A2Vivienda DosHogar Uno                10.0  \n",
       "010150001003Panel A2Vivienda TresHogar Uno                0.0  \n",
       "010150001003Panel A2Vivienda UnoHogar Uno                10.0  \n",
       "010150001003Panel B2Vivienda Cuatro (reemplazo)...        0.0  \n",
       "010150001003Panel B2Vivienda DosHogar Uno                 0.0  \n",
       "...                                                       ...  \n",
       "900451999007Panel K2Vivienda DosHogar Uno                10.0  \n",
       "900451999007Panel K2Vivienda UnoHogar Uno                10.0  \n",
       "900451999007Panel L2Vivienda DosHogar Uno                10.0  \n",
       "900451999007Panel L2Vivienda TresHogar Uno                0.0  \n",
       "900451999007Panel L2Vivienda UnoHogar Uno                10.0  \n",
       "\n",
       "[29659 rows x 3 columns]"
      ]
     },
     "execution_count": 290,
     "metadata": {},
     "output_type": "execute_result"
    }
   ],
   "source": [
    "#v = np.array([10,10,10])\n",
    "dataper.groupby(\"idh\").agg({\"dim1_ind1\":\"max\",\"dim1_ind2\":\"max\",\"dim1_ind3\":\"max\"})"
   ]
  },
  {
   "cell_type": "code",
   "execution_count": 285,
   "metadata": {},
   "outputs": [
    {
     "data": {
      "text/html": [
       "<div>\n",
       "<style scoped>\n",
       "    .dataframe tbody tr th:only-of-type {\n",
       "        vertical-align: middle;\n",
       "    }\n",
       "\n",
       "    .dataframe tbody tr th {\n",
       "        vertical-align: top;\n",
       "    }\n",
       "\n",
       "    .dataframe thead th {\n",
       "        text-align: right;\n",
       "    }\n",
       "</style>\n",
       "<table border=\"1\" class=\"dataframe\">\n",
       "  <thead>\n",
       "    <tr style=\"text-align: right;\">\n",
       "      <th></th>\n",
       "      <th>area</th>\n",
       "      <th>ciudad</th>\n",
       "      <th>zona</th>\n",
       "      <th>sector</th>\n",
       "      <th>panelm</th>\n",
       "      <th>vivienda</th>\n",
       "      <th>hogar</th>\n",
       "      <th>p01</th>\n",
       "      <th>p02</th>\n",
       "      <th>p03</th>\n",
       "      <th>...</th>\n",
       "      <th>miss_dim1_ind1</th>\n",
       "      <th>miss_dim1_ind2</th>\n",
       "      <th>miss_dim1_ind3</th>\n",
       "      <th>miss_dim2_ind1</th>\n",
       "      <th>miss_dim2_ind2</th>\n",
       "      <th>miss_dim2_ind3</th>\n",
       "      <th>miss_dim3_ind1</th>\n",
       "      <th>miss_dim3_ind2</th>\n",
       "      <th>miss_dim4_ind1</th>\n",
       "      <th>miss_total</th>\n",
       "    </tr>\n",
       "  </thead>\n",
       "  <tbody>\n",
       "    <tr>\n",
       "      <th>21369</th>\n",
       "      <td>1.0</td>\n",
       "      <td>10150</td>\n",
       "      <td>001</td>\n",
       "      <td>003</td>\n",
       "      <td>Panel A2</td>\n",
       "      <td>Vivienda Uno</td>\n",
       "      <td>Hogar Uno</td>\n",
       "      <td>Persona 4</td>\n",
       "      <td>Mujer</td>\n",
       "      <td>18.0</td>\n",
       "      <td>...</td>\n",
       "      <td>0</td>\n",
       "      <td>0</td>\n",
       "      <td>0</td>\n",
       "      <td>0</td>\n",
       "      <td>0</td>\n",
       "      <td>0</td>\n",
       "      <td>0</td>\n",
       "      <td>0.0</td>\n",
       "      <td>0</td>\n",
       "      <td>0.0</td>\n",
       "    </tr>\n",
       "    <tr>\n",
       "      <th>21370</th>\n",
       "      <td>1.0</td>\n",
       "      <td>10150</td>\n",
       "      <td>001</td>\n",
       "      <td>003</td>\n",
       "      <td>Panel A2</td>\n",
       "      <td>Vivienda Uno</td>\n",
       "      <td>Hogar Uno</td>\n",
       "      <td>Persona 3</td>\n",
       "      <td>Hombre</td>\n",
       "      <td>20.0</td>\n",
       "      <td>...</td>\n",
       "      <td>0</td>\n",
       "      <td>0</td>\n",
       "      <td>0</td>\n",
       "      <td>0</td>\n",
       "      <td>0</td>\n",
       "      <td>0</td>\n",
       "      <td>0</td>\n",
       "      <td>0.0</td>\n",
       "      <td>0</td>\n",
       "      <td>0.0</td>\n",
       "    </tr>\n",
       "    <tr>\n",
       "      <th>21371</th>\n",
       "      <td>1.0</td>\n",
       "      <td>10150</td>\n",
       "      <td>001</td>\n",
       "      <td>003</td>\n",
       "      <td>Panel A2</td>\n",
       "      <td>Vivienda Uno</td>\n",
       "      <td>Hogar Uno</td>\n",
       "      <td>Persona 2</td>\n",
       "      <td>Mujer</td>\n",
       "      <td>41.0</td>\n",
       "      <td>...</td>\n",
       "      <td>0</td>\n",
       "      <td>0</td>\n",
       "      <td>0</td>\n",
       "      <td>0</td>\n",
       "      <td>0</td>\n",
       "      <td>0</td>\n",
       "      <td>0</td>\n",
       "      <td>0.0</td>\n",
       "      <td>0</td>\n",
       "      <td>0.0</td>\n",
       "    </tr>\n",
       "    <tr>\n",
       "      <th>21372</th>\n",
       "      <td>1.0</td>\n",
       "      <td>10150</td>\n",
       "      <td>001</td>\n",
       "      <td>003</td>\n",
       "      <td>Panel A2</td>\n",
       "      <td>Vivienda Uno</td>\n",
       "      <td>Hogar Uno</td>\n",
       "      <td>Persona 1</td>\n",
       "      <td>Hombre</td>\n",
       "      <td>41.0</td>\n",
       "      <td>...</td>\n",
       "      <td>0</td>\n",
       "      <td>0</td>\n",
       "      <td>0</td>\n",
       "      <td>0</td>\n",
       "      <td>0</td>\n",
       "      <td>0</td>\n",
       "      <td>0</td>\n",
       "      <td>0.0</td>\n",
       "      <td>0</td>\n",
       "      <td>0.0</td>\n",
       "    </tr>\n",
       "  </tbody>\n",
       "</table>\n",
       "<p>4 rows × 342 columns</p>\n",
       "</div>"
      ],
      "text/plain": [
       "       area  ciudad zona sector    panelm      vivienda      hogar        p01  \\\n",
       "21369   1.0   10150  001    003  Panel A2  Vivienda Uno  Hogar Uno  Persona 4   \n",
       "21370   1.0   10150  001    003  Panel A2  Vivienda Uno  Hogar Uno  Persona 3   \n",
       "21371   1.0   10150  001    003  Panel A2  Vivienda Uno  Hogar Uno  Persona 2   \n",
       "21372   1.0   10150  001    003  Panel A2  Vivienda Uno  Hogar Uno  Persona 1   \n",
       "\n",
       "          p02   p03  ... miss_dim1_ind1 miss_dim1_ind2 miss_dim1_ind3  \\\n",
       "21369   Mujer  18.0  ...              0              0              0   \n",
       "21370  Hombre  20.0  ...              0              0              0   \n",
       "21371   Mujer  41.0  ...              0              0              0   \n",
       "21372  Hombre  41.0  ...              0              0              0   \n",
       "\n",
       "      miss_dim2_ind1 miss_dim2_ind2 miss_dim2_ind3 miss_dim3_ind1  \\\n",
       "21369              0              0              0              0   \n",
       "21370              0              0              0              0   \n",
       "21371              0              0              0              0   \n",
       "21372              0              0              0              0   \n",
       "\n",
       "      miss_dim3_ind2  miss_dim4_ind1 miss_total  \n",
       "21369            0.0               0        0.0  \n",
       "21370            0.0               0        0.0  \n",
       "21371            0.0               0        0.0  \n",
       "21372            0.0               0        0.0  \n",
       "\n",
       "[4 rows x 342 columns]"
      ]
     },
     "execution_count": 285,
     "metadata": {},
     "output_type": "execute_result"
    }
   ],
   "source": [
    "dataper.loc[dataper.idh==\"010150001003Panel A2Vivienda UnoHogar Uno\"]"
   ]
  },
  {
   "cell_type": "code",
   "execution_count": null,
   "metadata": {},
   "outputs": [],
   "source": []
  },
  {
   "cell_type": "markdown",
   "metadata": {
    "id": "aKYeumRM6LCV"
   },
   "source": [
    "#<u><b>INDICE DE POBREZA MULTIDIMENSIONAL"
   ]
  },
  {
   "cell_type": "markdown",
   "metadata": {
    "id": "CUecxsAk6VOG"
   },
   "source": [
    "##<b><font color='darkred'>ESTRUCTURA DE PONDERACION"
   ]
  },
  {
   "cell_type": "code",
   "execution_count": 117,
   "metadata": {
    "id": "mtLe6l25_JPS"
   },
   "outputs": [],
   "source": [
    "def ci(row):\n",
    "  return ((row.dim1i1h * 1/4 * 1/3)\n",
    "          + (row.dim1i2h * 1/4 * 1/3)\n",
    "          + (row.dim1i3h * 1/4 * 1/3)\n",
    "          + (row.dim2i1h * 1/4 * 1/3)\n",
    "          + (row.dim2i2h * 1/4 * 1/3)\n",
    "          + (row.dim2i3h * 1/4 * 1/3)\n",
    "          + (row.dim3i1h * 1/4 * 1/2)\n",
    "          + (row.dim3i2h * 1/4 * 1/2)\n",
    "          + (row.dim4i1h * 1/4 * 1/4)\n",
    "          + (row.dim4i2h * 1/4 * 1/4)\n",
    "          + (row.dim4i3h * 1/4 * 1/4)\n",
    "          + (row.dim4i4h * 1/4 * 1/4))"
   ]
  },
  {
   "cell_type": "code",
   "execution_count": 118,
   "metadata": {
    "id": "8_8Y5MbeD23x"
   },
   "outputs": [],
   "source": [
    "df['ci'] = df.apply(lambda y: ci(y), axis=1)"
   ]
  },
  {
   "cell_type": "code",
   "execution_count": 119,
   "metadata": {
    "colab": {
     "base_uri": "https://localhost:8080/"
    },
    "id": "1VRrSug0EKTr",
    "outputId": "bd943de9-8778-4258-a2d8-fe8e310981d5"
   },
   "outputs": [
    {
     "data": {
      "text/plain": [
       "array([0.20833333, 0.0625    , 0.375     , 0.22916667, 0.14583333,\n",
       "       0.08333333, 0.58333333, 0.125     , 0.4375    , 0.29166667,\n",
       "       0.39583333, 0.3125    , 0.25      , 0.35416667, 0.45833333,\n",
       "       0.27083333, 0.5       , 0.16666667, 0.33333333, 0.41666667,\n",
       "       0.1875    , 0.625     , 0.5625    , 0.70833333, 0.52083333,\n",
       "       0.        , 0.47916667, 0.85416667, 0.64583333, 0.54166667,\n",
       "       0.60416667, 0.77083333, 0.66666667, 0.6875    , 0.72916667,\n",
       "       0.91666667, 0.83333333, 0.79166667, 0.75      ])"
      ]
     },
     "execution_count": 119,
     "metadata": {},
     "output_type": "execute_result"
    }
   ],
   "source": [
    "df.ci.unique()"
   ]
  },
  {
   "cell_type": "markdown",
   "metadata": {
    "id": "UGjobRurGFEg"
   },
   "source": [
    "##<b><font color='darkred'>CALCULO FINAL"
   ]
  },
  {
   "cell_type": "code",
   "execution_count": 120,
   "metadata": {
    "id": "pWPs-frCEN_-"
   },
   "outputs": [],
   "source": [
    "df['TPM'] = df.apply(lambda y: True if (y.ci >= 4/12) else False, axis=1)"
   ]
  },
  {
   "cell_type": "code",
   "execution_count": 121,
   "metadata": {
    "id": "KMPdMbPK6c7g"
   },
   "outputs": [],
   "source": [
    "df['IPM'] = df.apply(lambda y: y.ci if (y.TPM) else 0, axis=1)"
   ]
  },
  {
   "cell_type": "code",
   "execution_count": 122,
   "metadata": {},
   "outputs": [
    {
     "data": {
      "text/plain": [
       "0.14438782547016463"
      ]
     },
     "execution_count": 122,
     "metadata": {},
     "output_type": "execute_result"
    }
   ],
   "source": [
    "df[\"IPM\"].mean()"
   ]
  },
  {
   "cell_type": "code",
   "execution_count": 123,
   "metadata": {},
   "outputs": [
    {
     "data": {
      "text/plain": [
       "(0.13344601429084796, 15449567.954157097)"
      ]
     },
     "execution_count": 123,
     "metadata": {},
     "output_type": "execute_result"
    }
   ],
   "source": [
    "np.average(df[\"IPM\"],weights=df[\"fexp_x\"],returned=True)"
   ]
  },
  {
   "cell_type": "code",
   "execution_count": 124,
   "metadata": {
    "colab": {
     "base_uri": "https://localhost:8080/"
    },
    "id": "iNzVfrzdMlC2",
    "outputId": "5342d9ca-ca19-4c56-b9f8-f9e2e8dbd1e7"
   },
   "outputs": [
    {
     "data": {
      "text/plain": [
       "0.25876743356195037"
      ]
     },
     "execution_count": 124,
     "metadata": {},
     "output_type": "execute_result"
    }
   ],
   "source": [
    "#media de ponderaciones totales sin IPM cambiada\n",
    "df.groupby('idh')[['ci']].mean()[['ci']]['ci'].mean()"
   ]
  },
  {
   "cell_type": "code",
   "execution_count": 125,
   "metadata": {
    "id": "tKEJka4EHfSR"
   },
   "outputs": [],
   "source": [
    "ipm = df[df.IPM > 0].groupby('idh')[['IPM']].mean()[['IPM']]['IPM'].mean()"
   ]
  },
  {
   "cell_type": "code",
   "execution_count": 126,
   "metadata": {
    "colab": {
     "base_uri": "https://localhost:8080/"
    },
    "id": "BgwU5SLDjVrf",
    "outputId": "c9d4c665-586d-4ea6-be4f-b2931912b72d"
   },
   "outputs": [
    {
     "name": "stdout",
     "output_type": "stream",
     "text": [
      "El indice de pobreza multidimensional general 2017-06 es 0.4374039938556068\n"
     ]
    }
   ],
   "source": [
    "print(f'El indice de pobreza multidimensional general 2017-06 es {ipm}')"
   ]
  },
  {
   "cell_type": "code",
   "execution_count": 127,
   "metadata": {},
   "outputs": [
    {
     "data": {
      "text/plain": [
       "0.29105936043819636"
      ]
     },
     "execution_count": 127,
     "metadata": {},
     "output_type": "execute_result"
    }
   ],
   "source": [
    "df[\"ci\"].mean()"
   ]
  },
  {
   "cell_type": "code",
   "execution_count": 137,
   "metadata": {},
   "outputs": [],
   "source": [
    "dff=df.loc[df[\"IPM\"]>0,:]"
   ]
  },
  {
   "cell_type": "code",
   "execution_count": 143,
   "metadata": {},
   "outputs": [
    {
     "data": {
      "text/plain": [
       "0.45171592800345184"
      ]
     },
     "execution_count": 143,
     "metadata": {},
     "output_type": "execute_result"
    }
   ],
   "source": [
    "dff[\"IPM\"].mean()"
   ]
  },
  {
   "cell_type": "code",
   "execution_count": 139,
   "metadata": {},
   "outputs": [
    {
     "data": {
      "text/plain": [
       "(0.13344601429084796, 15449567.954157097)"
      ]
     },
     "execution_count": 139,
     "metadata": {},
     "output_type": "execute_result"
    }
   ],
   "source": [
    "np.average(df[\"IPM\"],weights=df[\"fexp_x\"],returned=True)"
   ]
  },
  {
   "cell_type": "code",
   "execution_count": 141,
   "metadata": {},
   "outputs": [
    {
     "data": {
      "text/plain": [
       "(0.44452494568013323, 4637947.287397904)"
      ]
     },
     "execution_count": 141,
     "metadata": {},
     "output_type": "execute_result"
    }
   ],
   "source": [
    "np.average(dff[\"IPM\"],weights=dff[\"fexp_x\"],returned=True)"
   ]
  },
  {
   "cell_type": "code",
   "execution_count": 129,
   "metadata": {},
   "outputs": [
    {
     "data": {
      "text/plain": [
       "0.14438782547016463"
      ]
     },
     "execution_count": 129,
     "metadata": {},
     "output_type": "execute_result"
    }
   ],
   "source": [
    "df[\"IPM\"].mean()"
   ]
  },
  {
   "cell_type": "code",
   "execution_count": 130,
   "metadata": {},
   "outputs": [
    {
     "data": {
      "text/html": [
       "<div>\n",
       "<style scoped>\n",
       "    .dataframe tbody tr th:only-of-type {\n",
       "        vertical-align: middle;\n",
       "    }\n",
       "\n",
       "    .dataframe tbody tr th {\n",
       "        vertical-align: top;\n",
       "    }\n",
       "\n",
       "    .dataframe thead th {\n",
       "        text-align: right;\n",
       "    }\n",
       "</style>\n",
       "<table border=\"1\" class=\"dataframe\">\n",
       "  <thead>\n",
       "    <tr style=\"text-align: right;\">\n",
       "      <th></th>\n",
       "      <th>area</th>\n",
       "      <th>ciudad</th>\n",
       "      <th>conglomerado_x</th>\n",
       "      <th>zona</th>\n",
       "      <th>sector</th>\n",
       "      <th>panelm</th>\n",
       "      <th>vivienda</th>\n",
       "      <th>hogar</th>\n",
       "      <th>p01</th>\n",
       "      <th>p02</th>\n",
       "      <th>...</th>\n",
       "      <th>dim2i3h</th>\n",
       "      <th>dim3i1h</th>\n",
       "      <th>dim3i2h</th>\n",
       "      <th>dim4i1h</th>\n",
       "      <th>dim4i2h</th>\n",
       "      <th>dim4i3h</th>\n",
       "      <th>dim4i4h</th>\n",
       "      <th>ci</th>\n",
       "      <th>TPM</th>\n",
       "      <th>IPM</th>\n",
       "    </tr>\n",
       "  </thead>\n",
       "  <tbody>\n",
       "    <tr>\n",
       "      <th>0</th>\n",
       "      <td>1</td>\n",
       "      <td>10150</td>\n",
       "      <td>999999</td>\n",
       "      <td>1</td>\n",
       "      <td>3</td>\n",
       "      <td>13</td>\n",
       "      <td>2</td>\n",
       "      <td>1</td>\n",
       "      <td>1</td>\n",
       "      <td>2</td>\n",
       "      <td>...</td>\n",
       "      <td>0</td>\n",
       "      <td>0</td>\n",
       "      <td>0</td>\n",
       "      <td>0</td>\n",
       "      <td>1</td>\n",
       "      <td>0</td>\n",
       "      <td>1</td>\n",
       "      <td>0.208333</td>\n",
       "      <td>False</td>\n",
       "      <td>0.000000</td>\n",
       "    </tr>\n",
       "    <tr>\n",
       "      <th>1</th>\n",
       "      <td>1</td>\n",
       "      <td>10150</td>\n",
       "      <td>999999</td>\n",
       "      <td>1</td>\n",
       "      <td>3</td>\n",
       "      <td>13</td>\n",
       "      <td>2</td>\n",
       "      <td>1</td>\n",
       "      <td>2</td>\n",
       "      <td>1</td>\n",
       "      <td>...</td>\n",
       "      <td>0</td>\n",
       "      <td>0</td>\n",
       "      <td>0</td>\n",
       "      <td>0</td>\n",
       "      <td>1</td>\n",
       "      <td>0</td>\n",
       "      <td>1</td>\n",
       "      <td>0.208333</td>\n",
       "      <td>False</td>\n",
       "      <td>0.000000</td>\n",
       "    </tr>\n",
       "    <tr>\n",
       "      <th>2</th>\n",
       "      <td>1</td>\n",
       "      <td>10150</td>\n",
       "      <td>999999</td>\n",
       "      <td>1</td>\n",
       "      <td>3</td>\n",
       "      <td>13</td>\n",
       "      <td>2</td>\n",
       "      <td>1</td>\n",
       "      <td>3</td>\n",
       "      <td>2</td>\n",
       "      <td>...</td>\n",
       "      <td>0</td>\n",
       "      <td>0</td>\n",
       "      <td>0</td>\n",
       "      <td>0</td>\n",
       "      <td>1</td>\n",
       "      <td>0</td>\n",
       "      <td>1</td>\n",
       "      <td>0.208333</td>\n",
       "      <td>False</td>\n",
       "      <td>0.000000</td>\n",
       "    </tr>\n",
       "    <tr>\n",
       "      <th>3</th>\n",
       "      <td>1</td>\n",
       "      <td>10150</td>\n",
       "      <td>999999</td>\n",
       "      <td>1</td>\n",
       "      <td>3</td>\n",
       "      <td>13</td>\n",
       "      <td>3</td>\n",
       "      <td>1</td>\n",
       "      <td>1</td>\n",
       "      <td>1</td>\n",
       "      <td>...</td>\n",
       "      <td>0</td>\n",
       "      <td>0</td>\n",
       "      <td>0</td>\n",
       "      <td>0</td>\n",
       "      <td>0</td>\n",
       "      <td>0</td>\n",
       "      <td>1</td>\n",
       "      <td>0.062500</td>\n",
       "      <td>False</td>\n",
       "      <td>0.000000</td>\n",
       "    </tr>\n",
       "    <tr>\n",
       "      <th>4</th>\n",
       "      <td>1</td>\n",
       "      <td>10150</td>\n",
       "      <td>999999</td>\n",
       "      <td>1</td>\n",
       "      <td>3</td>\n",
       "      <td>13</td>\n",
       "      <td>3</td>\n",
       "      <td>1</td>\n",
       "      <td>2</td>\n",
       "      <td>2</td>\n",
       "      <td>...</td>\n",
       "      <td>0</td>\n",
       "      <td>0</td>\n",
       "      <td>0</td>\n",
       "      <td>0</td>\n",
       "      <td>0</td>\n",
       "      <td>0</td>\n",
       "      <td>1</td>\n",
       "      <td>0.062500</td>\n",
       "      <td>False</td>\n",
       "      <td>0.000000</td>\n",
       "    </tr>\n",
       "    <tr>\n",
       "      <th>...</th>\n",
       "      <td>...</td>\n",
       "      <td>...</td>\n",
       "      <td>...</td>\n",
       "      <td>...</td>\n",
       "      <td>...</td>\n",
       "      <td>...</td>\n",
       "      <td>...</td>\n",
       "      <td>...</td>\n",
       "      <td>...</td>\n",
       "      <td>...</td>\n",
       "      <td>...</td>\n",
       "      <td>...</td>\n",
       "      <td>...</td>\n",
       "      <td>...</td>\n",
       "      <td>...</td>\n",
       "      <td>...</td>\n",
       "      <td>...</td>\n",
       "      <td>...</td>\n",
       "      <td>...</td>\n",
       "      <td>...</td>\n",
       "      <td>...</td>\n",
       "    </tr>\n",
       "    <tr>\n",
       "      <th>101502</th>\n",
       "      <td>2</td>\n",
       "      <td>900451</td>\n",
       "      <td>999999</td>\n",
       "      <td>999</td>\n",
       "      <td>7</td>\n",
       "      <td>123</td>\n",
       "      <td>2</td>\n",
       "      <td>2</td>\n",
       "      <td>2</td>\n",
       "      <td>2</td>\n",
       "      <td>...</td>\n",
       "      <td>1</td>\n",
       "      <td>0</td>\n",
       "      <td>0</td>\n",
       "      <td>1</td>\n",
       "      <td>1</td>\n",
       "      <td>0</td>\n",
       "      <td>1</td>\n",
       "      <td>0.354167</td>\n",
       "      <td>True</td>\n",
       "      <td>0.354167</td>\n",
       "    </tr>\n",
       "    <tr>\n",
       "      <th>101503</th>\n",
       "      <td>2</td>\n",
       "      <td>900451</td>\n",
       "      <td>999999</td>\n",
       "      <td>999</td>\n",
       "      <td>7</td>\n",
       "      <td>123</td>\n",
       "      <td>2</td>\n",
       "      <td>2</td>\n",
       "      <td>3</td>\n",
       "      <td>2</td>\n",
       "      <td>...</td>\n",
       "      <td>1</td>\n",
       "      <td>0</td>\n",
       "      <td>0</td>\n",
       "      <td>1</td>\n",
       "      <td>1</td>\n",
       "      <td>0</td>\n",
       "      <td>1</td>\n",
       "      <td>0.354167</td>\n",
       "      <td>True</td>\n",
       "      <td>0.354167</td>\n",
       "    </tr>\n",
       "    <tr>\n",
       "      <th>101504</th>\n",
       "      <td>2</td>\n",
       "      <td>900451</td>\n",
       "      <td>999999</td>\n",
       "      <td>999</td>\n",
       "      <td>7</td>\n",
       "      <td>123</td>\n",
       "      <td>2</td>\n",
       "      <td>2</td>\n",
       "      <td>4</td>\n",
       "      <td>1</td>\n",
       "      <td>...</td>\n",
       "      <td>1</td>\n",
       "      <td>0</td>\n",
       "      <td>0</td>\n",
       "      <td>1</td>\n",
       "      <td>1</td>\n",
       "      <td>0</td>\n",
       "      <td>1</td>\n",
       "      <td>0.354167</td>\n",
       "      <td>True</td>\n",
       "      <td>0.354167</td>\n",
       "    </tr>\n",
       "    <tr>\n",
       "      <th>101505</th>\n",
       "      <td>2</td>\n",
       "      <td>900451</td>\n",
       "      <td>999999</td>\n",
       "      <td>999</td>\n",
       "      <td>7</td>\n",
       "      <td>123</td>\n",
       "      <td>3</td>\n",
       "      <td>1</td>\n",
       "      <td>1</td>\n",
       "      <td>1</td>\n",
       "      <td>...</td>\n",
       "      <td>1</td>\n",
       "      <td>0</td>\n",
       "      <td>1</td>\n",
       "      <td>0</td>\n",
       "      <td>1</td>\n",
       "      <td>0</td>\n",
       "      <td>0</td>\n",
       "      <td>0.354167</td>\n",
       "      <td>True</td>\n",
       "      <td>0.354167</td>\n",
       "    </tr>\n",
       "    <tr>\n",
       "      <th>101506</th>\n",
       "      <td>2</td>\n",
       "      <td>900451</td>\n",
       "      <td>999999</td>\n",
       "      <td>999</td>\n",
       "      <td>7</td>\n",
       "      <td>123</td>\n",
       "      <td>3</td>\n",
       "      <td>1</td>\n",
       "      <td>2</td>\n",
       "      <td>2</td>\n",
       "      <td>...</td>\n",
       "      <td>1</td>\n",
       "      <td>0</td>\n",
       "      <td>1</td>\n",
       "      <td>0</td>\n",
       "      <td>1</td>\n",
       "      <td>0</td>\n",
       "      <td>0</td>\n",
       "      <td>0.354167</td>\n",
       "      <td>True</td>\n",
       "      <td>0.354167</td>\n",
       "    </tr>\n",
       "  </tbody>\n",
       "</table>\n",
       "<p>101507 rows × 433 columns</p>\n",
       "</div>"
      ],
      "text/plain": [
       "        area  ciudad  conglomerado_x  zona  sector  panelm  vivienda  hogar  \\\n",
       "0          1   10150          999999     1       3      13         2      1   \n",
       "1          1   10150          999999     1       3      13         2      1   \n",
       "2          1   10150          999999     1       3      13         2      1   \n",
       "3          1   10150          999999     1       3      13         3      1   \n",
       "4          1   10150          999999     1       3      13         3      1   \n",
       "...      ...     ...             ...   ...     ...     ...       ...    ...   \n",
       "101502     2  900451          999999   999       7     123         2      2   \n",
       "101503     2  900451          999999   999       7     123         2      2   \n",
       "101504     2  900451          999999   999       7     123         2      2   \n",
       "101505     2  900451          999999   999       7     123         3      1   \n",
       "101506     2  900451          999999   999       7     123         3      1   \n",
       "\n",
       "        p01  p02  ...  dim2i3h  dim3i1h  dim3i2h  dim4i1h dim4i2h dim4i3h  \\\n",
       "0         1    2  ...        0        0        0        0       1       0   \n",
       "1         2    1  ...        0        0        0        0       1       0   \n",
       "2         3    2  ...        0        0        0        0       1       0   \n",
       "3         1    1  ...        0        0        0        0       0       0   \n",
       "4         2    2  ...        0        0        0        0       0       0   \n",
       "...     ...  ...  ...      ...      ...      ...      ...     ...     ...   \n",
       "101502    2    2  ...        1        0        0        1       1       0   \n",
       "101503    3    2  ...        1        0        0        1       1       0   \n",
       "101504    4    1  ...        1        0        0        1       1       0   \n",
       "101505    1    1  ...        1        0        1        0       1       0   \n",
       "101506    2    2  ...        1        0        1        0       1       0   \n",
       "\n",
       "       dim4i4h        ci    TPM       IPM  \n",
       "0            1  0.208333  False  0.000000  \n",
       "1            1  0.208333  False  0.000000  \n",
       "2            1  0.208333  False  0.000000  \n",
       "3            1  0.062500  False  0.000000  \n",
       "4            1  0.062500  False  0.000000  \n",
       "...        ...       ...    ...       ...  \n",
       "101502       1  0.354167   True  0.354167  \n",
       "101503       1  0.354167   True  0.354167  \n",
       "101504       1  0.354167   True  0.354167  \n",
       "101505       0  0.354167   True  0.354167  \n",
       "101506       0  0.354167   True  0.354167  \n",
       "\n",
       "[101507 rows x 433 columns]"
      ]
     },
     "execution_count": 130,
     "metadata": {},
     "output_type": "execute_result"
    }
   ],
   "source": [
    "df"
   ]
  },
  {
   "cell_type": "code",
   "execution_count": 131,
   "metadata": {},
   "outputs": [],
   "source": [
    "df[\"id_hogar\"] = df[\"ciudad\"].astype(str).str.zfill(6) + df[\"zona\"].astype(str).str.zfill(3) + df[\"sector\"].astype(str).str.zfill(3)"
   ]
  },
  {
   "cell_type": "code",
   "execution_count": 132,
   "metadata": {},
   "outputs": [],
   "source": [
    "sdf = gpd.read_file(\"sectors_inec.geojson\")\n",
    "dfm = gpd.GeoDataFrame(df.merge(sdf,left_on=\"id_hogar\",right_on=\"DPA_SECTOR\", how=\"inner\"))\n",
    "mdf = gpd.read_file('../CARDIFF/data/neigh/map.geojson', encoding='utf-8')"
   ]
  },
  {
   "cell_type": "code",
   "execution_count": 133,
   "metadata": {},
   "outputs": [
    {
     "name": "stderr",
     "output_type": "stream",
     "text": [
      "c:\\users\\eduardo\\appdata\\local\\programs\\python\\python37\\lib\\site-packages\\numpy\\lib\\function_base.py:2246: RuntimeWarning: invalid value encountered in find_intersects (vectorized)\n",
      "  outputs = ufunc(*inputs)\n"
     ]
    }
   ],
   "source": [
    "dfm.crs = mdf.crs\n",
    "gdfr = gpd.sjoin(dfm,mdf,how=\"inner\", op='intersects')"
   ]
  },
  {
   "cell_type": "code",
   "execution_count": 134,
   "metadata": {},
   "outputs": [],
   "source": [
    "gdfr[\"ingpc\"] = gdfr[\"ingpc\"].str.replace(\",\",\".\").astype(float)"
   ]
  },
  {
   "cell_type": "code",
   "execution_count": 135,
   "metadata": {},
   "outputs": [
    {
     "data": {
      "text/plain": [
       "0.3153595626603433"
      ]
     },
     "execution_count": 135,
     "metadata": {},
     "output_type": "execute_result"
    }
   ],
   "source": [
    "np.average(gdfr[gdfr[\"Name\"]==\"Isla Trinitaria\"][\"ci\"],weights=gdfr[gdfr[\"Name\"]==\"Isla Trinitaria\"][\"fexp_x\"])"
   ]
  }
 ],
 "metadata": {
  "colab": {
   "collapsed_sections": [
    "lvyuwNo9T3Y-",
    "1sDTW-Hf_KTy",
    "-brzN1c1-vMb",
    "97Z26FkUD85Z",
    "sH0BoBoBDIhG",
    "X_BZ_dDXG5w8",
    "8Fttaz-BdoFB",
    "QOn7PFn1sxz0",
    "C_sZIgt8ckN1",
    "YbIfUChv2ezk",
    "tJcIRoqc5JWE",
    "pEpsyTer2RbQ"
   ],
   "provenance": []
  },
  "kernelspec": {
   "display_name": "Python 3 (ipykernel)",
   "language": "python",
   "name": "python3"
  },
  "language_info": {
   "codemirror_mode": {
    "name": "ipython",
    "version": 3
   },
   "file_extension": ".py",
   "mimetype": "text/x-python",
   "name": "python",
   "nbconvert_exporter": "python",
   "pygments_lexer": "ipython3",
   "version": "3.10.6"
  }
 },
 "nbformat": 4,
 "nbformat_minor": 1
}
