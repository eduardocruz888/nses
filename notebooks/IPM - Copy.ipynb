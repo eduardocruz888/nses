{
 "cells": [
  {
   "cell_type": "markdown",
   "metadata": {
    "id": "lvyuwNo9T3Y-"
   },
   "source": [
    "#<u><b>Montaje de Drive"
   ]
  },
  {
   "cell_type": "code",
   "execution_count": 1,
   "metadata": {
    "colab": {
     "base_uri": "https://localhost:8080/"
    },
    "id": "iyholb2b4IIK",
    "outputId": "8836edc0-8bce-4784-f2ed-7c3fc217fc49"
   },
   "outputs": [
    {
     "name": "stderr",
     "output_type": "stream",
     "text": [
      "Can't load requested DLL: c:\\users\\eduardo\\appdata\\local\\programs\\python\\python37\\lib\\site-packages\\osgeo\\gdalplugins\\ogr_FileGDB.dll\n",
      "126: The specified module could not be found.\n",
      "\n",
      "Can't load requested DLL: c:\\users\\eduardo\\appdata\\local\\programs\\python\\python37\\lib\\site-packages\\osgeo\\gdalplugins\\ogr_FileGDB.dll\n",
      "126: The specified module could not be found.\n",
      "\n",
      "Can't load requested DLL: c:\\users\\eduardo\\appdata\\local\\programs\\python\\python37\\lib\\site-packages\\osgeo\\gdalplugins\\ogr_FileGDB.dll\n",
      "126: The specified module could not be found.\n",
      "\n",
      "Can't load requested DLL: c:\\users\\eduardo\\appdata\\local\\programs\\python\\python37\\lib\\site-packages\\osgeo\\gdalplugins\\ogr_FileGDB.dll\n",
      "126: The specified module could not be found.\n",
      "\n"
     ]
    }
   ],
   "source": [
    "import pandas as pd\n",
    "import numpy as np\n",
    "import geopandas as gp\n"
   ]
  },
  {
   "cell_type": "markdown",
   "metadata": {
    "id": "FQdRV7J0-p2x"
   },
   "source": [
    "#<u><b>Lectura de Datos"
   ]
  },
  {
   "cell_type": "markdown",
   "metadata": {
    "id": "1sDTW-Hf_KTy"
   },
   "source": [
    "##<b><font color='darkred'>Datos Vivienda</font>"
   ]
  },
  {
   "cell_type": "code",
   "execution_count": 2,
   "metadata": {
    "colab": {
     "base_uri": "https://localhost:8080/"
    },
    "id": "jnJN-sh785TM",
    "outputId": "fd21dd8c-8780-4599-9037-b84265b57d66"
   },
   "outputs": [],
   "source": [
    "dataviv = pd.read_spss('enemdu/201512_EnemduBDD_vivivendahogar.SAV')"
   ]
  },
  {
   "cell_type": "code",
   "execution_count": 3,
   "metadata": {},
   "outputs": [],
   "source": [
    "dataviv[\"ciudad\"] = dataviv[\"ciudad\"].astype(int)"
   ]
  },
  {
   "cell_type": "code",
   "execution_count": 4,
   "metadata": {
    "colab": {
     "base_uri": "https://localhost:8080/",
     "height": 237
    },
    "id": "urb58_WO_TA5",
    "outputId": "d57e9706-7205-4b31-83ea-ed665ce91d90"
   },
   "outputs": [
    {
     "data": {
      "text/html": [
       "<div>\n",
       "<style scoped>\n",
       "    .dataframe tbody tr th:only-of-type {\n",
       "        vertical-align: middle;\n",
       "    }\n",
       "\n",
       "    .dataframe tbody tr th {\n",
       "        vertical-align: top;\n",
       "    }\n",
       "\n",
       "    .dataframe thead th {\n",
       "        text-align: right;\n",
       "    }\n",
       "</style>\n",
       "<table border=\"1\" class=\"dataframe\">\n",
       "  <thead>\n",
       "    <tr style=\"text-align: right;\">\n",
       "      <th></th>\n",
       "      <th>area</th>\n",
       "      <th>ciudad</th>\n",
       "      <th>zona</th>\n",
       "      <th>sector</th>\n",
       "      <th>panelm</th>\n",
       "      <th>vivienda</th>\n",
       "      <th>hogar</th>\n",
       "      <th>vi01</th>\n",
       "      <th>vi02</th>\n",
       "      <th>vi03a</th>\n",
       "      <th>...</th>\n",
       "      <th>eq1802</th>\n",
       "      <th>eq1901</th>\n",
       "      <th>eq1902</th>\n",
       "      <th>vi20</th>\n",
       "      <th>vi21</th>\n",
       "      <th>vi22</th>\n",
       "      <th>vi23</th>\n",
       "      <th>id_sector</th>\n",
       "      <th>plan_muestreo</th>\n",
       "      <th>fexp</th>\n",
       "    </tr>\n",
       "  </thead>\n",
       "  <tbody>\n",
       "    <tr>\n",
       "      <th>0</th>\n",
       "      <td>1.0</td>\n",
       "      <td>10150</td>\n",
       "      <td>001</td>\n",
       "      <td>003</td>\n",
       "      <td>Panel A2</td>\n",
       "      <td>Vivienda Uno</td>\n",
       "      <td>Hogar Uno</td>\n",
       "      <td>Lastrado, calle de tierra</td>\n",
       "      <td>Departamento</td>\n",
       "      <td>Asbesto, eternit</td>\n",
       "      <td>...</td>\n",
       "      <td>NaN</td>\n",
       "      <td>No</td>\n",
       "      <td>NaN</td>\n",
       "      <td>Si</td>\n",
       "      <td>La conexión es por CABLE y mientras utiliza SI...</td>\n",
       "      <td>Computadora de escritorio</td>\n",
       "      <td>NaN</td>\n",
       "      <td>1.015000e+10</td>\n",
       "      <td>1013</td>\n",
       "      <td>64.249774</td>\n",
       "    </tr>\n",
       "    <tr>\n",
       "      <th>1</th>\n",
       "      <td>1.0</td>\n",
       "      <td>10150</td>\n",
       "      <td>001</td>\n",
       "      <td>003</td>\n",
       "      <td>Panel A2</td>\n",
       "      <td>Vivienda Dos</td>\n",
       "      <td>Hogar Uno</td>\n",
       "      <td>Lastrado, calle de tierra</td>\n",
       "      <td>Casa o villa</td>\n",
       "      <td>Teja</td>\n",
       "      <td>...</td>\n",
       "      <td>1.0</td>\n",
       "      <td>No</td>\n",
       "      <td>NaN</td>\n",
       "      <td>Si</td>\n",
       "      <td>A través de su línea telefónica y mientras uti...</td>\n",
       "      <td>Computadora de escritorio</td>\n",
       "      <td>NaN</td>\n",
       "      <td>1.015000e+10</td>\n",
       "      <td>1013</td>\n",
       "      <td>64.249774</td>\n",
       "    </tr>\n",
       "    <tr>\n",
       "      <th>2</th>\n",
       "      <td>1.0</td>\n",
       "      <td>10150</td>\n",
       "      <td>001</td>\n",
       "      <td>003</td>\n",
       "      <td>Panel A2</td>\n",
       "      <td>Vivienda Tres</td>\n",
       "      <td>Hogar Uno</td>\n",
       "      <td>Lastrado, calle de tierra</td>\n",
       "      <td>Casa o villa</td>\n",
       "      <td>Asbesto, eternit</td>\n",
       "      <td>...</td>\n",
       "      <td>1.0</td>\n",
       "      <td>No</td>\n",
       "      <td>NaN</td>\n",
       "      <td>Si</td>\n",
       "      <td>A través de su línea telefónica y mientras uti...</td>\n",
       "      <td>Computadora de escritorio</td>\n",
       "      <td>NaN</td>\n",
       "      <td>1.015000e+10</td>\n",
       "      <td>1013</td>\n",
       "      <td>64.249774</td>\n",
       "    </tr>\n",
       "  </tbody>\n",
       "</table>\n",
       "<p>3 rows × 77 columns</p>\n",
       "</div>"
      ],
      "text/plain": [
       "   area  ciudad zona sector    panelm       vivienda      hogar  \\\n",
       "0   1.0   10150  001    003  Panel A2   Vivienda Uno  Hogar Uno   \n",
       "1   1.0   10150  001    003  Panel A2   Vivienda Dos  Hogar Uno   \n",
       "2   1.0   10150  001    003  Panel A2  Vivienda Tres  Hogar Uno   \n",
       "\n",
       "                        vi01          vi02             vi03a  ... eq1802  \\\n",
       "0  Lastrado, calle de tierra  Departamento  Asbesto, eternit  ...    NaN   \n",
       "1  Lastrado, calle de tierra  Casa o villa              Teja  ...    1.0   \n",
       "2  Lastrado, calle de tierra  Casa o villa  Asbesto, eternit  ...    1.0   \n",
       "\n",
       "  eq1901 eq1902 vi20                                               vi21  \\\n",
       "0     No    NaN   Si  La conexión es por CABLE y mientras utiliza SI...   \n",
       "1     No    NaN   Si  A través de su línea telefónica y mientras uti...   \n",
       "2     No    NaN   Si  A través de su línea telefónica y mientras uti...   \n",
       "\n",
       "                        vi22 vi23     id_sector plan_muestreo       fexp  \n",
       "0  Computadora de escritorio  NaN  1.015000e+10          1013  64.249774  \n",
       "1  Computadora de escritorio  NaN  1.015000e+10          1013  64.249774  \n",
       "2  Computadora de escritorio  NaN  1.015000e+10          1013  64.249774  \n",
       "\n",
       "[3 rows x 77 columns]"
      ]
     },
     "execution_count": 4,
     "metadata": {},
     "output_type": "execute_result"
    }
   ],
   "source": [
    "dataviv.head(3)"
   ]
  },
  {
   "cell_type": "code",
   "execution_count": 5,
   "metadata": {},
   "outputs": [],
   "source": [
    "#dataviv.columns"
   ]
  },
  {
   "cell_type": "code",
   "execution_count": 5,
   "metadata": {
    "id": "vRr7GLIg_dxt"
   },
   "outputs": [],
   "source": [
    "dataviv['idh'] = dataviv.ciudad.astype(str).str.zfill(6) + dataviv.zona.astype(str) + dataviv.sector.astype(str) + dataviv.panelm.astype(str) + dataviv.vivienda.astype(str) + dataviv.hogar.astype(str)"
   ]
  },
  {
   "cell_type": "code",
   "execution_count": 6,
   "metadata": {
    "colab": {
     "base_uri": "https://localhost:8080/"
    },
    "id": "C8PoRvGnADe4",
    "outputId": "2284f33e-5182-46a4-c2f2-9dc25517e2c3"
   },
   "outputs": [
    {
     "data": {
      "text/plain": [
       "0    010150001003Panel A2Vivienda UnoHogar Uno\n",
       "1    010150001003Panel A2Vivienda DosHogar Uno\n",
       "Name: idh, dtype: object"
      ]
     },
     "execution_count": 6,
     "metadata": {},
     "output_type": "execute_result"
    }
   ],
   "source": [
    "dataviv.idh.head(2)"
   ]
  },
  {
   "cell_type": "markdown",
   "metadata": {
    "id": "-brzN1c1-vMb"
   },
   "source": [
    "##<b><font color='darkred'>Datos personas"
   ]
  },
  {
   "cell_type": "code",
   "execution_count": 7,
   "metadata": {
    "colab": {
     "base_uri": "https://localhost:8080/"
    },
    "id": "-v7z3yJ74aYo",
    "outputId": "d63392f5-0e48-49b3-82f8-f932c94965e2"
   },
   "outputs": [],
   "source": [
    "dataper = pd.read_spss('enemdu/201512_EnemduBDD_15anios.sav')\n",
    "\n",
    "#dataper = pd.read_spss('enemdu/201512_EnemduBDD_15anios.sav')"
   ]
  },
  {
   "cell_type": "code",
   "execution_count": 8,
   "metadata": {},
   "outputs": [],
   "source": [
    "dataper[\"ciudad\"] = dataper[\"ciudad\"].astype(int)"
   ]
  },
  {
   "cell_type": "code",
   "execution_count": 9,
   "metadata": {
    "colab": {
     "base_uri": "https://localhost:8080/"
    },
    "id": "loMjsg_a7W5b",
    "outputId": "20b085c9-cde4-4de3-ffcc-e052cbe4eb71"
   },
   "outputs": [
    {
     "data": {
      "text/html": [
       "<div>\n",
       "<style scoped>\n",
       "    .dataframe tbody tr th:only-of-type {\n",
       "        vertical-align: middle;\n",
       "    }\n",
       "\n",
       "    .dataframe tbody tr th {\n",
       "        vertical-align: top;\n",
       "    }\n",
       "\n",
       "    .dataframe thead th {\n",
       "        text-align: right;\n",
       "    }\n",
       "</style>\n",
       "<table border=\"1\" class=\"dataframe\">\n",
       "  <thead>\n",
       "    <tr style=\"text-align: right;\">\n",
       "      <th></th>\n",
       "      <th>area</th>\n",
       "      <th>ciudad</th>\n",
       "      <th>zona</th>\n",
       "      <th>sector</th>\n",
       "      <th>panelm</th>\n",
       "      <th>vivienda</th>\n",
       "      <th>hogar</th>\n",
       "      <th>p01</th>\n",
       "      <th>p02</th>\n",
       "      <th>p03</th>\n",
       "      <th>...</th>\n",
       "      <th>nc</th>\n",
       "      <th>desem</th>\n",
       "      <th>desemab</th>\n",
       "      <th>desemoc</th>\n",
       "      <th>desem1</th>\n",
       "      <th>desem2</th>\n",
       "      <th>pein</th>\n",
       "      <th>id_sector</th>\n",
       "      <th>plan_muestreo</th>\n",
       "      <th>fexp</th>\n",
       "    </tr>\n",
       "  </thead>\n",
       "  <tbody>\n",
       "    <tr>\n",
       "      <th>0</th>\n",
       "      <td>1.0</td>\n",
       "      <td>10150</td>\n",
       "      <td>009</td>\n",
       "      <td>004</td>\n",
       "      <td>Panel B2</td>\n",
       "      <td>Vivienda Uno</td>\n",
       "      <td>Hogar Uno</td>\n",
       "      <td>Persona 3</td>\n",
       "      <td>Hombre</td>\n",
       "      <td>26.0</td>\n",
       "      <td>...</td>\n",
       "      <td>NaN</td>\n",
       "      <td>NaN</td>\n",
       "      <td>NaN</td>\n",
       "      <td>NaN</td>\n",
       "      <td>NaN</td>\n",
       "      <td>NaN</td>\n",
       "      <td>NaN</td>\n",
       "      <td>1.015001e+10</td>\n",
       "      <td>1012</td>\n",
       "      <td>141.065750</td>\n",
       "    </tr>\n",
       "    <tr>\n",
       "      <th>1</th>\n",
       "      <td>1.0</td>\n",
       "      <td>10150</td>\n",
       "      <td>056</td>\n",
       "      <td>005</td>\n",
       "      <td>Panel A2</td>\n",
       "      <td>Vivienda Tres</td>\n",
       "      <td>Hogar Uno</td>\n",
       "      <td>Persona 1</td>\n",
       "      <td>Hombre</td>\n",
       "      <td>68.0</td>\n",
       "      <td>...</td>\n",
       "      <td>NaN</td>\n",
       "      <td>NaN</td>\n",
       "      <td>NaN</td>\n",
       "      <td>NaN</td>\n",
       "      <td>NaN</td>\n",
       "      <td>NaN</td>\n",
       "      <td>Población Económicamente Inactiva</td>\n",
       "      <td>1.015006e+10</td>\n",
       "      <td>1012</td>\n",
       "      <td>65.976281</td>\n",
       "    </tr>\n",
       "    <tr>\n",
       "      <th>2</th>\n",
       "      <td>1.0</td>\n",
       "      <td>70150</td>\n",
       "      <td>005</td>\n",
       "      <td>001</td>\n",
       "      <td>Panel B2</td>\n",
       "      <td>Vivienda Dos</td>\n",
       "      <td>Hogar Dos</td>\n",
       "      <td>Persona 1</td>\n",
       "      <td>Hombre</td>\n",
       "      <td>41.0</td>\n",
       "      <td>...</td>\n",
       "      <td>NaN</td>\n",
       "      <td>NaN</td>\n",
       "      <td>NaN</td>\n",
       "      <td>NaN</td>\n",
       "      <td>NaN</td>\n",
       "      <td>NaN</td>\n",
       "      <td>NaN</td>\n",
       "      <td>7.015001e+10</td>\n",
       "      <td>1072</td>\n",
       "      <td>123.512430</td>\n",
       "    </tr>\n",
       "    <tr>\n",
       "      <th>3</th>\n",
       "      <td>1.0</td>\n",
       "      <td>70150</td>\n",
       "      <td>043</td>\n",
       "      <td>004</td>\n",
       "      <td>Panel B2</td>\n",
       "      <td>Vivienda Uno</td>\n",
       "      <td>Hogar Uno</td>\n",
       "      <td>Persona 1</td>\n",
       "      <td>Hombre</td>\n",
       "      <td>38.0</td>\n",
       "      <td>...</td>\n",
       "      <td>NaN</td>\n",
       "      <td>NaN</td>\n",
       "      <td>NaN</td>\n",
       "      <td>NaN</td>\n",
       "      <td>NaN</td>\n",
       "      <td>NaN</td>\n",
       "      <td>NaN</td>\n",
       "      <td>7.015004e+10</td>\n",
       "      <td>1071</td>\n",
       "      <td>96.697327</td>\n",
       "    </tr>\n",
       "    <tr>\n",
       "      <th>4</th>\n",
       "      <td>1.0</td>\n",
       "      <td>80150</td>\n",
       "      <td>012</td>\n",
       "      <td>003</td>\n",
       "      <td>Panel A2</td>\n",
       "      <td>Vivienda Uno</td>\n",
       "      <td>Hogar Uno</td>\n",
       "      <td>Persona 1</td>\n",
       "      <td>Hombre</td>\n",
       "      <td>64.0</td>\n",
       "      <td>...</td>\n",
       "      <td>NaN</td>\n",
       "      <td>NaN</td>\n",
       "      <td>NaN</td>\n",
       "      <td>NaN</td>\n",
       "      <td>NaN</td>\n",
       "      <td>NaN</td>\n",
       "      <td>NaN</td>\n",
       "      <td>8.015001e+10</td>\n",
       "      <td>1081</td>\n",
       "      <td>89.319663</td>\n",
       "    </tr>\n",
       "  </tbody>\n",
       "</table>\n",
       "<p>5 rows × 313 columns</p>\n",
       "</div>"
      ],
      "text/plain": [
       "   area  ciudad zona sector    panelm       vivienda      hogar        p01  \\\n",
       "0   1.0   10150  009    004  Panel B2   Vivienda Uno  Hogar Uno  Persona 3   \n",
       "1   1.0   10150  056    005  Panel A2  Vivienda Tres  Hogar Uno  Persona 1   \n",
       "2   1.0   70150  005    001  Panel B2   Vivienda Dos  Hogar Dos  Persona 1   \n",
       "3   1.0   70150  043    004  Panel B2   Vivienda Uno  Hogar Uno  Persona 1   \n",
       "4   1.0   80150  012    003  Panel A2   Vivienda Uno  Hogar Uno  Persona 1   \n",
       "\n",
       "      p02   p03  ...   nc desem desemab desemoc desem1 desem2  \\\n",
       "0  Hombre  26.0  ...  NaN   NaN     NaN     NaN    NaN    NaN   \n",
       "1  Hombre  68.0  ...  NaN   NaN     NaN     NaN    NaN    NaN   \n",
       "2  Hombre  41.0  ...  NaN   NaN     NaN     NaN    NaN    NaN   \n",
       "3  Hombre  38.0  ...  NaN   NaN     NaN     NaN    NaN    NaN   \n",
       "4  Hombre  64.0  ...  NaN   NaN     NaN     NaN    NaN    NaN   \n",
       "\n",
       "                                pein     id_sector  plan_muestreo        fexp  \n",
       "0                                NaN  1.015001e+10           1012  141.065750  \n",
       "1  Población Económicamente Inactiva  1.015006e+10           1012   65.976281  \n",
       "2                                NaN  7.015001e+10           1072  123.512430  \n",
       "3                                NaN  7.015004e+10           1071   96.697327  \n",
       "4                                NaN  8.015001e+10           1081   89.319663  \n",
       "\n",
       "[5 rows x 313 columns]"
      ]
     },
     "execution_count": 9,
     "metadata": {},
     "output_type": "execute_result"
    }
   ],
   "source": [
    "dataper.head()"
   ]
  },
  {
   "cell_type": "code",
   "execution_count": 23,
   "metadata": {},
   "outputs": [],
   "source": [
    "#dataper[\"fexp\"] = dataper[\"fexp\"].str.replace(\",\",\".\").astype(float)"
   ]
  },
  {
   "cell_type": "code",
   "execution_count": 10,
   "metadata": {},
   "outputs": [
    {
     "data": {
      "text/plain": [
       "16404530.613148494"
      ]
     },
     "execution_count": 10,
     "metadata": {},
     "output_type": "execute_result"
    }
   ],
   "source": [
    "dataper[\"fexp\"].sum()"
   ]
  },
  {
   "cell_type": "code",
   "execution_count": 11,
   "metadata": {},
   "outputs": [
    {
     "data": {
      "text/plain": [
       "Index(['area', 'ciudad', 'zona', 'sector', 'panelm', 'vivienda', 'hogar',\n",
       "       'p01', 'p02', 'p03',\n",
       "       ...\n",
       "       'nc', 'desem', 'desemab', 'desemoc', 'desem1', 'desem2', 'pein',\n",
       "       'id_sector', 'plan_muestreo', 'fexp'],\n",
       "      dtype='object', length=313)"
      ]
     },
     "execution_count": 11,
     "metadata": {},
     "output_type": "execute_result"
    }
   ],
   "source": [
    "dataper.columns"
   ]
  },
  {
   "cell_type": "code",
   "execution_count": 12,
   "metadata": {
    "id": "xgcuElQk7aEJ"
   },
   "outputs": [
    {
     "name": "stderr",
     "output_type": "stream",
     "text": [
      "c:\\users\\eduardo\\appdata\\local\\programs\\python\\python37\\lib\\site-packages\\ipykernel_launcher.py:1: PerformanceWarning: DataFrame is highly fragmented.  This is usually the result of calling `frame.insert` many times, which has poor performance.  Consider joining all columns at once using pd.concat(axis=1) instead.  To get a de-fragmented frame, use `newframe = frame.copy()`\n",
      "  \"\"\"Entry point for launching an IPython kernel.\n",
      "c:\\users\\eduardo\\appdata\\local\\programs\\python\\python37\\lib\\site-packages\\ipykernel_launcher.py:2: PerformanceWarning: DataFrame is highly fragmented.  This is usually the result of calling `frame.insert` many times, which has poor performance.  Consider joining all columns at once using pd.concat(axis=1) instead.  To get a de-fragmented frame, use `newframe = frame.copy()`\n",
      "  \n"
     ]
    }
   ],
   "source": [
    "dataper['idp'] = dataper.ciudad.astype(str).str.zfill(6) + dataper.zona.astype(str) + dataper.sector.astype(str) + dataper.panelm.astype(str) + dataper.vivienda.astype(str) + dataper.hogar.astype(str)+ dataper.p01.astype(str)\n",
    "dataper['idh'] = dataper.ciudad.astype(str).str.zfill(6) + dataper.zona.astype(str) + dataper.sector.astype(str) + dataper.panelm.astype(str) + dataper.vivienda.astype(str) + dataper.hogar.astype(str)"
   ]
  },
  {
   "cell_type": "code",
   "execution_count": 13,
   "metadata": {
    "colab": {
     "base_uri": "https://localhost:8080/"
    },
    "id": "yVDXS6Ra8ZMf",
    "outputId": "9cb6b81d-16be-439b-eecc-8865d4fc1ab5"
   },
   "outputs": [
    {
     "data": {
      "text/plain": [
       "0    010150009004Panel B2Vivienda UnoHogar UnoPerso...\n",
       "1    010150056005Panel A2Vivienda TresHogar UnoPers...\n",
       "Name: idp, dtype: object"
      ]
     },
     "execution_count": 13,
     "metadata": {},
     "output_type": "execute_result"
    }
   ],
   "source": [
    "dataper.idp.head(2)"
   ]
  },
  {
   "cell_type": "markdown",
   "metadata": {
    "id": "wL8q_I5hS4YJ"
   },
   "source": [
    "##<b><font color='darkred'>MISSING DATA"
   ]
  },
  {
   "cell_type": "markdown",
   "metadata": {
    "id": "97Z26FkUD85Z"
   },
   "source": [
    "###<font color='darkblue'>*Exploracion*"
   ]
  },
  {
   "cell_type": "code",
   "execution_count": 14,
   "metadata": {
    "colab": {
     "base_uri": "https://localhost:8080/"
    },
    "id": "N8HGK-OlacBK",
    "outputId": "07408434-d779-4f17-c81b-22e4f5ecfd0a"
   },
   "outputs": [
    {
     "data": {
      "text/plain": [
       "112821"
      ]
     },
     "execution_count": 14,
     "metadata": {},
     "output_type": "execute_result"
    }
   ],
   "source": [
    "dataper.shape[0]"
   ]
  },
  {
   "cell_type": "code",
   "execution_count": 15,
   "metadata": {
    "colab": {
     "base_uri": "https://localhost:8080/"
    },
    "id": "0J-QTvbJafpN",
    "outputId": "84d57fa0-a316-43ce-920e-7acd71592809"
   },
   "outputs": [
    {
     "data": {
      "text/plain": [
       "30033"
      ]
     },
     "execution_count": 15,
     "metadata": {},
     "output_type": "execute_result"
    }
   ],
   "source": [
    "dataviv.shape[0]"
   ]
  },
  {
   "cell_type": "code",
   "execution_count": 76,
   "metadata": {
    "colab": {
     "base_uri": "https://localhost:8080/"
    },
    "id": "Myx9ag6AAvkE",
    "outputId": "b058348f-99f4-4e5f-fd0c-0aadd6581ae4"
   },
   "outputs": [],
   "source": [
    "#list(dataper.columns)"
   ]
  },
  {
   "cell_type": "code",
   "execution_count": 16,
   "metadata": {
    "colab": {
     "base_uri": "https://localhost:8080/"
    },
    "id": "F2GZyHW6T-uV",
    "outputId": "48e0009c-bc71-44ba-9020-769c809e36e4"
   },
   "outputs": [
    {
     "data": {
      "text/plain": [
       "Index(['area', 'ciudad', 'zona', 'sector', 'panelm', 'vivienda', 'hogar',\n",
       "       'vi01', 'vi02', 'vi03a', 'vi03b', 'vi04a', 'vi04b', 'vi05a', 'vi05b',\n",
       "       'vi06', 'vi07', 'vi07a', 'vi08', 'vi09', 'vi10', 'vi10a', 'vi11',\n",
       "       'vi12', 'vi13', 'vi14', 'vi15', 'vi16', 'vi17a', 'vi17b', 'vi18a',\n",
       "       'vi18b', 'eq0101', 'eq0102', 'eq0201', 'eq0202', 'eq0301', 'eq0302',\n",
       "       'eq0401', 'eq0402', 'eq0501', 'eq0502', 'eq0601', 'eq0602', 'eq0701',\n",
       "       'eq0702', 'eq0801', 'eq0802', 'eq0901', 'eq0902', 'eq1001', 'eq1002',\n",
       "       'eq1101', 'eq1102', 'eq1201', 'eq1202', 'eq1301', 'eq1302', 'eq1401',\n",
       "       'eq1402', 'eq1501', 'eq1502', 'eq1601', 'eq1602', 'eq1701', 'eq1702',\n",
       "       'eq1801', 'eq1802', 'eq1901', 'eq1902', 'vi20', 'vi21', 'vi22', 'vi23',\n",
       "       'id_sector', 'plan_muestreo', 'fexp', 'idh'],\n",
       "      dtype='object')"
      ]
     },
     "execution_count": 16,
     "metadata": {},
     "output_type": "execute_result"
    }
   ],
   "source": [
    "dataviv.columns"
   ]
  },
  {
   "cell_type": "markdown",
   "metadata": {
    "id": "sH0BoBoBDIhG"
   },
   "source": [
    "### <font color='darkblue'>*Dimension 1 EDUCACION*"
   ]
  },
  {
   "cell_type": "code",
   "execution_count": 41,
   "metadata": {},
   "outputs": [
    {
     "data": {
      "text/plain": [
       "86118"
      ]
     },
     "execution_count": 41,
     "metadata": {},
     "output_type": "execute_result"
    }
   ],
   "source": [
    "((dataper.p10b>=0) & (dataper.p10b<=6)).sum()"
   ]
  },
  {
   "cell_type": "code",
   "execution_count": 43,
   "metadata": {},
   "outputs": [
    {
     "data": {
      "text/plain": [
       "86118"
      ]
     },
     "execution_count": 43,
     "metadata": {},
     "output_type": "execute_result"
    }
   ],
   "source": [
    "dataper.p10b.isin(range(0,7)).sum()"
   ]
  },
  {
   "cell_type": "code",
   "execution_count": 55,
   "metadata": {},
   "outputs": [],
   "source": [
    "dataper[\"asist_basica\"] = ((dataper.p03.cat.codes.isin(range(5,15))) \\\n",
    "&(dataper.p07.cat.codes==1) \\\n",
    "&((dataper.p10a.cat.codes.isin([1,3])) \\\n",
    "|((dataper.p10a.cat.codes==4)&(dataper.p10b.isin(range(0,7)))) \\\n",
    "|((dataper.p10a.cat.codes==5)&(dataper.p10b.isin(range(0,10)))) \\\n",
    "|((dataper.p10a.cat.codes==6)&(dataper.p10b.isin(range(0,3)))) \\\n",
    "))"
   ]
  },
  {
   "cell_type": "code",
   "execution_count": null,
   "metadata": {},
   "outputs": [],
   "source": [
    "replace asist_basica=0 if inrange(p03,5,14) & asist_basica!=1\n",
    "dataper[\"asist_basica\"] = "
   ]
  },
  {
   "cell_type": "code",
   "execution_count": 54,
   "metadata": {},
   "outputs": [],
   "source": [
    "dataper[\"asist_batch\"] = (dataper.p03.cat.codes.isin(range(15,18)))&(dataper.p07.cat.codes==1) & \\\n",
    "(((dataper.p10a.cat.codes==5)&(dataper.p10b==10)) \\\n",
    "|((dataper.p10a.cat.codes==7)&(dataper.p10b.isin(range(0,3)))) \\\n",
    "|((dataper.p10a.cat.codes==6)&(dataper.p10b.isin(range(3,6)))))"
   ]
  },
  {
   "cell_type": "code",
   "execution_count": null,
   "metadata": {},
   "outputs": [],
   "source": []
  },
  {
   "cell_type": "code",
   "execution_count": 85,
   "metadata": {},
   "outputs": [],
   "source": [
    "#dataper.p10a.dtypes"
   ]
  },
  {
   "cell_type": "code",
   "execution_count": 86,
   "metadata": {},
   "outputs": [],
   "source": [
    "#dataper.p10a.isna().sum()"
   ]
  },
  {
   "cell_type": "code",
   "execution_count": 87,
   "metadata": {
    "id": "hhtz5JOtXwfz"
   },
   "outputs": [],
   "source": [
    "#miss dim1_ind1\n",
    "#dataper.p07 = dataper.p07.str.strip(' ')\n",
    "#dataper.p10a = dataper.p10a.str.strip(' ')\n",
    "#dataper['miss'] = ((dataper.p03.isin(range(5,18))) & ((dataper.p07.isna()) | (dataper.p10a.isna()) | (dataper.p10a.eq('')) | (dataper.p07.eq(''))))\n",
    "# dataper = dataper[~((dataper.p03.isin(range(5,18))) & ((dataper.p07.isna()) | (dataper.p10a.isna()) | (dataper.p10a.eq('')) | (dataper.p07.eq(''))))]"
   ]
  },
  {
   "cell_type": "code",
   "execution_count": 88,
   "metadata": {
    "id": "1OdMT2qacqxV"
   },
   "outputs": [],
   "source": [
    "#miss dim1_ind2\n",
    "#dataper['miss'] = dataper['miss'] | ((dataper.p03.isin(range(18,30))) & ((dataper.p07.isna()) | (dataper.p10a.isna()) | (dataper.p10a.eq('')) | (dataper.p07.eq(''))))\n",
    "# dataper = dataper[~((dataper.p03.isin(range(18,30))) & ((dataper.p07.isna()) | (dataper.p10a.isna()) | (dataper.p10a.eq('')) | (dataper.p07.eq(''))))]"
   ]
  },
  {
   "cell_type": "code",
   "execution_count": 89,
   "metadata": {
    "id": "iM0mFmRTfTyR"
   },
   "outputs": [],
   "source": [
    "#miss dim1_ind3\n",
    "#dataper.p09 = dataper.p09.str.strip(' ')\n",
    "#dataper.p10b = dataper.p10b.str.strip(' ')\n",
    "#dataper.p10b = dataper.p10b.replace([''],'0')\n",
    "#dataper['miss'] = dataper['miss'] | ((dataper.p03.isin(range(18,65))) & ((dataper.p07.isna()) | (dataper.p10a.isna()) | (dataper.p10a.eq('')) | (dataper.p07.eq('')) | ((dataper.p10b.isna() | dataper.p10b.eq('')) & (~dataper.p10a.isin(['1','2','3'])))))\n",
    "# dataper = dataper[~((dataper.p03.isin(range(18,65))) & ((dataper.p07.isna()) | (dataper.p10a.isna()) | (dataper.p10a.eq('')) | (dataper.p07.eq('')) | ((dataper.p10b.isna() | dataper.p10b.eq('')) & (~dataper.p10a.isin(['1','2','3'])))))]"
   ]
  },
  {
   "cell_type": "code",
   "execution_count": 90,
   "metadata": {},
   "outputs": [],
   "source": [
    "#dataper.shape[0]"
   ]
  },
  {
   "cell_type": "markdown",
   "metadata": {
    "id": "4-YUc5x6DNet"
   },
   "source": [
    "### <font color='darkblue'>*Dimension2 TRABAJO Y SEGURIDAD SOCIAL*"
   ]
  },
  {
   "cell_type": "code",
   "execution_count": 23,
   "metadata": {
    "id": "gYaQf3ppZeQ7"
   },
   "outputs": [],
   "source": [
    "#miss dim2_ind1\n",
    "dataper.p20 = dataper.p20.str.strip(' ')\n",
    "dataper.p21 = dataper.p21.str.strip(' ')\n",
    "dataper.p22 = dataper.p22.str.strip(' ')\n",
    "dataper.p51a = dataper.p51a.str.strip(' ')\n",
    "dataper.p51b = dataper.p51b.str.strip(' ')\n",
    "dataper.p51c = dataper.p51c.str.strip(' ')\n",
    "dataper.empleo = dataper.empleo.str.strip(' ')\n",
    "dataper.pean = dataper.pean.str.strip(' ')\n",
    "dataper.p24 = dataper.p24.str.strip(' ')\n",
    "dataper.p51a = dataper.p51a.replace(['999'],'')\n",
    "dataper.p51b = dataper.p51b.replace(['999'],'')\n",
    "dataper.p51c = dataper.p51c.replace(['999'],'')\n",
    "dataper.p24 = dataper.p24.replace([''],'0')\n",
    "dataper.p24 = dataper.p24.astype(int)"
   ]
  },
  {
   "cell_type": "code",
   "execution_count": 24,
   "metadata": {
    "id": "kUD1Ay-l9gLC"
   },
   "outputs": [],
   "source": [
    "#miss dim2_ind1\n",
    "def gen_horas(row):\n",
    "  if row.empleo == '1':\n",
    "    horas = 0\n",
    "  if ((row.pean == '1') and (row.p20 == '1')) or ((row.pean == '1') and (row.p20 == '2') and (row.p21=='' or int(row.p21)<=11)):\n",
    "    horas = int(row.p24)\n",
    "  else:\n",
    "    horas = None\n",
    "  \n",
    "  if row.p51a=='' and row.p51b=='' and row.p51c=='':\n",
    "    hh = None\n",
    "  else:\n",
    "    sumandos = []\n",
    "    for i in [row.p51a,row.p51b,row.p51c]:\n",
    "        try:\n",
    "            s = int(i)\n",
    "            sumandos.append(s)\n",
    "        except:\n",
    "            if i == '':\n",
    "                sumandos.append(0)\n",
    "    suma = sum(sumandos)\n",
    "    if suma < 0:\n",
    "      hh = None\n",
    "    else: \n",
    "      hh = suma\n",
    "\n",
    "  if (row.pean == '1') and (row.p20 == '2') and (row.p21 == '12') and (row.p22 == '1'):\n",
    "    horas = hh\n",
    "  return horas\n"
   ]
  },
  {
   "cell_type": "code",
   "execution_count": 25,
   "metadata": {
    "id": "cXy6SfI1Jkmi"
   },
   "outputs": [],
   "source": [
    "dataper['horas'] = dataper.apply(gen_horas, axis=1)"
   ]
  },
  {
   "cell_type": "code",
   "execution_count": 26,
   "metadata": {
    "colab": {
     "base_uri": "https://localhost:8080/"
    },
    "id": "qmGyS4yntJiz",
    "outputId": "96269ac8-2645-4c89-b115-364b636d999d"
   },
   "outputs": [
    {
     "data": {
      "text/plain": [
       "p51a         object\n",
       "p51b         object\n",
       "p51c         object\n",
       "CONDACTN      int64\n",
       "p03           int64\n",
       "p20          object\n",
       "p21          object\n",
       "p22          object\n",
       "empleo       object\n",
       "p24           int32\n",
       "horas       float64\n",
       "dtype: object"
      ]
     },
     "execution_count": 26,
     "metadata": {},
     "output_type": "execute_result"
    }
   ],
   "source": [
    "dataper[['p51a','p51b','p51c','CONDACTN','p03','p20','p21','p22','empleo','p24','horas']].dtypes"
   ]
  },
  {
   "cell_type": "code",
   "execution_count": 27,
   "metadata": {
    "id": "mARtoaE5vhMs"
   },
   "outputs": [],
   "source": [
    "#miss dim2_ind1\n",
    "dataper['miss'] = dataper['miss'] | ((dataper.p03.isin(range(5,15))) & ((dataper.p20.eq('')) & (dataper.p21.eq('')) & (dataper.p22.eq('')) ))\n",
    "# dataper = dataper[~((dataper.p03.isin(range(5,15))) & ((dataper.p20.eq('')) & (dataper.p21.eq('')) & (dataper.p22.eq('')) ))]\n",
    "dataper['miss'] = dataper['miss'] | ((dataper.p03.isin(range(15,18))) & (dataper.CONDACTN.isna()))\n",
    "# dataper = dataper[~((dataper.p03.isin(range(15,18))) & (dataper.CONDACTN.isna()))]"
   ]
  },
  {
   "cell_type": "code",
   "execution_count": 28,
   "metadata": {
    "id": "7dyDkaKOwqwU"
   },
   "outputs": [],
   "source": [
    "#miss dim2_ind1\n",
    "dataper['miss'] = dataper['miss'] | ((dataper.p03.isin(range(15,18))) & (dataper.CONDACTN.eq(1)) & ((dataper.p07.eq('')) | (dataper.horas.isna())))\n",
    "# dataper = dataper[~((dataper.p03.isin(range(15,18))) & (dataper.CONDACTN.eq(1)) & ((dataper.p07.eq('')) | (dataper.horas.isna())))]"
   ]
  },
  {
   "cell_type": "code",
   "execution_count": 29,
   "metadata": {},
   "outputs": [
    {
     "data": {
      "text/plain": [
       "110283"
      ]
     },
     "execution_count": 29,
     "metadata": {},
     "output_type": "execute_result"
    }
   ],
   "source": [
    "dataper.shape[0]"
   ]
  },
  {
   "cell_type": "code",
   "execution_count": 30,
   "metadata": {
    "colab": {
     "base_uri": "https://localhost:8080/"
    },
    "id": "UYmr5Kk58FRx",
    "outputId": "77368573-e770-48a8-dabb-496a6037f25e"
   },
   "outputs": [
    {
     "data": {
      "text/plain": [
       "p32    object\n",
       "p34    object\n",
       "p35    object\n",
       "dtype: object"
      ]
     },
     "execution_count": 30,
     "metadata": {},
     "output_type": "execute_result"
    }
   ],
   "source": [
    "#miss dim2_ind2\n",
    "dataper[['p32','p34','p35']].dtypes"
   ]
  },
  {
   "cell_type": "code",
   "execution_count": 31,
   "metadata": {
    "id": "rNTIl3XZ8Yph"
   },
   "outputs": [],
   "source": [
    "#miss dim2_ind2\n",
    "#dataper[dataper.p34.eq('')]\n",
    "dataper.p32 = dataper.p32.str.strip(' ')\n",
    "dataper.p34 = dataper.p34.str.strip(' ')\n",
    "dataper.p35 = dataper.p35.str.strip(' ')"
   ]
  },
  {
   "cell_type": "code",
   "execution_count": 32,
   "metadata": {
    "id": "sQFQLOHa7GI6"
   },
   "outputs": [],
   "source": [
    "#miss dim2_ind2\n",
    "dataper['miss'] = dataper['miss'] | ((dataper.p03.isin(range(18,99))) & (dataper.CONDACTN.isna()))\n",
    "# dataper = dataper[~((dataper.p03.isin(range(18,99))) & (dataper.CONDACTN.isna()))]\n",
    "dataper['miss'] = dataper['miss'] | ((dataper.p03.isin(range(18,99))) & ((dataper.p20.eq('')) & (dataper.p21.eq('')) & (dataper.p22.eq('')) & (dataper.p32.eq('')) & (dataper.p34.eq('')) & (dataper.p35.eq('')) ))\n",
    "# dataper = dataper[~((dataper.p03.isin(range(18,99))) & ((dataper.p20.eq('')) & (dataper.p21.eq('')) & (dataper.p22.eq('')) & (dataper.p32.eq('')) & (dataper.p34.eq('')) & (dataper.p35.eq('')) ))]"
   ]
  },
  {
   "cell_type": "code",
   "execution_count": 33,
   "metadata": {},
   "outputs": [
    {
     "data": {
      "text/plain": [
       "110283"
      ]
     },
     "execution_count": 33,
     "metadata": {},
     "output_type": "execute_result"
    }
   ],
   "source": [
    "dataper.shape[0]"
   ]
  },
  {
   "cell_type": "code",
   "execution_count": 34,
   "metadata": {
    "colab": {
     "base_uri": "https://localhost:8080/"
    },
    "id": "x-gTfFpmCVJQ",
    "outputId": "d48efde4-6663-4e17-fec8-cfdd91887676"
   },
   "outputs": [
    {
     "data": {
      "text/plain": [
       "p72a    object\n",
       "p75     object\n",
       "p77     object\n",
       "p05a     int64\n",
       "p05b     int64\n",
       "dtype: object"
      ]
     },
     "execution_count": 34,
     "metadata": {},
     "output_type": "execute_result"
    }
   ],
   "source": [
    "#miss dim2_ind3\n",
    "dataper[['p72a','p75','p77','p05a','p05b']].dtypes"
   ]
  },
  {
   "cell_type": "code",
   "execution_count": 35,
   "metadata": {
    "id": "IXbZ6ZtPFZbV"
   },
   "outputs": [],
   "source": [
    "#miss dim2_ind3\n",
    "dataper.p72a = dataper.p72a.str.strip(' ')\n",
    "dataper.p75 = dataper.p75.str.strip(' ')\n",
    "dataper.p77 = dataper.p77.str.strip(' ')"
   ]
  },
  {
   "cell_type": "code",
   "execution_count": 36,
   "metadata": {
    "id": "lHmltf_GGNgF"
   },
   "outputs": [],
   "source": [
    "#miss dim2_ind3\n",
    "dataper['miss'] = dataper['miss'] | ((dataper.p03.isin(range(15,99))) & ((dataper.p05a.isna()) | (dataper.p05b.isna()) | (dataper.p72a.eq('')) | (dataper.p75.eq('')) | (dataper.p77.eq('')) ))\n",
    "# dataper = dataper[~((dataper.p03.isin(range(15,99))) & ((dataper.p05a.isna()) | (dataper.p05b.isna()) | (dataper.p72a.eq('')) | (dataper.p75.eq('')) | (dataper.p77.eq('')) ))]"
   ]
  },
  {
   "cell_type": "code",
   "execution_count": 37,
   "metadata": {},
   "outputs": [
    {
     "data": {
      "text/plain": [
       "110283"
      ]
     },
     "execution_count": 37,
     "metadata": {},
     "output_type": "execute_result"
    }
   ],
   "source": [
    "dataper.shape[0]"
   ]
  },
  {
   "cell_type": "markdown",
   "metadata": {
    "id": "X_BZ_dDXG5w8"
   },
   "source": [
    "### <font color='darkblue'>*Dimension3 SALUD AGUA Y ALIMENTACION*\n",
    "\n"
   ]
  },
  {
   "cell_type": "code",
   "execution_count": 38,
   "metadata": {
    "colab": {
     "base_uri": "https://localhost:8080/"
    },
    "id": "6l1sUCoBG7KU",
    "outputId": "63898744-16e2-4c88-dce5-49ecde229762"
   },
   "outputs": [
    {
     "data": {
      "text/plain": [
       "epobreza    object\n",
       "dtype: object"
      ]
     },
     "execution_count": 38,
     "metadata": {},
     "output_type": "execute_result"
    }
   ],
   "source": [
    "#miss dim3_ind1\n",
    "dataper[['epobreza']].dtypes"
   ]
  },
  {
   "cell_type": "code",
   "execution_count": 39,
   "metadata": {
    "id": "AqBnzA3KHnSc"
   },
   "outputs": [],
   "source": [
    "#miss dim3_ind1\n",
    "dataper.epobreza = dataper.epobreza.str.strip(' ')\n",
    "dataper['miss'] = dataper['miss'] | (dataper.epobreza.eq(''))\n",
    "# dataper = dataper[~(dataper.epobreza.eq(''))]\n",
    "dataper['miss'] = dataper['miss'] | (dataper.epobreza.isna())\n",
    "# dataper = dataper[~(dataper.epobreza.isna())]"
   ]
  },
  {
   "cell_type": "code",
   "execution_count": 40,
   "metadata": {},
   "outputs": [
    {
     "data": {
      "text/plain": [
       "110283"
      ]
     },
     "execution_count": 40,
     "metadata": {},
     "output_type": "execute_result"
    }
   ],
   "source": [
    "dataper.shape[0]"
   ]
  },
  {
   "cell_type": "code",
   "execution_count": 41,
   "metadata": {
    "colab": {
     "base_uri": "https://localhost:8080/"
    },
    "id": "uXPHoeTRIPfA",
    "outputId": "47ded7e0-e72e-4141-fb9e-637da27604b8"
   },
   "outputs": [
    {
     "data": {
      "text/plain": [
       "vi10    int64\n",
       "dtype: object"
      ]
     },
     "execution_count": 41,
     "metadata": {},
     "output_type": "execute_result"
    }
   ],
   "source": [
    "#miss dim3_ind2 aqui ya se evalua a nivel hogar\n",
    "dataviv[['vi10']].dtypes"
   ]
  },
  {
   "cell_type": "code",
   "execution_count": 42,
   "metadata": {
    "id": "WVbuY8BKIhOB"
   },
   "outputs": [],
   "source": [
    "#miss dim3_ind2\n",
    "dataper['miss'] = dataper['miss'] | (dataviv.vi10.isna())\n",
    "# dataviv = dataviv[~(dataviv.vi10.isna())]"
   ]
  },
  {
   "cell_type": "markdown",
   "metadata": {
    "id": "DXnGdQ1CJFO0"
   },
   "source": [
    "### <font color='darkblue'>*Dimension4 HABITAT VIVIENDA Y AMBIENTE SANO*"
   ]
  },
  {
   "cell_type": "code",
   "execution_count": 43,
   "metadata": {
    "colab": {
     "base_uri": "https://localhost:8080/"
    },
    "id": "Mmx9dknoJLmU",
    "outputId": "b2064472-d32a-4eb9-825b-157c1bd30566"
   },
   "outputs": [
    {
     "data": {
      "text/plain": [
       "vi07    int64\n",
       "dtype: object"
      ]
     },
     "execution_count": 43,
     "metadata": {},
     "output_type": "execute_result"
    }
   ],
   "source": [
    "#miss dim4_ind1\n",
    "dataviv[['vi07']].dtypes"
   ]
  },
  {
   "cell_type": "code",
   "execution_count": 44,
   "metadata": {
    "colab": {
     "base_uri": "https://localhost:8080/"
    },
    "id": "x9fS2LuELufk",
    "outputId": "c0135c62-5285-4262-a852-d0f042660109"
   },
   "outputs": [
    {
     "name": "stdout",
     "output_type": "stream",
     "text": [
      "sin dormitorios 0 con un dormitorio 7941\n"
     ]
    }
   ],
   "source": [
    "#miss dim4_ind1 toda casa tiene 1 dormitorio al menos\n",
    "print(f'sin dormitorios {dataviv[dataviv.vi07.eq(0)].shape[0]} con un dormitorio {dataviv[dataviv.vi07.eq(1)].shape[0]}')"
   ]
  },
  {
   "cell_type": "code",
   "execution_count": 45,
   "metadata": {
    "colab": {
     "base_uri": "https://localhost:8080/"
    },
    "id": "SjhXXgg8MFYv",
    "outputId": "f25da9dc-4fb7-4bc7-d60b-cc795b949864"
   },
   "outputs": [
    {
     "name": "stdout",
     "output_type": "stream",
     "text": [
      "sin dormitorios 0 con un dormitorio 7941\n"
     ]
    }
   ],
   "source": [
    "#miss dim4_ind1 total reemplazando 0 por 1\n",
    "dataviv.vi07 = dataviv.vi07.replace([0],1)\n",
    "print(f'sin dormitorios {dataviv[dataviv.vi07.eq(0)].shape[0]} con un dormitorio {dataviv[dataviv.vi07.eq(1)].shape[0]}')"
   ]
  },
  {
   "cell_type": "code",
   "execution_count": 46,
   "metadata": {
    "id": "OirmZTVQLsHX"
   },
   "outputs": [],
   "source": [
    "#miss dim4_ind1\n",
    "dataper['miss'] = dataper['miss'] | (dataviv.vi07.isna())\n",
    "# dataviv = dataviv[~(dataviv.vi07.isna())]"
   ]
  },
  {
   "cell_type": "code",
   "execution_count": 47,
   "metadata": {
    "colab": {
     "base_uri": "https://localhost:8080/"
    },
    "id": "O4QmlkgcahOf",
    "outputId": "1358ddec-4058-4971-9ef7-8f2c8491ca67"
   },
   "outputs": [
    {
     "data": {
      "text/plain": [
       "vi03a    int64\n",
       "vi03b    int64\n",
       "vi04a    int64\n",
       "vi04b    int64\n",
       "vi05a    int64\n",
       "vi05b    int64\n",
       "dtype: object"
      ]
     },
     "execution_count": 47,
     "metadata": {},
     "output_type": "execute_result"
    }
   ],
   "source": [
    "#miss dim4_ind2\n",
    "dataviv[['vi03a','vi03b','vi04a','vi04b','vi05a','vi05b']].dtypes"
   ]
  },
  {
   "cell_type": "code",
   "execution_count": 48,
   "metadata": {
    "id": "AJ3azaYMbVWl"
   },
   "outputs": [],
   "source": [
    "#miss dim4_ind2\n",
    "dataper['miss'] = dataper['miss'] | ( (dataviv.vi03a.isna()) | (dataviv.vi03b.isna()) | (dataviv.vi04a.isna()) | (dataviv.vi04b.isna()) | (dataviv.vi05a.isna()) | (dataviv.vi05b.isna()) )\n",
    "# dataviv = dataviv[~( (dataviv.vi03a.isna()) | (dataviv.vi03b.isna()) | (dataviv.vi04a.isna()) | (dataviv.vi04b.isna()) | (dataviv.vi05a.isna()) | (dataviv.vi05b.isna()) )]"
   ]
  },
  {
   "cell_type": "code",
   "execution_count": 49,
   "metadata": {
    "colab": {
     "base_uri": "https://localhost:8080/"
    },
    "id": "I4DivyrYbt8r",
    "outputId": "1243a720-d066-40d1-c28d-5b53c295e9e9"
   },
   "outputs": [
    {
     "data": {
      "text/plain": [
       "vi09    int64\n",
       "dtype: object"
      ]
     },
     "execution_count": 49,
     "metadata": {},
     "output_type": "execute_result"
    }
   ],
   "source": [
    "#miss dim4_ind3\n",
    "dataviv[['vi09']].dtypes"
   ]
  },
  {
   "cell_type": "code",
   "execution_count": 50,
   "metadata": {
    "id": "0f3gzlQcb6bX"
   },
   "outputs": [],
   "source": [
    "#miss dim4_ind3\n",
    "dataper['miss'] = dataper['miss'] |  (dataviv.vi09.isna())\n",
    "# dataviv = dataviv[~(dataviv.vi09.isna())]"
   ]
  },
  {
   "cell_type": "code",
   "execution_count": 51,
   "metadata": {
    "colab": {
     "base_uri": "https://localhost:8080/"
    },
    "id": "AHD5jDOeb9Nw",
    "outputId": "1c48173d-b101-4c6d-ed34-b79a99c19dbc"
   },
   "outputs": [
    {
     "data": {
      "text/plain": [
       "vi13    int64\n",
       "dtype: object"
      ]
     },
     "execution_count": 51,
     "metadata": {},
     "output_type": "execute_result"
    }
   ],
   "source": [
    "#miss dim4_ind4\n",
    "dataviv[['vi13']].dtypes"
   ]
  },
  {
   "cell_type": "code",
   "execution_count": 52,
   "metadata": {
    "id": "Ii1LwhtPcCRG"
   },
   "outputs": [],
   "source": [
    "#miss dim4_ind4\n",
    "dataper['miss'] = dataper['miss'] |  (dataviv.vi13.isna())\n",
    "# dataviv = dataviv[~(dataviv.vi13.isna())]\n"
   ]
  },
  {
   "cell_type": "code",
   "execution_count": 53,
   "metadata": {},
   "outputs": [
    {
     "data": {
      "text/plain": [
       "110283"
      ]
     },
     "execution_count": 53,
     "metadata": {},
     "output_type": "execute_result"
    }
   ],
   "source": [
    "dataper.shape[0]"
   ]
  },
  {
   "cell_type": "markdown",
   "metadata": {
    "id": "smEawc2cVeEQ"
   },
   "source": [
    "### <font color='darkblue'>*BORRANDO TODAS LAS PERSONAS CON MISSING DATA Y A SUS COMPAÑEROS DE VIVIENDA*"
   ]
  },
  {
   "cell_type": "code",
   "execution_count": 54,
   "metadata": {
    "id": "NO1ygvBDdYJW"
   },
   "outputs": [],
   "source": [
    "miss_idhs = dataper[dataper.miss == True].idh.unique()"
   ]
  },
  {
   "cell_type": "code",
   "execution_count": 55,
   "metadata": {},
   "outputs": [
    {
     "data": {
      "text/plain": [
       "(8895, 317)"
      ]
     },
     "execution_count": 55,
     "metadata": {},
     "output_type": "execute_result"
    }
   ],
   "source": [
    "dataper[dataper.miss == True].shape"
   ]
  },
  {
   "cell_type": "code",
   "execution_count": 56,
   "metadata": {
    "colab": {
     "base_uri": "https://localhost:8080/"
    },
    "id": "MLoAR5aJUrO1",
    "outputId": "ab597589-7834-4bfd-a5c0-2bf9242fdfa1"
   },
   "outputs": [
    {
     "data": {
      "text/plain": [
       "2390"
      ]
     },
     "execution_count": 56,
     "metadata": {},
     "output_type": "execute_result"
    }
   ],
   "source": [
    "#TOTAL DE las viviendas con missing data\n",
    "len(dataper[dataper.miss == True].idh.unique())"
   ]
  },
  {
   "cell_type": "code",
   "execution_count": 57,
   "metadata": {
    "id": "1h1IQeazVo2q"
   },
   "outputs": [],
   "source": [
    "dataper = dataper[~(dataper.idh.isin(miss_idhs))]"
   ]
  },
  {
   "cell_type": "code",
   "execution_count": 58,
   "metadata": {
    "id": "1KB39sk5eMRB"
   },
   "outputs": [],
   "source": [
    "dataper = dataper[~(dataper.p03 >= 99)]"
   ]
  },
  {
   "cell_type": "markdown",
   "metadata": {
    "id": "-9QwVKC3dej6"
   },
   "source": [
    "#<u><b>INDICADORES"
   ]
  },
  {
   "cell_type": "markdown",
   "metadata": {
    "id": "8Fttaz-BdoFB"
   },
   "source": [
    "##<b><font color='darkred'>DIMENSION 1 (EDUCACION)"
   ]
  },
  {
   "cell_type": "markdown",
   "metadata": {
    "id": "Nx0eJKqTd7h0"
   },
   "source": [
    "###<font color='darkblue'>*INDICADOR 1 INASISTENCIA A ED BASICA Y BACHILLERATO*"
   ]
  },
  {
   "cell_type": "code",
   "execution_count": 59,
   "metadata": {
    "colab": {
     "base_uri": "https://localhost:8080/"
    },
    "id": "CZ82qLhriR4h",
    "outputId": "bb97fa68-8283-4bc5-ee25-fb34623131fe"
   },
   "outputs": [
    {
     "data": {
      "text/plain": [
       "p03      int64\n",
       "p07     object\n",
       "p10a    object\n",
       "p10b    object\n",
       "dtype: object"
      ]
     },
     "execution_count": 59,
     "metadata": {},
     "output_type": "execute_result"
    }
   ],
   "source": [
    "dataper[['p03','p07','p10a','p10b']].dtypes"
   ]
  },
  {
   "cell_type": "code",
   "execution_count": 60,
   "metadata": {
    "colab": {
     "base_uri": "https://localhost:8080/"
    },
    "id": "vWqgq_Q0xsO2",
    "outputId": "6cff0f2f-5092-47aa-8b76-3c7efadc9a33"
   },
   "outputs": [
    {
     "data": {
      "text/plain": [
       "['0', '1', '2', '3']"
      ]
     },
     "execution_count": 60,
     "metadata": {},
     "output_type": "execute_result"
    }
   ],
   "source": [
    "list(map(str,range(0,4)))"
   ]
  },
  {
   "cell_type": "code",
   "execution_count": 61,
   "metadata": {
    "id": "j0bfC5tk3feH"
   },
   "outputs": [],
   "source": [
    "def asist_basic(row):\n",
    "  return bool((int(row.p07) ==1) & \\\n",
    "  ( int(row.p10a) in [1,3]\n",
    "  or (int(row.p10a)==4 & (int(row.p10b) in range(0,7)))\n",
    "  or (int(row.p10a)==5 & (int(row.p10b) in range(0,10)))\n",
    "  or (int(row.p10a)==6 & (int(row.p10b) in range(0,3)))\n",
    "  ))"
   ]
  },
  {
   "cell_type": "code",
   "execution_count": 62,
   "metadata": {
    "id": "bRKro5pX3qz_"
   },
   "outputs": [],
   "source": [
    "dataper['asist_basic'] = dataper.apply(lambda x: asist_basic(x) if (x.p03 in range(5,15)) else False, axis=1)"
   ]
  },
  {
   "cell_type": "code",
   "execution_count": 63,
   "metadata": {
    "id": "B31gofhC5tjn"
   },
   "outputs": [],
   "source": [
    "def asist_bach(row):\n",
    "  return bool((int(row.p07) ==1) & \\\n",
    "  ( (\n",
    "      (int(row.p10a) ==5) & (int(row.p10b) ==10))\n",
    "  | (\n",
    "      (int(row.p10a) ==7) & (int(row.p10b) in range(0,3)))\n",
    "  | (\n",
    "      (int(row.p10a) ==6) & (int(row.p10b) in range(3,6)))\n",
    "  ))"
   ]
  },
  {
   "cell_type": "code",
   "execution_count": 64,
   "metadata": {
    "id": "cvmq_us_6dDP"
   },
   "outputs": [],
   "source": [
    "dataper['asist_bach'] = dataper.apply(lambda x: asist_bach(x) if (x.p03 in range(15,18)) else False, axis=1)"
   ]
  },
  {
   "cell_type": "code",
   "execution_count": 65,
   "metadata": {
    "id": "CulRx25Bd15p"
   },
   "outputs": [],
   "source": [
    "def dim1i1(row):\n",
    "  if int(row.p10a)<8:\n",
    "    dim1_ind1 = True\n",
    "  if  (row['asist_basic'] | row['asist_bach'] | (int(row.p10a) >=8)):\n",
    "    dim1_ind1 = False\n",
    "  return bool(dim1_ind1)\n"
   ]
  },
  {
   "cell_type": "code",
   "execution_count": 66,
   "metadata": {
    "id": "kKunVgpV4S4c"
   },
   "outputs": [],
   "source": [
    "dataper['dim1i1'] = dataper.apply(lambda y: dim1i1(y) if (y.p03 in range(5,18)) else False, axis=1)"
   ]
  },
  {
   "cell_type": "code",
   "execution_count": 67,
   "metadata": {
    "colab": {
     "base_uri": "https://localhost:8080/"
    },
    "id": "4aN-MA160d-n",
    "outputId": "179394e4-a185-42c9-f661-1d6ed340610b"
   },
   "outputs": [
    {
     "name": "stdout",
     "output_type": "stream",
     "text": [
      "filas sin usar en indicador: 73933 \n",
      "total Falsos de esas filas: 73933\n"
     ]
    }
   ],
   "source": [
    "print(f'filas sin usar en indicador: {dataper[~dataper.p03.isin(range(5,18))].shape[0]} \\ntotal Falsos de esas filas: {dataper[(dataper.dim1i1 == False) & (~dataper.p03.isin(range(5,18)))].shape[0]}')"
   ]
  },
  {
   "cell_type": "markdown",
   "metadata": {
    "id": "nuYChGha1VFC"
   },
   "source": [
    "###<font color='darkblue'>*INDICADOR 2 NO ACCESO A EDUCACION SUPERIOR POR BARRERAS ECONOMICAS*"
   ]
  },
  {
   "cell_type": "code",
   "execution_count": 68,
   "metadata": {
    "colab": {
     "base_uri": "https://localhost:8080/"
    },
    "id": "iVmjPIRPj-RX",
    "outputId": "5f2a52ac-9b5b-41ce-892c-7b689a6fb047"
   },
   "outputs": [
    {
     "data": {
      "text/plain": [
       "p09    object\n",
       "dtype: object"
      ]
     },
     "execution_count": 68,
     "metadata": {},
     "output_type": "execute_result"
    }
   ],
   "source": [
    "dataper[['p09']].dtypes"
   ]
  },
  {
   "cell_type": "code",
   "execution_count": 69,
   "metadata": {
    "id": "2jtEMOR3j5T4"
   },
   "outputs": [],
   "source": [
    "def dim1i2(row):\n",
    "  ind = False\n",
    "  if (int(row.p07)>=1 & int(row.p07)<=2) & ( (int(row.p10a)==7 & int(row.p10b)>=3)\n",
    "  | (int(row.p10a)==6 & int(row.p10b)>=6)) | (int(row.p10a) in range(8,11)):\n",
    "    ind = False\n",
    "  if (row.p09 != ''):\n",
    "    if int(row.p07)==2 & ( (int(row.p10a)==7 & int(row.p10b)>=3)\n",
    "    | (int(row.p10a)==6 & int(row.p10b)>=6) | (int(row.p10a) in range(8,10))) & int(row.p09)==3 :\n",
    "      ind = True\n",
    "  return bool(ind)"
   ]
  },
  {
   "cell_type": "code",
   "execution_count": 70,
   "metadata": {
    "id": "FL42GU87osh9"
   },
   "outputs": [],
   "source": [
    "dataper['dim1i2'] = dataper.apply(lambda y: dim1i2(y) if (y.p03 in range(18,30)) else False, axis=1)"
   ]
  },
  {
   "cell_type": "markdown",
   "metadata": {
    "id": "JXKHSVGCiJEy"
   },
   "source": [
    "###<font color='darkblue'>*INDICADOR 3 LOGRO EDUCATIVO INCOMPLETO*"
   ]
  },
  {
   "cell_type": "code",
   "execution_count": 71,
   "metadata": {
    "colab": {
     "base_uri": "https://localhost:8080/"
    },
    "id": "xSaBpRvPscsN",
    "outputId": "88e40733-d8b9-4fd9-fdc7-0fee9b85e15d"
   },
   "outputs": [
    {
     "data": {
      "text/plain": [
       "p10a    object\n",
       "p10b    object\n",
       "p03      int64\n",
       "p07     object\n",
       "dtype: object"
      ]
     },
     "execution_count": 71,
     "metadata": {},
     "output_type": "execute_result"
    }
   ],
   "source": [
    "dataper[['p10a','p10b','p03','p07']].dtypes"
   ]
  },
  {
   "cell_type": "code",
   "execution_count": 72,
   "metadata": {
    "id": "YKBn_KA5EewB"
   },
   "outputs": [],
   "source": [
    "def escol(row):\n",
    "  escol = 0\n",
    "  if row.p10a == '':\n",
    "    escol = 0\n",
    "  else:\n",
    "    if (int(row.p10a) == 3):\n",
    "      escol = 1\n",
    "    if row.p10b == '':\n",
    "      escol = 0\n",
    "    else:\n",
    "      if (int(row.p10a) == 1) & (int(row.p10b) == 0):\n",
    "        escol = 0\n",
    "      if (int(row.p10a) == 2) & (int(row.p10b) == 0):\n",
    "        escol = 0\n",
    "      if (int(row.p10a) == 2) & (int(row.p10b) == 1):\n",
    "        escol = 2\n",
    "      if (int(row.p10a) == 2) & (int(row.p10b) == 2):\n",
    "        escol = 4\n",
    "      if (int(row.p10a) == 2) & (int(row.p10b) == 3):\n",
    "        escol = 6\n",
    "      if (int(row.p10a) == 2) & (int(row.p10b) == 4):\n",
    "        escol = 7\n",
    "      if (int(row.p10a) == 4):\n",
    "        escol = 1+int(row.p10b)\n",
    "      if (int(row.p10a) == 5):\n",
    "        escol = int(row.p10b)\n",
    "      if (int(row.p10a) == 6):\n",
    "        escol = 7+int(row.p10b)\n",
    "      if (int(row.p10a) == 7):\n",
    "        escol = 10+int(row.p10b)\n",
    "      if (int(row.p10a) == 8):\n",
    "        escol = 13+int(row.p10b)\n",
    "      if (int(row.p10a) == 9):\n",
    "        escol = 13+int(row.p10b)\n",
    "      if (int(row.p10a) == 10):\n",
    "        escol = 18+int(row.p10b)\n",
    "  return int(escol)"
   ]
  },
  {
   "cell_type": "code",
   "execution_count": 73,
   "metadata": {
    "id": "3Sckw5daEFDi"
   },
   "outputs": [],
   "source": [
    "dataper['escol'] = dataper.apply(lambda y: escol(y) , axis=1)"
   ]
  },
  {
   "cell_type": "code",
   "execution_count": 74,
   "metadata": {
    "id": "Zjy3pwp0LzBg"
   },
   "outputs": [],
   "source": [
    "#logro educativo incompleto\n",
    "def dim1i3(row):\n",
    "  if ((row.escol<10 & int(row.p07)==1) | (row.escol>=10)):\n",
    "    ind = False\n",
    "  elif  (row.escol<10 & int(row.p07)==2):\n",
    "    ind = True\n",
    "  else: \n",
    "    ind = False\n",
    "  return bool(ind)"
   ]
  },
  {
   "cell_type": "code",
   "execution_count": 75,
   "metadata": {
    "id": "tsBMF9jedWAh"
   },
   "outputs": [],
   "source": [
    "dataper['dim1i3'] = dataper.apply(lambda y: dim1i3(y) if (y.p03 in range(18,65)) else False, axis=1)"
   ]
  },
  {
   "cell_type": "markdown",
   "metadata": {
    "id": "QOn7PFn1sxz0"
   },
   "source": [
    "##<b><font color='darkred'>DIMENSION 2 (TRABAJO Y SEGURIDAD SOCIAL)"
   ]
  },
  {
   "cell_type": "markdown",
   "metadata": {
    "id": "2q7zot0usn8m"
   },
   "source": [
    "###<font color='darkblue'>*INDICADOR 1 EMPLEO INFANTIL Y ADOLESCENTE*"
   ]
  },
  {
   "cell_type": "code",
   "execution_count": 76,
   "metadata": {
    "colab": {
     "base_uri": "https://localhost:8080/"
    },
    "id": "W0avYt7itGm_",
    "outputId": "e32c121f-a5f0-423e-bdc0-07a45b2682ec"
   },
   "outputs": [
    {
     "data": {
      "text/plain": [
       "p20          object\n",
       "p21          object\n",
       "p22          object\n",
       "p07          object\n",
       "CONDACTN      int64\n",
       "horas       float64\n",
       "dtype: object"
      ]
     },
     "execution_count": 76,
     "metadata": {},
     "output_type": "execute_result"
    }
   ],
   "source": [
    "dataper[['p20','p21','p22','p07','CONDACTN','horas']].dtypes"
   ]
  },
  {
   "cell_type": "code",
   "execution_count": 77,
   "metadata": {
    "id": "Pt-t-lLEtLyf"
   },
   "outputs": [],
   "source": [
    "def dim2i1(row):\n",
    "  ind = False\n",
    "  if row.p20 == '': row.p20 = -1 \n",
    "  if row.p21 == '': row.p21 = -1\n",
    "  if row.p22 == '': row.p22 = -1\n",
    "  if (int(row.p20)==1 | (int(row.p21) in range(1,12)) | int(row.p22)==1) & (int(row.p03) in range(5,15)):\n",
    "    ind = True\n",
    "  if (row.CONDACTN in range(2,7)) & (row.p03 in range(15,18)):\n",
    "    ind = True\n",
    "  if (row.CONDACTN ==1) & (row.p03 in range(15,18)) & ((int(row.p07)==2) | (row.horas>30.0)):\n",
    "    ind = True\n",
    "  return bool(ind)"
   ]
  },
  {
   "cell_type": "code",
   "execution_count": 78,
   "metadata": {
    "id": "N1GW5o-JOhK-"
   },
   "outputs": [],
   "source": [
    "dataper['dim2i1'] = dataper.apply(lambda y: dim2i1(y) if (y.p03 in range(5,18)) else False, axis=1)"
   ]
  },
  {
   "cell_type": "markdown",
   "metadata": {
    "id": "wAfKf8HtTBj8"
   },
   "source": [
    "###<font color='darkblue'>*INDICADOR 2 DESEMPLEO O EMPLEO INADECUADO*"
   ]
  },
  {
   "cell_type": "code",
   "execution_count": 79,
   "metadata": {
    "colab": {
     "base_uri": "https://localhost:8080/"
    },
    "id": "jl4AsTDxTT8s",
    "outputId": "c73a27ab-a314-45ef-d849-963183932c5d"
   },
   "outputs": [
    {
     "data": {
      "text/plain": [
       "p32    object\n",
       "p34    object\n",
       "p35    object\n",
       "dtype: object"
      ]
     },
     "execution_count": 79,
     "metadata": {},
     "output_type": "execute_result"
    }
   ],
   "source": [
    "dataper[['p32','p34','p35']].dtypes"
   ]
  },
  {
   "cell_type": "code",
   "execution_count": 80,
   "metadata": {
    "id": "gS_AFiMZOr5x"
   },
   "outputs": [],
   "source": [
    "def dim2i2(row):\n",
    "  return bool(row.CONDACTN in range(2,9))"
   ]
  },
  {
   "cell_type": "code",
   "execution_count": 81,
   "metadata": {
    "id": "tGUkGTaSUgkO"
   },
   "outputs": [],
   "source": [
    "dataper['dim2i2'] = dataper.apply(lambda y: dim2i2(y) if (y.p03 in range(18,99)) else False, axis=1)"
   ]
  },
  {
   "cell_type": "markdown",
   "metadata": {
    "id": "mwaqaNpbU5Ua"
   },
   "source": [
    "###<font color='darkblue'>*INDICADOR 3 NO CONTRIBUCION AL SISTEMA DE PENSIONES*"
   ]
  },
  {
   "cell_type": "code",
   "execution_count": 82,
   "metadata": {
    "colab": {
     "base_uri": "https://localhost:8080/"
    },
    "id": "1AoJf2FkWQ3n",
    "outputId": "424de92b-fd5d-4068-fa8f-4fa6f9d58ff8"
   },
   "outputs": [
    {
     "data": {
      "text/plain": [
       "empleo    object\n",
       "p05a       int64\n",
       "p05b       int64\n",
       "p72a      object\n",
       "p75       object\n",
       "desem     object\n",
       "pein      object\n",
       "petn      object\n",
       "p77       object\n",
       "dtype: object"
      ]
     },
     "execution_count": 82,
     "metadata": {},
     "output_type": "execute_result"
    }
   ],
   "source": [
    "dataper[['empleo','p05a','p05b','p72a','p75','desem','pein','petn','p77']].dtypes"
   ]
  },
  {
   "cell_type": "code",
   "execution_count": 83,
   "metadata": {
    "id": "mQd9pK96U1_O"
   },
   "outputs": [],
   "source": [
    "def dim2i3(row):\n",
    "  #Personas ocuapadas\n",
    "  ind = False\n",
    "  if row.desem == ' ': row.desem = -1 \n",
    "  if row.pein == ' ': row.pein = -1\n",
    "  if row.petn == ' ': row.petn = -1\n",
    "  if row.empleo == '': row.empleo = -1\n",
    "  if ((int(row.empleo)==1) & (row.p05a in range(5,11)) & (row.p05b in range(5,11))):\n",
    "    ind = True\n",
    "  if (int(row.empleo) ==1) & (row.p03>=65) & (int(row.p72a)==1):\n",
    "    ind = False\n",
    "\n",
    "  #Personas desocupadas o PEI mayores de 65 años\n",
    "  if ((int(row.desem) ==1) | (int(row.pein)==1)) & (row.p03>=65) & (int(row.p72a)==2):\n",
    "    ind = True\n",
    "  if (row.p03>=65) & (int(row.p72a)== 2) & (int(row.p75)==1):\n",
    "    ind = False\n",
    "  if (int(row.petn) ==1) & (int(row.p77)==1):\n",
    "    ind = False\n",
    "  if (int(row.petn) ==0):\n",
    "    ind = False\n",
    "  return bool(ind)\n",
    "\n",
    "#replace dim2_ind3 = . if pet ==0 | inrange(p03,0,14)"
   ]
  },
  {
   "cell_type": "code",
   "execution_count": 84,
   "metadata": {
    "id": "AuToWZR2a1d7"
   },
   "outputs": [],
   "source": [
    "dataper['dim2i3'] = dataper.apply(lambda y: dim2i3(y) if (y.p03 in range(15,99)) else False, axis=1)"
   ]
  },
  {
   "cell_type": "markdown",
   "metadata": {
    "id": "C_sZIgt8ckN1"
   },
   "source": [
    "##<b><font color='darkred'>DIMENSION 3 (SALUD AGUA Y ALIMENTACION)"
   ]
  },
  {
   "cell_type": "markdown",
   "metadata": {
    "id": "B7iZ4-xkctsZ"
   },
   "source": [
    "###<font color='darkblue'>*INDICADOR 1 POBREZA EXTREMA POR INGRESOS*"
   ]
  },
  {
   "cell_type": "code",
   "execution_count": 85,
   "metadata": {
    "id": "SgaJvWyQcz2z"
   },
   "outputs": [],
   "source": [
    "dataper['dim3i1'] = dataper.epobreza.replace(['0'],False).replace(['1'],True).astype(bool)"
   ]
  },
  {
   "cell_type": "markdown",
   "metadata": {
    "id": "ighINm0lg4yf"
   },
   "source": [
    "###<font color='darkblue'>*INDICADOR 2 SIN SERVICIO DE AGUA POR RED PUBLICA* desde aqui se aplica a viv"
   ]
  },
  {
   "cell_type": "code",
   "execution_count": 86,
   "metadata": {
    "colab": {
     "base_uri": "https://localhost:8080/"
    },
    "id": "7aXw5UZmhaX2",
    "outputId": "59c3300e-38b8-4d1d-8b0d-f619fbee93ef"
   },
   "outputs": [
    {
     "data": {
      "text/plain": [
       "dtype('int64')"
      ]
     },
     "execution_count": 86,
     "metadata": {},
     "output_type": "execute_result"
    }
   ],
   "source": [
    "dataviv.vi10.dtypes"
   ]
  },
  {
   "cell_type": "code",
   "execution_count": 87,
   "metadata": {
    "id": "Wvb93v7Ped74"
   },
   "outputs": [],
   "source": [
    "def dim3i2(row):\n",
    "  return bool(row.vi10 != 1)"
   ]
  },
  {
   "cell_type": "code",
   "execution_count": 88,
   "metadata": {
    "id": "x07pQQG7iXcb"
   },
   "outputs": [],
   "source": [
    "dataviv['dim3i2'] = dataviv.apply(lambda y: dim3i2(y), axis=1)"
   ]
  },
  {
   "cell_type": "markdown",
   "metadata": {
    "id": "l90ANyESjAGQ"
   },
   "source": [
    "##<b><font color='darkred'>DIMENSION 4 (HABITAT VIVIENDA Y AMBIENTE SANO)"
   ]
  },
  {
   "cell_type": "markdown",
   "metadata": {
    "id": "YbIfUChv2ezk"
   },
   "source": [
    "###<font color='darkblue'>*INDICADOR 2 DEFICIT HABITACIONAL*"
   ]
  },
  {
   "cell_type": "code",
   "execution_count": 89,
   "metadata": {
    "colab": {
     "base_uri": "https://localhost:8080/"
    },
    "id": "IOAcCkxPpSZA",
    "outputId": "092f1667-2b5d-4d09-d80c-be3668bf1065"
   },
   "outputs": [
    {
     "data": {
      "text/plain": [
       "vi03a    int64\n",
       "vi03b    int64\n",
       "vi04a    int64\n",
       "vi04b    int64\n",
       "vi05a    int64\n",
       "vi05b    int64\n",
       "dtype: object"
      ]
     },
     "execution_count": 89,
     "metadata": {},
     "output_type": "execute_result"
    }
   ],
   "source": [
    "dataviv[['vi03a','vi03b','vi04a','vi04b','vi05a','vi05b']].dtypes"
   ]
  },
  {
   "cell_type": "code",
   "execution_count": 90,
   "metadata": {
    "id": "kF0N4Pnq5AjW"
   },
   "outputs": [],
   "source": [
    "def techo(row):\n",
    "  techo = None\n",
    "  if (((row.vi03a==1) & (row.vi03b in range(1,3))) |((row.vi03b==1) & (row.vi03a in range(2,5)))):\n",
    "    techo = 1\n",
    "  if (((row.vi03a==1) & (row.vi03b==3)) | (row.vi03b==2) & (row.vi03a in range(2,5))):\n",
    "    techo =2\n",
    "  if (((row.vi03b==3) & (row.vi03a in range(2,5))) |((row.vi03a==5) | (row.vi03a==6))):\n",
    "    techo = 3\n",
    "  return techo"
   ]
  },
  {
   "cell_type": "code",
   "execution_count": 91,
   "metadata": {
    "id": "m90QxhCZrIv2"
   },
   "outputs": [],
   "source": [
    "dataviv['techo'] = dataviv.apply(lambda y: techo(y), axis=1)"
   ]
  },
  {
   "cell_type": "code",
   "execution_count": 92,
   "metadata": {
    "id": "HuzXVFdArWvb"
   },
   "outputs": [],
   "source": [
    "def pared(row):\n",
    "  pared = None\n",
    "  if (((row.vi05a==1) & (row.vi05b in range(1,3))) |((row.vi05a==2) & (row.vi05b == 1))):\n",
    "    pared = 1\n",
    "  if (((row.vi05a==1) & (row.vi05b==3))|((row.vi05a==2) & (row.vi05b==2)) |((row.vi05a in range(3,6)) & (row.vi05b in range(1,3)))):\n",
    "    pared =2\n",
    "  if (((row.vi05b==3) & (row.vi05a in range(2,6))) |((row.vi05a==6) | (row.vi05a)==7)):\n",
    "    pared = 3\n",
    "  return pared"
   ]
  },
  {
   "cell_type": "code",
   "execution_count": 93,
   "metadata": {
    "id": "pGr0pIyRsulC"
   },
   "outputs": [],
   "source": [
    "dataviv['pared'] = dataviv.apply(lambda y: pared(y), axis=1)"
   ]
  },
  {
   "cell_type": "code",
   "execution_count": 94,
   "metadata": {
    "id": "_aDp892fs5Il"
   },
   "outputs": [],
   "source": [
    "def piso(row):\n",
    "  piso = None\n",
    "  if (((row.vi04a<=3) & (row.vi04b==1)) |((row.vi04a<=3) & (row.vi04b==2)) |((row.vi04b==1) & (row.vi04a in range(4,6)))):\n",
    "    piso = 1\n",
    "  if (((row.vi04a <= 3) & (row.vi04b == 3))|((row.vi04b==2) & (row.vi04a in range(4,6))) |((row.vi04a==6) & (row.vi04b==1))):\n",
    "    piso =2\n",
    "  if (((row.vi04b==3) & (row.vi04a in [4,5,6])) |((row.vi04a==6) & (row.vi04b==2)) |((row.vi04a==7) | (row.vi04a==8))):\n",
    "    piso = 3\n",
    "  return piso"
   ]
  },
  {
   "cell_type": "code",
   "execution_count": 95,
   "metadata": {
    "id": "bNqu8v-2umTm"
   },
   "outputs": [],
   "source": [
    "dataviv['piso'] = dataviv.apply(lambda y: piso(y), axis=1)"
   ]
  },
  {
   "cell_type": "code",
   "execution_count": 96,
   "metadata": {
    "id": "q1q9CTneu4AL"
   },
   "outputs": [],
   "source": [
    "#tipos de vivienda 1:aceptable 2:recuperable 3:irrecuperable\n",
    "def tipviv(row):\n",
    "  tipviv = None\n",
    "  if (((row.techo==1) & (row.pared==1) & (row.piso in range(1,4))) \n",
    "    |((row.techo==1) & (row.pared==2) & (row.piso==1))):\n",
    "    tipviv = 1\n",
    "  if (((row.techo==1) & (row.pared==2) & (row.piso in range(2,4))) \n",
    "    | ((row.techo==1) & (row.pared==3) & (row.piso in range(1,3)))\n",
    "    | ((row.techo==2) & (row.pared==1) & (row.piso in range(1,3)))\n",
    "    | ((row.techo==2) & (row.pared==2) & (row.piso in range(1,3)))\n",
    "    | ((row.techo==3) & (row.pared==1) & (row.piso in range(1,3))) \n",
    "    | ((row.techo==3) & (row.pared==2) & (row.piso==1))):\n",
    "    tipviv = 2\n",
    "  if (((row.techo==1) & (row.pared==3) & (row.piso==3)) \n",
    "    | ((row.techo==2) & (row.pared==1) & (row.piso == 3))\n",
    "    | ((row.techo==2) & (row.pared==2) & (row.piso == 3))\n",
    "    | ((row.techo==2) & (row.pared==3) & (row.piso in range(1,4)))\n",
    "    | ((row.techo==3) & (row.pared==1) & (row.piso == 3)) \n",
    "    | ((row.techo==3) & (row.pared==2) & (row.piso in range(1,4)))\n",
    "    | ((row.techo==3) & (row.pared==3) & (row.piso in range(1,4)))):\n",
    "    tipviv = 3\n",
    "  return tipviv\n"
   ]
  },
  {
   "cell_type": "code",
   "execution_count": 97,
   "metadata": {
    "id": "YdUKLD7yzf56"
   },
   "outputs": [],
   "source": [
    "dataviv['tipviv'] = dataviv.apply(lambda y: tipviv(y), axis=1)"
   ]
  },
  {
   "cell_type": "code",
   "execution_count": 98,
   "metadata": {
    "id": "ZDIgpOaDzqbM"
   },
   "outputs": [],
   "source": [
    "def dim4i2(row):\n",
    "  return bool((row.tipviv==3) | (row.tipviv==2))"
   ]
  },
  {
   "cell_type": "code",
   "execution_count": 99,
   "metadata": {
    "id": "-oVCARsk085T"
   },
   "outputs": [],
   "source": [
    "dataviv['dim4i2'] = dataviv.apply(lambda y: dim4i2(y), axis=1)"
   ]
  },
  {
   "cell_type": "markdown",
   "metadata": {
    "id": "tJcIRoqc5JWE"
   },
   "source": [
    "###<font color='darkblue'>*INDICADOR 3 SIN SERVICIO EXCRETAS*"
   ]
  },
  {
   "cell_type": "code",
   "execution_count": 100,
   "metadata": {
    "colab": {
     "base_uri": "https://localhost:8080/"
    },
    "id": "LWh0jRMe1chT",
    "outputId": "eb39cc2b-725b-4239-83dc-0c8978848cc7"
   },
   "outputs": [
    {
     "data": {
      "text/plain": [
       "area    int64\n",
       "vi09    int64\n",
       "dtype: object"
      ]
     },
     "execution_count": 100,
     "metadata": {},
     "output_type": "execute_result"
    }
   ],
   "source": [
    "dataviv[['area','vi09']].dtypes"
   ]
  },
  {
   "cell_type": "code",
   "execution_count": 101,
   "metadata": {
    "id": "OTcraIeu1mUA"
   },
   "outputs": [],
   "source": [
    "def dim4i3(row):\n",
    "  return bool(((row.area==1) & (row.vi09 in range(2,5))) | ((row.area==2) & (row.vi09 in range(3,5))))"
   ]
  },
  {
   "cell_type": "code",
   "execution_count": 102,
   "metadata": {
    "id": "J_cKiaD5162Q"
   },
   "outputs": [],
   "source": [
    "dataviv['dim4i3'] = dataviv.apply(lambda y: dim4i3(y), axis=1)"
   ]
  },
  {
   "cell_type": "markdown",
   "metadata": {
    "id": "pEpsyTer2RbQ"
   },
   "source": [
    "###<font color='darkblue'>*INDICADOR 4 SIN SERVICIO DE RECOLECCION DE BASURA*"
   ]
  },
  {
   "cell_type": "code",
   "execution_count": 103,
   "metadata": {
    "colab": {
     "base_uri": "https://localhost:8080/"
    },
    "id": "h5ql9t-C2kfB",
    "outputId": "fafe1787-bd2f-4154-9518-b8de20c68be9"
   },
   "outputs": [
    {
     "data": {
      "text/plain": [
       "dtype('int64')"
      ]
     },
     "execution_count": 103,
     "metadata": {},
     "output_type": "execute_result"
    }
   ],
   "source": [
    "dataviv.vi13.dtypes"
   ]
  },
  {
   "cell_type": "code",
   "execution_count": 104,
   "metadata": {
    "id": "bjQF77m62AIR"
   },
   "outputs": [],
   "source": [
    "def dim4i4(row):\n",
    "  return bool(row.vi13 in [1,3,4,5])"
   ]
  },
  {
   "cell_type": "code",
   "execution_count": 105,
   "metadata": {
    "id": "Y18_8GxL2sS1"
   },
   "outputs": [],
   "source": [
    "dataviv['dim4i4'] = dataviv.apply(lambda y: dim4i4(y), axis=1)"
   ]
  },
  {
   "cell_type": "markdown",
   "metadata": {
    "id": "Jw5e8eTA2zUm"
   },
   "source": [
    "###<font color='darkblue'>*INDICADOR 1 HACINAMIENTO (AQUI ES NECESARIO EL MERGE)*"
   ]
  },
  {
   "cell_type": "code",
   "execution_count": 106,
   "metadata": {
    "colab": {
     "base_uri": "https://localhost:8080/"
    },
    "id": "4rCyEtCD2sM1",
    "outputId": "8a91687c-3d82-4548-8601-ca1be2dac3cb"
   },
   "outputs": [
    {
     "name": "stdout",
     "output_type": "stream",
     "text": [
      "datos en per: 101359, datos en viv: 30023\n"
     ]
    }
   ],
   "source": [
    "#RECORDAR QUE TODOS LOS HOGARES TIENEN AL MENOS 1 CUARTO\n",
    "print(f'datos en per: {dataper.shape[0]}, datos en viv: {dataviv.shape[0]}')"
   ]
  },
  {
   "cell_type": "code",
   "execution_count": 107,
   "metadata": {
    "id": "3PJNvTA0kAfD"
   },
   "outputs": [],
   "source": [
    "df = dataper.merge(dataviv, on=['area','ciudad','zona','sector','panelm','vivienda','hogar','plan_muestreo','idh'], how='left')"
   ]
  },
  {
   "cell_type": "code",
   "execution_count": 108,
   "metadata": {
    "id": "M09c9ptu2AFY"
   },
   "outputs": [],
   "source": [
    "df['hsize'] = df.groupby('idh')['idp'].transform('count')"
   ]
  },
  {
   "cell_type": "code",
   "execution_count": 109,
   "metadata": {
    "colab": {
     "base_uri": "https://localhost:8080/",
     "height": 676
    },
    "id": "c-Dsteo55B-f",
    "outputId": "6571fd1a-28f7-4eaf-f198-1da4660ed5d0"
   },
   "outputs": [
    {
     "data": {
      "text/html": [
       "<div>\n",
       "<style scoped>\n",
       "    .dataframe tbody tr th:only-of-type {\n",
       "        vertical-align: middle;\n",
       "    }\n",
       "\n",
       "    .dataframe tbody tr th {\n",
       "        vertical-align: top;\n",
       "    }\n",
       "\n",
       "    .dataframe thead th {\n",
       "        text-align: right;\n",
       "    }\n",
       "</style>\n",
       "<table border=\"1\" class=\"dataframe\">\n",
       "  <thead>\n",
       "    <tr style=\"text-align: right;\">\n",
       "      <th></th>\n",
       "      <th>area</th>\n",
       "      <th>ciudad</th>\n",
       "      <th>conglomerado_x</th>\n",
       "      <th>zona</th>\n",
       "      <th>sector</th>\n",
       "      <th>panelm</th>\n",
       "      <th>vivienda</th>\n",
       "      <th>hogar</th>\n",
       "      <th>p01</th>\n",
       "      <th>p02</th>\n",
       "      <th>...</th>\n",
       "      <th>fexp_y</th>\n",
       "      <th>dim3i2</th>\n",
       "      <th>techo</th>\n",
       "      <th>pared</th>\n",
       "      <th>piso</th>\n",
       "      <th>tipviv</th>\n",
       "      <th>dim4i2</th>\n",
       "      <th>dim4i3</th>\n",
       "      <th>dim4i4</th>\n",
       "      <th>hsize</th>\n",
       "    </tr>\n",
       "  </thead>\n",
       "  <tbody>\n",
       "    <tr>\n",
       "      <th>70084</th>\n",
       "      <td>2</td>\n",
       "      <td>150153</td>\n",
       "      <td>999999</td>\n",
       "      <td>999</td>\n",
       "      <td>17</td>\n",
       "      <td>123</td>\n",
       "      <td>1</td>\n",
       "      <td>1</td>\n",
       "      <td>1</td>\n",
       "      <td>1</td>\n",
       "      <td>...</td>\n",
       "      <td>17,1098022552027</td>\n",
       "      <td>True</td>\n",
       "      <td>2</td>\n",
       "      <td>2</td>\n",
       "      <td>2</td>\n",
       "      <td>2</td>\n",
       "      <td>True</td>\n",
       "      <td>False</td>\n",
       "      <td>True</td>\n",
       "      <td>17</td>\n",
       "    </tr>\n",
       "    <tr>\n",
       "      <th>70085</th>\n",
       "      <td>2</td>\n",
       "      <td>150153</td>\n",
       "      <td>999999</td>\n",
       "      <td>999</td>\n",
       "      <td>17</td>\n",
       "      <td>123</td>\n",
       "      <td>1</td>\n",
       "      <td>1</td>\n",
       "      <td>2</td>\n",
       "      <td>2</td>\n",
       "      <td>...</td>\n",
       "      <td>17,1098022552027</td>\n",
       "      <td>True</td>\n",
       "      <td>2</td>\n",
       "      <td>2</td>\n",
       "      <td>2</td>\n",
       "      <td>2</td>\n",
       "      <td>True</td>\n",
       "      <td>False</td>\n",
       "      <td>True</td>\n",
       "      <td>17</td>\n",
       "    </tr>\n",
       "    <tr>\n",
       "      <th>70086</th>\n",
       "      <td>2</td>\n",
       "      <td>150153</td>\n",
       "      <td>999999</td>\n",
       "      <td>999</td>\n",
       "      <td>17</td>\n",
       "      <td>123</td>\n",
       "      <td>1</td>\n",
       "      <td>1</td>\n",
       "      <td>3</td>\n",
       "      <td>2</td>\n",
       "      <td>...</td>\n",
       "      <td>17,1098022552027</td>\n",
       "      <td>True</td>\n",
       "      <td>2</td>\n",
       "      <td>2</td>\n",
       "      <td>2</td>\n",
       "      <td>2</td>\n",
       "      <td>True</td>\n",
       "      <td>False</td>\n",
       "      <td>True</td>\n",
       "      <td>17</td>\n",
       "    </tr>\n",
       "    <tr>\n",
       "      <th>70087</th>\n",
       "      <td>2</td>\n",
       "      <td>150153</td>\n",
       "      <td>999999</td>\n",
       "      <td>999</td>\n",
       "      <td>17</td>\n",
       "      <td>123</td>\n",
       "      <td>1</td>\n",
       "      <td>1</td>\n",
       "      <td>4</td>\n",
       "      <td>1</td>\n",
       "      <td>...</td>\n",
       "      <td>17,1098022552027</td>\n",
       "      <td>True</td>\n",
       "      <td>2</td>\n",
       "      <td>2</td>\n",
       "      <td>2</td>\n",
       "      <td>2</td>\n",
       "      <td>True</td>\n",
       "      <td>False</td>\n",
       "      <td>True</td>\n",
       "      <td>17</td>\n",
       "    </tr>\n",
       "    <tr>\n",
       "      <th>70088</th>\n",
       "      <td>2</td>\n",
       "      <td>150153</td>\n",
       "      <td>999999</td>\n",
       "      <td>999</td>\n",
       "      <td>17</td>\n",
       "      <td>123</td>\n",
       "      <td>1</td>\n",
       "      <td>1</td>\n",
       "      <td>5</td>\n",
       "      <td>1</td>\n",
       "      <td>...</td>\n",
       "      <td>17,1098022552027</td>\n",
       "      <td>True</td>\n",
       "      <td>2</td>\n",
       "      <td>2</td>\n",
       "      <td>2</td>\n",
       "      <td>2</td>\n",
       "      <td>True</td>\n",
       "      <td>False</td>\n",
       "      <td>True</td>\n",
       "      <td>17</td>\n",
       "    </tr>\n",
       "    <tr>\n",
       "      <th>70089</th>\n",
       "      <td>2</td>\n",
       "      <td>150153</td>\n",
       "      <td>999999</td>\n",
       "      <td>999</td>\n",
       "      <td>17</td>\n",
       "      <td>123</td>\n",
       "      <td>1</td>\n",
       "      <td>1</td>\n",
       "      <td>6</td>\n",
       "      <td>1</td>\n",
       "      <td>...</td>\n",
       "      <td>17,1098022552027</td>\n",
       "      <td>True</td>\n",
       "      <td>2</td>\n",
       "      <td>2</td>\n",
       "      <td>2</td>\n",
       "      <td>2</td>\n",
       "      <td>True</td>\n",
       "      <td>False</td>\n",
       "      <td>True</td>\n",
       "      <td>17</td>\n",
       "    </tr>\n",
       "    <tr>\n",
       "      <th>70090</th>\n",
       "      <td>2</td>\n",
       "      <td>150153</td>\n",
       "      <td>999999</td>\n",
       "      <td>999</td>\n",
       "      <td>17</td>\n",
       "      <td>123</td>\n",
       "      <td>1</td>\n",
       "      <td>1</td>\n",
       "      <td>7</td>\n",
       "      <td>1</td>\n",
       "      <td>...</td>\n",
       "      <td>17,1098022552027</td>\n",
       "      <td>True</td>\n",
       "      <td>2</td>\n",
       "      <td>2</td>\n",
       "      <td>2</td>\n",
       "      <td>2</td>\n",
       "      <td>True</td>\n",
       "      <td>False</td>\n",
       "      <td>True</td>\n",
       "      <td>17</td>\n",
       "    </tr>\n",
       "    <tr>\n",
       "      <th>70091</th>\n",
       "      <td>2</td>\n",
       "      <td>150153</td>\n",
       "      <td>999999</td>\n",
       "      <td>999</td>\n",
       "      <td>17</td>\n",
       "      <td>123</td>\n",
       "      <td>1</td>\n",
       "      <td>1</td>\n",
       "      <td>8</td>\n",
       "      <td>2</td>\n",
       "      <td>...</td>\n",
       "      <td>17,1098022552027</td>\n",
       "      <td>True</td>\n",
       "      <td>2</td>\n",
       "      <td>2</td>\n",
       "      <td>2</td>\n",
       "      <td>2</td>\n",
       "      <td>True</td>\n",
       "      <td>False</td>\n",
       "      <td>True</td>\n",
       "      <td>17</td>\n",
       "    </tr>\n",
       "    <tr>\n",
       "      <th>70092</th>\n",
       "      <td>2</td>\n",
       "      <td>150153</td>\n",
       "      <td>999999</td>\n",
       "      <td>999</td>\n",
       "      <td>17</td>\n",
       "      <td>123</td>\n",
       "      <td>1</td>\n",
       "      <td>1</td>\n",
       "      <td>9</td>\n",
       "      <td>1</td>\n",
       "      <td>...</td>\n",
       "      <td>17,1098022552027</td>\n",
       "      <td>True</td>\n",
       "      <td>2</td>\n",
       "      <td>2</td>\n",
       "      <td>2</td>\n",
       "      <td>2</td>\n",
       "      <td>True</td>\n",
       "      <td>False</td>\n",
       "      <td>True</td>\n",
       "      <td>17</td>\n",
       "    </tr>\n",
       "    <tr>\n",
       "      <th>70093</th>\n",
       "      <td>2</td>\n",
       "      <td>150153</td>\n",
       "      <td>999999</td>\n",
       "      <td>999</td>\n",
       "      <td>17</td>\n",
       "      <td>123</td>\n",
       "      <td>1</td>\n",
       "      <td>1</td>\n",
       "      <td>10</td>\n",
       "      <td>2</td>\n",
       "      <td>...</td>\n",
       "      <td>17,1098022552027</td>\n",
       "      <td>True</td>\n",
       "      <td>2</td>\n",
       "      <td>2</td>\n",
       "      <td>2</td>\n",
       "      <td>2</td>\n",
       "      <td>True</td>\n",
       "      <td>False</td>\n",
       "      <td>True</td>\n",
       "      <td>17</td>\n",
       "    </tr>\n",
       "    <tr>\n",
       "      <th>70094</th>\n",
       "      <td>2</td>\n",
       "      <td>150153</td>\n",
       "      <td>999999</td>\n",
       "      <td>999</td>\n",
       "      <td>17</td>\n",
       "      <td>123</td>\n",
       "      <td>1</td>\n",
       "      <td>1</td>\n",
       "      <td>11</td>\n",
       "      <td>2</td>\n",
       "      <td>...</td>\n",
       "      <td>17,1098022552027</td>\n",
       "      <td>True</td>\n",
       "      <td>2</td>\n",
       "      <td>2</td>\n",
       "      <td>2</td>\n",
       "      <td>2</td>\n",
       "      <td>True</td>\n",
       "      <td>False</td>\n",
       "      <td>True</td>\n",
       "      <td>17</td>\n",
       "    </tr>\n",
       "    <tr>\n",
       "      <th>70095</th>\n",
       "      <td>2</td>\n",
       "      <td>150153</td>\n",
       "      <td>999999</td>\n",
       "      <td>999</td>\n",
       "      <td>17</td>\n",
       "      <td>123</td>\n",
       "      <td>1</td>\n",
       "      <td>1</td>\n",
       "      <td>12</td>\n",
       "      <td>1</td>\n",
       "      <td>...</td>\n",
       "      <td>17,1098022552027</td>\n",
       "      <td>True</td>\n",
       "      <td>2</td>\n",
       "      <td>2</td>\n",
       "      <td>2</td>\n",
       "      <td>2</td>\n",
       "      <td>True</td>\n",
       "      <td>False</td>\n",
       "      <td>True</td>\n",
       "      <td>17</td>\n",
       "    </tr>\n",
       "    <tr>\n",
       "      <th>70096</th>\n",
       "      <td>2</td>\n",
       "      <td>150153</td>\n",
       "      <td>999999</td>\n",
       "      <td>999</td>\n",
       "      <td>17</td>\n",
       "      <td>123</td>\n",
       "      <td>1</td>\n",
       "      <td>1</td>\n",
       "      <td>13</td>\n",
       "      <td>1</td>\n",
       "      <td>...</td>\n",
       "      <td>17,1098022552027</td>\n",
       "      <td>True</td>\n",
       "      <td>2</td>\n",
       "      <td>2</td>\n",
       "      <td>2</td>\n",
       "      <td>2</td>\n",
       "      <td>True</td>\n",
       "      <td>False</td>\n",
       "      <td>True</td>\n",
       "      <td>17</td>\n",
       "    </tr>\n",
       "    <tr>\n",
       "      <th>70097</th>\n",
       "      <td>2</td>\n",
       "      <td>150153</td>\n",
       "      <td>999999</td>\n",
       "      <td>999</td>\n",
       "      <td>17</td>\n",
       "      <td>123</td>\n",
       "      <td>1</td>\n",
       "      <td>1</td>\n",
       "      <td>14</td>\n",
       "      <td>2</td>\n",
       "      <td>...</td>\n",
       "      <td>17,1098022552027</td>\n",
       "      <td>True</td>\n",
       "      <td>2</td>\n",
       "      <td>2</td>\n",
       "      <td>2</td>\n",
       "      <td>2</td>\n",
       "      <td>True</td>\n",
       "      <td>False</td>\n",
       "      <td>True</td>\n",
       "      <td>17</td>\n",
       "    </tr>\n",
       "    <tr>\n",
       "      <th>70098</th>\n",
       "      <td>2</td>\n",
       "      <td>150153</td>\n",
       "      <td>999999</td>\n",
       "      <td>999</td>\n",
       "      <td>17</td>\n",
       "      <td>123</td>\n",
       "      <td>1</td>\n",
       "      <td>1</td>\n",
       "      <td>15</td>\n",
       "      <td>2</td>\n",
       "      <td>...</td>\n",
       "      <td>17,1098022552027</td>\n",
       "      <td>True</td>\n",
       "      <td>2</td>\n",
       "      <td>2</td>\n",
       "      <td>2</td>\n",
       "      <td>2</td>\n",
       "      <td>True</td>\n",
       "      <td>False</td>\n",
       "      <td>True</td>\n",
       "      <td>17</td>\n",
       "    </tr>\n",
       "    <tr>\n",
       "      <th>70099</th>\n",
       "      <td>2</td>\n",
       "      <td>150153</td>\n",
       "      <td>999999</td>\n",
       "      <td>999</td>\n",
       "      <td>17</td>\n",
       "      <td>123</td>\n",
       "      <td>1</td>\n",
       "      <td>1</td>\n",
       "      <td>16</td>\n",
       "      <td>1</td>\n",
       "      <td>...</td>\n",
       "      <td>17,1098022552027</td>\n",
       "      <td>True</td>\n",
       "      <td>2</td>\n",
       "      <td>2</td>\n",
       "      <td>2</td>\n",
       "      <td>2</td>\n",
       "      <td>True</td>\n",
       "      <td>False</td>\n",
       "      <td>True</td>\n",
       "      <td>17</td>\n",
       "    </tr>\n",
       "    <tr>\n",
       "      <th>70100</th>\n",
       "      <td>2</td>\n",
       "      <td>150153</td>\n",
       "      <td>999999</td>\n",
       "      <td>999</td>\n",
       "      <td>17</td>\n",
       "      <td>123</td>\n",
       "      <td>1</td>\n",
       "      <td>1</td>\n",
       "      <td>17</td>\n",
       "      <td>2</td>\n",
       "      <td>...</td>\n",
       "      <td>17,1098022552027</td>\n",
       "      <td>True</td>\n",
       "      <td>2</td>\n",
       "      <td>2</td>\n",
       "      <td>2</td>\n",
       "      <td>2</td>\n",
       "      <td>True</td>\n",
       "      <td>False</td>\n",
       "      <td>True</td>\n",
       "      <td>17</td>\n",
       "    </tr>\n",
       "    <tr>\n",
       "      <th>72957</th>\n",
       "      <td>1</td>\n",
       "      <td>160150</td>\n",
       "      <td>999999</td>\n",
       "      <td>8</td>\n",
       "      <td>8</td>\n",
       "      <td>13</td>\n",
       "      <td>3</td>\n",
       "      <td>1</td>\n",
       "      <td>1</td>\n",
       "      <td>1</td>\n",
       "      <td>...</td>\n",
       "      <td>88,0473441348032</td>\n",
       "      <td>True</td>\n",
       "      <td>3</td>\n",
       "      <td>3</td>\n",
       "      <td>3</td>\n",
       "      <td>3</td>\n",
       "      <td>True</td>\n",
       "      <td>False</td>\n",
       "      <td>True</td>\n",
       "      <td>17</td>\n",
       "    </tr>\n",
       "    <tr>\n",
       "      <th>72958</th>\n",
       "      <td>1</td>\n",
       "      <td>160150</td>\n",
       "      <td>999999</td>\n",
       "      <td>8</td>\n",
       "      <td>8</td>\n",
       "      <td>13</td>\n",
       "      <td>3</td>\n",
       "      <td>1</td>\n",
       "      <td>2</td>\n",
       "      <td>2</td>\n",
       "      <td>...</td>\n",
       "      <td>88,0473441348032</td>\n",
       "      <td>True</td>\n",
       "      <td>3</td>\n",
       "      <td>3</td>\n",
       "      <td>3</td>\n",
       "      <td>3</td>\n",
       "      <td>True</td>\n",
       "      <td>False</td>\n",
       "      <td>True</td>\n",
       "      <td>17</td>\n",
       "    </tr>\n",
       "    <tr>\n",
       "      <th>72959</th>\n",
       "      <td>1</td>\n",
       "      <td>160150</td>\n",
       "      <td>999999</td>\n",
       "      <td>8</td>\n",
       "      <td>8</td>\n",
       "      <td>13</td>\n",
       "      <td>3</td>\n",
       "      <td>1</td>\n",
       "      <td>3</td>\n",
       "      <td>1</td>\n",
       "      <td>...</td>\n",
       "      <td>88,0473441348032</td>\n",
       "      <td>True</td>\n",
       "      <td>3</td>\n",
       "      <td>3</td>\n",
       "      <td>3</td>\n",
       "      <td>3</td>\n",
       "      <td>True</td>\n",
       "      <td>False</td>\n",
       "      <td>True</td>\n",
       "      <td>17</td>\n",
       "    </tr>\n",
       "    <tr>\n",
       "      <th>72960</th>\n",
       "      <td>1</td>\n",
       "      <td>160150</td>\n",
       "      <td>999999</td>\n",
       "      <td>8</td>\n",
       "      <td>8</td>\n",
       "      <td>13</td>\n",
       "      <td>3</td>\n",
       "      <td>1</td>\n",
       "      <td>4</td>\n",
       "      <td>1</td>\n",
       "      <td>...</td>\n",
       "      <td>88,0473441348032</td>\n",
       "      <td>True</td>\n",
       "      <td>3</td>\n",
       "      <td>3</td>\n",
       "      <td>3</td>\n",
       "      <td>3</td>\n",
       "      <td>True</td>\n",
       "      <td>False</td>\n",
       "      <td>True</td>\n",
       "      <td>17</td>\n",
       "    </tr>\n",
       "    <tr>\n",
       "      <th>72961</th>\n",
       "      <td>1</td>\n",
       "      <td>160150</td>\n",
       "      <td>999999</td>\n",
       "      <td>8</td>\n",
       "      <td>8</td>\n",
       "      <td>13</td>\n",
       "      <td>3</td>\n",
       "      <td>1</td>\n",
       "      <td>5</td>\n",
       "      <td>1</td>\n",
       "      <td>...</td>\n",
       "      <td>88,0473441348032</td>\n",
       "      <td>True</td>\n",
       "      <td>3</td>\n",
       "      <td>3</td>\n",
       "      <td>3</td>\n",
       "      <td>3</td>\n",
       "      <td>True</td>\n",
       "      <td>False</td>\n",
       "      <td>True</td>\n",
       "      <td>17</td>\n",
       "    </tr>\n",
       "    <tr>\n",
       "      <th>72962</th>\n",
       "      <td>1</td>\n",
       "      <td>160150</td>\n",
       "      <td>999999</td>\n",
       "      <td>8</td>\n",
       "      <td>8</td>\n",
       "      <td>13</td>\n",
       "      <td>3</td>\n",
       "      <td>1</td>\n",
       "      <td>6</td>\n",
       "      <td>2</td>\n",
       "      <td>...</td>\n",
       "      <td>88,0473441348032</td>\n",
       "      <td>True</td>\n",
       "      <td>3</td>\n",
       "      <td>3</td>\n",
       "      <td>3</td>\n",
       "      <td>3</td>\n",
       "      <td>True</td>\n",
       "      <td>False</td>\n",
       "      <td>True</td>\n",
       "      <td>17</td>\n",
       "    </tr>\n",
       "    <tr>\n",
       "      <th>72963</th>\n",
       "      <td>1</td>\n",
       "      <td>160150</td>\n",
       "      <td>999999</td>\n",
       "      <td>8</td>\n",
       "      <td>8</td>\n",
       "      <td>13</td>\n",
       "      <td>3</td>\n",
       "      <td>1</td>\n",
       "      <td>7</td>\n",
       "      <td>1</td>\n",
       "      <td>...</td>\n",
       "      <td>88,0473441348032</td>\n",
       "      <td>True</td>\n",
       "      <td>3</td>\n",
       "      <td>3</td>\n",
       "      <td>3</td>\n",
       "      <td>3</td>\n",
       "      <td>True</td>\n",
       "      <td>False</td>\n",
       "      <td>True</td>\n",
       "      <td>17</td>\n",
       "    </tr>\n",
       "    <tr>\n",
       "      <th>72964</th>\n",
       "      <td>1</td>\n",
       "      <td>160150</td>\n",
       "      <td>999999</td>\n",
       "      <td>8</td>\n",
       "      <td>8</td>\n",
       "      <td>13</td>\n",
       "      <td>3</td>\n",
       "      <td>1</td>\n",
       "      <td>8</td>\n",
       "      <td>2</td>\n",
       "      <td>...</td>\n",
       "      <td>88,0473441348032</td>\n",
       "      <td>True</td>\n",
       "      <td>3</td>\n",
       "      <td>3</td>\n",
       "      <td>3</td>\n",
       "      <td>3</td>\n",
       "      <td>True</td>\n",
       "      <td>False</td>\n",
       "      <td>True</td>\n",
       "      <td>17</td>\n",
       "    </tr>\n",
       "    <tr>\n",
       "      <th>72965</th>\n",
       "      <td>1</td>\n",
       "      <td>160150</td>\n",
       "      <td>999999</td>\n",
       "      <td>8</td>\n",
       "      <td>8</td>\n",
       "      <td>13</td>\n",
       "      <td>3</td>\n",
       "      <td>1</td>\n",
       "      <td>9</td>\n",
       "      <td>1</td>\n",
       "      <td>...</td>\n",
       "      <td>88,0473441348032</td>\n",
       "      <td>True</td>\n",
       "      <td>3</td>\n",
       "      <td>3</td>\n",
       "      <td>3</td>\n",
       "      <td>3</td>\n",
       "      <td>True</td>\n",
       "      <td>False</td>\n",
       "      <td>True</td>\n",
       "      <td>17</td>\n",
       "    </tr>\n",
       "    <tr>\n",
       "      <th>72966</th>\n",
       "      <td>1</td>\n",
       "      <td>160150</td>\n",
       "      <td>999999</td>\n",
       "      <td>8</td>\n",
       "      <td>8</td>\n",
       "      <td>13</td>\n",
       "      <td>3</td>\n",
       "      <td>1</td>\n",
       "      <td>10</td>\n",
       "      <td>1</td>\n",
       "      <td>...</td>\n",
       "      <td>88,0473441348032</td>\n",
       "      <td>True</td>\n",
       "      <td>3</td>\n",
       "      <td>3</td>\n",
       "      <td>3</td>\n",
       "      <td>3</td>\n",
       "      <td>True</td>\n",
       "      <td>False</td>\n",
       "      <td>True</td>\n",
       "      <td>17</td>\n",
       "    </tr>\n",
       "    <tr>\n",
       "      <th>72967</th>\n",
       "      <td>1</td>\n",
       "      <td>160150</td>\n",
       "      <td>999999</td>\n",
       "      <td>8</td>\n",
       "      <td>8</td>\n",
       "      <td>13</td>\n",
       "      <td>3</td>\n",
       "      <td>1</td>\n",
       "      <td>11</td>\n",
       "      <td>2</td>\n",
       "      <td>...</td>\n",
       "      <td>88,0473441348032</td>\n",
       "      <td>True</td>\n",
       "      <td>3</td>\n",
       "      <td>3</td>\n",
       "      <td>3</td>\n",
       "      <td>3</td>\n",
       "      <td>True</td>\n",
       "      <td>False</td>\n",
       "      <td>True</td>\n",
       "      <td>17</td>\n",
       "    </tr>\n",
       "    <tr>\n",
       "      <th>72968</th>\n",
       "      <td>1</td>\n",
       "      <td>160150</td>\n",
       "      <td>999999</td>\n",
       "      <td>8</td>\n",
       "      <td>8</td>\n",
       "      <td>13</td>\n",
       "      <td>3</td>\n",
       "      <td>1</td>\n",
       "      <td>12</td>\n",
       "      <td>1</td>\n",
       "      <td>...</td>\n",
       "      <td>88,0473441348032</td>\n",
       "      <td>True</td>\n",
       "      <td>3</td>\n",
       "      <td>3</td>\n",
       "      <td>3</td>\n",
       "      <td>3</td>\n",
       "      <td>True</td>\n",
       "      <td>False</td>\n",
       "      <td>True</td>\n",
       "      <td>17</td>\n",
       "    </tr>\n",
       "    <tr>\n",
       "      <th>72969</th>\n",
       "      <td>1</td>\n",
       "      <td>160150</td>\n",
       "      <td>999999</td>\n",
       "      <td>8</td>\n",
       "      <td>8</td>\n",
       "      <td>13</td>\n",
       "      <td>3</td>\n",
       "      <td>1</td>\n",
       "      <td>13</td>\n",
       "      <td>2</td>\n",
       "      <td>...</td>\n",
       "      <td>88,0473441348032</td>\n",
       "      <td>True</td>\n",
       "      <td>3</td>\n",
       "      <td>3</td>\n",
       "      <td>3</td>\n",
       "      <td>3</td>\n",
       "      <td>True</td>\n",
       "      <td>False</td>\n",
       "      <td>True</td>\n",
       "      <td>17</td>\n",
       "    </tr>\n",
       "    <tr>\n",
       "      <th>72970</th>\n",
       "      <td>1</td>\n",
       "      <td>160150</td>\n",
       "      <td>999999</td>\n",
       "      <td>8</td>\n",
       "      <td>8</td>\n",
       "      <td>13</td>\n",
       "      <td>3</td>\n",
       "      <td>1</td>\n",
       "      <td>14</td>\n",
       "      <td>1</td>\n",
       "      <td>...</td>\n",
       "      <td>88,0473441348032</td>\n",
       "      <td>True</td>\n",
       "      <td>3</td>\n",
       "      <td>3</td>\n",
       "      <td>3</td>\n",
       "      <td>3</td>\n",
       "      <td>True</td>\n",
       "      <td>False</td>\n",
       "      <td>True</td>\n",
       "      <td>17</td>\n",
       "    </tr>\n",
       "    <tr>\n",
       "      <th>72971</th>\n",
       "      <td>1</td>\n",
       "      <td>160150</td>\n",
       "      <td>999999</td>\n",
       "      <td>8</td>\n",
       "      <td>8</td>\n",
       "      <td>13</td>\n",
       "      <td>3</td>\n",
       "      <td>1</td>\n",
       "      <td>15</td>\n",
       "      <td>2</td>\n",
       "      <td>...</td>\n",
       "      <td>88,0473441348032</td>\n",
       "      <td>True</td>\n",
       "      <td>3</td>\n",
       "      <td>3</td>\n",
       "      <td>3</td>\n",
       "      <td>3</td>\n",
       "      <td>True</td>\n",
       "      <td>False</td>\n",
       "      <td>True</td>\n",
       "      <td>17</td>\n",
       "    </tr>\n",
       "    <tr>\n",
       "      <th>72972</th>\n",
       "      <td>1</td>\n",
       "      <td>160150</td>\n",
       "      <td>999999</td>\n",
       "      <td>8</td>\n",
       "      <td>8</td>\n",
       "      <td>13</td>\n",
       "      <td>3</td>\n",
       "      <td>1</td>\n",
       "      <td>16</td>\n",
       "      <td>1</td>\n",
       "      <td>...</td>\n",
       "      <td>88,0473441348032</td>\n",
       "      <td>True</td>\n",
       "      <td>3</td>\n",
       "      <td>3</td>\n",
       "      <td>3</td>\n",
       "      <td>3</td>\n",
       "      <td>True</td>\n",
       "      <td>False</td>\n",
       "      <td>True</td>\n",
       "      <td>17</td>\n",
       "    </tr>\n",
       "    <tr>\n",
       "      <th>72973</th>\n",
       "      <td>1</td>\n",
       "      <td>160150</td>\n",
       "      <td>999999</td>\n",
       "      <td>8</td>\n",
       "      <td>8</td>\n",
       "      <td>13</td>\n",
       "      <td>3</td>\n",
       "      <td>1</td>\n",
       "      <td>17</td>\n",
       "      <td>2</td>\n",
       "      <td>...</td>\n",
       "      <td>88,0473441348032</td>\n",
       "      <td>True</td>\n",
       "      <td>3</td>\n",
       "      <td>3</td>\n",
       "      <td>3</td>\n",
       "      <td>3</td>\n",
       "      <td>True</td>\n",
       "      <td>False</td>\n",
       "      <td>True</td>\n",
       "      <td>17</td>\n",
       "    </tr>\n",
       "    <tr>\n",
       "      <th>74610</th>\n",
       "      <td>1</td>\n",
       "      <td>160252</td>\n",
       "      <td>999999</td>\n",
       "      <td>1</td>\n",
       "      <td>1</td>\n",
       "      <td>123</td>\n",
       "      <td>2</td>\n",
       "      <td>1</td>\n",
       "      <td>1</td>\n",
       "      <td>1</td>\n",
       "      <td>...</td>\n",
       "      <td>23,0581879345273</td>\n",
       "      <td>False</td>\n",
       "      <td>1</td>\n",
       "      <td>1</td>\n",
       "      <td>2</td>\n",
       "      <td>1</td>\n",
       "      <td>False</td>\n",
       "      <td>False</td>\n",
       "      <td>True</td>\n",
       "      <td>17</td>\n",
       "    </tr>\n",
       "    <tr>\n",
       "      <th>74611</th>\n",
       "      <td>1</td>\n",
       "      <td>160252</td>\n",
       "      <td>999999</td>\n",
       "      <td>1</td>\n",
       "      <td>1</td>\n",
       "      <td>123</td>\n",
       "      <td>2</td>\n",
       "      <td>1</td>\n",
       "      <td>2</td>\n",
       "      <td>2</td>\n",
       "      <td>...</td>\n",
       "      <td>23,0581879345273</td>\n",
       "      <td>False</td>\n",
       "      <td>1</td>\n",
       "      <td>1</td>\n",
       "      <td>2</td>\n",
       "      <td>1</td>\n",
       "      <td>False</td>\n",
       "      <td>False</td>\n",
       "      <td>True</td>\n",
       "      <td>17</td>\n",
       "    </tr>\n",
       "    <tr>\n",
       "      <th>74612</th>\n",
       "      <td>1</td>\n",
       "      <td>160252</td>\n",
       "      <td>999999</td>\n",
       "      <td>1</td>\n",
       "      <td>1</td>\n",
       "      <td>123</td>\n",
       "      <td>2</td>\n",
       "      <td>1</td>\n",
       "      <td>3</td>\n",
       "      <td>1</td>\n",
       "      <td>...</td>\n",
       "      <td>23,0581879345273</td>\n",
       "      <td>False</td>\n",
       "      <td>1</td>\n",
       "      <td>1</td>\n",
       "      <td>2</td>\n",
       "      <td>1</td>\n",
       "      <td>False</td>\n",
       "      <td>False</td>\n",
       "      <td>True</td>\n",
       "      <td>17</td>\n",
       "    </tr>\n",
       "    <tr>\n",
       "      <th>74613</th>\n",
       "      <td>1</td>\n",
       "      <td>160252</td>\n",
       "      <td>999999</td>\n",
       "      <td>1</td>\n",
       "      <td>1</td>\n",
       "      <td>123</td>\n",
       "      <td>2</td>\n",
       "      <td>1</td>\n",
       "      <td>4</td>\n",
       "      <td>2</td>\n",
       "      <td>...</td>\n",
       "      <td>23,0581879345273</td>\n",
       "      <td>False</td>\n",
       "      <td>1</td>\n",
       "      <td>1</td>\n",
       "      <td>2</td>\n",
       "      <td>1</td>\n",
       "      <td>False</td>\n",
       "      <td>False</td>\n",
       "      <td>True</td>\n",
       "      <td>17</td>\n",
       "    </tr>\n",
       "    <tr>\n",
       "      <th>74614</th>\n",
       "      <td>1</td>\n",
       "      <td>160252</td>\n",
       "      <td>999999</td>\n",
       "      <td>1</td>\n",
       "      <td>1</td>\n",
       "      <td>123</td>\n",
       "      <td>2</td>\n",
       "      <td>1</td>\n",
       "      <td>5</td>\n",
       "      <td>1</td>\n",
       "      <td>...</td>\n",
       "      <td>23,0581879345273</td>\n",
       "      <td>False</td>\n",
       "      <td>1</td>\n",
       "      <td>1</td>\n",
       "      <td>2</td>\n",
       "      <td>1</td>\n",
       "      <td>False</td>\n",
       "      <td>False</td>\n",
       "      <td>True</td>\n",
       "      <td>17</td>\n",
       "    </tr>\n",
       "    <tr>\n",
       "      <th>74838</th>\n",
       "      <td>1</td>\n",
       "      <td>160252</td>\n",
       "      <td>999999</td>\n",
       "      <td>1</td>\n",
       "      <td>11</td>\n",
       "      <td>23</td>\n",
       "      <td>2</td>\n",
       "      <td>1</td>\n",
       "      <td>1</td>\n",
       "      <td>2</td>\n",
       "      <td>...</td>\n",
       "      <td>14,6962146361577</td>\n",
       "      <td>False</td>\n",
       "      <td>1</td>\n",
       "      <td>1</td>\n",
       "      <td>1</td>\n",
       "      <td>1</td>\n",
       "      <td>False</td>\n",
       "      <td>False</td>\n",
       "      <td>False</td>\n",
       "      <td>17</td>\n",
       "    </tr>\n",
       "    <tr>\n",
       "      <th>74839</th>\n",
       "      <td>1</td>\n",
       "      <td>160252</td>\n",
       "      <td>999999</td>\n",
       "      <td>1</td>\n",
       "      <td>11</td>\n",
       "      <td>23</td>\n",
       "      <td>2</td>\n",
       "      <td>1</td>\n",
       "      <td>2</td>\n",
       "      <td>2</td>\n",
       "      <td>...</td>\n",
       "      <td>14,6962146361577</td>\n",
       "      <td>False</td>\n",
       "      <td>1</td>\n",
       "      <td>1</td>\n",
       "      <td>1</td>\n",
       "      <td>1</td>\n",
       "      <td>False</td>\n",
       "      <td>False</td>\n",
       "      <td>False</td>\n",
       "      <td>17</td>\n",
       "    </tr>\n",
       "    <tr>\n",
       "      <th>74840</th>\n",
       "      <td>1</td>\n",
       "      <td>160252</td>\n",
       "      <td>999999</td>\n",
       "      <td>1</td>\n",
       "      <td>11</td>\n",
       "      <td>23</td>\n",
       "      <td>2</td>\n",
       "      <td>1</td>\n",
       "      <td>3</td>\n",
       "      <td>2</td>\n",
       "      <td>...</td>\n",
       "      <td>14,6962146361577</td>\n",
       "      <td>False</td>\n",
       "      <td>1</td>\n",
       "      <td>1</td>\n",
       "      <td>1</td>\n",
       "      <td>1</td>\n",
       "      <td>False</td>\n",
       "      <td>False</td>\n",
       "      <td>False</td>\n",
       "      <td>17</td>\n",
       "    </tr>\n",
       "    <tr>\n",
       "      <th>74841</th>\n",
       "      <td>1</td>\n",
       "      <td>160252</td>\n",
       "      <td>999999</td>\n",
       "      <td>1</td>\n",
       "      <td>11</td>\n",
       "      <td>23</td>\n",
       "      <td>2</td>\n",
       "      <td>1</td>\n",
       "      <td>4</td>\n",
       "      <td>1</td>\n",
       "      <td>...</td>\n",
       "      <td>14,6962146361577</td>\n",
       "      <td>False</td>\n",
       "      <td>1</td>\n",
       "      <td>1</td>\n",
       "      <td>1</td>\n",
       "      <td>1</td>\n",
       "      <td>False</td>\n",
       "      <td>False</td>\n",
       "      <td>False</td>\n",
       "      <td>17</td>\n",
       "    </tr>\n",
       "    <tr>\n",
       "      <th>74842</th>\n",
       "      <td>1</td>\n",
       "      <td>160252</td>\n",
       "      <td>999999</td>\n",
       "      <td>1</td>\n",
       "      <td>11</td>\n",
       "      <td>23</td>\n",
       "      <td>2</td>\n",
       "      <td>1</td>\n",
       "      <td>5</td>\n",
       "      <td>1</td>\n",
       "      <td>...</td>\n",
       "      <td>14,6962146361577</td>\n",
       "      <td>False</td>\n",
       "      <td>1</td>\n",
       "      <td>1</td>\n",
       "      <td>1</td>\n",
       "      <td>1</td>\n",
       "      <td>False</td>\n",
       "      <td>False</td>\n",
       "      <td>False</td>\n",
       "      <td>17</td>\n",
       "    </tr>\n",
       "    <tr>\n",
       "      <th>74843</th>\n",
       "      <td>1</td>\n",
       "      <td>160252</td>\n",
       "      <td>999999</td>\n",
       "      <td>1</td>\n",
       "      <td>11</td>\n",
       "      <td>23</td>\n",
       "      <td>2</td>\n",
       "      <td>1</td>\n",
       "      <td>6</td>\n",
       "      <td>1</td>\n",
       "      <td>...</td>\n",
       "      <td>14,6962146361577</td>\n",
       "      <td>False</td>\n",
       "      <td>1</td>\n",
       "      <td>1</td>\n",
       "      <td>1</td>\n",
       "      <td>1</td>\n",
       "      <td>False</td>\n",
       "      <td>False</td>\n",
       "      <td>False</td>\n",
       "      <td>17</td>\n",
       "    </tr>\n",
       "    <tr>\n",
       "      <th>74844</th>\n",
       "      <td>1</td>\n",
       "      <td>160252</td>\n",
       "      <td>999999</td>\n",
       "      <td>1</td>\n",
       "      <td>11</td>\n",
       "      <td>23</td>\n",
       "      <td>2</td>\n",
       "      <td>1</td>\n",
       "      <td>7</td>\n",
       "      <td>1</td>\n",
       "      <td>...</td>\n",
       "      <td>14,6962146361577</td>\n",
       "      <td>False</td>\n",
       "      <td>1</td>\n",
       "      <td>1</td>\n",
       "      <td>1</td>\n",
       "      <td>1</td>\n",
       "      <td>False</td>\n",
       "      <td>False</td>\n",
       "      <td>False</td>\n",
       "      <td>17</td>\n",
       "    </tr>\n",
       "    <tr>\n",
       "      <th>74845</th>\n",
       "      <td>1</td>\n",
       "      <td>160252</td>\n",
       "      <td>999999</td>\n",
       "      <td>1</td>\n",
       "      <td>11</td>\n",
       "      <td>23</td>\n",
       "      <td>2</td>\n",
       "      <td>1</td>\n",
       "      <td>8</td>\n",
       "      <td>2</td>\n",
       "      <td>...</td>\n",
       "      <td>14,6962146361577</td>\n",
       "      <td>False</td>\n",
       "      <td>1</td>\n",
       "      <td>1</td>\n",
       "      <td>1</td>\n",
       "      <td>1</td>\n",
       "      <td>False</td>\n",
       "      <td>False</td>\n",
       "      <td>False</td>\n",
       "      <td>17</td>\n",
       "    </tr>\n",
       "    <tr>\n",
       "      <th>74846</th>\n",
       "      <td>1</td>\n",
       "      <td>160252</td>\n",
       "      <td>999999</td>\n",
       "      <td>1</td>\n",
       "      <td>11</td>\n",
       "      <td>23</td>\n",
       "      <td>2</td>\n",
       "      <td>1</td>\n",
       "      <td>9</td>\n",
       "      <td>2</td>\n",
       "      <td>...</td>\n",
       "      <td>14,6962146361577</td>\n",
       "      <td>False</td>\n",
       "      <td>1</td>\n",
       "      <td>1</td>\n",
       "      <td>1</td>\n",
       "      <td>1</td>\n",
       "      <td>False</td>\n",
       "      <td>False</td>\n",
       "      <td>False</td>\n",
       "      <td>17</td>\n",
       "    </tr>\n",
       "    <tr>\n",
       "      <th>74847</th>\n",
       "      <td>1</td>\n",
       "      <td>160252</td>\n",
       "      <td>999999</td>\n",
       "      <td>1</td>\n",
       "      <td>11</td>\n",
       "      <td>23</td>\n",
       "      <td>2</td>\n",
       "      <td>1</td>\n",
       "      <td>10</td>\n",
       "      <td>2</td>\n",
       "      <td>...</td>\n",
       "      <td>14,6962146361577</td>\n",
       "      <td>False</td>\n",
       "      <td>1</td>\n",
       "      <td>1</td>\n",
       "      <td>1</td>\n",
       "      <td>1</td>\n",
       "      <td>False</td>\n",
       "      <td>False</td>\n",
       "      <td>False</td>\n",
       "      <td>17</td>\n",
       "    </tr>\n",
       "    <tr>\n",
       "      <th>74848</th>\n",
       "      <td>1</td>\n",
       "      <td>160252</td>\n",
       "      <td>999999</td>\n",
       "      <td>1</td>\n",
       "      <td>11</td>\n",
       "      <td>23</td>\n",
       "      <td>2</td>\n",
       "      <td>1</td>\n",
       "      <td>11</td>\n",
       "      <td>2</td>\n",
       "      <td>...</td>\n",
       "      <td>14,6962146361577</td>\n",
       "      <td>False</td>\n",
       "      <td>1</td>\n",
       "      <td>1</td>\n",
       "      <td>1</td>\n",
       "      <td>1</td>\n",
       "      <td>False</td>\n",
       "      <td>False</td>\n",
       "      <td>False</td>\n",
       "      <td>17</td>\n",
       "    </tr>\n",
       "    <tr>\n",
       "      <th>74849</th>\n",
       "      <td>1</td>\n",
       "      <td>160252</td>\n",
       "      <td>999999</td>\n",
       "      <td>1</td>\n",
       "      <td>11</td>\n",
       "      <td>23</td>\n",
       "      <td>2</td>\n",
       "      <td>1</td>\n",
       "      <td>12</td>\n",
       "      <td>1</td>\n",
       "      <td>...</td>\n",
       "      <td>14,6962146361577</td>\n",
       "      <td>False</td>\n",
       "      <td>1</td>\n",
       "      <td>1</td>\n",
       "      <td>1</td>\n",
       "      <td>1</td>\n",
       "      <td>False</td>\n",
       "      <td>False</td>\n",
       "      <td>False</td>\n",
       "      <td>17</td>\n",
       "    </tr>\n",
       "  </tbody>\n",
       "</table>\n",
       "<p>51 rows × 417 columns</p>\n",
       "</div>"
      ],
      "text/plain": [
       "       area  ciudad  conglomerado_x  zona  sector  panelm  vivienda  hogar  \\\n",
       "70084     2  150153          999999   999      17     123         1      1   \n",
       "70085     2  150153          999999   999      17     123         1      1   \n",
       "70086     2  150153          999999   999      17     123         1      1   \n",
       "70087     2  150153          999999   999      17     123         1      1   \n",
       "70088     2  150153          999999   999      17     123         1      1   \n",
       "70089     2  150153          999999   999      17     123         1      1   \n",
       "70090     2  150153          999999   999      17     123         1      1   \n",
       "70091     2  150153          999999   999      17     123         1      1   \n",
       "70092     2  150153          999999   999      17     123         1      1   \n",
       "70093     2  150153          999999   999      17     123         1      1   \n",
       "70094     2  150153          999999   999      17     123         1      1   \n",
       "70095     2  150153          999999   999      17     123         1      1   \n",
       "70096     2  150153          999999   999      17     123         1      1   \n",
       "70097     2  150153          999999   999      17     123         1      1   \n",
       "70098     2  150153          999999   999      17     123         1      1   \n",
       "70099     2  150153          999999   999      17     123         1      1   \n",
       "70100     2  150153          999999   999      17     123         1      1   \n",
       "72957     1  160150          999999     8       8      13         3      1   \n",
       "72958     1  160150          999999     8       8      13         3      1   \n",
       "72959     1  160150          999999     8       8      13         3      1   \n",
       "72960     1  160150          999999     8       8      13         3      1   \n",
       "72961     1  160150          999999     8       8      13         3      1   \n",
       "72962     1  160150          999999     8       8      13         3      1   \n",
       "72963     1  160150          999999     8       8      13         3      1   \n",
       "72964     1  160150          999999     8       8      13         3      1   \n",
       "72965     1  160150          999999     8       8      13         3      1   \n",
       "72966     1  160150          999999     8       8      13         3      1   \n",
       "72967     1  160150          999999     8       8      13         3      1   \n",
       "72968     1  160150          999999     8       8      13         3      1   \n",
       "72969     1  160150          999999     8       8      13         3      1   \n",
       "72970     1  160150          999999     8       8      13         3      1   \n",
       "72971     1  160150          999999     8       8      13         3      1   \n",
       "72972     1  160150          999999     8       8      13         3      1   \n",
       "72973     1  160150          999999     8       8      13         3      1   \n",
       "74610     1  160252          999999     1       1     123         2      1   \n",
       "74611     1  160252          999999     1       1     123         2      1   \n",
       "74612     1  160252          999999     1       1     123         2      1   \n",
       "74613     1  160252          999999     1       1     123         2      1   \n",
       "74614     1  160252          999999     1       1     123         2      1   \n",
       "74838     1  160252          999999     1      11      23         2      1   \n",
       "74839     1  160252          999999     1      11      23         2      1   \n",
       "74840     1  160252          999999     1      11      23         2      1   \n",
       "74841     1  160252          999999     1      11      23         2      1   \n",
       "74842     1  160252          999999     1      11      23         2      1   \n",
       "74843     1  160252          999999     1      11      23         2      1   \n",
       "74844     1  160252          999999     1      11      23         2      1   \n",
       "74845     1  160252          999999     1      11      23         2      1   \n",
       "74846     1  160252          999999     1      11      23         2      1   \n",
       "74847     1  160252          999999     1      11      23         2      1   \n",
       "74848     1  160252          999999     1      11      23         2      1   \n",
       "74849     1  160252          999999     1      11      23         2      1   \n",
       "\n",
       "       p01  p02  ...            fexp_y  dim3i2  techo  pared piso tipviv  \\\n",
       "70084    1    1  ...  17,1098022552027    True      2      2    2      2   \n",
       "70085    2    2  ...  17,1098022552027    True      2      2    2      2   \n",
       "70086    3    2  ...  17,1098022552027    True      2      2    2      2   \n",
       "70087    4    1  ...  17,1098022552027    True      2      2    2      2   \n",
       "70088    5    1  ...  17,1098022552027    True      2      2    2      2   \n",
       "70089    6    1  ...  17,1098022552027    True      2      2    2      2   \n",
       "70090    7    1  ...  17,1098022552027    True      2      2    2      2   \n",
       "70091    8    2  ...  17,1098022552027    True      2      2    2      2   \n",
       "70092    9    1  ...  17,1098022552027    True      2      2    2      2   \n",
       "70093   10    2  ...  17,1098022552027    True      2      2    2      2   \n",
       "70094   11    2  ...  17,1098022552027    True      2      2    2      2   \n",
       "70095   12    1  ...  17,1098022552027    True      2      2    2      2   \n",
       "70096   13    1  ...  17,1098022552027    True      2      2    2      2   \n",
       "70097   14    2  ...  17,1098022552027    True      2      2    2      2   \n",
       "70098   15    2  ...  17,1098022552027    True      2      2    2      2   \n",
       "70099   16    1  ...  17,1098022552027    True      2      2    2      2   \n",
       "70100   17    2  ...  17,1098022552027    True      2      2    2      2   \n",
       "72957    1    1  ...  88,0473441348032    True      3      3    3      3   \n",
       "72958    2    2  ...  88,0473441348032    True      3      3    3      3   \n",
       "72959    3    1  ...  88,0473441348032    True      3      3    3      3   \n",
       "72960    4    1  ...  88,0473441348032    True      3      3    3      3   \n",
       "72961    5    1  ...  88,0473441348032    True      3      3    3      3   \n",
       "72962    6    2  ...  88,0473441348032    True      3      3    3      3   \n",
       "72963    7    1  ...  88,0473441348032    True      3      3    3      3   \n",
       "72964    8    2  ...  88,0473441348032    True      3      3    3      3   \n",
       "72965    9    1  ...  88,0473441348032    True      3      3    3      3   \n",
       "72966   10    1  ...  88,0473441348032    True      3      3    3      3   \n",
       "72967   11    2  ...  88,0473441348032    True      3      3    3      3   \n",
       "72968   12    1  ...  88,0473441348032    True      3      3    3      3   \n",
       "72969   13    2  ...  88,0473441348032    True      3      3    3      3   \n",
       "72970   14    1  ...  88,0473441348032    True      3      3    3      3   \n",
       "72971   15    2  ...  88,0473441348032    True      3      3    3      3   \n",
       "72972   16    1  ...  88,0473441348032    True      3      3    3      3   \n",
       "72973   17    2  ...  88,0473441348032    True      3      3    3      3   \n",
       "74610    1    1  ...  23,0581879345273   False      1      1    2      1   \n",
       "74611    2    2  ...  23,0581879345273   False      1      1    2      1   \n",
       "74612    3    1  ...  23,0581879345273   False      1      1    2      1   \n",
       "74613    4    2  ...  23,0581879345273   False      1      1    2      1   \n",
       "74614    5    1  ...  23,0581879345273   False      1      1    2      1   \n",
       "74838    1    2  ...  14,6962146361577   False      1      1    1      1   \n",
       "74839    2    2  ...  14,6962146361577   False      1      1    1      1   \n",
       "74840    3    2  ...  14,6962146361577   False      1      1    1      1   \n",
       "74841    4    1  ...  14,6962146361577   False      1      1    1      1   \n",
       "74842    5    1  ...  14,6962146361577   False      1      1    1      1   \n",
       "74843    6    1  ...  14,6962146361577   False      1      1    1      1   \n",
       "74844    7    1  ...  14,6962146361577   False      1      1    1      1   \n",
       "74845    8    2  ...  14,6962146361577   False      1      1    1      1   \n",
       "74846    9    2  ...  14,6962146361577   False      1      1    1      1   \n",
       "74847   10    2  ...  14,6962146361577   False      1      1    1      1   \n",
       "74848   11    2  ...  14,6962146361577   False      1      1    1      1   \n",
       "74849   12    1  ...  14,6962146361577   False      1      1    1      1   \n",
       "\n",
       "      dim4i2 dim4i3 dim4i4 hsize  \n",
       "70084   True  False   True    17  \n",
       "70085   True  False   True    17  \n",
       "70086   True  False   True    17  \n",
       "70087   True  False   True    17  \n",
       "70088   True  False   True    17  \n",
       "70089   True  False   True    17  \n",
       "70090   True  False   True    17  \n",
       "70091   True  False   True    17  \n",
       "70092   True  False   True    17  \n",
       "70093   True  False   True    17  \n",
       "70094   True  False   True    17  \n",
       "70095   True  False   True    17  \n",
       "70096   True  False   True    17  \n",
       "70097   True  False   True    17  \n",
       "70098   True  False   True    17  \n",
       "70099   True  False   True    17  \n",
       "70100   True  False   True    17  \n",
       "72957   True  False   True    17  \n",
       "72958   True  False   True    17  \n",
       "72959   True  False   True    17  \n",
       "72960   True  False   True    17  \n",
       "72961   True  False   True    17  \n",
       "72962   True  False   True    17  \n",
       "72963   True  False   True    17  \n",
       "72964   True  False   True    17  \n",
       "72965   True  False   True    17  \n",
       "72966   True  False   True    17  \n",
       "72967   True  False   True    17  \n",
       "72968   True  False   True    17  \n",
       "72969   True  False   True    17  \n",
       "72970   True  False   True    17  \n",
       "72971   True  False   True    17  \n",
       "72972   True  False   True    17  \n",
       "72973   True  False   True    17  \n",
       "74610  False  False   True    17  \n",
       "74611  False  False   True    17  \n",
       "74612  False  False   True    17  \n",
       "74613  False  False   True    17  \n",
       "74614  False  False   True    17  \n",
       "74838  False  False  False    17  \n",
       "74839  False  False  False    17  \n",
       "74840  False  False  False    17  \n",
       "74841  False  False  False    17  \n",
       "74842  False  False  False    17  \n",
       "74843  False  False  False    17  \n",
       "74844  False  False  False    17  \n",
       "74845  False  False  False    17  \n",
       "74846  False  False  False    17  \n",
       "74847  False  False  False    17  \n",
       "74848  False  False  False    17  \n",
       "74849  False  False  False    17  \n",
       "\n",
       "[51 rows x 417 columns]"
      ]
     },
     "execution_count": 109,
     "metadata": {},
     "output_type": "execute_result"
    }
   ],
   "source": [
    "df[df.hsize == 17] #????"
   ]
  },
  {
   "cell_type": "code",
   "execution_count": 110,
   "metadata": {
    "colab": {
     "base_uri": "https://localhost:8080/"
    },
    "id": "gvM8jx8_5OUq",
    "outputId": "3cce079b-425f-42a3-a024-7bac33fd7b52"
   },
   "outputs": [
    {
     "data": {
      "text/plain": [
       "dtype('int64')"
      ]
     },
     "execution_count": 110,
     "metadata": {},
     "output_type": "execute_result"
    }
   ],
   "source": [
    "df.vi07.dtypes"
   ]
  },
  {
   "cell_type": "code",
   "execution_count": 111,
   "metadata": {
    "id": "1Tj56G-T5VuP"
   },
   "outputs": [],
   "source": [
    "def dim4i1(row):\n",
    "  return bool((row.hsize/row.vi07) > 3)"
   ]
  },
  {
   "cell_type": "code",
   "execution_count": 112,
   "metadata": {
    "id": "9mqeQcmwl8Po"
   },
   "outputs": [],
   "source": [
    "df['dim4i1'] = df.apply(lambda y: dim4i1(y), axis=1)"
   ]
  },
  {
   "cell_type": "markdown",
   "metadata": {
    "id": "d1E6W827jJS0"
   },
   "source": [
    "##<b><font color='darkred'>HERENCIA DE PRIVACIONES"
   ]
  },
  {
   "cell_type": "code",
   "execution_count": 113,
   "metadata": {
    "colab": {
     "base_uri": "https://localhost:8080/"
    },
    "id": "Pi725eTKKDKz",
    "outputId": "77d64727-cfe5-48c4-e4e8-edb39bb6b818"
   },
   "outputs": [
    {
     "data": {
      "text/plain": [
       "101507"
      ]
     },
     "execution_count": 113,
     "metadata": {},
     "output_type": "execute_result"
    }
   ],
   "source": [
    "df.shape[0]"
   ]
  },
  {
   "cell_type": "code",
   "execution_count": 114,
   "metadata": {
    "colab": {
     "base_uri": "https://localhost:8080/"
    },
    "id": "edzVN8f99f45",
    "outputId": "5ef75472-ed57-49ba-8ba8-64862ec73bfb"
   },
   "outputs": [
    {
     "data": {
      "text/plain": [
       "['area',\n",
       " 'ciudad',\n",
       " 'conglomerado_x',\n",
       " 'zona',\n",
       " 'sector',\n",
       " 'panelm',\n",
       " 'vivienda',\n",
       " 'hogar',\n",
       " 'p01',\n",
       " 'p02',\n",
       " 'p03',\n",
       " 'p04',\n",
       " 'p05a',\n",
       " 'p05b',\n",
       " 'p06',\n",
       " 'p07',\n",
       " 'p08',\n",
       " 'p09',\n",
       " 'p10a',\n",
       " 'p10b',\n",
       " 'p11',\n",
       " 'p12a',\n",
       " 'p12b',\n",
       " 'p13',\n",
       " 'p14',\n",
       " 'p15',\n",
       " 'p15aa',\n",
       " 'p15ab',\n",
       " 'p16a',\n",
       " 'p16b',\n",
       " 'p17a',\n",
       " 'p17b',\n",
       " 'p18',\n",
       " 'p19a',\n",
       " 'p19b',\n",
       " 'cod_inf',\n",
       " 'p20',\n",
       " 'p21',\n",
       " 'p22',\n",
       " 'p23',\n",
       " 'p24',\n",
       " 'p25',\n",
       " 'p26',\n",
       " 'p27',\n",
       " 'p28',\n",
       " 'p29',\n",
       " 'p30',\n",
       " 'p31',\n",
       " 'p32',\n",
       " 'p33',\n",
       " 'p34',\n",
       " 'p35',\n",
       " 'p36',\n",
       " 'p37',\n",
       " 'p38',\n",
       " 'p39',\n",
       " 'p40',\n",
       " 'p41',\n",
       " 'p42',\n",
       " 'p42a',\n",
       " 'p43',\n",
       " 'p44a',\n",
       " 'p44b',\n",
       " 'p44c',\n",
       " 'p44d',\n",
       " 'p44e',\n",
       " 'p44f',\n",
       " 'p44g',\n",
       " 'p44h',\n",
       " 'p44i',\n",
       " 'p44j',\n",
       " 'p44k',\n",
       " 'p45',\n",
       " 'p46',\n",
       " 'p47a',\n",
       " 'p47b',\n",
       " 'p48',\n",
       " 'p49',\n",
       " 'p50',\n",
       " 'p51a',\n",
       " 'p51b',\n",
       " 'p51c',\n",
       " 'p52',\n",
       " 'p53',\n",
       " 'p54',\n",
       " 'p54a',\n",
       " 'p55',\n",
       " 'p56a',\n",
       " 'p56b',\n",
       " 'p57',\n",
       " 'p58',\n",
       " 'p59',\n",
       " 'p60a',\n",
       " 'p60b',\n",
       " 'p60c',\n",
       " 'p60d',\n",
       " 'p60e',\n",
       " 'p60f',\n",
       " 'p60g',\n",
       " 'p60h',\n",
       " 'p60i',\n",
       " 'p60j',\n",
       " 'p60k',\n",
       " 'p61a11',\n",
       " 'p61a12',\n",
       " 'p61a13',\n",
       " 'p61a2',\n",
       " 'p61a31',\n",
       " 'p61a32',\n",
       " 'p61a33',\n",
       " 'p61a34',\n",
       " 'p61a4',\n",
       " 'p61a5',\n",
       " 'p61a61',\n",
       " 'p61a62',\n",
       " 'p61a7',\n",
       " 'p61a8',\n",
       " 'p61a91',\n",
       " 'p61a92',\n",
       " 'p61a101',\n",
       " 'p61a102',\n",
       " 'p61a103',\n",
       " 'p61a111',\n",
       " 'p61a112',\n",
       " 'p61a113',\n",
       " 'p61b1',\n",
       " 'p63',\n",
       " 'p64a',\n",
       " 'p64b',\n",
       " 'p65',\n",
       " 'p66',\n",
       " 'p67',\n",
       " 'p68a',\n",
       " 'p68b',\n",
       " 'p69',\n",
       " 'p70a',\n",
       " 'p70b',\n",
       " 'p71a',\n",
       " 'p71b',\n",
       " 'p72a',\n",
       " 'p72b',\n",
       " 'p73a',\n",
       " 'p73b',\n",
       " 'p74a',\n",
       " 'p74b',\n",
       " 'p75',\n",
       " 'p76',\n",
       " 'p77',\n",
       " 'p78',\n",
       " 'p79',\n",
       " 'p79a1',\n",
       " 'p79b1',\n",
       " 'p79a2',\n",
       " 'p79b2',\n",
       " 'ingrl',\n",
       " 'sd01',\n",
       " 'sd021',\n",
       " 'sd022',\n",
       " 'sd023',\n",
       " 'sd024',\n",
       " 'sd025',\n",
       " 'sd026',\n",
       " 'sd027',\n",
       " 'sd028',\n",
       " 'sd029',\n",
       " 'sd0210',\n",
       " 'sd0211',\n",
       " 'sd03',\n",
       " 'pe01',\n",
       " 'pe02a',\n",
       " 'pe02b',\n",
       " 'pe03a1',\n",
       " 'pe03a2',\n",
       " 'pe03a3',\n",
       " 'pe03a4',\n",
       " 'pe03a5',\n",
       " 'pe03',\n",
       " 'pe04',\n",
       " 'pe05a',\n",
       " 'pe05b',\n",
       " 'pe06',\n",
       " 'pe07',\n",
       " 'pe08',\n",
       " 'pe09a',\n",
       " 'pe09b',\n",
       " 'pia01a',\n",
       " 'pia01b',\n",
       " 'pia02',\n",
       " 'pia03',\n",
       " 'ps01',\n",
       " 'ps02a',\n",
       " 'ps02b',\n",
       " 'ps02c',\n",
       " 'ps03',\n",
       " 'ps03a',\n",
       " 'ps04a',\n",
       " 'ps04b',\n",
       " 'ps04c',\n",
       " 'ps05',\n",
       " 'ps05a',\n",
       " 'ps05b',\n",
       " 'ps06',\n",
       " 'ps06a',\n",
       " 'ps06b',\n",
       " 'ps07aa',\n",
       " 'ps07ab',\n",
       " 'ps07',\n",
       " 'ps07a',\n",
       " 'ps07b',\n",
       " 'ps08',\n",
       " 'ps08a',\n",
       " 'ps08b',\n",
       " 'ps09',\n",
       " 'ps09a',\n",
       " 'ps09b',\n",
       " 'ps10',\n",
       " 'ps10a',\n",
       " 'ps10b',\n",
       " 'ps11',\n",
       " 'ps11a',\n",
       " 'ps12',\n",
       " 'ps12a',\n",
       " 'pt01a',\n",
       " 'pt01b',\n",
       " 'pt1a',\n",
       " 'pt1b1',\n",
       " 'pt1b2',\n",
       " 'pt1b3',\n",
       " 'pt1b4',\n",
       " 'pt1b5',\n",
       " 'pt1b6',\n",
       " 'pt02',\n",
       " 'pt03',\n",
       " 'pt04a',\n",
       " 'pt04b',\n",
       " 'pt04c',\n",
       " 'pt05',\n",
       " 'pt06a',\n",
       " 'pt06b',\n",
       " 'pt06c',\n",
       " 'pt06d',\n",
       " 'pt07',\n",
       " 'pt08',\n",
       " 'seg011',\n",
       " 'seg012',\n",
       " 'seg013',\n",
       " 'seg014',\n",
       " 'seg015',\n",
       " 'seg016',\n",
       " 'seg017',\n",
       " 'seg018',\n",
       " 'seg019',\n",
       " 'seg0110',\n",
       " 'seg02',\n",
       " 'seg03',\n",
       " 'seg041',\n",
       " 'seg042',\n",
       " 'seg043',\n",
       " 'seg044',\n",
       " 'seg045',\n",
       " 'seg046',\n",
       " 'seg047',\n",
       " 'seg048',\n",
       " 'seg05',\n",
       " 'seg06',\n",
       " 'seg07',\n",
       " 'seg08',\n",
       " 'seg091',\n",
       " 'seg092',\n",
       " 'seg093',\n",
       " 'seg101',\n",
       " 'seg102',\n",
       " 'seg103',\n",
       " 'seg104',\n",
       " 'seg111',\n",
       " 'seg112',\n",
       " 'seg113',\n",
       " 'seg121',\n",
       " 'seg122',\n",
       " 'seg123',\n",
       " 'ced01a',\n",
       " 'plan_muestreo',\n",
       " 'fexp_x',\n",
       " 'SECEMP',\n",
       " 'formal',\n",
       " 'informal',\n",
       " 'empdom',\n",
       " 'nocla',\n",
       " 'grupo1',\n",
       " 'rama1',\n",
       " 'ciud5',\n",
       " 'id_sector',\n",
       " 'ingpc',\n",
       " 'pobreza',\n",
       " 'epobreza',\n",
       " 't_a',\n",
       " 'CONDACTN',\n",
       " 'petn',\n",
       " 'pean',\n",
       " 'empleo',\n",
       " 'adec',\n",
       " 'sub',\n",
       " 'sub_h',\n",
       " 'sub_w',\n",
       " 'oinad',\n",
       " 'nr',\n",
       " 'nc',\n",
       " 'desem',\n",
       " 'desemab',\n",
       " 'desemoc',\n",
       " 'desem1',\n",
       " 'desem2',\n",
       " 'pein',\n",
       " 'idp',\n",
       " 'idh',\n",
       " 'miss',\n",
       " 'horas',\n",
       " 'asist_basic',\n",
       " 'asist_bach',\n",
       " 'dim1i1',\n",
       " 'dim1i2',\n",
       " 'escol',\n",
       " 'dim1i3',\n",
       " 'dim2i1',\n",
       " 'dim2i2',\n",
       " 'dim2i3',\n",
       " 'dim3i1',\n",
       " 'conglomerado_y',\n",
       " 'vi01',\n",
       " 'vi02',\n",
       " 'vi03a',\n",
       " 'vi03b',\n",
       " 'vi04a',\n",
       " 'vi04b',\n",
       " 'vi05a',\n",
       " 'vi05b',\n",
       " 'vi06',\n",
       " 'vi07',\n",
       " 'vi07a1',\n",
       " 'vi07a2',\n",
       " 'vi08',\n",
       " 'vi08a',\n",
       " 'vi08b',\n",
       " 'vi09',\n",
       " 'vi10',\n",
       " 'vi11',\n",
       " 'vi12',\n",
       " 'vi13',\n",
       " 'vi13a',\n",
       " 'vi13b',\n",
       " 'vi13c',\n",
       " 'vi13d',\n",
       " 'vi14',\n",
       " 'vi15',\n",
       " 'vi16',\n",
       " 'vi16a',\n",
       " 'vi16b',\n",
       " 'vi16c',\n",
       " 'vi16d',\n",
       " 'vi17',\n",
       " 'vi18',\n",
       " 'vi19a',\n",
       " 'vi19b',\n",
       " 'vi20a',\n",
       " 'vi20b',\n",
       " 'eq0101',\n",
       " 'eq0102',\n",
       " 'eq0201',\n",
       " 'eq0202',\n",
       " 'eq0301',\n",
       " 'eq0302',\n",
       " 'eq0401',\n",
       " 'eq0402',\n",
       " 'eq0501',\n",
       " 'eq0502',\n",
       " 'eq0601',\n",
       " 'eq0602',\n",
       " 'eq0701',\n",
       " 'eq0702',\n",
       " 'eq0801',\n",
       " 'eq0802',\n",
       " 'eq0901',\n",
       " 'eq0902',\n",
       " 'eq1001',\n",
       " 'eq1002',\n",
       " 'eq1101',\n",
       " 'eq1102',\n",
       " 'eq1201',\n",
       " 'eq1202',\n",
       " 'eq1301',\n",
       " 'eq1302',\n",
       " 'eq1401',\n",
       " 'eq1402',\n",
       " 'eq1501',\n",
       " 'eq1502',\n",
       " 'eq1601',\n",
       " 'eq1602',\n",
       " 'eq1701',\n",
       " 'eq1702',\n",
       " 'eq1801',\n",
       " 'eq1802',\n",
       " 'eq1901',\n",
       " 'eq1902',\n",
       " 'vi22',\n",
       " 'vi23',\n",
       " 'vi24',\n",
       " 'vi25',\n",
       " 'fexp_y',\n",
       " 'dim3i2',\n",
       " 'techo',\n",
       " 'pared',\n",
       " 'piso',\n",
       " 'tipviv',\n",
       " 'dim4i2',\n",
       " 'dim4i3',\n",
       " 'dim4i4',\n",
       " 'hsize',\n",
       " 'dim4i1']"
      ]
     },
     "execution_count": 114,
     "metadata": {},
     "output_type": "execute_result"
    }
   ],
   "source": [
    "[i for i in (list(df.columns)) if i.startswith]"
   ]
  },
  {
   "cell_type": "code",
   "execution_count": 115,
   "metadata": {
    "id": "VQEFqzjN7Rhl"
   },
   "outputs": [],
   "source": [
    "df[['dim1i1',\n",
    " 'dim1i2',\n",
    " 'dim1i3',\n",
    " 'dim2i1',\n",
    " 'dim2i2',\n",
    " 'dim2i3',\n",
    " 'dim3i1',\n",
    " 'dim3i2',\n",
    " 'dim4i2',\n",
    " 'dim4i3',\n",
    " 'dim4i4',\n",
    " 'dim4i1']] = df[['dim1i1',\n",
    " 'dim1i2',\n",
    " 'dim1i3',\n",
    " 'dim2i1',\n",
    " 'dim2i2',\n",
    " 'dim2i3',\n",
    " 'dim3i1',\n",
    " 'dim3i2',\n",
    " 'dim4i2',\n",
    " 'dim4i3',\n",
    " 'dim4i4',\n",
    " 'dim4i1']].replace(True, 1).replace(False,0)"
   ]
  },
  {
   "cell_type": "code",
   "execution_count": 116,
   "metadata": {
    "id": "j7yfa0v2628k"
   },
   "outputs": [],
   "source": [
    "df['dim1i1h'] = df.groupby('idh')['dim1i1'].transform('max')\n",
    "df['dim1i2h'] = df.groupby('idh')['dim1i2'].transform('max')\n",
    "df['dim1i3h'] = df.groupby('idh')['dim1i3'].transform('max')\n",
    "df['dim2i1h'] = df.groupby('idh')['dim2i1'].transform('max')\n",
    "df['dim2i2h'] = df.groupby('idh')['dim2i2'].transform('max')\n",
    "df['dim2i3h'] = df.groupby('idh')['dim2i3'].transform('max')\n",
    "df['dim3i1h'] = df.groupby('idh')['dim3i1'].transform('max')\n",
    "df['dim3i2h'] = df.groupby('idh')['dim3i2'].transform('max')\n",
    "df['dim4i1h'] = df.groupby('idh')['dim4i1'].transform('max')\n",
    "df['dim4i2h'] = df.groupby('idh')['dim4i2'].transform('max')\n",
    "df['dim4i3h'] = df.groupby('idh')['dim4i3'].transform('max')\n",
    "df['dim4i4h'] = df.groupby('idh')['dim4i4'].transform('max')"
   ]
  },
  {
   "cell_type": "markdown",
   "metadata": {
    "id": "aKYeumRM6LCV"
   },
   "source": [
    "#<u><b>INDICE DE POBREZA MULTIDIMENSIONAL"
   ]
  },
  {
   "cell_type": "markdown",
   "metadata": {
    "id": "CUecxsAk6VOG"
   },
   "source": [
    "##<b><font color='darkred'>ESTRUCTURA DE PONDERACION"
   ]
  },
  {
   "cell_type": "code",
   "execution_count": 117,
   "metadata": {
    "id": "mtLe6l25_JPS"
   },
   "outputs": [],
   "source": [
    "def ci(row):\n",
    "  return ((row.dim1i1h * 1/4 * 1/3)\n",
    "          + (row.dim1i2h * 1/4 * 1/3)\n",
    "          + (row.dim1i3h * 1/4 * 1/3)\n",
    "          + (row.dim2i1h * 1/4 * 1/3)\n",
    "          + (row.dim2i2h * 1/4 * 1/3)\n",
    "          + (row.dim2i3h * 1/4 * 1/3)\n",
    "          + (row.dim3i1h * 1/4 * 1/2)\n",
    "          + (row.dim3i2h * 1/4 * 1/2)\n",
    "          + (row.dim4i1h * 1/4 * 1/4)\n",
    "          + (row.dim4i2h * 1/4 * 1/4)\n",
    "          + (row.dim4i3h * 1/4 * 1/4)\n",
    "          + (row.dim4i4h * 1/4 * 1/4))"
   ]
  },
  {
   "cell_type": "code",
   "execution_count": 118,
   "metadata": {
    "id": "8_8Y5MbeD23x"
   },
   "outputs": [],
   "source": [
    "df['ci'] = df.apply(lambda y: ci(y), axis=1)"
   ]
  },
  {
   "cell_type": "code",
   "execution_count": 119,
   "metadata": {
    "colab": {
     "base_uri": "https://localhost:8080/"
    },
    "id": "1VRrSug0EKTr",
    "outputId": "bd943de9-8778-4258-a2d8-fe8e310981d5"
   },
   "outputs": [
    {
     "data": {
      "text/plain": [
       "array([0.20833333, 0.0625    , 0.375     , 0.22916667, 0.14583333,\n",
       "       0.08333333, 0.58333333, 0.125     , 0.4375    , 0.29166667,\n",
       "       0.39583333, 0.3125    , 0.25      , 0.35416667, 0.45833333,\n",
       "       0.27083333, 0.5       , 0.16666667, 0.33333333, 0.41666667,\n",
       "       0.1875    , 0.625     , 0.5625    , 0.70833333, 0.52083333,\n",
       "       0.        , 0.47916667, 0.85416667, 0.64583333, 0.54166667,\n",
       "       0.60416667, 0.77083333, 0.66666667, 0.6875    , 0.72916667,\n",
       "       0.91666667, 0.83333333, 0.79166667, 0.75      ])"
      ]
     },
     "execution_count": 119,
     "metadata": {},
     "output_type": "execute_result"
    }
   ],
   "source": [
    "df.ci.unique()"
   ]
  },
  {
   "cell_type": "markdown",
   "metadata": {
    "id": "UGjobRurGFEg"
   },
   "source": [
    "##<b><font color='darkred'>CALCULO FINAL"
   ]
  },
  {
   "cell_type": "code",
   "execution_count": 120,
   "metadata": {
    "id": "pWPs-frCEN_-"
   },
   "outputs": [],
   "source": [
    "df['TPM'] = df.apply(lambda y: True if (y.ci >= 4/12) else False, axis=1)"
   ]
  },
  {
   "cell_type": "code",
   "execution_count": 121,
   "metadata": {
    "id": "KMPdMbPK6c7g"
   },
   "outputs": [],
   "source": [
    "df['IPM'] = df.apply(lambda y: y.ci if (y.TPM) else 0, axis=1)"
   ]
  },
  {
   "cell_type": "code",
   "execution_count": 122,
   "metadata": {},
   "outputs": [
    {
     "data": {
      "text/plain": [
       "0.14438782547016463"
      ]
     },
     "execution_count": 122,
     "metadata": {},
     "output_type": "execute_result"
    }
   ],
   "source": [
    "df[\"IPM\"].mean()"
   ]
  },
  {
   "cell_type": "code",
   "execution_count": 123,
   "metadata": {},
   "outputs": [
    {
     "data": {
      "text/plain": [
       "(0.13344601429084796, 15449567.954157097)"
      ]
     },
     "execution_count": 123,
     "metadata": {},
     "output_type": "execute_result"
    }
   ],
   "source": [
    "np.average(df[\"IPM\"],weights=df[\"fexp_x\"],returned=True)"
   ]
  },
  {
   "cell_type": "code",
   "execution_count": 124,
   "metadata": {
    "colab": {
     "base_uri": "https://localhost:8080/"
    },
    "id": "iNzVfrzdMlC2",
    "outputId": "5342d9ca-ca19-4c56-b9f8-f9e2e8dbd1e7"
   },
   "outputs": [
    {
     "data": {
      "text/plain": [
       "0.25876743356195037"
      ]
     },
     "execution_count": 124,
     "metadata": {},
     "output_type": "execute_result"
    }
   ],
   "source": [
    "#media de ponderaciones totales sin IPM cambiada\n",
    "df.groupby('idh')[['ci']].mean()[['ci']]['ci'].mean()"
   ]
  },
  {
   "cell_type": "code",
   "execution_count": 125,
   "metadata": {
    "id": "tKEJka4EHfSR"
   },
   "outputs": [],
   "source": [
    "ipm = df[df.IPM > 0].groupby('idh')[['IPM']].mean()[['IPM']]['IPM'].mean()"
   ]
  },
  {
   "cell_type": "code",
   "execution_count": 126,
   "metadata": {
    "colab": {
     "base_uri": "https://localhost:8080/"
    },
    "id": "BgwU5SLDjVrf",
    "outputId": "c9d4c665-586d-4ea6-be4f-b2931912b72d"
   },
   "outputs": [
    {
     "name": "stdout",
     "output_type": "stream",
     "text": [
      "El indice de pobreza multidimensional general 2017-06 es 0.4374039938556068\n"
     ]
    }
   ],
   "source": [
    "print(f'El indice de pobreza multidimensional general 2017-06 es {ipm}')"
   ]
  },
  {
   "cell_type": "code",
   "execution_count": 127,
   "metadata": {},
   "outputs": [
    {
     "data": {
      "text/plain": [
       "0.29105936043819636"
      ]
     },
     "execution_count": 127,
     "metadata": {},
     "output_type": "execute_result"
    }
   ],
   "source": [
    "df[\"ci\"].mean()"
   ]
  },
  {
   "cell_type": "code",
   "execution_count": 137,
   "metadata": {},
   "outputs": [],
   "source": [
    "dff=df.loc[df[\"IPM\"]>0,:]"
   ]
  },
  {
   "cell_type": "code",
   "execution_count": 143,
   "metadata": {},
   "outputs": [
    {
     "data": {
      "text/plain": [
       "0.45171592800345184"
      ]
     },
     "execution_count": 143,
     "metadata": {},
     "output_type": "execute_result"
    }
   ],
   "source": [
    "dff[\"IPM\"].mean()"
   ]
  },
  {
   "cell_type": "code",
   "execution_count": 139,
   "metadata": {},
   "outputs": [
    {
     "data": {
      "text/plain": [
       "(0.13344601429084796, 15449567.954157097)"
      ]
     },
     "execution_count": 139,
     "metadata": {},
     "output_type": "execute_result"
    }
   ],
   "source": [
    "np.average(df[\"IPM\"],weights=df[\"fexp_x\"],returned=True)"
   ]
  },
  {
   "cell_type": "code",
   "execution_count": 141,
   "metadata": {},
   "outputs": [
    {
     "data": {
      "text/plain": [
       "(0.44452494568013323, 4637947.287397904)"
      ]
     },
     "execution_count": 141,
     "metadata": {},
     "output_type": "execute_result"
    }
   ],
   "source": [
    "np.average(dff[\"IPM\"],weights=dff[\"fexp_x\"],returned=True)"
   ]
  },
  {
   "cell_type": "code",
   "execution_count": 129,
   "metadata": {},
   "outputs": [
    {
     "data": {
      "text/plain": [
       "0.14438782547016463"
      ]
     },
     "execution_count": 129,
     "metadata": {},
     "output_type": "execute_result"
    }
   ],
   "source": [
    "df[\"IPM\"].mean()"
   ]
  },
  {
   "cell_type": "code",
   "execution_count": 130,
   "metadata": {},
   "outputs": [
    {
     "data": {
      "text/html": [
       "<div>\n",
       "<style scoped>\n",
       "    .dataframe tbody tr th:only-of-type {\n",
       "        vertical-align: middle;\n",
       "    }\n",
       "\n",
       "    .dataframe tbody tr th {\n",
       "        vertical-align: top;\n",
       "    }\n",
       "\n",
       "    .dataframe thead th {\n",
       "        text-align: right;\n",
       "    }\n",
       "</style>\n",
       "<table border=\"1\" class=\"dataframe\">\n",
       "  <thead>\n",
       "    <tr style=\"text-align: right;\">\n",
       "      <th></th>\n",
       "      <th>area</th>\n",
       "      <th>ciudad</th>\n",
       "      <th>conglomerado_x</th>\n",
       "      <th>zona</th>\n",
       "      <th>sector</th>\n",
       "      <th>panelm</th>\n",
       "      <th>vivienda</th>\n",
       "      <th>hogar</th>\n",
       "      <th>p01</th>\n",
       "      <th>p02</th>\n",
       "      <th>...</th>\n",
       "      <th>dim2i3h</th>\n",
       "      <th>dim3i1h</th>\n",
       "      <th>dim3i2h</th>\n",
       "      <th>dim4i1h</th>\n",
       "      <th>dim4i2h</th>\n",
       "      <th>dim4i3h</th>\n",
       "      <th>dim4i4h</th>\n",
       "      <th>ci</th>\n",
       "      <th>TPM</th>\n",
       "      <th>IPM</th>\n",
       "    </tr>\n",
       "  </thead>\n",
       "  <tbody>\n",
       "    <tr>\n",
       "      <th>0</th>\n",
       "      <td>1</td>\n",
       "      <td>10150</td>\n",
       "      <td>999999</td>\n",
       "      <td>1</td>\n",
       "      <td>3</td>\n",
       "      <td>13</td>\n",
       "      <td>2</td>\n",
       "      <td>1</td>\n",
       "      <td>1</td>\n",
       "      <td>2</td>\n",
       "      <td>...</td>\n",
       "      <td>0</td>\n",
       "      <td>0</td>\n",
       "      <td>0</td>\n",
       "      <td>0</td>\n",
       "      <td>1</td>\n",
       "      <td>0</td>\n",
       "      <td>1</td>\n",
       "      <td>0.208333</td>\n",
       "      <td>False</td>\n",
       "      <td>0.000000</td>\n",
       "    </tr>\n",
       "    <tr>\n",
       "      <th>1</th>\n",
       "      <td>1</td>\n",
       "      <td>10150</td>\n",
       "      <td>999999</td>\n",
       "      <td>1</td>\n",
       "      <td>3</td>\n",
       "      <td>13</td>\n",
       "      <td>2</td>\n",
       "      <td>1</td>\n",
       "      <td>2</td>\n",
       "      <td>1</td>\n",
       "      <td>...</td>\n",
       "      <td>0</td>\n",
       "      <td>0</td>\n",
       "      <td>0</td>\n",
       "      <td>0</td>\n",
       "      <td>1</td>\n",
       "      <td>0</td>\n",
       "      <td>1</td>\n",
       "      <td>0.208333</td>\n",
       "      <td>False</td>\n",
       "      <td>0.000000</td>\n",
       "    </tr>\n",
       "    <tr>\n",
       "      <th>2</th>\n",
       "      <td>1</td>\n",
       "      <td>10150</td>\n",
       "      <td>999999</td>\n",
       "      <td>1</td>\n",
       "      <td>3</td>\n",
       "      <td>13</td>\n",
       "      <td>2</td>\n",
       "      <td>1</td>\n",
       "      <td>3</td>\n",
       "      <td>2</td>\n",
       "      <td>...</td>\n",
       "      <td>0</td>\n",
       "      <td>0</td>\n",
       "      <td>0</td>\n",
       "      <td>0</td>\n",
       "      <td>1</td>\n",
       "      <td>0</td>\n",
       "      <td>1</td>\n",
       "      <td>0.208333</td>\n",
       "      <td>False</td>\n",
       "      <td>0.000000</td>\n",
       "    </tr>\n",
       "    <tr>\n",
       "      <th>3</th>\n",
       "      <td>1</td>\n",
       "      <td>10150</td>\n",
       "      <td>999999</td>\n",
       "      <td>1</td>\n",
       "      <td>3</td>\n",
       "      <td>13</td>\n",
       "      <td>3</td>\n",
       "      <td>1</td>\n",
       "      <td>1</td>\n",
       "      <td>1</td>\n",
       "      <td>...</td>\n",
       "      <td>0</td>\n",
       "      <td>0</td>\n",
       "      <td>0</td>\n",
       "      <td>0</td>\n",
       "      <td>0</td>\n",
       "      <td>0</td>\n",
       "      <td>1</td>\n",
       "      <td>0.062500</td>\n",
       "      <td>False</td>\n",
       "      <td>0.000000</td>\n",
       "    </tr>\n",
       "    <tr>\n",
       "      <th>4</th>\n",
       "      <td>1</td>\n",
       "      <td>10150</td>\n",
       "      <td>999999</td>\n",
       "      <td>1</td>\n",
       "      <td>3</td>\n",
       "      <td>13</td>\n",
       "      <td>3</td>\n",
       "      <td>1</td>\n",
       "      <td>2</td>\n",
       "      <td>2</td>\n",
       "      <td>...</td>\n",
       "      <td>0</td>\n",
       "      <td>0</td>\n",
       "      <td>0</td>\n",
       "      <td>0</td>\n",
       "      <td>0</td>\n",
       "      <td>0</td>\n",
       "      <td>1</td>\n",
       "      <td>0.062500</td>\n",
       "      <td>False</td>\n",
       "      <td>0.000000</td>\n",
       "    </tr>\n",
       "    <tr>\n",
       "      <th>...</th>\n",
       "      <td>...</td>\n",
       "      <td>...</td>\n",
       "      <td>...</td>\n",
       "      <td>...</td>\n",
       "      <td>...</td>\n",
       "      <td>...</td>\n",
       "      <td>...</td>\n",
       "      <td>...</td>\n",
       "      <td>...</td>\n",
       "      <td>...</td>\n",
       "      <td>...</td>\n",
       "      <td>...</td>\n",
       "      <td>...</td>\n",
       "      <td>...</td>\n",
       "      <td>...</td>\n",
       "      <td>...</td>\n",
       "      <td>...</td>\n",
       "      <td>...</td>\n",
       "      <td>...</td>\n",
       "      <td>...</td>\n",
       "      <td>...</td>\n",
       "    </tr>\n",
       "    <tr>\n",
       "      <th>101502</th>\n",
       "      <td>2</td>\n",
       "      <td>900451</td>\n",
       "      <td>999999</td>\n",
       "      <td>999</td>\n",
       "      <td>7</td>\n",
       "      <td>123</td>\n",
       "      <td>2</td>\n",
       "      <td>2</td>\n",
       "      <td>2</td>\n",
       "      <td>2</td>\n",
       "      <td>...</td>\n",
       "      <td>1</td>\n",
       "      <td>0</td>\n",
       "      <td>0</td>\n",
       "      <td>1</td>\n",
       "      <td>1</td>\n",
       "      <td>0</td>\n",
       "      <td>1</td>\n",
       "      <td>0.354167</td>\n",
       "      <td>True</td>\n",
       "      <td>0.354167</td>\n",
       "    </tr>\n",
       "    <tr>\n",
       "      <th>101503</th>\n",
       "      <td>2</td>\n",
       "      <td>900451</td>\n",
       "      <td>999999</td>\n",
       "      <td>999</td>\n",
       "      <td>7</td>\n",
       "      <td>123</td>\n",
       "      <td>2</td>\n",
       "      <td>2</td>\n",
       "      <td>3</td>\n",
       "      <td>2</td>\n",
       "      <td>...</td>\n",
       "      <td>1</td>\n",
       "      <td>0</td>\n",
       "      <td>0</td>\n",
       "      <td>1</td>\n",
       "      <td>1</td>\n",
       "      <td>0</td>\n",
       "      <td>1</td>\n",
       "      <td>0.354167</td>\n",
       "      <td>True</td>\n",
       "      <td>0.354167</td>\n",
       "    </tr>\n",
       "    <tr>\n",
       "      <th>101504</th>\n",
       "      <td>2</td>\n",
       "      <td>900451</td>\n",
       "      <td>999999</td>\n",
       "      <td>999</td>\n",
       "      <td>7</td>\n",
       "      <td>123</td>\n",
       "      <td>2</td>\n",
       "      <td>2</td>\n",
       "      <td>4</td>\n",
       "      <td>1</td>\n",
       "      <td>...</td>\n",
       "      <td>1</td>\n",
       "      <td>0</td>\n",
       "      <td>0</td>\n",
       "      <td>1</td>\n",
       "      <td>1</td>\n",
       "      <td>0</td>\n",
       "      <td>1</td>\n",
       "      <td>0.354167</td>\n",
       "      <td>True</td>\n",
       "      <td>0.354167</td>\n",
       "    </tr>\n",
       "    <tr>\n",
       "      <th>101505</th>\n",
       "      <td>2</td>\n",
       "      <td>900451</td>\n",
       "      <td>999999</td>\n",
       "      <td>999</td>\n",
       "      <td>7</td>\n",
       "      <td>123</td>\n",
       "      <td>3</td>\n",
       "      <td>1</td>\n",
       "      <td>1</td>\n",
       "      <td>1</td>\n",
       "      <td>...</td>\n",
       "      <td>1</td>\n",
       "      <td>0</td>\n",
       "      <td>1</td>\n",
       "      <td>0</td>\n",
       "      <td>1</td>\n",
       "      <td>0</td>\n",
       "      <td>0</td>\n",
       "      <td>0.354167</td>\n",
       "      <td>True</td>\n",
       "      <td>0.354167</td>\n",
       "    </tr>\n",
       "    <tr>\n",
       "      <th>101506</th>\n",
       "      <td>2</td>\n",
       "      <td>900451</td>\n",
       "      <td>999999</td>\n",
       "      <td>999</td>\n",
       "      <td>7</td>\n",
       "      <td>123</td>\n",
       "      <td>3</td>\n",
       "      <td>1</td>\n",
       "      <td>2</td>\n",
       "      <td>2</td>\n",
       "      <td>...</td>\n",
       "      <td>1</td>\n",
       "      <td>0</td>\n",
       "      <td>1</td>\n",
       "      <td>0</td>\n",
       "      <td>1</td>\n",
       "      <td>0</td>\n",
       "      <td>0</td>\n",
       "      <td>0.354167</td>\n",
       "      <td>True</td>\n",
       "      <td>0.354167</td>\n",
       "    </tr>\n",
       "  </tbody>\n",
       "</table>\n",
       "<p>101507 rows × 433 columns</p>\n",
       "</div>"
      ],
      "text/plain": [
       "        area  ciudad  conglomerado_x  zona  sector  panelm  vivienda  hogar  \\\n",
       "0          1   10150          999999     1       3      13         2      1   \n",
       "1          1   10150          999999     1       3      13         2      1   \n",
       "2          1   10150          999999     1       3      13         2      1   \n",
       "3          1   10150          999999     1       3      13         3      1   \n",
       "4          1   10150          999999     1       3      13         3      1   \n",
       "...      ...     ...             ...   ...     ...     ...       ...    ...   \n",
       "101502     2  900451          999999   999       7     123         2      2   \n",
       "101503     2  900451          999999   999       7     123         2      2   \n",
       "101504     2  900451          999999   999       7     123         2      2   \n",
       "101505     2  900451          999999   999       7     123         3      1   \n",
       "101506     2  900451          999999   999       7     123         3      1   \n",
       "\n",
       "        p01  p02  ...  dim2i3h  dim3i1h  dim3i2h  dim4i1h dim4i2h dim4i3h  \\\n",
       "0         1    2  ...        0        0        0        0       1       0   \n",
       "1         2    1  ...        0        0        0        0       1       0   \n",
       "2         3    2  ...        0        0        0        0       1       0   \n",
       "3         1    1  ...        0        0        0        0       0       0   \n",
       "4         2    2  ...        0        0        0        0       0       0   \n",
       "...     ...  ...  ...      ...      ...      ...      ...     ...     ...   \n",
       "101502    2    2  ...        1        0        0        1       1       0   \n",
       "101503    3    2  ...        1        0        0        1       1       0   \n",
       "101504    4    1  ...        1        0        0        1       1       0   \n",
       "101505    1    1  ...        1        0        1        0       1       0   \n",
       "101506    2    2  ...        1        0        1        0       1       0   \n",
       "\n",
       "       dim4i4h        ci    TPM       IPM  \n",
       "0            1  0.208333  False  0.000000  \n",
       "1            1  0.208333  False  0.000000  \n",
       "2            1  0.208333  False  0.000000  \n",
       "3            1  0.062500  False  0.000000  \n",
       "4            1  0.062500  False  0.000000  \n",
       "...        ...       ...    ...       ...  \n",
       "101502       1  0.354167   True  0.354167  \n",
       "101503       1  0.354167   True  0.354167  \n",
       "101504       1  0.354167   True  0.354167  \n",
       "101505       0  0.354167   True  0.354167  \n",
       "101506       0  0.354167   True  0.354167  \n",
       "\n",
       "[101507 rows x 433 columns]"
      ]
     },
     "execution_count": 130,
     "metadata": {},
     "output_type": "execute_result"
    }
   ],
   "source": [
    "df"
   ]
  },
  {
   "cell_type": "code",
   "execution_count": 131,
   "metadata": {},
   "outputs": [],
   "source": [
    "df[\"id_hogar\"] = df[\"ciudad\"].astype(str).str.zfill(6) + df[\"zona\"].astype(str).str.zfill(3) + df[\"sector\"].astype(str).str.zfill(3)"
   ]
  },
  {
   "cell_type": "code",
   "execution_count": 132,
   "metadata": {},
   "outputs": [],
   "source": [
    "sdf = gpd.read_file(\"sectors_inec.geojson\")\n",
    "dfm = gpd.GeoDataFrame(df.merge(sdf,left_on=\"id_hogar\",right_on=\"DPA_SECTOR\", how=\"inner\"))\n",
    "mdf = gpd.read_file('../CARDIFF/data/neigh/map.geojson', encoding='utf-8')"
   ]
  },
  {
   "cell_type": "code",
   "execution_count": 133,
   "metadata": {},
   "outputs": [
    {
     "name": "stderr",
     "output_type": "stream",
     "text": [
      "c:\\users\\eduardo\\appdata\\local\\programs\\python\\python37\\lib\\site-packages\\numpy\\lib\\function_base.py:2246: RuntimeWarning: invalid value encountered in find_intersects (vectorized)\n",
      "  outputs = ufunc(*inputs)\n"
     ]
    }
   ],
   "source": [
    "dfm.crs = mdf.crs\n",
    "gdfr = gpd.sjoin(dfm,mdf,how=\"inner\", op='intersects')"
   ]
  },
  {
   "cell_type": "code",
   "execution_count": 134,
   "metadata": {},
   "outputs": [],
   "source": [
    "gdfr[\"ingpc\"] = gdfr[\"ingpc\"].str.replace(\",\",\".\").astype(float)"
   ]
  },
  {
   "cell_type": "code",
   "execution_count": 135,
   "metadata": {},
   "outputs": [
    {
     "data": {
      "text/plain": [
       "0.3153595626603433"
      ]
     },
     "execution_count": 135,
     "metadata": {},
     "output_type": "execute_result"
    }
   ],
   "source": [
    "np.average(gdfr[gdfr[\"Name\"]==\"Isla Trinitaria\"][\"ci\"],weights=gdfr[gdfr[\"Name\"]==\"Isla Trinitaria\"][\"fexp_x\"])"
   ]
  }
 ],
 "metadata": {
  "colab": {
   "collapsed_sections": [
    "lvyuwNo9T3Y-",
    "1sDTW-Hf_KTy",
    "-brzN1c1-vMb",
    "97Z26FkUD85Z",
    "sH0BoBoBDIhG",
    "X_BZ_dDXG5w8",
    "8Fttaz-BdoFB",
    "QOn7PFn1sxz0",
    "C_sZIgt8ckN1",
    "YbIfUChv2ezk",
    "tJcIRoqc5JWE",
    "pEpsyTer2RbQ"
   ],
   "provenance": []
  },
  "kernelspec": {
   "display_name": "Python 3",
   "language": "python",
   "name": "python3"
  },
  "language_info": {
   "codemirror_mode": {
    "name": "ipython",
    "version": 3
   },
   "file_extension": ".py",
   "mimetype": "text/x-python",
   "name": "python",
   "nbconvert_exporter": "python",
   "pygments_lexer": "ipython3",
   "version": "3.7.7"
  }
 },
 "nbformat": 4,
 "nbformat_minor": 1
}
